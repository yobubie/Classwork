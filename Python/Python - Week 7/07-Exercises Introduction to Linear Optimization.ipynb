{
 "cells": [
  {
   "cell_type": "markdown",
   "id": "6cce4469-b3b0-4fcb-918c-6500506b951d",
   "metadata": {},
   "source": [
    "# Exercises for Week 7: Introduction to Linear Optimization\n"
   ]
  },
  {
   "cell_type": "markdown",
   "id": "1ca0304c-e2f0-482b-b663-6100643a6eea",
   "metadata": {},
   "source": [
    "## Name: XXX"
   ]
  },
  {
   "cell_type": "markdown",
   "id": "b9a97c19-93f9-47e7-b965-ebc98a6a1b85",
   "metadata": {},
   "source": [
    "## Grading Scheme:\n",
    "\n",
    "- **3 (Essentially perfect)**: All required questions have a complete solution that is essentially correct. This means that the math formulation correctly models the given problem and the code outputs the correct results. However, it is okay if the code returns another optimal solution that is equally good. \n",
    "- **2 (Solid effort)**: Several required questions may be incomplete or there are serious errors or logical flaws, but at least two thirds has a correct solution.\n",
    "- **1 (Some effort)**: Between one third and two thirds of the required questions have a correct solution.\n",
    "- **0 (No submission or essentially blank)**: No submission on Brightspace by the deadline, or less than one third of the required questions have a correct solution.\n",
    "\n",
    "Every question is required unless it is marked with \"(optional)\". **To ensure that you get 3 out of 3, before you submit, restart the Kernel and run all, and check the following:**\n",
    "\n",
    "- All code outputs are exactly as the sample outputs given in the exercises PDF.  \n",
    "- All math formulations have **linear** objectives and constraints, and models the given problem in a **correct** and **complete** way. This means that your constraints allow every solution that the problem text would allow, and disallow every solution that the problem text disallows. \n",
    "\n",
    "**You need to develop the habit of meticulously checking your outputs and math in order to ensure the best grade.**  The weekly exercises are intended to be completed in 4-5 hours, excluding class time. You should budget at least this much time per week for these exercises.\n",
    "\n",
    "**After you submit, download the .ipynb file you uploaded to Brightspace and double check that you uploaded the correct file, and that every question has been properly saved! It is your responsibility to submit the correct file before the deadline.**"
   ]
  },
  {
   "cell_type": "markdown",
   "id": "8fb6184f-8e7f-4233-bf56-11c011ac3c59",
   "metadata": {},
   "source": [
    "## Exercise 7.1: Testing your Gurobi Installation\n",
    "\n",
    "Run the following code cell from the illustrative example at the beginning of Week 7, to see if it obtains the desired output."
   ]
  },
  {
   "cell_type": "code",
   "execution_count": 2,
   "id": "fbf0e626-d51f-4a01-aaf9-bd99da46bcf7",
   "metadata": {
    "tags": []
   },
   "outputs": [
    {
     "name": "stdout",
     "output_type": "stream",
     "text": [
      "Minimum # of books: 4.0\n",
      "Books to include:  [2, 3, 4, 9]\n"
     ]
    }
   ],
   "source": [
    "# Code to test your Gurobi installation\n",
    "B=range(1,11)\n",
    "G=['Literary','Sci-Fi','Romance','Thriller']\n",
    "booksInGenre={'Literary':[1,4,5,9],'Sci-Fi':[2,7,9],'Romance':[3,4,6,10],'Thriller':[2,3,8]}\n",
    "q={'Literary':2,'Sci-Fi':2,'Romance':2,'Thriller':2}\n",
    "from gurobipy import Model,GRB\n",
    "mod=Model()\n",
    "x=mod.addVars(B,vtype=GRB.BINARY)\n",
    "mod.setObjective(sum(x[b] for b in B))\n",
    "for g in G:\n",
    "    mod.addConstr(sum(x[b] for b in booksInGenre[g])>=q[g])\n",
    "mod.setParam('OutputFlag',False)\n",
    "mod.optimize()\n",
    "print('Minimum # of books:',mod.objval)\n",
    "print('Books to include: ',[b for b in B if x[b].x==1])"
   ]
  },
  {
   "cell_type": "markdown",
   "id": "851d26db-23fc-4ca6-937e-7f42bf8161c1",
   "metadata": {},
   "source": [
    "## Exercise 7.2: Numerically Solving the GTC Production Planning LP\n",
    "\n",
    "Numerically solve the linear program from the in-class exercise using Gurobi. You may follow the \"template\" code for LP from last session, which is given immediately before the in-class exercise. Ignore the log \n",
    "that Gurobi prints out."
   ]
  },
  {
   "cell_type": "code",
   "execution_count": 4,
   "id": "000a1ed3-dfa1-483c-9b8d-027c777ec394",
   "metadata": {},
   "outputs": [
    {
     "name": "stdout",
     "output_type": "stream",
     "text": [
      "Gurobi Optimizer version 10.0.2 build v10.0.2rc0 (linux64)\n",
      "\n",
      "CPU model: Intel(R) Xeon(R) CPU E5-1603 v4 @ 2.80GHz, instruction set [SSE2|AVX|AVX2]\n",
      "Thread count: 4 physical cores, 4 logical processors, using up to 4 threads\n",
      "\n",
      "Optimize a model with 5 rows, 2 columns and 8 nonzeros\n",
      "Model fingerprint: 0x38ed76ab\n",
      "Coefficient statistics:\n",
      "  Matrix range     [3e-01, 2e+00]\n",
      "  Objective range  [1e-01, 1e-01]\n",
      "  Bounds range     [0e+00, 0e+00]\n",
      "  RHS range        [9e+03, 3e+04]\n",
      "Presolve removed 2 rows and 0 columns\n",
      "Presolve time: 0.01s\n",
      "Presolved: 3 rows, 2 columns, 6 nonzeros\n",
      "\n",
      "Iteration    Objective       Primal Inf.    Dual Inf.      Time\n",
      "       0    3.5100000e+03   3.375000e+03   0.000000e+00      0s\n",
      "       3    2.5050000e+03   0.000000e+00   0.000000e+00      0s\n",
      "\n",
      "Solved in 3 iterations and 0.01 seconds (0.00 work units)\n",
      "Optimal objective  2.505000000e+03\n",
      "\n",
      "Optimal profit: 2505.0\n",
      "Optimal production plan W=7500.0 P=13500.0\n"
     ]
    }
   ],
   "source": [
    "# Sample Output (Only pay attention to the last two rows)\n",
    "# It's fine if your code returns a different solution with the same objective value."
   ]
  },
  {
   "cell_type": "code",
   "execution_count": null,
   "id": "e349f572-64b3-4317-84ff-2e9036257465",
   "metadata": {},
   "outputs": [],
   "source": [
    "# Write your code here\n",
    "\n",
    "\n"
   ]
  },
  {
   "cell_type": "markdown",
   "id": "bfb269f5-8b10-4f51-92e6-cdb7d947eef4",
   "metadata": {},
   "source": [
    "## Exercise 7.3: Typesetting the GTC Production Planning LP\n",
    "\n",
    "Typeset the GTC Production Planning LP from the In-Class Exercise in the following Markdown cell using Latex. "
   ]
  },
  {
   "cell_type": "markdown",
   "id": "e277eb3a-9304-43e5-b329-45b3b65f4241",
   "metadata": {},
   "source": [
    "**Decision Variables**\n",
    "\n",
    "-\n",
    "-\n",
    "\n",
    "\n",
    "**Objective:**\n",
    "\n",
    "\n",
    "**Constraints:**\n",
    "\n",
    "\n",
    "\n"
   ]
  },
  {
   "cell_type": "markdown",
   "id": "299aa9f3-871b-4bd1-a0cc-41cfcf33e9bf",
   "metadata": {},
   "source": [
    "## Exercise 7.4: Production Planning\n",
    "\n",
    "The Magnetron Company manufactures and markets microwave ovens. Currently, the company produces two models: full-size and compact. Production is limited by the amount of labor available in the general assembly and electronic assembly departments, as well as by the demand for each model. Each full-size oven requires 2 hours of general assembly and 2 hours of electronic assembly, whereas each compact oven requires 1 hour of general assembly and 3 hours of electronic assembly. In the current production period, there are 500 hours of general assembly labor available and 800 hours of electronic assembly labor available. \n",
    "\n",
    "In additional, the company estimates that it can sell at most 220 full-size ovens and 180 compact ovens in the current production period. The earnings contribution per oven is 120 dollars for a full-size oven and 130 dollars for a compact oven. The company would like to find an earnings-maximizing production plan for the current production period. \n",
    "\n",
    "**a)** Succintly describe the decision, objective and constraints in English."
   ]
  },
  {
   "cell_type": "markdown",
   "id": "de773fca-f438-4b97-8d07-44c7fbdb6099",
   "metadata": {},
   "source": [
    "**Decision:** \n",
    "\n",
    "**Objective:**\n",
    "\n",
    "**Constraints:** \n",
    "\n"
   ]
  },
  {
   "cell_type": "markdown",
   "id": "32b1b3fd-13f1-4a72-bb87-966ddbc153c0",
   "metadata": {},
   "source": [
    "**b)** Translate the above English description into a concrete formulation of a linear optimization problem."
   ]
  },
  {
   "cell_type": "markdown",
   "id": "a91ee36d-626b-4d75-984f-52053adee074",
   "metadata": {},
   "source": [
    "**Decision variables:** \n",
    "\n",
    "\n",
    "**Objective:**\n",
    "\n",
    "\n",
    "\n",
    "\n",
    "**Constraints:**\n",
    "\n",
    "\n",
    "\n"
   ]
  },
  {
   "cell_type": "markdown",
   "id": "4d86a35d-ba43-4486-acff-707472d20017",
   "metadata": {},
   "source": [
    "**c)** Solve your formulation numerically using Gurobi."
   ]
  },
  {
   "cell_type": "code",
   "execution_count": 5,
   "id": "288cfe44-b5b4-49e1-82ba-021fd27038cd",
   "metadata": {
    "tags": []
   },
   "outputs": [
    {
     "name": "stdout",
     "output_type": "stream",
     "text": [
      "Gurobi Optimizer version 10.0.2 build v10.0.2rc0 (linux64)\n",
      "\n",
      "CPU model: Intel(R) Xeon(R) CPU E5-1603 v4 @ 2.80GHz, instruction set [SSE2|AVX|AVX2]\n",
      "Thread count: 4 physical cores, 4 logical processors, using up to 4 threads\n",
      "\n",
      "Optimize a model with 2 rows, 2 columns and 4 nonzeros\n",
      "Model fingerprint: 0x4fb5f5bf\n",
      "Coefficient statistics:\n",
      "  Matrix range     [1e+00, 3e+00]\n",
      "  Objective range  [1e+02, 1e+02]\n",
      "  Bounds range     [2e+02, 2e+02]\n",
      "  RHS range        [5e+02, 8e+02]\n",
      "Presolve time: 0.00s\n",
      "Presolved: 2 rows, 2 columns, 4 nonzeros\n",
      "\n",
      "Iteration    Objective       Primal Inf.    Dual Inf.      Time\n",
      "       0    6.5000000e+04   1.237500e+02   0.000000e+00      0s\n",
      "       2    4.0500000e+04   0.000000e+00   0.000000e+00      0s\n",
      "\n",
      "Solved in 2 iterations and 0.01 seconds (0.00 work units)\n",
      "Optimal objective  4.050000000e+04\n",
      "\n",
      "Optimal solution\n",
      "Maximum earnings 40500.0\n",
      "F=175.0 C=150.0\n"
     ]
    }
   ],
   "source": [
    "# Sample Output (Only pay attention to the last three rows)\n",
    "# It's fine if your code returns a different solution with the same objective value."
   ]
  },
  {
   "cell_type": "code",
   "execution_count": null,
   "id": "5a39dd5f-b83a-4bc7-8ccc-e84fcb3c6e20",
   "metadata": {},
   "outputs": [],
   "source": [
    "# Write your code here\n",
    "\n",
    "\n",
    "\n"
   ]
  },
  {
   "cell_type": "markdown",
   "id": "d96755b1-56b6-48f6-9783-7297c9266ab2",
   "metadata": {},
   "source": [
    "## Exercise 7.5: Portfolio Planning\n",
    "\n",
    "An investor would like to construct an optimal portfolio consisting of five possible funds. (A portfolio consists of a certain amount of money in each fund.) The five funds and their respective fund categories, risk levels, and percentage annual returns are shown below. \n",
    "\n",
    "| Fund | Category | Risk Level | Percentage Annual Return |\n",
    "|--|--|--|--|\n",
    "| A | Money Market | 1 | 4.50\\% |\n",
    "| B | Money Market | 2 | 5.62 \\% |\n",
    "| C | Bond | 2 | 6.80\\% |\n",
    "| D | Bond | 3 | 10.15\\% |\n",
    "| E | Aggressive Growth | 5 | 20.60\\% |\n",
    "\n",
    "The risk level of each fund is rated on a scale of 1 to 5, where 1 is very conservative and 5 is very risky. The investor would like to maximize the total monetary amount earned subject to the following restrictions: \n",
    "\n",
    "1. The average risk level of the entire investment should not exceed 2.5. (The average here is weighted by the amount of money in each fund. For example, if the entire investment consists of 7500 in C and 1000 in D, then the average risk level is $(7500 \\times 2 + 1000 \\times 3)/(7500+1000) \\approx 2.12$.)\n",
    "\n",
    "2. At least 30\\% of the money invetsed should be placed in money market funds.\n",
    "\n",
    "3. At most 2,000 dollars should be invested in the aggressive growth fund.\n",
    "\n",
    "4. The total amount of initial investment should be between 5,000 and 10,000 dollars (inclusive).\n",
    "\n",
    "**a)** Succintly describe the decision, objective and constraints in English."
   ]
  },
  {
   "cell_type": "markdown",
   "id": "17536385-e8c1-4117-8add-2c7e9192a8aa",
   "metadata": {},
   "source": [
    "**Decision:** \n",
    "\n",
    "**Objective:**\n",
    "\n",
    "**Constraints:**\n",
    "\n",
    "\n"
   ]
  },
  {
   "cell_type": "markdown",
   "id": "9ed6e646-7f9d-4eb9-9c53-dc799d6f2051",
   "metadata": {},
   "source": [
    "**b)** Translate the above English description into a concrete formulation of a linear optimization problem. **Note that you must transform all non-linear constraints into a linear form (see Section 7.3). A ratio with decision variables in the denominator is not linear!**"
   ]
  },
  {
   "cell_type": "markdown",
   "id": "dfd2dabd-f2a3-41ae-acb0-e0eee24d8572",
   "metadata": {},
   "source": [
    "**Decision Variables:**\n",
    "\n",
    "**Objective:**\n",
    "\n",
    "\n",
    "\n",
    "**Constraints:**\n",
    "\n",
    "\n",
    "\n",
    "\n"
   ]
  },
  {
   "cell_type": "markdown",
   "id": "f9e77342-35e6-4c1b-89a8-2831b2ef52e7",
   "metadata": {},
   "source": [
    "**c)** Solve your formulation numerically using Gurobi."
   ]
  },
  {
   "cell_type": "code",
   "execution_count": 4,
   "id": "26400652-d533-4fa3-a9df-a066e538b76e",
   "metadata": {
    "tags": []
   },
   "outputs": [
    {
     "name": "stdout",
     "output_type": "stream",
     "text": [
      "Gurobi Optimizer version 10.0.2 build v10.0.2rc0 (linux64)\n",
      "\n",
      "CPU model: Intel(R) Xeon(R) CPU E5-1603 v4 @ 2.80GHz, instruction set [SSE2|AVX|AVX2]\n",
      "Thread count: 4 physical cores, 4 logical processors, using up to 4 threads\n",
      "\n",
      "Optimize a model with 5 rows, 5 columns and 21 nonzeros\n",
      "Model fingerprint: 0xb5365cae\n",
      "Coefficient statistics:\n",
      "  Matrix range     [3e-01, 2e+00]\n",
      "  Objective range  [4e+00, 2e+01]\n",
      "  Bounds range     [0e+00, 0e+00]\n",
      "  RHS range        [2e+03, 1e+04]\n",
      "Presolve removed 2 rows and 0 columns\n",
      "Presolve time: 0.01s\n",
      "Presolved: 3 rows, 5 columns, 15 nonzeros\n",
      "\n",
      "Iteration    Objective       Primal Inf.    Dual Inf.      Time\n",
      "       0    2.0600000e+05   4.312500e+03   0.000000e+00      0s\n",
      "       4    9.6975000e+04   0.000000e+00   0.000000e+00      0s\n",
      "\n",
      "Solved in 4 iterations and 0.01 seconds (0.00 work units)\n",
      "Optimal objective  9.697500000e+04\n",
      "\n",
      "Optimal solution:\n",
      "Maximum monetary amount earned: 969.75\n",
      "A=4500.0 B=0.0 C=0.0 D=3500.0 E=2000.0\n"
     ]
    }
   ],
   "source": [
    "# Sample Output (Only pay attention to the last three rows)\n",
    "# It's fine if your code returns a different solution with the same objective value."
   ]
  },
  {
   "cell_type": "code",
   "execution_count": null,
   "id": "0dcdd382-412c-40cb-a3a8-978dff777a6a",
   "metadata": {},
   "outputs": [],
   "source": [
    "# Write your code here\n",
    "\n",
    "\n",
    "\n",
    "\n"
   ]
  }
 ],
 "metadata": {
  "kernelspec": {
   "display_name": "Python 3 (ipykernel)",
   "language": "python",
   "name": "python3"
  },
  "language_info": {
   "codemirror_mode": {
    "name": "ipython",
    "version": 3
   },
   "file_extension": ".py",
   "mimetype": "text/x-python",
   "name": "python",
   "nbconvert_exporter": "python",
   "pygments_lexer": "ipython3",
   "version": "3.11.4"
  }
 },
 "nbformat": 4,
 "nbformat_minor": 5
}
