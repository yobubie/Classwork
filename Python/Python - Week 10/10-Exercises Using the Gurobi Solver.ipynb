{
 "cells": [
  {
   "cell_type": "markdown",
   "id": "b59fce89-1c10-47bd-bb8d-96d8d120aa58",
   "metadata": {},
   "source": [
    "# Exercises for Week 10: Using the Gurobi Solver"
   ]
  },
  {
   "cell_type": "markdown",
   "id": "f674b98d",
   "metadata": {},
   "source": [
    "## Name: XXX"
   ]
  },
  {
   "cell_type": "markdown",
   "id": "6ee0e5ae",
   "metadata": {},
   "source": [
    "## Grading Scheme:\n",
    "\n",
    "- **3 (Essentially perfect)**: All required questions have a complete solution that is essentially correct. This means that the math formulation correctly models the given problem and the code outputs the correct results. However, it is okay if the code returns another optimal solution that is equally good. \n",
    "- **2 (Solid effort)**: Several required questions may be incomplete or there are serious errors or logical flaws, but at least two thirds has a correct solution.\n",
    "- **1 (Some effort)**: Between one third and two thirds of the required questions have a correct solution.\n",
    "- **0 (No submission or essentially blank)**: No submission on Brightspace by the deadline, or less than one third of the required questions have a correct solution.\n",
    "\n",
    "Every question is required unless it is marked with \"(optional)\". **To ensure that you get 3 out of 3, before you submit, restart the Kernel and run all, and check the following:**\n",
    "\n",
    "- All code outputs are exactly as the sample outputs given in the exercises PDF.  \n",
    "- All math formulations have **linear** objectives and constraints, and models the given problem in a **correct** and **complete** way. This means that your constraints allow every solution that the problem text would allow, and disallow every solution that the problem text disallows. \n",
    "\n",
    "**You need to develop the habit of meticulously checking your outputs and math in order to ensure the best grade.**  The weekly exercises are intended to be completed in 4-5 hours, excluding class time. You should budget at least this much time per week for these exercises.\n",
    "\n",
    "**After you submit, download the .ipynb file you uploaded to Brightspace and double check that you uploaded the correct file, and that every question has been properly saved! It is your responsibility to submit the correct file before the deadline.**"
   ]
  },
  {
   "cell_type": "markdown",
   "id": "9a45385c-2901-4464-aace-a0defd23d795",
   "metadata": {},
   "source": [
    "## Exercise 10.1 Numerical Solution for Project Sub-Contracting\n",
    "\n",
    "Following the assortment planning example, incrementally produce a version of the Gurobi code that does not hard-code in numbers but obtain them from appropriate data structures.\n",
    "\n",
    "**Decision variable:**\n",
    "\n",
    "- Let $x_i$ denote whether to schedule job $i$ for own company. (Binary)\n",
    "- Let $y_i$ denote whether to subcontract job $i$. (Binary)\n",
    "\n",
    "**Objective:**\n",
    "\n",
    "$$\\text{Maximize:} \\qquad 30x_1+10x_2+26x_3+18x_4+20x_5+6y_1 +2y_2+8y_3+9y_4+4y_5 $$\n",
    "\n",
    "\n",
    "**Constraints:**\n",
    "\n",
    "$$\\begin{aligned}\n",
    "\\text{(Labor)} && 1300x_1+950x_2+1000x_3+1400x_4+1600x_5 & \\le 4800 \\\\\n",
    "\\text{(Doing every project)} && x_1 + y_1 & = 1 \\\\\n",
    "&& x_2 + y_2 & = 1 \\\\\n",
    "&& x_3 + y_3 & = 1 \\\\\n",
    "&& x_4 + y_4 & = 1 \\\\\n",
    "&& x_5 + y_5 & = 1 \\\\\n",
    "\\end{aligned}$$\n"
   ]
  },
  {
   "cell_type": "markdown",
   "id": "edb5a686-2694-44f0-8db3-351e30d3f690",
   "metadata": {},
   "source": [
    "### Version 1: Hard-coding in everything\n",
    "\n",
    "For comparison purposes, write a version of the code that hard-codes in everything, similar to version 1 of the previous example. Remember to set the sense in the objective to GRB.MAXIMIZE."
   ]
  },
  {
   "cell_type": "code",
   "execution_count": null,
   "id": "f7811385-c3b7-4bf6-b13e-32fd99e93197",
   "metadata": {},
   "outputs": [],
   "source": [
    "# Write your code here\n",
    "\n",
    "\n"
   ]
  },
  {
   "cell_type": "code",
   "execution_count": 12,
   "id": "5d9171e7-7aa4-48b7-b931-aaba345dd47a",
   "metadata": {},
   "outputs": [
    {
     "name": "stdout",
     "output_type": "stream",
     "text": [
      "Optimal objective: 88.0\n",
      "Optimal solution: x1=1.0, x2=1.0, x3=1.0, x4=1.0, x5=0.0\n"
     ]
    }
   ],
   "source": [
    "# Correct output"
   ]
  },
  {
   "cell_type": "markdown",
   "id": "def522ee-0ffa-40e2-a150-fabff9aace06",
   "metadata": {},
   "source": [
    "### Version 2: Using addVars to create multiple variables at once\n",
    "\n",
    "Using addVars, generate all of the x's using one command, and all of the y's using one command. Also, make the optimal solution easier to read, as in the output below."
   ]
  },
  {
   "cell_type": "code",
   "execution_count": null,
   "id": "d41ba87b-ca59-4d91-8500-62f472e73ca2",
   "metadata": {},
   "outputs": [],
   "source": [
    "# Write your code here (you must use addVars instead of addVar)\n",
    "\n"
   ]
  },
  {
   "cell_type": "code",
   "execution_count": 13,
   "id": "a953a83b-2db7-4aee-8841-8b0a238c93e8",
   "metadata": {},
   "outputs": [
    {
     "name": "stdout",
     "output_type": "stream",
     "text": [
      "Optimal objective: 88.0\n",
      "Optimal solution: do projects 1 2 3 4 yourself\n"
     ]
    }
   ],
   "source": [
    "# Correct output"
   ]
  },
  {
   "cell_type": "markdown",
   "id": "22fba328-0897-4c5b-a059-1c658ce5e43e",
   "metadata": {},
   "source": [
    "### Version 3 and 4:  Using list comprehension and for loops\n",
    "\n",
    "Instead of hard-coding in the numbers, obtain them from the following data structures. Moreover, use list comprehension to generate the large sums, and for loops to generate the repetitive constraints. Build up the formulation part by part and double in the end check by making Gurobi display the entire concrete formulation."
   ]
  },
  {
   "cell_type": "code",
   "execution_count": 14,
   "id": "c08988c4-5e51-4c0e-b5e1-8ff70296f176",
   "metadata": {},
   "outputs": [
    {
     "data": {
      "text/html": [
       "<div>\n",
       "<style scoped>\n",
       "    .dataframe tbody tr th:only-of-type {\n",
       "        vertical-align: middle;\n",
       "    }\n",
       "\n",
       "    .dataframe tbody tr th {\n",
       "        vertical-align: top;\n",
       "    }\n",
       "\n",
       "    .dataframe thead th {\n",
       "        text-align: right;\n",
       "    }\n",
       "</style>\n",
       "<table border=\"1\" class=\"dataframe\">\n",
       "  <thead>\n",
       "    <tr style=\"text-align: right;\">\n",
       "      <th></th>\n",
       "      <th>1</th>\n",
       "      <th>2</th>\n",
       "      <th>3</th>\n",
       "      <th>4</th>\n",
       "      <th>5</th>\n",
       "    </tr>\n",
       "  </thead>\n",
       "  <tbody>\n",
       "    <tr>\n",
       "      <th>Yourself</th>\n",
       "      <td>30</td>\n",
       "      <td>10</td>\n",
       "      <td>26</td>\n",
       "      <td>18</td>\n",
       "      <td>20</td>\n",
       "    </tr>\n",
       "    <tr>\n",
       "      <th>Subcontract</th>\n",
       "      <td>6</td>\n",
       "      <td>2</td>\n",
       "      <td>8</td>\n",
       "      <td>9</td>\n",
       "      <td>4</td>\n",
       "    </tr>\n",
       "  </tbody>\n",
       "</table>\n",
       "</div>"
      ],
      "text/plain": [
       "              1   2   3   4   5\n",
       "Yourself     30  10  26  18  20\n",
       "Subcontract   6   2   8   9   4"
      ]
     },
     "execution_count": 14,
     "metadata": {},
     "output_type": "execute_result"
    }
   ],
   "source": [
    "import pandas as pd\n",
    "projects=range(1,6)\n",
    "ownLabor=4800\n",
    "profit=pd.DataFrame([[30,10,26,18,20],[6,2,8,9,4]], \\\n",
    "                    index=['Yourself','Subcontract'], columns=projects)\n",
    "profit"
   ]
  },
  {
   "cell_type": "code",
   "execution_count": 15,
   "id": "110b8fa5-a92c-446c-b1d0-548c3b7781e3",
   "metadata": {},
   "outputs": [
    {
     "data": {
      "text/plain": [
       "1    1300\n",
       "2     950\n",
       "3    1000\n",
       "4    1400\n",
       "5    1600\n",
       "dtype: int64"
      ]
     },
     "execution_count": 15,
     "metadata": {},
     "output_type": "execute_result"
    }
   ],
   "source": [
    "laborRequired=pd.Series([1300,950,1000,1400,1600],index=projects)\n",
    "laborRequired"
   ]
  },
  {
   "cell_type": "code",
   "execution_count": null,
   "id": "70756215-dcd4-45ff-8e62-7201ab5b2ca8",
   "metadata": {},
   "outputs": [],
   "source": [
    "# Objective function\n",
    "\n"
   ]
  },
  {
   "cell_type": "code",
   "execution_count": 16,
   "id": "60c4d7df-960b-4ddd-b8fe-553f120c2cf7",
   "metadata": {},
   "outputs": [
    {
     "data": {
      "text/plain": [
       "<gurobi.LinExpr: 30.0 x[1] + 6.0 y[1] + 10.0 x[2] + 2.0 y[2] + 26.0 x[3] + 8.0 y[3] + 18.0 x[4] + 9.0 y[4] + 20.0 x[5] + 4.0 y[5]>"
      ]
     },
     "execution_count": 16,
     "metadata": {},
     "output_type": "execute_result"
    }
   ],
   "source": [
    "# Correct output for the objective function"
   ]
  },
  {
   "cell_type": "code",
   "execution_count": null,
   "id": "9dd951c0-12e9-4e6a-886d-23119ea86bd5",
   "metadata": {},
   "outputs": [],
   "source": [
    "# Labor constraint\n",
    "\n"
   ]
  },
  {
   "cell_type": "code",
   "execution_count": 17,
   "id": "1c066022-2e5b-4a47-85dd-ed53402fc076",
   "metadata": {},
   "outputs": [
    {
     "data": {
      "text/plain": [
       "<gurobi.TempConstr: 1300.0 x[1] + 950.0 x[2] + 1000.0 x[3] + 1400.0 x[4] + 1600.0 x[5] <= 4800>"
      ]
     },
     "execution_count": 17,
     "metadata": {},
     "output_type": "execute_result"
    }
   ],
   "source": [
    "# Correct output for the labor constraint"
   ]
  },
  {
   "cell_type": "code",
   "execution_count": null,
   "id": "4f8c0c59-cd27-44ee-839c-4018378c118d",
   "metadata": {},
   "outputs": [],
   "source": [
    "# Entire formulation"
   ]
  },
  {
   "cell_type": "code",
   "execution_count": 18,
   "id": "05d9f1cf-fdfe-449f-988d-b95960644bf9",
   "metadata": {},
   "outputs": [
    {
     "name": "stdout",
     "output_type": "stream",
     "text": [
      "\\ LP format - for model browsing. Use MPS format to capture full model detail.\n",
      "Maximize\n",
      "  30 x[1] + 10 x[2] + 26 x[3] + 18 x[4] + 20 x[5] + 6 y[1] + 2 y[2] + 8 y[3]\n",
      "   + 9 y[4] + 4 y[5]\n",
      "Subject To\n",
      " Labor: 1300 x[1] + 950 x[2] + 1000 x[3] + 1400 x[4] + 1600 x[5] <= 4800\n",
      " Project_1: x[1] + y[1] = 1\n",
      " Project_2: x[2] + y[2] = 1\n",
      " Project_3: x[3] + y[3] = 1\n",
      " Project_4: x[4] + y[4] = 1\n",
      " Project_5: x[5] + y[5] = 1\n",
      "Bounds\n",
      "Binaries\n",
      " x[1] x[2] x[3] x[4] x[5] y[1] y[2] y[3] y[4] y[5]\n",
      "End\n"
     ]
    }
   ],
   "source": [
    "# Correct output after using %cat (Mac/linux) or !type (Windows)"
   ]
  },
  {
   "cell_type": "markdown",
   "id": "40a77a63-a832-48cb-b2c2-fded69430b50",
   "metadata": {},
   "source": [
    "### Final code\n",
    "\n",
    "Use the final version of your formulation to produce the following output."
   ]
  },
  {
   "cell_type": "code",
   "execution_count": null,
   "id": "b91e0bcf-38c9-4d3b-a087-03745fbe1c18",
   "metadata": {},
   "outputs": [],
   "source": [
    "# Write your final code here. Make sure that it is self-contained.\n",
    "\n",
    "\n"
   ]
  },
  {
   "cell_type": "code",
   "execution_count": 19,
   "id": "2e5fedbf-c13b-45fa-9efd-9f35dfe3b29c",
   "metadata": {},
   "outputs": [
    {
     "name": "stdout",
     "output_type": "stream",
     "text": [
      "Optimal objective: 88.0\n",
      "Optimal solution: do projects 1 2 3 4 yourself\n"
     ]
    }
   ],
   "source": [
    "# Correct output"
   ]
  },
  {
   "cell_type": "markdown",
   "id": "9a2811ad-f68d-41a9-9af5-150e78dacb9a",
   "metadata": {},
   "source": [
    "## Exercise 10.2: Numerical Solution for Warehouse Planning\n",
    "\n",
    "The concrete formulation of Exercise 8.5 is reproduced below:\n",
    "\n",
    "**Decision Variables:** Let $X_1, \\cdots, X_7$ denote whether to use each FC. (Binary)\n",
    "\n",
    "**Objective and constraints:**\n",
    "\n",
    "$$\\begin{aligned}\n",
    "\\text{Minimize} && X_1+X_2+\\cdots+X_7 \\\\\n",
    "\\text{s.t.} && X_2+X_5+X_6+X_7 & \\ge 1\\\\\n",
    "&& X_3+X_4 & \\ge 1\\\\\n",
    "&& X_3 & \\ge 1 \\\\\n",
    "&& X_1+X_2+X_4+X_6 & \\ge 1 \\\\\n",
    "&& X_5 + X_7 & \\ge 1\\\\\n",
    "&& X_4 &\\le X_1 \\\\\n",
    "&& X_2+X_3 & \\le 1\n",
    "\\end{aligned}$$\n",
    "\n",
    "**a)** Implement the above using Gurobi, while using for loops and list comprehensions as much as possible to automate recurring patterns.\n",
    "\n",
    "After you are done, use `mod.write`, and `%cat` in Mac or `!type` in Windows to output what the linear optimization formulation looks like according to Gurobi. You can use this to verify that you have indeed implemented the above."
   ]
  },
  {
   "cell_type": "code",
   "execution_count": null,
   "id": "f4c0f33f-2ed3-4e20-9b55-eb76bd445ad8",
   "metadata": {},
   "outputs": [],
   "source": [
    "# Write your code here\n",
    "\n",
    "\n"
   ]
  },
  {
   "cell_type": "code",
   "execution_count": 20,
   "id": "cedb3641-e7c1-45a0-9bf6-b460cb3a8d6b",
   "metadata": {},
   "outputs": [
    {
     "name": "stdout",
     "output_type": "stream",
     "text": [
      "\\ LP format - for model browsing. Use MPS format to capture full model detail.\n",
      "Minimize\n",
      "  X[1] + X[2] + X[3] + X[4] + X[5] + X[6] + X[7]\n",
      "Subject To\n",
      " R0: X[2] + X[5] + X[6] + X[7] >= 1\n",
      " R1: X[3] + X[4] >= 1\n",
      " R2: X[3] >= 1\n",
      " R3: X[1] + X[2] + X[4] + X[6] >= 1\n",
      " R4: X[5] + X[7] >= 1\n",
      " R5: - X[1] + X[4] <= 0\n",
      " R6: X[2] + X[3] <= 1\n",
      "Bounds\n",
      "Binaries\n",
      " X[1] X[2] X[3] X[4] X[5] X[6] X[7]\n",
      "End\n"
     ]
    }
   ],
   "source": [
    "# Correct output after using %cat (Mac/linux) or !type (windows)"
   ]
  },
  {
   "cell_type": "markdown",
   "id": "152373ea-39b0-47f8-bb60-54a01c51ca5c",
   "metadata": {},
   "source": [
    "**b)** Solve the MIP and print the minimum number of FCs needed, as well as where to stock the items. The output format should match the sample output below."
   ]
  },
  {
   "cell_type": "code",
   "execution_count": null,
   "id": "8b89b0f4-caf5-472f-8ece-a5120603a4be",
   "metadata": {},
   "outputs": [],
   "source": [
    "# Write your code here\n",
    "\n",
    "\n"
   ]
  },
  {
   "cell_type": "code",
   "execution_count": 21,
   "id": "b6cf6616-8f8d-4907-9d1e-b8bef732a04e",
   "metadata": {},
   "outputs": [
    {
     "name": "stdout",
     "output_type": "stream",
     "text": [
      "Minimum # of FCs needed: 3\n",
      "Stock item in the following:\n",
      "\tFC1\n",
      "\tFC3\n",
      "\tFC7\n"
     ]
    }
   ],
   "source": [
    "# Correct output"
   ]
  },
  {
   "cell_type": "markdown",
   "id": "9784b3cf-24a6-4533-829f-8cd61b6a6f02",
   "metadata": {},
   "source": [
    "## Exercise 10.3: Numerical Solution for Assignment of Consultants to Projects"
   ]
  },
  {
   "cell_type": "markdown",
   "id": "d0d49168-a69f-496d-962d-44122669be83",
   "metadata": {},
   "source": [
    "Incrementally create Gurobi code to solve Exercise 8.3, following the example given in the lecture.\n",
    "\n",
    "**Recap of Exercise 8.3:** There are two projects and four consultants: Alice, Bob, Charles, and Daphne. Each consultant can be assigned to at most one project, and each project requires at least two consultants. As a manager, you evaluated the relative fitness of the four consultants for each project on a scale of 1 to 5, with 5 being the best fit and 1 being the worst.\n",
    "\n",
    "| ` `| Project 1 | Project 2 |\n",
    "|--|--|--|\n",
    "|Alice | 5 | 2 |\n",
    "|Bob | 3 | 2 |\n",
    "|Charles | 4 | 5 |\n",
    "|Daphne | 3 | 1 |\n",
    " \n",
    "Furthermore, Alice, Bob and Daphne are senior consultants and each project requires at least one senior on the team. \n",
    "\n",
    "Formulate a linear optimization problem to maximize the total fitness of the consultants to their assigned project, subject to all the business constraints.\n",
    "\n",
    "**Concrete Formulation:**\n",
    "\n",
    "**Decision variables:** \n",
    "\n",
    "- $x_{ij}$: whether to assign consultant $i$ to project $j$. (Binary)\n",
    "\n",
    "**Objective:**\n",
    "$$\\text{Maximize: } 5x_{A1}+2x_{A2}+3x_{B1}+2x_{B2} + 4x_{C1}+5x_{C2}+3x_{D1}+x_{D2} $$\n",
    "\n",
    "\n",
    "**Constraints:** \n",
    "\n",
    "$$\\begin{aligned}\n",
    "\\text{(Alice)} && x_{A1}+x_{A2} & \\le 1 \\\\\n",
    "\\text{(Bob)} && x_{B1}+x_{B2} & \\le 1 \\\\\n",
    "\\text{(Charles)} && x_{C1}+x_{C2} & \\le 1 \\\\\n",
    "\\text{(Daphne)} && x_{D1}+x_{D2} & \\le 1 \\\\\n",
    "\\text{(Project 1 Total)} && x_{A1}+x_{B1}+x_{C1}+x_{D1} & \\ge 2 \\\\\n",
    "\\text{(Project 2 Total)} && x_{A2}+x_{B2}+x_{C2}+x_{D2} & \\ge 2 \\\\\n",
    "\\text{(Project 1 Senior)} && x_{A1}+x_{B1}+x_{D1} & \\ge 1 \\\\\n",
    "\\text{(Project 2 Senior)} && x_{A2}+x_{B2}+x_{D2} & \\ge 1 \\\\\n",
    "\\end{aligned}$$\n",
    "\n",
    "**Implement the above in Gurobi while obtaining all numbers from the below data structures.**  See the desired intermediate outputs for every step below. You should write your code in such a way such that if the input data is changed, the code will still work."
   ]
  },
  {
   "cell_type": "code",
   "execution_count": 34,
   "id": "78261c3e-f1c8-4994-86e0-b3a0ba1c8aee",
   "metadata": {
    "tags": []
   },
   "outputs": [],
   "source": [
    "# Input Data\n",
    "import pandas as pd\n",
    "consultants=['Alice', 'Bob', 'Charles', 'Daphne']\n",
    "projects=[1,2]\n",
    "fitness=pd.DataFrame([[5,2],[3,2],[4,5],[3,1]],index=consultants,columns=projects)\n",
    "senior=['Alice','Bob','Daphne']\n",
    "capacity=pd.Series([1,1,1,1],index=consultants)\n",
    "demand=pd.Series([2,2],index=projects)\n",
    "seniorDemand=pd.Series([1,1],index=projects)"
   ]
  },
  {
   "cell_type": "code",
   "execution_count": 35,
   "id": "3b2aa44b-80e2-468e-90a8-2b17e86d99f1",
   "metadata": {},
   "outputs": [
    {
     "data": {
      "text/plain": [
       "{('Alice', 1): <gurobi.Var x[Alice,1]>,\n",
       " ('Alice', 2): <gurobi.Var x[Alice,2]>,\n",
       " ('Bob', 1): <gurobi.Var x[Bob,1]>,\n",
       " ('Bob', 2): <gurobi.Var x[Bob,2]>,\n",
       " ('Charles', 1): <gurobi.Var x[Charles,1]>,\n",
       " ('Charles', 2): <gurobi.Var x[Charles,2]>,\n",
       " ('Daphne', 1): <gurobi.Var x[Daphne,1]>,\n",
       " ('Daphne', 2): <gurobi.Var x[Daphne,2]>}"
      ]
     },
     "execution_count": 35,
     "metadata": {},
     "output_type": "execute_result"
    }
   ],
   "source": [
    "# Creating variables\n",
    "from gurobipy import Model, GRB\n",
    "mod=Model()\n",
    "x=mod.addVars(consultants,projects,vtype=GRB.BINARY,name='x')\n",
    "mod.update()\n",
    "x"
   ]
  },
  {
   "cell_type": "code",
   "execution_count": null,
   "id": "f4e04e0d-c446-42aa-809a-1f5e9cbd8b0c",
   "metadata": {},
   "outputs": [],
   "source": [
    "# Objective\n",
    "\n"
   ]
  },
  {
   "cell_type": "code",
   "execution_count": 36,
   "id": "5c4aed0f-e1ce-417c-85bc-8457724d7bd0",
   "metadata": {},
   "outputs": [
    {
     "data": {
      "text/plain": [
       "<gurobi.LinExpr: 5.0 x[Alice,1] + 2.0 x[Alice,2] + 3.0 x[Bob,1] + 2.0 x[Bob,2] + 4.0 x[Charles,1] + 5.0 x[Charles,2] + 3.0 x[Daphne,1] + x[Daphne,2]>"
      ]
     },
     "execution_count": 36,
     "metadata": {},
     "output_type": "execute_result"
    }
   ],
   "source": [
    "# Correct output for the objective"
   ]
  },
  {
   "cell_type": "code",
   "execution_count": null,
   "id": "c360ee6e-1a1b-4301-b2cd-56538df6cdbe",
   "metadata": {},
   "outputs": [],
   "source": [
    "# (Alice) constraint\n",
    "\n"
   ]
  },
  {
   "cell_type": "code",
   "execution_count": 37,
   "id": "0f68a0d8-1da4-41d6-a8cf-8a5de9beb107",
   "metadata": {},
   "outputs": [
    {
     "data": {
      "text/plain": [
       "<gurobi.TempConstr: x[Alice,1] + x[Alice,2] <= 1>"
      ]
     },
     "execution_count": 37,
     "metadata": {},
     "output_type": "execute_result"
    }
   ],
   "source": [
    "# Correct output for the (Alice) constraint"
   ]
  },
  {
   "cell_type": "code",
   "execution_count": null,
   "id": "a449f747-5d24-473e-b73a-813c7f663377",
   "metadata": {},
   "outputs": [],
   "source": [
    "# (Project 1 Total) constraint\n",
    "\n"
   ]
  },
  {
   "cell_type": "code",
   "execution_count": 38,
   "id": "933455f0-6b6d-4c97-87f2-f672c7e0777d",
   "metadata": {},
   "outputs": [
    {
     "data": {
      "text/plain": [
       "<gurobi.TempConstr: x[Alice,1] + x[Bob,1] + x[Charles,1] + x[Daphne,1] >= 2>"
      ]
     },
     "execution_count": 38,
     "metadata": {},
     "output_type": "execute_result"
    }
   ],
   "source": [
    "# Correct output for the (Project 1 Total) constraint"
   ]
  },
  {
   "cell_type": "code",
   "execution_count": null,
   "id": "870b86e4-74e3-4cb5-870f-57a0d651c5de",
   "metadata": {},
   "outputs": [],
   "source": [
    "# (Project 1 Senior) constraint\n",
    "\n"
   ]
  },
  {
   "cell_type": "code",
   "execution_count": 39,
   "id": "abf53cb5-ed24-4303-8c3a-e0518158012d",
   "metadata": {},
   "outputs": [
    {
     "data": {
      "text/plain": [
       "<gurobi.TempConstr: x[Alice,1] + x[Bob,1] + x[Daphne,1] >= 1>"
      ]
     },
     "execution_count": 39,
     "metadata": {},
     "output_type": "execute_result"
    }
   ],
   "source": [
    "# Correct output for the (Project 1 Senior) constraint"
   ]
  },
  {
   "cell_type": "code",
   "execution_count": null,
   "id": "9932bef8-7768-4479-b2b8-3079e1429920",
   "metadata": {},
   "outputs": [],
   "source": [
    "# Full formulation\n",
    "\n",
    "\n",
    "\n"
   ]
  },
  {
   "cell_type": "code",
   "execution_count": 40,
   "id": "58b8c078-3e2f-42fd-b9aa-e003a49e5eac",
   "metadata": {},
   "outputs": [
    {
     "name": "stdout",
     "output_type": "stream",
     "text": [
      "\\ LP format - for model browsing. Use MPS format to capture full model detail.\n",
      "Maximize\n",
      "  5 x[Alice,1] + 2 x[Alice,2] + 3 x[Bob,1] + 2 x[Bob,2] + 4 x[Charles,1]\n",
      "   + 5 x[Charles,2] + 3 x[Daphne,1] + x[Daphne,2]\n",
      "Subject To\n",
      " Alice: x[Alice,1] + x[Alice,2] <= 1\n",
      " Bob: x[Bob,1] + x[Bob,2] <= 1\n",
      " Charles: x[Charles,1] + x[Charles,2] <= 1\n",
      " Daphne: x[Daphne,1] + x[Daphne,2] <= 1\n",
      " Project_1: x[Alice,1] + x[Bob,1] + x[Charles,1] + x[Daphne,1] >= 2\n",
      " Project_2: x[Alice,2] + x[Bob,2] + x[Charles,2] + x[Daphne,2] >= 2\n",
      " Project_1_Senior: x[Alice,1] + x[Bob,1] + x[Daphne,1] >= 1\n",
      " Project_2_Senior: x[Alice,2] + x[Bob,2] + x[Daphne,2] >= 1\n",
      "Bounds\n",
      "Binaries\n",
      " x[Alice,1] x[Alice,2] x[Bob,1] x[Bob,2] x[Charles,1] x[Charles,2]\n",
      " x[Daphne,1] x[Daphne,2]\n",
      "End\n"
     ]
    }
   ],
   "source": [
    "# Correct output after running %cat (Mac/linux) or !type (Windows)"
   ]
  },
  {
   "cell_type": "code",
   "execution_count": null,
   "id": "3bd81ddc-000c-40a1-bca4-3ee98fa68e39",
   "metadata": {},
   "outputs": [],
   "source": [
    "# Numerical Solution\n",
    "\n"
   ]
  },
  {
   "cell_type": "code",
   "execution_count": 41,
   "id": "fb24a310-d0e2-4de8-836f-4d2a39f2f2d1",
   "metadata": {},
   "outputs": [
    {
     "name": "stdout",
     "output_type": "stream",
     "text": [
      "Maximum total fitness: 15.0\n"
     ]
    }
   ],
   "source": [
    "# Correct output"
   ]
  },
  {
   "cell_type": "code",
   "execution_count": null,
   "id": "67702584-bbcc-42e6-827e-5a9268327d8f",
   "metadata": {},
   "outputs": [],
   "source": [
    "# Creating the output table\n",
    "\n"
   ]
  },
  {
   "cell_type": "code",
   "execution_count": 42,
   "id": "5ffda294-41ef-4b1d-871c-2d353feb43c9",
   "metadata": {},
   "outputs": [
    {
     "data": {
      "text/html": [
       "<div>\n",
       "<style scoped>\n",
       "    .dataframe tbody tr th:only-of-type {\n",
       "        vertical-align: middle;\n",
       "    }\n",
       "\n",
       "    .dataframe tbody tr th {\n",
       "        vertical-align: top;\n",
       "    }\n",
       "\n",
       "    .dataframe thead th {\n",
       "        text-align: right;\n",
       "    }\n",
       "</style>\n",
       "<table border=\"1\" class=\"dataframe\">\n",
       "  <thead>\n",
       "    <tr style=\"text-align: right;\">\n",
       "      <th></th>\n",
       "      <th>1</th>\n",
       "      <th>2</th>\n",
       "    </tr>\n",
       "  </thead>\n",
       "  <tbody>\n",
       "    <tr>\n",
       "      <th>Alice</th>\n",
       "      <td>NaN</td>\n",
       "      <td>NaN</td>\n",
       "    </tr>\n",
       "    <tr>\n",
       "      <th>Bob</th>\n",
       "      <td>NaN</td>\n",
       "      <td>NaN</td>\n",
       "    </tr>\n",
       "    <tr>\n",
       "      <th>Charles</th>\n",
       "      <td>NaN</td>\n",
       "      <td>NaN</td>\n",
       "    </tr>\n",
       "    <tr>\n",
       "      <th>Daphne</th>\n",
       "      <td>NaN</td>\n",
       "      <td>NaN</td>\n",
       "    </tr>\n",
       "  </tbody>\n",
       "</table>\n",
       "</div>"
      ],
      "text/plain": [
       "           1    2\n",
       "Alice    NaN  NaN\n",
       "Bob      NaN  NaN\n",
       "Charles  NaN  NaN\n",
       "Daphne   NaN  NaN"
      ]
     },
     "execution_count": 42,
     "metadata": {},
     "output_type": "execute_result"
    }
   ],
   "source": [
    "# Expected output"
   ]
  },
  {
   "cell_type": "code",
   "execution_count": null,
   "id": "4d825b94-909a-48a9-83fc-232fdf5c7713",
   "metadata": {},
   "outputs": [],
   "source": [
    "# Filling in the output table\n",
    "\n",
    "\n"
   ]
  },
  {
   "cell_type": "code",
   "execution_count": 43,
   "id": "a8e47a26-6b1e-4337-a0d2-5ff10db19eaf",
   "metadata": {},
   "outputs": [
    {
     "data": {
      "text/html": [
       "<div>\n",
       "<style scoped>\n",
       "    .dataframe tbody tr th:only-of-type {\n",
       "        vertical-align: middle;\n",
       "    }\n",
       "\n",
       "    .dataframe tbody tr th {\n",
       "        vertical-align: top;\n",
       "    }\n",
       "\n",
       "    .dataframe thead th {\n",
       "        text-align: right;\n",
       "    }\n",
       "</style>\n",
       "<table border=\"1\" class=\"dataframe\">\n",
       "  <thead>\n",
       "    <tr style=\"text-align: right;\">\n",
       "      <th></th>\n",
       "      <th>1</th>\n",
       "      <th>2</th>\n",
       "    </tr>\n",
       "  </thead>\n",
       "  <tbody>\n",
       "    <tr>\n",
       "      <th>Alice</th>\n",
       "      <td>1</td>\n",
       "      <td>0</td>\n",
       "    </tr>\n",
       "    <tr>\n",
       "      <th>Bob</th>\n",
       "      <td>0</td>\n",
       "      <td>1</td>\n",
       "    </tr>\n",
       "    <tr>\n",
       "      <th>Charles</th>\n",
       "      <td>0</td>\n",
       "      <td>1</td>\n",
       "    </tr>\n",
       "    <tr>\n",
       "      <th>Daphne</th>\n",
       "      <td>1</td>\n",
       "      <td>0</td>\n",
       "    </tr>\n",
       "  </tbody>\n",
       "</table>\n",
       "</div>"
      ],
      "text/plain": [
       "         1  2\n",
       "Alice    1  0\n",
       "Bob      0  1\n",
       "Charles  0  1\n",
       "Daphne   1  0"
      ]
     },
     "execution_count": 43,
     "metadata": {},
     "output_type": "execute_result"
    }
   ],
   "source": [
    "# Correct output"
   ]
  },
  {
   "cell_type": "code",
   "execution_count": 1,
   "id": "8ab98412-7911-4405-87dc-1a0791789317",
   "metadata": {
    "tags": []
   },
   "outputs": [],
   "source": [
    "# Final code\n",
    "\n",
    "\n",
    "\n"
   ]
  },
  {
   "cell_type": "code",
   "execution_count": 44,
   "id": "6ea33196-3f18-43c1-b12c-e99ee51d8848",
   "metadata": {},
   "outputs": [
    {
     "name": "stdout",
     "output_type": "stream",
     "text": [
      "Maximum total fitness: 15.0\n"
     ]
    },
    {
     "data": {
      "text/html": [
       "<div>\n",
       "<style scoped>\n",
       "    .dataframe tbody tr th:only-of-type {\n",
       "        vertical-align: middle;\n",
       "    }\n",
       "\n",
       "    .dataframe tbody tr th {\n",
       "        vertical-align: top;\n",
       "    }\n",
       "\n",
       "    .dataframe thead th {\n",
       "        text-align: right;\n",
       "    }\n",
       "</style>\n",
       "<table border=\"1\" class=\"dataframe\">\n",
       "  <thead>\n",
       "    <tr style=\"text-align: right;\">\n",
       "      <th></th>\n",
       "      <th>1</th>\n",
       "      <th>2</th>\n",
       "    </tr>\n",
       "  </thead>\n",
       "  <tbody>\n",
       "    <tr>\n",
       "      <th>Alice</th>\n",
       "      <td>1</td>\n",
       "      <td>0</td>\n",
       "    </tr>\n",
       "    <tr>\n",
       "      <th>Bob</th>\n",
       "      <td>0</td>\n",
       "      <td>1</td>\n",
       "    </tr>\n",
       "    <tr>\n",
       "      <th>Charles</th>\n",
       "      <td>0</td>\n",
       "      <td>1</td>\n",
       "    </tr>\n",
       "    <tr>\n",
       "      <th>Daphne</th>\n",
       "      <td>1</td>\n",
       "      <td>0</td>\n",
       "    </tr>\n",
       "  </tbody>\n",
       "</table>\n",
       "</div>"
      ],
      "text/plain": [
       "         1  2\n",
       "Alice    1  0\n",
       "Bob      0  1\n",
       "Charles  0  1\n",
       "Daphne   1  0"
      ]
     },
     "execution_count": 44,
     "metadata": {},
     "output_type": "execute_result"
    }
   ],
   "source": [
    "# Correct output"
   ]
  },
  {
   "cell_type": "markdown",
   "id": "72b94306-cdfd-4b56-a7e2-4af36376465f",
   "metadata": {},
   "source": [
    "## Exercise 10.4: Numerical Solution for Project Selection\n",
    "\n",
    "Implement the linear optimization model for the \"Project Selection\" problem from last week.\n",
    "\n",
    "**Recap of the problem:** Ebony is an ambitious master's student who would like to maximize the number of extra-curricular business analytics projects she takes part of this year. However, projects may conflict with one another. The following graph summarizes the conflicts. (For example, project A conflicts with B, C and D, but projects B and D can be done together.)\n",
    "\n",
    "![Diagram for 10.4](08-Ebony.png)\n",
    "\n",
    "Beside the conflict above, \n",
    "\n",
    "- Project A is a prerequisite to project F (meaning that pursuing F requires also pursuing A.)\n",
    "- Project B is a prerequisite to project G.\n",
    "\n",
    "Formulate a linear optimization problem to help her decide which projects to pursue.\n",
    "\n",
    "### Concrete Formulation\n",
    "\n",
    "**Decision Variables:** \n",
    "\n",
    "$X_i$: whether to pursue project $i$. (Binary)\n",
    "\n",
    "**Objective and Constraints:**\n",
    "\n",
    "$$\\begin{aligned}\n",
    "\\text{Maximize} && X_A+X_B+\\cdots+X_G \\\\\n",
    "\\text{s.t.} && \\\\\n",
    "&& X_A+X_B &\\le 1 \\\\\n",
    "&& X_B+X_C &\\le 1 \\\\\n",
    "&& X_A+X_C &\\le 1 \\\\\n",
    "&& X_A + X_D &\\le 1 \\\\\n",
    "&& X_D+X_E &\\le 1 \\\\\n",
    "&& X_E+X_F &\\le 1 \\\\\n",
    "&& X_F+X_G &\\le 1 \\\\\n",
    "&& X_E+X_G &\\le 1 \\\\\n",
    "&& X_A &\\ge X_F \\\\\n",
    "&& X_B &\\ge X_G\n",
    "\\end{aligned}$$\n",
    "\n",
    "### Input data"
   ]
  },
  {
   "cell_type": "code",
   "execution_count": 45,
   "id": "ee48ac79-63a9-458b-a82f-9c18b946898d",
   "metadata": {},
   "outputs": [],
   "source": [
    "projects=['A','B','C','D','E','F','G']\n",
    "conflicts=[['A','B'],['B','C'],['A','C'],['A','D'],\\\n",
    "           ['D','E'],['E','F'],['F','G'],['E','G']]\n",
    "prereqs=[['A','F'],['B','G']]"
   ]
  },
  {
   "cell_type": "code",
   "execution_count": 46,
   "id": "f77a1cfe-194f-4fed-b9b7-a7f7346d848a",
   "metadata": {},
   "outputs": [
    {
     "name": "stdout",
     "output_type": "stream",
     "text": [
      "A and B are in conflict.\n",
      "B and C are in conflict.\n",
      "A and C are in conflict.\n",
      "A and D are in conflict.\n",
      "D and E are in conflict.\n",
      "E and F are in conflict.\n",
      "F and G are in conflict.\n",
      "E and G are in conflict.\n",
      "A is a pre-requisite to F\n",
      "B is a pre-requisite to G\n"
     ]
    }
   ],
   "source": [
    "# Examples of looping through the above data structures\n",
    "# Standard way\n",
    "for pair in conflicts:\n",
    "    print(f'{pair[0]} and {pair[1]} are in conflict.')\n",
    "# Shortcut\n",
    "for p1,p2 in prereqs:\n",
    "    print(f'{p1} is a pre-requisite to {p2}')"
   ]
  },
  {
   "cell_type": "markdown",
   "id": "b9f7ce66-0ef9-44ff-95c9-1270643e66ef",
   "metadata": {},
   "source": [
    "### Python Code\n",
    "\n",
    "**Write Python code to implement the above using Gurobi. Your code must obtain all data from the above input data structures, such that if new projects are added or the list of conflicts and pre-reqs change, the code will continue to work.**"
   ]
  },
  {
   "cell_type": "code",
   "execution_count": null,
   "id": "45f2598a-b363-48bd-9d66-395e57147f02",
   "metadata": {},
   "outputs": [],
   "source": [
    "# Write your code here\n",
    "\n",
    "\n"
   ]
  },
  {
   "cell_type": "code",
   "execution_count": 47,
   "id": "9a7c1c93-8873-44ae-86e4-0aaf40533a25",
   "metadata": {},
   "outputs": [
    {
     "name": "stdout",
     "output_type": "stream",
     "text": [
      "Optimal objective: 3.0\n",
      "Optimal projects to pursue: B D G "
     ]
    }
   ],
   "source": [
    "# Correct output"
   ]
  },
  {
   "cell_type": "markdown",
   "id": "7eb5242f-dd21-4d74-99ed-9963c38f2b46",
   "metadata": {},
   "source": [
    "## Exercise 10.5: Numerical Solution for Food Production\n",
    "\n",
    "Solve the following concrete formulation, while loading input data from the given data structures.\n",
    "\n",
    "**Decision Variables:** \n",
    "\n",
    "- $X_1, X_2, \\cdots, X_6$: amount of oil to buy in each month. (continuous)\n",
    "- $Y_1, Y_2, \\cdots, Y_6$: amount of oil stored at the end of each month. (continuous)\n",
    "\n",
    "**Objective:**\n",
    "\n",
    "$$ \\text{Min. } 150X_1 + 160X_2 + 180X_3 + 170X_4 + 180X_5 + 160X_6 $$\n",
    "\n",
    "\n",
    "**Constraints:**\n",
    "\n",
    "$$\\begin{aligned}\n",
    "&& Y_1 &= X_1 - 2000 \\\\\n",
    "&& Y_2 &= X_2 + Y_1 - 2000 \\\\\n",
    "&& Y_3 &= X_3 + Y_2 - 2000 \\\\\n",
    "&& Y_4 &= X_4 + Y_3 - 2000 \\\\\n",
    "&& Y_5 &= X_5 + Y_4 - 2000 \\\\\n",
    "&& Y_6 &= X_6 + Y_5 - 2000 \\\\\n",
    "&& Y_t &\\le 1000 && \\text{for each month $t \\in \\{1, 2, \\cdots, 6\\}$.}\\\\\n",
    "&& X_t, Y_t & \\ge 0 && \\text{for each month $t$.}\n",
    "\\end{aligned}$$"
   ]
  },
  {
   "cell_type": "code",
   "execution_count": 48,
   "id": "42c80ab5-6489-4e8a-98c6-1618b57890af",
   "metadata": {
    "tags": []
   },
   "outputs": [],
   "source": [
    "# Input data\n",
    "import pandas as pd\n",
    "months=range(1,7)\n",
    "price=pd.Series([150,160,180,170,180,160],index=months)\n",
    "usage=2000\n",
    "storage_capacity=1000"
   ]
  },
  {
   "cell_type": "code",
   "execution_count": null,
   "id": "8b293570-85fe-412a-8b13-7325d3c36132",
   "metadata": {},
   "outputs": [],
   "source": [
    "# Write your code here\n",
    "\n",
    "\n"
   ]
  },
  {
   "cell_type": "code",
   "execution_count": 49,
   "id": "af18605a-562d-4922-ade9-1a1fb47604bf",
   "metadata": {
    "tags": []
   },
   "outputs": [
    {
     "name": "stdout",
     "output_type": "stream",
     "text": [
      "Minimum purchase cost: 1960000.0\n",
      "Month\tBuy\tStore\n",
      "1\t3000.0\t1000.0\n",
      "2\t2000.0\t1000.0\n",
      "3\t1000.0\t0.0\n",
      "4\t3000.0\t1000.0\n",
      "5\t1000.0\t0.0\n",
      "6\t2000.0\t0.0\n"
     ]
    }
   ],
   "source": [
    "# Correct output"
   ]
  },
  {
   "cell_type": "markdown",
   "id": "b383dceb-e27d-4ffe-a53e-34ff913bc732",
   "metadata": {},
   "source": [
    "## (Optional) Exercise 10.6: Optimal Advertising Plan\n",
    "\n",
    "SALS Marketing Inc. is developing an advertising campaign for a large consumer goods corporation. An advertising plan specifies how many units of each kind of advertisement to purchase. SALS has promised a plan that will yield the highest possible “exposure rating,” which is a measure of the ability to reach the appropriate demographic group and generate demand. The options for advertisements with their respective costs (per unit of advertising) and per-unit exposure ratings are given in the table below (K stands for thousands).\n",
    "\n",
    "| Category | Subcategory | Cost/Unit | Exposure/Unit |\n",
    "|--|--|--|--|\n",
    "| Magazines | Literary | \\$7.5 K | 15 K |\n",
    "| ` ` | News | \\$10 K | 22.5 K |\n",
    "| ` ` | Topical | \\$15 K | 24 K |\n",
    "| Newspapers |  Morning | \\$2 K | 37.5 K |\n",
    "|` `  | Evening | \\$3 K | 75 K |\n",
    "| Television | Morning | \\$20 K | 275 K |\n",
    "| ` ` | Midday | \\$10 K | 180 K |\n",
    "| ` `  | Evening | \\$60 K | 810 K |\n",
    "| Radio | Morning | \\$15 K | 180 K |\n",
    "| ` ` | Midday | \\$15 K | 17 K |\n",
    "| ` ` | Evening | \\$10 K | 16 K |\n",
    "\n",
    "Of course, certain restrictions exist for the advertising campaign. The client corporation has budgeted 800K for the campaign, but to restrict overexposure to any particular audience it wants no more than 300K put into any one category (Magazine, Newspaper, etc.). Also, to ensure a broad range of exposure, at least 100K must be spent in each category. Finally, one has to purchase an integer number of units of each kind of advertisement, as no fractional units are allowed. Formulate and solve a linear optimization model to determine the optimal advertising plan."
   ]
  },
  {
   "cell_type": "markdown",
   "id": "77d3b2b5-85da-4c3c-be59-980682fb26bb",
   "metadata": {},
   "source": [
    "### English Description\n",
    "\n",
    "**Decision:** \n",
    "\n",
    "**Objective:**\n",
    "\n",
    "**Constraints:** \n",
    "\n",
    "\n",
    "### Concrete Formulation\n",
    "\n",
    "**Decision variables:**\n",
    "\n",
    "\n",
    "**Objective and constraints:**\n",
    "\n",
    "\n",
    "\n"
   ]
  },
  {
   "cell_type": "markdown",
   "id": "58805bf8-6e01-4ce6-aca7-875e2c0327a9",
   "metadata": {},
   "source": [
    "### Python Code \n",
    "\n",
    "Write Gurobi code to implement the above formulation. Your code should read in the data from the following data structures rather than hard code in the numbers. For convenience, all numerical values are in the units of K (thousands). \n",
    "\n",
    "The outputs should be in the same format as the sample outputs below. Note: Gurobi might output strangely formatted numbers like `-0`, and you can make it `0` by converting it to `int`."
   ]
  },
  {
   "cell_type": "code",
   "execution_count": 50,
   "id": "e7a08614-11cf-43c0-bd3f-93474f502990",
   "metadata": {},
   "outputs": [
    {
     "data": {
      "text/plain": [
       "{'Magazines': ['Literary Mag.', 'News Mag.', 'Topical Mag.'],\n",
       " 'Newspapers': ['Morning News', 'Evening News'],\n",
       " 'Television': ['Morning TV', 'Midday TV', 'Evening TV'],\n",
       " 'Radio': ['Morning Radio', 'Midday Radio', 'Evening Radio']}"
      ]
     },
     "execution_count": 50,
     "metadata": {},
     "output_type": "execute_result"
    }
   ],
   "source": [
    "# Constructing the subcategories\n",
    "subcat={}\n",
    "subcat['Magazines']=['Literary Mag.','News Mag.','Topical Mag.']\n",
    "subcat['Newspapers']=['Morning News','Evening News']\n",
    "subcat['Television']=['Morning TV','Midday TV','Evening TV']\n",
    "subcat['Radio']=['Morning Radio','Midday Radio','Evening Radio']\n",
    "subcat"
   ]
  },
  {
   "cell_type": "code",
   "execution_count": 51,
   "id": "43951c27-0361-4e05-acbe-7519584a3a2c",
   "metadata": {},
   "outputs": [
    {
     "data": {
      "text/html": [
       "<div>\n",
       "<style scoped>\n",
       "    .dataframe tbody tr th:only-of-type {\n",
       "        vertical-align: middle;\n",
       "    }\n",
       "\n",
       "    .dataframe tbody tr th {\n",
       "        vertical-align: top;\n",
       "    }\n",
       "\n",
       "    .dataframe thead th {\n",
       "        text-align: right;\n",
       "    }\n",
       "</style>\n",
       "<table border=\"1\" class=\"dataframe\">\n",
       "  <thead>\n",
       "    <tr style=\"text-align: right;\">\n",
       "      <th></th>\n",
       "      <th>Cost</th>\n",
       "      <th>Exposure</th>\n",
       "    </tr>\n",
       "  </thead>\n",
       "  <tbody>\n",
       "    <tr>\n",
       "      <th>Literary Mag.</th>\n",
       "      <td>7.5</td>\n",
       "      <td>15.0</td>\n",
       "    </tr>\n",
       "    <tr>\n",
       "      <th>News Mag.</th>\n",
       "      <td>10.0</td>\n",
       "      <td>22.5</td>\n",
       "    </tr>\n",
       "    <tr>\n",
       "      <th>Topical Mag.</th>\n",
       "      <td>15.0</td>\n",
       "      <td>24.0</td>\n",
       "    </tr>\n",
       "    <tr>\n",
       "      <th>Morning News</th>\n",
       "      <td>2.0</td>\n",
       "      <td>37.5</td>\n",
       "    </tr>\n",
       "    <tr>\n",
       "      <th>Evening News</th>\n",
       "      <td>3.0</td>\n",
       "      <td>75.0</td>\n",
       "    </tr>\n",
       "    <tr>\n",
       "      <th>Morning TV</th>\n",
       "      <td>20.0</td>\n",
       "      <td>275.0</td>\n",
       "    </tr>\n",
       "    <tr>\n",
       "      <th>Midday TV</th>\n",
       "      <td>10.0</td>\n",
       "      <td>180.0</td>\n",
       "    </tr>\n",
       "    <tr>\n",
       "      <th>Evening TV</th>\n",
       "      <td>60.0</td>\n",
       "      <td>810.0</td>\n",
       "    </tr>\n",
       "    <tr>\n",
       "      <th>Morning Radio</th>\n",
       "      <td>15.0</td>\n",
       "      <td>180.0</td>\n",
       "    </tr>\n",
       "    <tr>\n",
       "      <th>Midday Radio</th>\n",
       "      <td>15.0</td>\n",
       "      <td>17.0</td>\n",
       "    </tr>\n",
       "    <tr>\n",
       "      <th>Evening Radio</th>\n",
       "      <td>10.0</td>\n",
       "      <td>16.0</td>\n",
       "    </tr>\n",
       "  </tbody>\n",
       "</table>\n",
       "</div>"
      ],
      "text/plain": [
       "               Cost  Exposure\n",
       "Literary Mag.   7.5      15.0\n",
       "News Mag.      10.0      22.5\n",
       "Topical Mag.   15.0      24.0\n",
       "Morning News    2.0      37.5\n",
       "Evening News    3.0      75.0\n",
       "Morning TV     20.0     275.0\n",
       "Midday TV      10.0     180.0\n",
       "Evening TV     60.0     810.0\n",
       "Morning Radio  15.0     180.0\n",
       "Midday Radio   15.0      17.0\n",
       "Evening Radio  10.0      16.0"
      ]
     },
     "execution_count": 51,
     "metadata": {},
     "output_type": "execute_result"
    }
   ],
   "source": [
    "# Input table\n",
    "import pandas as pd\n",
    "allSubCat=subcat['Magazines']+subcat['Newspapers']+subcat['Television']+subcat['Radio']\n",
    "data=pd.DataFrame([[7.5,15],[10,22.5],[15,24],\\\n",
    "                 [2,37.5],[3,75],\n",
    "                 [20,275],[10,180],[60,810],\\\n",
    "                 [15,180],[15,17],[10,16]],\\\n",
    "                 index=allSubCat,columns=['Cost','Exposure'])\n",
    "data"
   ]
  },
  {
   "cell_type": "code",
   "execution_count": null,
   "id": "c3964d16-027d-46ef-8bba-09f608f15213",
   "metadata": {},
   "outputs": [],
   "source": [
    "# Write your code here\n",
    "\n",
    "\n",
    "\n",
    "\n"
   ]
  },
  {
   "cell_type": "code",
   "execution_count": 52,
   "id": "cb70e766-f591-448b-a510-2a037b7e1fba",
   "metadata": {
    "tags": []
   },
   "outputs": [
    {
     "name": "stdout",
     "output_type": "stream",
     "text": [
      "Maximum total exposure (in thousands): 14235.0\n",
      "# of units to purchase:\n",
      "\tLiterary Mag.: 0\n",
      "\tNews Mag.: 10\n",
      "\tTopical Mag.: 0\n",
      "\tMorning News: 0\n",
      "\tEvening News: 98\n",
      "\tMorning TV: 0\n",
      "\tMidday TV: 30\n",
      "\tEvening TV: 0\n",
      "\tMorning Radio: 7\n",
      "\tMidday Radio: 0\n",
      "\tEvening Radio: 0\n"
     ]
    }
   ],
   "source": [
    "# Correct output (it's okay if you have the same maximum total exposure but a different allocation of funds)"
   ]
  }
 ],
 "metadata": {
  "kernelspec": {
   "display_name": "Python-3-with-Gurobi",
   "language": "python",
   "name": "python-3-with-gurobi"
  },
  "language_info": {
   "codemirror_mode": {
    "name": "ipython",
    "version": 3
   },
   "file_extension": ".py",
   "mimetype": "text/x-python",
   "name": "python",
   "nbconvert_exporter": "python",
   "pygments_lexer": "ipython3",
   "version": "3.11.4"
  }
 },
 "nbformat": 4,
 "nbformat_minor": 5
}
