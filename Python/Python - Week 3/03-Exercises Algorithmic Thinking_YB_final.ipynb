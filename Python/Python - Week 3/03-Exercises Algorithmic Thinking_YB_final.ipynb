{
 "cells": [
  {
   "cell_type": "markdown",
   "id": "bd9c7dba-2545-4261-8a25-1d1d53adaeaa",
   "metadata": {},
   "source": [
    "# Exercises for Week 3: Algorithmic Thinking"
   ]
  },
  {
   "cell_type": "markdown",
   "id": "16cb426d-fc54-4775-aa59-e510853d4fe2",
   "metadata": {},
   "source": [
    "## Name: Yongbum Kim"
   ]
  },
  {
   "cell_type": "markdown",
   "id": "c0953678-1fee-458a-bf0e-db492ccaa508",
   "metadata": {},
   "source": [
    "## Grading Scheme:\n",
    "\n",
    "- **3 (Essentially perfect)**: All required questions have a complete solution and all outputs are essentially correct based on the sample outputs.\n",
    "- **2 (Solid effort)**: Several required questions may be incomplete or the outputs incorrect, but at least two thirds has a correct solution.\n",
    "- **1 (Some effort)**: Between one third and two thirds of the required questions have a correct solution.\n",
    "- **0 (No submission or essentially blank)**: No submission on Brightspace by the deadline, or less than one third of the required questions have a correct solution.\n",
    "\n",
    "Every question is required unless it is marked with \"(optional)\". **To ensure that you get 3 out of 3, before you submit, restart the Kernel and run all, and check that all of the outputs match the sample outputs from the PDF version of the exercises. You need to develop the habit of meticulously checking your outputs in order to ensure the best grade.** I will not count minor formating, rounding, or importing issues, but otherwise your output should match the sample outputs exactly when rerun.  The weekly exercises are intended to be completed in 4-5 hours, excluding class time. You should budget at least this much time per week for these exercises.\n",
    "\n",
    "**After you submit, download the .ipynb file you uploaded to Brightspace and double check that you uploaded the correct file, and that every question has been properly saved! Do not assume that Jupyter will save automatically for you.**"
   ]
  },
  {
   "cell_type": "markdown",
   "id": "492d967e-40f4-4401-8d54-4ea76a7249f5",
   "metadata": {},
   "source": [
    "## Exercise 3.1: Optimal Pricing\n",
    "\n",
    "Write a function \"optPrice\" with two input arguments:\n",
    "\n",
    "- `priceList`: a list of proposed prices.\n",
    "- `valueList`: a list of numbers. Each number represents the willingness to pay for the product from a particular customer.\n",
    "\n",
    "For a given price, the demand is equal to the number of customers with willingness to pay greater than or equal to the price. The function should iterate through the list of prices, and compute the estimated revenue for each price, which is equal to the price times the demand. \n",
    "\n",
    "The function should return two objects: the first is the best price found. The second object is a dictionary mapping each price to the estimated revenue for that price. \n",
    "\n",
    "**Sample run:**\n",
    "\n",
    "```python\n",
    "priceList=range(0,36,5)\n",
    "valueList=[32,10,15,18,25,40,50,43]\n",
    "bestPrice,revenueDict=optPrice(priceList,valueList)\n",
    "print('Best price:',bestPrice)\n",
    "print('Revenue dictionary:',revenueDict)\n",
    "```\n",
    "\n",
    "**Correct output:**\n",
    "\n",
    "```\n",
    "Best price: 25\n",
    "Revenue dictionary: {0: 0, 5: 40, 10: 80, 15: 105, 20: 100, 25: 125, 30: 120, 35: 105}\n",
    "```\n",
    "\n",
    "**Solve this problem by applying the four steps of algorithmic thinking.**"
   ]
  },
  {
   "cell_type": "markdown",
   "id": "37bc98ac-5955-46a7-9682-ced03d422122",
   "metadata": {},
   "source": [
    "**Step 1. Understand** (Write your summary in this Markdown cell)\n",
    "\n",
    "Estimate the revenue for each given price and find the price with the highest revenue."
   ]
  },
  {
   "cell_type": "markdown",
   "id": "2364dd94-9b58-47f4-a020-86faeb90178a",
   "metadata": {},
   "source": [
    "**Step 2. Decompose** (Write your instructions in this Markdown cell)\n",
    "\n",
    "A. Iterate through the prices in the given priceList\n",
    "\n",
    "B. Calculate the revenue for each given price: count the number of customer values greater than or equal to the price, and multiply this count with the price. Store the answer in a Dictionary.\n",
    "\n",
    "C. Keep track of the best price found so far and another variable for the best revenue. When looping through the prices, update the variables appropriately."
   ]
  },
  {
   "cell_type": "markdown",
   "id": "891762d4-3e7d-4bde-89d0-29e8b557fdcb",
   "metadata": {},
   "source": [
    "**Step 3. Analyze** (Write code fragments in separate code cells to implement the trickiest steps, as in the in-class demonstration)"
   ]
  },
  {
   "cell_type": "code",
   "execution_count": 4,
   "id": "c4041fa5-141c-4e08-93e1-abd65d1353cb",
   "metadata": {},
   "outputs": [
    {
     "name": "stdout",
     "output_type": "stream",
     "text": [
      "0 5 10 15 20 25 30 35 "
     ]
    }
   ],
   "source": [
    "# A. Iterate through the prices in the given priceList.\n",
    "\n",
    "priceList=range(0,36,5)\n",
    "for price in priceList:\n",
    "    print(price, end=' ')"
   ]
  },
  {
   "cell_type": "code",
   "execution_count": 6,
   "id": "f72a0bda-302a-47dc-80f9-f031cf2c1dc5",
   "metadata": {},
   "outputs": [
    {
     "data": {
      "text/plain": [
       "{25: 125}"
      ]
     },
     "execution_count": 6,
     "metadata": {},
     "output_type": "execute_result"
    }
   ],
   "source": [
    "# B. Calculate the revenue for each given price: count the number of customer values greater than or equal to the price, and multiply this count with the price. Store the answer in a Dictionary.\n",
    "\n",
    "valueList=[32,10,15,18,25,40,50,43]\n",
    "revenueDict={}\n",
    "price=25\n",
    "count=0\n",
    "for value in valueList:\n",
    "    if value>= price:\n",
    "        count+=1\n",
    "revenueDict[price]=count*price\n",
    "revenueDict"
   ]
  },
  {
   "cell_type": "code",
   "execution_count": 8,
   "id": "96d25308-ec9f-4f20-bb7a-d3bfd90fa99d",
   "metadata": {},
   "outputs": [
    {
     "name": "stdout",
     "output_type": "stream",
     "text": [
      "Updated best so far: price=25 revenue=125\n"
     ]
    }
   ],
   "source": [
    "# C. Keep track of the best price found so far and another variable for the best revenue. When looping through the prices, update the variables appropriately.\n",
    "\n",
    "bestPrice=0\n",
    "bestRevenue=0\n",
    "\n",
    "price=25\n",
    "revenue=125\n",
    "if revenue>bestRevenue:\n",
    "    bestRevenue=revenue\n",
    "    bestPrice=price\n",
    "print(f'Updated best so far: price={bestPrice} revenue={bestRevenue}')"
   ]
  },
  {
   "cell_type": "markdown",
   "id": "a4cc82df-84c3-4d20-a037-b91e63e8848f",
   "metadata": {},
   "source": [
    "**Step 4. Synthesis** \n"
   ]
  },
  {
   "cell_type": "code",
   "execution_count": 10,
   "id": "a0896727-c795-4916-9681-c85bb887157e",
   "metadata": {},
   "outputs": [
    {
     "name": "stdout",
     "output_type": "stream",
     "text": [
      "Price:  0\n",
      "\tRevenue:  0\n",
      "Price:  5\n",
      "\tRevenue:  40\n",
      "\tUpdated best so far: price=5 revenue=40\n",
      "Price:  10\n",
      "\tRevenue:  80\n",
      "\tUpdated best so far: price=10 revenue=80\n",
      "Price:  15\n",
      "\tRevenue:  105\n",
      "\tUpdated best so far: price=15 revenue=105\n",
      "Price:  20\n",
      "\tRevenue:  100\n",
      "Price:  25\n",
      "\tRevenue:  125\n",
      "\tUpdated best so far: price=25 revenue=125\n",
      "Price:  30\n",
      "\tRevenue:  120\n",
      "Price:  35\n",
      "\tRevenue:  105\n",
      "Best overall: price=25 revenue=125\n"
     ]
    }
   ],
   "source": [
    "# Version for debugging: with intermediate printing and no function encapsulation\n",
    "\n",
    "priceList=range(0,36,5)\n",
    "valueList=[32,10,15,18,25,40,50,43]\n",
    "revenueDict={}\n",
    "bestPrice=0\n",
    "bestRevenue=0\n",
    "\n",
    "for price in priceList:\n",
    "    print('Price: ', price)\n",
    "    count=0\n",
    "    for value in valueList:\n",
    "        if value>= price:\n",
    "            count+=1\n",
    "    revenueDict[price]=count*price\n",
    "    print('\\tRevenue: ', revenueDict[price])\n",
    "    if revenueDict[price]>bestRevenue:\n",
    "        bestRevenue=revenueDict[price]\n",
    "        bestPrice=price\n",
    "        print(f'\\tUpdated best so far: price={bestPrice} revenue={bestRevenue}')\n",
    "print(f'Best overall: price={bestPrice} revenue={bestRevenue}')"
   ]
  },
  {
   "cell_type": "code",
   "execution_count": 12,
   "id": "56bee91d-7c86-4a21-8ad3-8772ec64a781",
   "metadata": {},
   "outputs": [],
   "source": [
    "# Final code \n",
    "\n",
    "def optPrice(priceList, valueList):\n",
    "    revenueDict={}\n",
    "    bestPrice=0\n",
    "    bestRevenue=0\n",
    "    for price in priceList:\n",
    "        count=0\n",
    "        for value in valueList:\n",
    "            if value>= price:\n",
    "                count+=1\n",
    "        revenueDict[price]=count*price\n",
    "        if revenueDict[price]>bestRevenue:\n",
    "            bestRevenue=revenueDict[price]\n",
    "            bestPrice=price\n",
    "    return bestPrice, revenueDict"
   ]
  },
  {
   "cell_type": "code",
   "execution_count": 24,
   "id": "ddaf0655-f555-43c8-befd-471f9db40ea8",
   "metadata": {},
   "outputs": [
    {
     "name": "stdout",
     "output_type": "stream",
     "text": [
      "Best price: 25\n",
      "Revenue dictionary: {0: 0, 5: 40, 10: 80, 15: 105, 20: 100, 25: 125, 30: 120, 35: 105}\n"
     ]
    }
   ],
   "source": [
    "# Test code 1\n",
    "priceList=range(0,40,5)\n",
    "valueList=[32,10,15,18,25,40,50,43]\n",
    "bestPrice,revenueDict=optPrice(priceList,valueList)\n",
    "print('Best price:',bestPrice)\n",
    "print('Revenue dictionary:',revenueDict)\n",
    "\n",
    "# Output should be:\n",
    "# Best price: 25\n",
    "# Revenue dictionary: {0: 0, 5: 40, 10: 80, 15: 105, 20: 100, 25: 125, 30: 120, 35: 105}"
   ]
  },
  {
   "cell_type": "code",
   "execution_count": 28,
   "id": "318f5c98-a1d4-4122-8edf-e50172b9f40d",
   "metadata": {},
   "outputs": [
    {
     "data": {
      "image/png": "[encoded data removed]",
      "text/plain": [
       "<Figure size 640x480 with 1 Axes>"
      ]
     },
     "metadata": {},
     "output_type": "display_data"
    }
   ],
   "source": [
    "# Graphical display\n",
    "priceList=range(0,40,5)\n",
    "valueList=[32,10,15,18,25,40,50,43]\n",
    "bestPrice,revenueDict=optPrice(priceList,valueList)\n",
    "\n",
    "import matplotlib.pyplot as plt\n",
    "revenueList=[revenueDict[price] for price in priceList]\n",
    "plt.plot(priceList,revenueList)\n",
    "plt.plot([bestPrice],[revenueDict[bestPrice]],'ro')\n",
    "plt.xlabel('Price')\n",
    "plt.ylabel('Revenue')\n",
    "plt.title(f'Optimal price is ${bestPrice} with revenue ${revenueDict[bestPrice]}')\n",
    "plt.show()\n",
    "\n",
    "# Output should be: Optimal price is $25 with revenue $125"
   ]
  },
  {
   "cell_type": "code",
   "execution_count": 30,
   "id": "2a055dcc-1862-40e3-a889-ca847ded7385",
   "metadata": {
    "tags": []
   },
   "outputs": [
    {
     "data": {
      "image/png": "[encoded data removed]",
      "text/plain": [
       "<Figure size 640x480 with 1 Axes>"
      ]
     },
     "metadata": {},
     "output_type": "display_data"
    }
   ],
   "source": [
    "# Test code 2\n",
    "bestPrice,revenueDict=optPrice(range(0,50),[10,15,12,30,42,50,18,13,15,5,3,10,35,33,10])\n",
    "import matplotlib.pyplot as plt\n",
    "import pandas as pd\n",
    "pd.Series(revenueDict).plot()\n",
    "plt.plot([bestPrice],[revenueDict[bestPrice]],'ro')\n",
    "plt.xlabel('Price')\n",
    "plt.ylabel('Revenue')\n",
    "plt.title(f'Optimal price is ${bestPrice} with revenue ${revenueDict[bestPrice]}')\n",
    "plt.show()\n",
    "\n",
    "# Output should be: Optimal price is $30 with revenue $150"
   ]
  },
  {
   "cell_type": "markdown",
   "id": "abe21d9d-2f24-4ddc-b59f-44450625d54f",
   "metadata": {},
   "source": [
    "## Exercise 3.2: Optimal Stocking Level\n",
    "\n",
    "Write a function named `optBaseStock` with four input arguments:\n",
    "\n",
    "- `levelList`: a list of possible stocking levels to optimize over.\n",
    "- `demandList`: a list of demand scenarios. \n",
    "- `underage`: the unit cost of having too little inventory to meet demand.\n",
    "- `overage`: the unit cost of having too much inventory.\n",
    "\n",
    "For each possible stocking level, the function should compute the average inventory cost, which is defined as the average over all demand scenarios of the total underage cost plus the total overage cost. For example, if the stocking level is 10, the demand scenarios are `[6,12,14]`, the underage cost is 9 and the overage is 5, then\n",
    "\n",
    "- The inventory cost for the scenario `demand=6` is $(10-6)\\times 5=20$, because the stocking level is 4 units too high. (The overage cost of 5/unit is applied when the inventory is too high.)\n",
    "- The inventory cost for the scenario `demand=12` is $(12-10)\\times 9=18$, because the stocking level is 2 units too low. (The underage cost of 9/unit is applied when the inventory is too low.) \n",
    "- The inventory cost for the scenario `demand=14` is $(14-10)\\times 9=36$, because the stocking level is 4 units too low. \n",
    "\n",
    "The average inventory cost for stocking level 10 is $(20+18+36)/3=74/3\\approx 24.67$.  \n",
    "\n",
    "The function should return two objects:\n",
    "\n",
    "- `bestLevel`: the stocking level in `levelList` that achieves the minimum average inventory cost (if there is a tie, return the smallest stocking level that yields the minimum cost).\n",
    "- `avCost`: a dictionary that maps each stocking level to the corresponding average inventory cost.\n",
    "\n",
    "**Sample run:**\n",
    "\n",
    "```python\n",
    "demandList=[10,18,5,20,16,30,15,3,5,10]\n",
    "levelList=range(0,30,5)\n",
    "underage=10\n",
    "overage=3\n",
    "bestLevel,avCost=optBaseStock(levelList,demandList,underage,overage)\n",
    "print('bestLevel:',bestLevel)\n",
    "print('avCost:',avCost)\n",
    "```\n",
    "\n",
    "**Correct output:**\n",
    "\n",
    "```\n",
    "bestLevel 20\n",
    "avCost {0: 132.0, 5: 84.6, 10: 54.1, 15: 36.6, 20: 33.4, 25: 41.9}\n",
    "```\n",
    "\n",
    "**Solve this problem by applying the four steps of algorithmic thinking.**"
   ]
  },
  {
   "cell_type": "markdown",
   "id": "d6ab0a13-7dcb-4145-a87e-d1c38c62454f",
   "metadata": {},
   "source": [
    "**Step 1. Understand** (Write your summary of the task in this cell:)\n",
    "\n",
    "Calculate the stocking level that achieves the minimum average inventory cost for all demand scenarios."
   ]
  },
  {
   "cell_type": "markdown",
   "id": "a69943d7-0d73-4a27-9a21-d08f8f2434d1",
   "metadata": {},
   "source": [
    "**Step 2. Decompose** (Write your instructions in this Markdown cell)\n",
    "\n",
    "A. Iterate through the stocking level in the given levelList.\n",
    "\n",
    "B. Calculate the average inventory cost for each given stocking level: compare the value of stocking level and demand, and multiply the difference with the underage if the stocking level is greater than demand or multiply the difference with the overage if the stocking level is less than demand. Store the answer in a Dictionary.\n",
    "\n",
    "C. Keep track of the minimum average inventory cost found so far for the best stocking level. When looping through the stocking levels, update the variables appropriately."
   ]
  },
  {
   "cell_type": "markdown",
   "id": "9d999a14-8b71-45cc-ba4a-1009b6befbc6",
   "metadata": {},
   "source": [
    "**Step 3. Analyze** (Write code fragments in separate code cells to implement the trickiest steps)"
   ]
  },
  {
   "cell_type": "code",
   "execution_count": 35,
   "id": "3e3e6595-52ca-44b0-9c96-e55fc8443669",
   "metadata": {},
   "outputs": [
    {
     "name": "stdout",
     "output_type": "stream",
     "text": [
      "0 5 10 15 20 25 "
     ]
    }
   ],
   "source": [
    "# A. Iterate through the stocking level in the given levelList.\n",
    "\n",
    "levelList=range(0,30,5)\n",
    "for level in levelList:\n",
    "    print(level, end=' ') "
   ]
  },
  {
   "cell_type": "code",
   "execution_count": 61,
   "id": "42794692-deb7-42ee-ab49-37b54d729020",
   "metadata": {},
   "outputs": [
    {
     "name": "stdout",
     "output_type": "stream",
     "text": [
      "Summing up: 30\n",
      "Summing up: 36\n",
      "Summing up: 81\n",
      "Summing up: 81\n",
      "Summing up: 93\n",
      "Summing up: 193\n",
      "Summing up: 208\n",
      "Summing up: 259\n",
      "Summing up: 304\n",
      "Summing up: 334\n",
      "Average cost for level 20: 33.4\n"
     ]
    },
    {
     "data": {
      "text/plain": [
       "{20: 33.4}"
      ]
     },
     "execution_count": 61,
     "metadata": {},
     "output_type": "execute_result"
    }
   ],
   "source": [
    "# B. Calculate the average inventory cost for each given stocking level: compare the value of stocking level and demand, and multiply the difference with the underage if the stocking level is greater than demand or multiply the difference with the overage if the stocking level is less than demand. Store the answer in a Dictionary.\n",
    "\n",
    "level=20\n",
    "demandList=[10,18,5,20,16,30,15,3,5,10]\n",
    "underage=10\n",
    "overage=3\n",
    "\n",
    "cost=0\n",
    "avCost={}\n",
    "\n",
    "for demand in demandList:\n",
    "    if level >= demand:\n",
    "        cost += (level-demand)*overage\n",
    "    else:\n",
    "        cost += (demand-level)*underage\n",
    "    print(f'Summing up: {cost}')\n",
    "average_cost = cost / len(demandList)\n",
    "print(f'Average cost for level {level}: {average_cost}')\n",
    "avCost[level] = average_cost\n",
    "avCost\n",
    "\n",
    "# Output should be:\n",
    "# bestLevel 20\n",
    "# avCost {0: 132.0, 5: 84.6, 10: 54.1, 15: 36.6, 20: 33.4, 25: 41.9}"
   ]
  },
  {
   "cell_type": "code",
   "execution_count": 65,
   "id": "8549a9a8-9047-47b1-9f3d-387a13b104e1",
   "metadata": {},
   "outputs": [
    {
     "name": "stdout",
     "output_type": "stream",
     "text": [
      "Updated minimum average inventory cost so far: stocking level=20 average inventory cost=33.4\n"
     ]
    }
   ],
   "source": [
    "# C. Keep track of the minimum average inventory cost found so far for the best stocking level. When looping through the stocking levels, update the variables appropriately.\n",
    "\n",
    "bestLevel=10\n",
    "minimumCost=54.1\n",
    "\n",
    "level=20\n",
    "cost=33.4\n",
    "if cost<minimumCost:\n",
    "    minimumCost=cost\n",
    "    bestLevel=level\n",
    "print(f'Updated minimum average inventory cost so far: stocking level={bestLevel} average inventory cost={minimumCost}')\n",
    "\n",
    "# Output should be:\n",
    "# bestLevel 20\n",
    "# avCost {0: 132.0, 5: 84.6, 10: 54.1, 15: 36.6, 20: 33.4, 25: 41.9}"
   ]
  },
  {
   "cell_type": "markdown",
   "id": "f70dd920-bbf1-4510-a9ea-e79cff6a9d54",
   "metadata": {},
   "source": [
    "**Step 4. Synthesize** (Combine your code fragments from Step 3, but do so in an incremental fashion and print intermediate results)"
   ]
  },
  {
   "cell_type": "code",
   "execution_count": 71,
   "id": "a7e65546-8967-49f0-a8b6-a81a59f740d1",
   "metadata": {},
   "outputs": [
    {
     "name": "stdout",
     "output_type": "stream",
     "text": [
      "Summing up: 100\n",
      "Summing up: 280\n",
      "Summing up: 330\n",
      "Summing up: 530\n",
      "Summing up: 690\n",
      "Summing up: 990\n",
      "Summing up: 1140\n",
      "Summing up: 1170\n",
      "Summing up: 1220\n",
      "Summing up: 1320\n",
      "Average cost for level 0: 132.0\n",
      "{0: 132.0}\n",
      "Updated minimum average inventory cost so far: stocking level=0 average inventory cost=1320\n",
      "Summing up: 50\n",
      "Summing up: 180\n",
      "Summing up: 180\n",
      "Summing up: 330\n",
      "Summing up: 440\n",
      "Summing up: 690\n",
      "Summing up: 790\n",
      "Summing up: 796\n",
      "Summing up: 796\n",
      "Summing up: 846\n",
      "Average cost for level 5: 84.6\n",
      "{0: 132.0, 5: 84.6}\n",
      "Updated minimum average inventory cost so far: stocking level=5 average inventory cost=846\n",
      "Summing up: 0\n",
      "Summing up: 80\n",
      "Summing up: 95\n",
      "Summing up: 195\n",
      "Summing up: 255\n",
      "Summing up: 455\n",
      "Summing up: 505\n",
      "Summing up: 526\n",
      "Summing up: 541\n",
      "Summing up: 541\n",
      "Average cost for level 10: 54.1\n",
      "{0: 132.0, 5: 84.6, 10: 54.1}\n",
      "Updated minimum average inventory cost so far: stocking level=10 average inventory cost=541\n",
      "Summing up: 15\n",
      "Summing up: 45\n",
      "Summing up: 75\n",
      "Summing up: 125\n",
      "Summing up: 135\n",
      "Summing up: 285\n",
      "Summing up: 285\n",
      "Summing up: 321\n",
      "Summing up: 351\n",
      "Summing up: 366\n",
      "Average cost for level 15: 36.6\n",
      "{0: 132.0, 5: 84.6, 10: 54.1, 15: 36.6}\n",
      "Updated minimum average inventory cost so far: stocking level=15 average inventory cost=366\n",
      "Summing up: 30\n",
      "Summing up: 36\n",
      "Summing up: 81\n",
      "Summing up: 81\n",
      "Summing up: 93\n",
      "Summing up: 193\n",
      "Summing up: 208\n",
      "Summing up: 259\n",
      "Summing up: 304\n",
      "Summing up: 334\n",
      "Average cost for level 20: 33.4\n",
      "{0: 132.0, 5: 84.6, 10: 54.1, 15: 36.6, 20: 33.4}\n",
      "Updated minimum average inventory cost so far: stocking level=20 average inventory cost=334\n",
      "Summing up: 45\n",
      "Summing up: 66\n",
      "Summing up: 126\n",
      "Summing up: 141\n",
      "Summing up: 168\n",
      "Summing up: 218\n",
      "Summing up: 248\n",
      "Summing up: 314\n",
      "Summing up: 374\n",
      "Summing up: 419\n",
      "Average cost for level 25: 41.9\n",
      "{0: 132.0, 5: 84.6, 10: 54.1, 15: 36.6, 20: 33.4, 25: 41.9}\n",
      "Minimum average inventory cost so far: stocking level=20 average inventory cost=334\n"
     ]
    }
   ],
   "source": [
    "# Version for debugging: with intermediate printing and no function encapsulation\n",
    "\n",
    "levelList=range(0,30,5)\n",
    "demandList=[10,18,5,20,16,30,15,3,5,10]\n",
    "avCost={}\n",
    "minimumCost=100000000\n",
    "underage=10\n",
    "overage=3\n",
    "\n",
    "for level in levelList:\n",
    "    cost=0\n",
    "    for demand in demandList:\n",
    "        if level >= demand:\n",
    "            cost += (level-demand)*overage\n",
    "        else:\n",
    "            cost += (demand-level)*underage\n",
    "        print(f'Summing up: {cost}')\n",
    "    average_cost = cost / len(demandList)\n",
    "    print(f'Average cost for level {level}: {average_cost}')\n",
    "    avCost[level] = average_cost\n",
    "    print(avCost)\n",
    "    if cost<minimumCost:\n",
    "        minimumCost=cost\n",
    "        bestLevel=level\n",
    "        print(f'Updated minimum average inventory cost so far: stocking level={bestLevel} average inventory cost={minimumCost}')\n",
    "print(f'Minimum average inventory cost so far: stocking level={bestLevel} average inventory cost={minimumCost}')\n",
    "\n",
    "# Output should be:\n",
    "# bestLevel 20\n",
    "# avCost {0: 132.0, 5: 84.6, 10: 54.1, 15: 36.6, 20: 33.4, 25: 41.9}"
   ]
  },
  {
   "cell_type": "code",
   "execution_count": 73,
   "id": "61cadd58-155e-4282-bd17-015dc1003037",
   "metadata": {
    "tags": []
   },
   "outputs": [],
   "source": [
    "# Final code: removing intermediate printing and encapuslating in a function\n",
    "\n",
    "def optBaseStock(levelList, demandList, underage, overage):\n",
    "    avCost = {}\n",
    "    bestLevel = 0\n",
    "    \n",
    "    minimumCost = 100000000\n",
    "\n",
    "    for level in levelList:\n",
    "        cost = 0\n",
    "        for demand in demandList:\n",
    "            if level >= demand:\n",
    "                cost += (level-demand)*overage\n",
    "            else:\n",
    "                cost += (demand-level)*underage\n",
    "        average_cost = cost / len(demandList)\n",
    "        avCost[level] = average_cost\n",
    "        if average_cost < minimumCost:\n",
    "            minimumCost = average_cost\n",
    "            bestLevel = level\n",
    "    return bestLevel, avCost"
   ]
  },
  {
   "cell_type": "code",
   "execution_count": 75,
   "id": "16213a9e-ad7c-430c-9d7a-ca03d43d1075",
   "metadata": {},
   "outputs": [
    {
     "name": "stdout",
     "output_type": "stream",
     "text": [
      "bestLevel: 20\n",
      "avCost: {0: 132.0, 5: 84.6, 10: 54.1, 15: 36.6, 20: 33.4, 25: 41.9}\n"
     ]
    }
   ],
   "source": [
    "# Sample run\n",
    "demandList=[10,18,5,20,16,30,15,3,5,10]\n",
    "levelList=range(0,30,5)\n",
    "underage=10\n",
    "overage=3\n",
    "bestLevel,avCost=optBaseStock(levelList,demandList,underage,overage)\n",
    "print('bestLevel:',bestLevel)\n",
    "print('avCost:',avCost)\n",
    "\n",
    "# Output should be:\n",
    "# bestLevel 20\n",
    "# avCost {0: 132.0, 5: 84.6, 10: 54.1, 15: 36.6, 20: 33.4, 25: 41.9}"
   ]
  },
  {
   "cell_type": "markdown",
   "id": "6dbdd5f2-5041-4927-8f29-8ac65ed2fe83",
   "metadata": {},
   "source": [
    "The following code illustrates how the results might be graphed as in Exercise 3.1"
   ]
  },
  {
   "cell_type": "code",
   "execution_count": 77,
   "id": "ba2ac42f-3f66-4ea6-9cd0-03e5036284d1",
   "metadata": {
    "tags": []
   },
   "outputs": [
    {
     "data": {
      "image/png": "[encoded data removed]",
      "text/plain": [
       "<Figure size 640x480 with 1 Axes>"
      ]
     },
     "metadata": {},
     "output_type": "display_data"
    }
   ],
   "source": [
    "demandList=[10,18,5,20,16,30,15,3,5,10]\n",
    "levelList=range(0,30,5)\n",
    "underage=10\n",
    "overage=3\n",
    "bestLevel,cost=optBaseStock(levelList,demandList,underage,overage)\n",
    "\n",
    "import matplotlib.pyplot as plt\n",
    "levelList=sorted(levelList)\n",
    "costList=[cost[level] for level in levelList]\n",
    "plt.plot(levelList,costList)\n",
    "plt.plot([bestLevel],[cost[bestLevel]],'ro')\n",
    "plt.title(f'Optimal stocking level is {bestLevel} with cost {round(cost[bestLevel],2)}')\n",
    "plt.xlabel('Stocking level')\n",
    "plt.ylabel('Average inventory cost')\n",
    "plt.ylim(bottom=0)\n",
    "plt.show()\n",
    "\n",
    "# Output should be:\n",
    "# bestLevel 20\n",
    "# avCost {0: 132.0, 5: 84.6, 10: 54.1, 15: 36.6, 20: 33.4, 25: 41.9}"
   ]
  },
  {
   "cell_type": "code",
   "execution_count": 79,
   "id": "1f6420b3-1205-4df5-86ba-7f4cfb497c92",
   "metadata": {
    "tags": []
   },
   "outputs": [
    {
     "data": {
      "image/png": "[encoded data removed]",
      "text/plain": [
       "<Figure size 640x480 with 1 Axes>"
      ]
     },
     "metadata": {},
     "output_type": "display_data"
    }
   ],
   "source": [
    "#Sample run 2\n",
    "demandList=[10,18,5,16,30,15,3,5,10,60,50,30,40,20,30,20,50,80,30,60,80]\n",
    "levelList=range(0,50,5)\n",
    "underage=9\n",
    "overage=6\n",
    "bestLevel,cost=optBaseStock(levelList,demandList,underage,overage)\n",
    "\n",
    "import matplotlib.pyplot as plt\n",
    "levelList=sorted(levelList)\n",
    "costList=[cost[level] for level in levelList]\n",
    "plt.plot(levelList,costList)\n",
    "plt.plot([bestLevel],[cost[bestLevel]],'ro')\n",
    "plt.title(f'Optimal stocking level is {bestLevel} with cost {round(cost[bestLevel],2)}')\n",
    "plt.xlabel('Stocking level')\n",
    "plt.ylabel('Average inventory cost')\n",
    "plt.ylim(bottom=0)\n",
    "plt.show()\n",
    "\n",
    "# Output should be: Optimal stocking level is 30 with cost 140.86"
   ]
  },
  {
   "cell_type": "markdown",
   "id": "fd65fe02-d3e5-4f17-bd5c-8066b2686dd7",
   "metadata": {},
   "source": [
    "## Exercise 3.3: Demand Estimation for Substitutable Products\n",
    "\n",
    "Write a function named \"demand\" with two input arguments:\n",
    "\n",
    "- `priceVector`: a list of length 2 containing two positive numbers, corresponding to the proposed prices for the two products.\n",
    "- `values`: a list in which each element is a list of length 2, corresponding to the valuation of a customer for the two products.\n",
    "\n",
    "\n",
    "The function should return a list of two numbers, representing the number of customers purchasing each product. Assume the same customer behavior as in the paper coding exercise.\n",
    "\n",
    "\n",
    "**Sample run:** \n",
    "\n",
    "```python\n",
    "values=[[25,15],[18,18],[30,20],[30,30]]\n",
    "priceVector=[25,20]\n",
    "demand(priceVector,values)\n",
    "```\n",
    "\n",
    "**Correct result:**\n",
    "\n",
    "```\n",
    "[2, 1]\n",
    "```\n",
    "\n",
    "**Solve this problem by applying the four steps of algorithmic thinking.**"
   ]
  },
  {
   "cell_type": "markdown",
   "id": "d8f08b60-bae0-4a57-a9df-28e8c22212fd",
   "metadata": {},
   "source": [
    "\n",
    "**Step 1. Understand:** Summarize the task in your own words and verify your understanding by manually computing the results for a few inputs. \n",
    "\n",
    "Count how many people would buy each of the products."
   ]
  },
  {
   "cell_type": "markdown",
   "id": "dfd6db16-6279-47ff-b807-fec21f29362a",
   "metadata": {},
   "source": [
    "**Step 2. Decompose:** Write clear and precise instructions for another human being to manually compute the appropriate results for any possible input, imagining that the person does not have access to the problem description but only has your instructions to go on. \n",
    "\n",
    "A. Go through the people.\n",
    "\n",
    "B. For each person, figure out what he/she will buy, if anything.\n",
    "\n",
    "C. Keep a tally of how many people buy each product."
   ]
  },
  {
   "cell_type": "markdown",
   "id": "946d7881-f85e-404d-951e-e9753d8c2442",
   "metadata": {},
   "source": [
    "**Step 3. Analyze:** For each part of the instructions above, plan how you would implement it using computer code. For the trickest parts, write code fragments and create intermediate inputs to test each fragment by itself."
   ]
  },
  {
   "cell_type": "code",
   "execution_count": 95,
   "id": "8151e0a6-1545-4cfb-a34c-f1f81d3870b2",
   "metadata": {},
   "outputs": [
    {
     "name": "stdout",
     "output_type": "stream",
     "text": [
      "Valuation Vector: [25, 15]\n",
      "Valuation Vector: [18, 18]\n",
      "Valuation Vector: [30, 20]\n",
      "Valuation Vector: [30, 30]\n"
     ]
    }
   ],
   "source": [
    "# A. Go through the people.\n",
    "\n",
    "values=[[25,15],[18,18],[30,20],[30,30]]\n",
    "for curVal in values:\n",
    "    print('Valuation Vector:', curVal)"
   ]
  },
  {
   "cell_type": "code",
   "execution_count": 93,
   "id": "699aba6e-4b4d-4f63-bec7-5c373df286ba",
   "metadata": {},
   "outputs": [
    {
     "name": "stdout",
     "output_type": "stream",
     "text": [
      "Buy Product 0\n"
     ]
    }
   ],
   "source": [
    "# B. For each person, figure out what he/she will buy, if anything.\n",
    "\n",
    "curVal = [25,15]\n",
    "priceVector = [25,20]\n",
    "diff=[curVal[0]-priceVector[0], curVal[1]-priceVector[1]]\n",
    "if diff[0]<0 and diff[1]<0:\n",
    "    print('Buy nothing')\n",
    "elif diff[0]>=diff[1]:\n",
    "    print('Buy Product 0')\n",
    "else:\n",
    "    print('Buy Product 1')"
   ]
  },
  {
   "cell_type": "code",
   "execution_count": 91,
   "id": "bace6856-73c4-4b4e-8fd7-8ed14d1182d1",
   "metadata": {},
   "outputs": [
    {
     "data": {
      "text/plain": [
       "[1, 1]"
      ]
     },
     "execution_count": 91,
     "metadata": {},
     "output_type": "execute_result"
    }
   ],
   "source": [
    "# C. Keep a tally of how many people buy each product.\n",
    "\n",
    "total = [0,0]\n",
    "total[0] += 1\n",
    "total[1] += 1\n",
    "total"
   ]
  },
  {
   "cell_type": "markdown",
   "id": "d8c487f9-29f4-4887-a573-9b9690c8996b",
   "metadata": {},
   "source": [
    "**Step 4. Synthesize:** Using the results of Steps 1 and 2, put the code fragments from Step 3 together to create a complete solution. You should do this in an incremental fashion and print intermediate outputs as you go to make sure that each part of the code matches your expectations."
   ]
  },
  {
   "cell_type": "code",
   "execution_count": 99,
   "id": "7accbcce-623a-4a33-a27e-958f953c8a6c",
   "metadata": {},
   "outputs": [
    {
     "name": "stdout",
     "output_type": "stream",
     "text": [
      "Valuation Vector: [25, 15]\n",
      "Valuation Vector: [18, 18]\n",
      "Valuation Vector: [30, 20]\n",
      "Valuation Vector: [30, 30]\n",
      "Buy Product 1\n"
     ]
    },
    {
     "data": {
      "text/plain": [
       "[0, 1]"
      ]
     },
     "execution_count": 99,
     "metadata": {},
     "output_type": "execute_result"
    }
   ],
   "source": [
    "# Version for debugging: with intermediate printing and no function encapsulation\n",
    "\n",
    "# A. Go through the people.\n",
    "\n",
    "values=[[25,15],[18,18],[30,20],[30,30]]\n",
    "priceVector = [25,20]\n",
    "total = [0,0]\n",
    "\n",
    "for curVal in values:\n",
    "    print('Valuation Vector:', curVal)\n",
    "\n",
    "# B. For each person, figure out what he/she will buy, if anything.\n",
    "\n",
    "diff=[curVal[0]-priceVector[0], curVal[1]-priceVector[1]]\n",
    "if diff[0]<0 and diff[1]<0:\n",
    "    print('Buy nothing')\n",
    "elif diff[0]>=diff[1]:\n",
    "    print('Buy Product 0')\n",
    "    total[0] += 1\n",
    "else:\n",
    "    print('Buy Product 1')\n",
    "    total[1] += 1\n",
    "\n",
    "# C. Keep a tally of how many people buy each product.\n",
    "\n",
    "total"
   ]
  },
  {
   "cell_type": "code",
   "execution_count": 101,
   "id": "6c749f1b-2515-4c08-99e3-38529092d674",
   "metadata": {},
   "outputs": [],
   "source": [
    "# Final code (modify the above after it already works)\n",
    "\n",
    "def demand(priceVector, values):\n",
    "    total=[0,0]\n",
    "    for curVal in values:\n",
    "        # print('Valuation Vector:', curVal)\n",
    "        diff=[curVal[0]-priceVector[0], curVal[1]-priceVector[1]]\n",
    "        if diff[0]<0 and diff[1]<0:\n",
    "            #print('Buy nothing')\n",
    "            continue\n",
    "        elif diff[0]>=diff[1]:\n",
    "            #print('Buy Product 0')\n",
    "            total[0] += 1\n",
    "        else:\n",
    "            #print('Buy Product 1')\n",
    "            total[1] += 1\n",
    "    return total"
   ]
  },
  {
   "cell_type": "code",
   "execution_count": 111,
   "id": "f929bde7-ed5d-48d3-8238-3dfecedd6f9a",
   "metadata": {},
   "outputs": [
    {
     "data": {
      "text/plain": [
       "[2, 1]"
      ]
     },
     "execution_count": 111,
     "metadata": {},
     "output_type": "execute_result"
    }
   ],
   "source": [
    "# Test code\n",
    "values=[[25,15],[18,18],[30,20],[30,30]]\n",
    "priceVector=[25,20]\n",
    "demand(priceVector,values)\n",
    "\n",
    "# Output should be: [2, 1]"
   ]
  },
  {
   "cell_type": "code",
   "execution_count": 113,
   "id": "05b4b021-30ad-4d7f-b51b-043b4662cd40",
   "metadata": {
    "tags": []
   },
   "outputs": [
    {
     "data": {
      "text/plain": [
       "[2, 3]"
      ]
     },
     "execution_count": 113,
     "metadata": {},
     "output_type": "execute_result"
    }
   ],
   "source": [
    "# Test code 2\n",
    "values=[[25,15],[18,18],[30,20],[30,30],[20,10],[60,30],[0,20],[30,21]]\n",
    "priceVector=[30,20]\n",
    "demand(priceVector,values)\n",
    "\n",
    "# Output should be: [2, 3]"
   ]
  },
  {
   "cell_type": "markdown",
   "id": "d50d5d3f-d61e-4735-a569-ca90d44024bc",
   "metadata": {},
   "source": [
    "**For Exercise 3.4 and 3.5, you do not have to write out the four steps, but you are encouraged to code on paper first before typing.**\n",
    "\n",
    "## Exercise 3.4: Airline Revenue Management\n",
    "\n",
    "The question asks you to simulate the performance of a common revenue management strategy practiced by airlines for selling seats on a given flight. \n",
    "\n",
    "**Write a function called \"simulateRevenue\" with five input arguments:**\n",
    "\n",
    "- `valueList`: a list of numbers, with each number representing a customer's maximum willingness to pay for a seat in the given flight. The list is ordered according to the sequence in which customers make purchase decisions, with the earlier entries corresponding to customers who try to make purchases earlier than others. \n",
    "- `inventory`: a positive number representing the total number of seats that can be sold on the given flight.\n",
    "- `threshold`: a non-negative number such that as soon as the number of remaining seats is less than or equal to this threshold, then the price changes. \n",
    "- `price1`: the initial price for each seat before the price change described above.\n",
    "- `price2`: the updated price for each seat after the price change.\n",
    "\n",
    "Assume that each customer goes online to purchase the seat in the order as they appear in the list, and each customer buys whenever his/her willingness to pay is greater than or equal to the current price, which is equal to `price1` if the number of unsold tickets is strictly greater than `threshold` and is equal to `price2` if the number of unsold tickets is less than or equal to `threshold`. (The number of unsold tickets is initially equal to `inventory`, before any customer makes a purchase.) **The function should return (not print) the total revenue corresponding to the given parameters.**\n",
    "\n",
    "For example, if `valueList=[50,60,100,20,80,90,80,200,250,100]`, then\n",
    "\n",
    "- `simulateRevenue(valueList, 3, 0, 60, 1)` should return `180` because all 3 tickets are sold at the initial price of 60, since the price change never happens as threshold=0.\n",
    "- `simulateRevenue(valueList, 3, 0, 200, 1)` should return `400` because only 2 people are willing to pay the initial price of 200.\n",
    "- `simulateRevenue(valueList, 3, 1, 60, 200)` should return `320` because seats are sold at 60 each to the customer in position 1 (with willingness to pay 60) and to the customer in position 2 (with willingness to pay 100). At this point, only 1 seat is left, and the price is increased to 200. The next person who buys the last seat is the one in position 7 (with willingness to pay 200). \n",
    "- `simulateRevenue(valueList, 3, 1, 60, 251)` should return `120` because after two seats are sold at price 60, the price increases to 251, and none of the later customers are willing to pay this much. \n",
    "- `simulateRevenue(valueList, 3, 1, 200, 110)` should return `400` because only two customers are willing to pay the initial price of 200. \n",
    "- `simulateRevenue(valueList, 3, 2, 95, 200)` should return `495` because after selling an initial ticket at 95 to the customer in position 2 (with willingness to pay 100), the price becomes 200 and the customers in positions 7 and 8 buy (with willness to pay 200 and 250).\n"
   ]
  },
  {
   "cell_type": "code",
   "execution_count": 119,
   "id": "aaa3dd32-bf8a-4dc4-8fd8-6ad94e1bfdda",
   "metadata": {},
   "outputs": [],
   "source": [
    "# Write your function here\n",
    "\n",
    "def simulateRevenue(valueList, inventory, threshold, price1, price2):\n",
    "    revenue = 0\n",
    "    remaining_seats = inventory\n",
    "    current_price = price1\n",
    "    for value in valueList:\n",
    "        if value >= current_price:\n",
    "            revenue += current_price\n",
    "            remaining_seats -= 1\n",
    "        if remaining_seats <= threshold:\n",
    "            current_price = price2\n",
    "        if remaining_seats <= 0:\n",
    "            break\n",
    "    return revenue"
   ]
  },
  {
   "cell_type": "code",
   "execution_count": 121,
   "id": "5e92b46e-1be0-402b-915a-346dc58969dc",
   "metadata": {},
   "outputs": [
    {
     "data": {
      "text/plain": [
       "180"
      ]
     },
     "execution_count": 121,
     "metadata": {},
     "output_type": "execute_result"
    }
   ],
   "source": [
    "# Sample runs\n",
    "valueList=[50,60,100,20,80,90,80,200,250,100]\n",
    "simulateRevenue(valueList, 3, 0, 60, 1)\n",
    "\n",
    "# Output should be: 180"
   ]
  },
  {
   "cell_type": "code",
   "execution_count": 123,
   "id": "679e60bc-5aa1-4bf1-a1ba-931f5860a5aa",
   "metadata": {},
   "outputs": [
    {
     "data": {
      "text/plain": [
       "400"
      ]
     },
     "execution_count": 123,
     "metadata": {},
     "output_type": "execute_result"
    }
   ],
   "source": [
    "simulateRevenue(valueList, 3, 0, 200, 1)\n",
    "\n",
    "# Output should be: 400"
   ]
  },
  {
   "cell_type": "code",
   "execution_count": 125,
   "id": "b30c2913-b0c7-4b0c-b608-df447ae72bb7",
   "metadata": {},
   "outputs": [
    {
     "data": {
      "text/plain": [
       "320"
      ]
     },
     "execution_count": 125,
     "metadata": {},
     "output_type": "execute_result"
    }
   ],
   "source": [
    "simulateRevenue(valueList, 3, 1, 60, 200)\n",
    "\n",
    "# Output should be: 320"
   ]
  },
  {
   "cell_type": "code",
   "execution_count": 127,
   "id": "46cc835c-4788-4a97-ac41-60ee98127f33",
   "metadata": {},
   "outputs": [
    {
     "data": {
      "text/plain": [
       "120"
      ]
     },
     "execution_count": 127,
     "metadata": {},
     "output_type": "execute_result"
    }
   ],
   "source": [
    "simulateRevenue(valueList, 3, 1, 60, 251)\n",
    "\n",
    "# Output should be: 120"
   ]
  },
  {
   "cell_type": "code",
   "execution_count": 129,
   "id": "4c0a4e7e-dea0-46e8-8303-2412c62af75b",
   "metadata": {},
   "outputs": [
    {
     "data": {
      "text/plain": [
       "400"
      ]
     },
     "execution_count": 129,
     "metadata": {},
     "output_type": "execute_result"
    }
   ],
   "source": [
    "simulateRevenue(valueList, 3, 1, 200, 110)\n",
    "\n",
    "# Output should be: 400"
   ]
  },
  {
   "cell_type": "code",
   "execution_count": 131,
   "id": "bb2039d3-c2c2-4197-a172-54de4c75637f",
   "metadata": {},
   "outputs": [
    {
     "name": "stdout",
     "output_type": "stream",
     "text": [
      "495\n"
     ]
    }
   ],
   "source": [
    "print(simulateRevenue(valueList, 3, 2, 95, 200))\n",
    "\n",
    "# Output should be: 495"
   ]
  },
  {
   "cell_type": "markdown",
   "id": "88844081-a790-4795-b4ef-deb772261f29",
   "metadata": {},
   "source": [
    "## (Optional) Exercise 3.5: Simulating Hospital Diversions\n",
    "\n",
    "Suppose that the hospital has a limited number of ICU beds for Critical patients and regular beds for Non-Critical patients. When not enough ICU beds are available to accommodate all Critical patients, then Critical patients are diverted to regular beds. (Here, diversion means that the patient who was supposed to be assigned to an ICU bed is now assigned to a regular bed.) When not enough regular beds are available, some patients may need to be diverted to facilities outside the hospital. A Non-Critical patient is NOT allowed to occupy an ICU bed, even if there are spare ICU beds but no regular beds available. \n",
    "\n",
    "For simplicity, assume that the diversions in a given week do not affect the number of Critical and Non-Critical patients in later weeks. Moreover, when not enough regular beds are available, Critical patients have priority over Non-Critical patients. \n",
    "\n",
    "**Write a function called \"simulateDiversions\" with four input parameters:**\n",
    "\n",
    "- **critical**: a list corresponding to the number of patients each week exhibiting Critical symptoms.\n",
    "- **nonCritical**: a list corresponding to the number of patients each week exhibiting Non-Critical symptoms.\n",
    "- **ICU**: a positive integer representing the number of ICU beds at the hospital.\n",
    "- **regular**: a positive integer representing the number of regular beds at the hospital.\n",
    "\n",
    "The function should return two numbers: \n",
    "\n",
    "- the average number of patients diverted from ICU beds each week. (These are Critical patients needing an ICU bed but could not get one. This includes Critical patients diverted to regular beds as well as to facilities outside the hospital.)\n",
    "- the average number of patients diverted from regular beds each week. (These are patients who are forced to be transferred to facilities outside the hospital, and may include both Critical and non-Critical patients.)\n",
    "\n",
    "See the following example with 3 ICU beds and 20 regular beds and five weeks of data:\n",
    "\n",
    "| Critical | Non-Critical | ICU Diversions | Regular Diversions |\n",
    "|--|--|--|--|\n",
    "|2|23 |0 | 3|\n",
    "|4|19 | 1 | 0 |\n",
    "|5| 20 |2 | 2 |\n",
    "|1| 24| 0 | 4 |\n",
    "|6| 18| 3 | 1 |\n",
    "\n",
    "In the example, the two numbers returned should be $(0+1+2+0+3)/5=1.2$ and $(3+0+2+4+1)/5=2$. After writing your function, an user should be able to run the following test code without any error."
   ]
  },
  {
   "cell_type": "code",
   "execution_count": 135,
   "id": "6fea507d-f8e3-462b-bd19-b3ac2cb5b7d8",
   "metadata": {},
   "outputs": [],
   "source": [
    "# Write your code below\n",
    "\n",
    "def simulateDiversions(critical, nonCritical, ICU, regular):\n",
    "    total_diverted_ICU = 0\n",
    "    total_diverted_regular = 0\n",
    "    weeks = len(critical)\n",
    "    \n",
    "    for week in range(weeks):\n",
    "        critical_patients = critical[week]\n",
    "        non_critical_patients = nonCritical[week]\n",
    "\n",
    "        diverted_from_ICU = max(0, critical_patients - ICU)\n",
    "        total_diverted_ICU += diverted_from_ICU\n",
    "\n",
    "        total_for_regular = diverted_from_ICU + non_critical_patients\n",
    "        diverted_regular = max(0, total_for_regular - regular)\n",
    "        total_diverted_regular += diverted_regular\n",
    "\n",
    "    avICUDiv = total_diverted_ICU / weeks\n",
    "    avRegularDiv = total_diverted_regular / weeks\n",
    "\n",
    "    return avICUDiv, avRegularDiv"
   ]
  },
  {
   "cell_type": "code",
   "execution_count": 137,
   "id": "d17cc8ae-8c9d-4438-8ea8-8808e22f3113",
   "metadata": {},
   "outputs": [
    {
     "name": "stdout",
     "output_type": "stream",
     "text": [
      "The average number of ICU vDiversions is 1.2.\n",
      "The average number of Regular Diversions is 2.0.\n"
     ]
    }
   ],
   "source": [
    "critical=[2,4,5,1,6]\n",
    "nonCritical=[23,19,20,24,18]\n",
    "avICUDiv,avRegularDiv=simulateDiversions(critical,nonCritical,3,20)\n",
    "print(f'The average number of ICU vDiversions is {avICUDiv}.')\n",
    "print(f'The average number of Regular Diversions is {avRegularDiv}.')\n",
    "\n",
    "# Output should be:\n",
    "# The average number of ICU vDiversions is 1.2.\n",
    "# The average number of Regular Diversions is 2.0."
   ]
  },
  {
   "cell_type": "code",
   "execution_count": 149,
   "id": "6d57e87f-7f7b-4df8-88c0-b6714ca079fe",
   "metadata": {},
   "outputs": [
    {
     "name": "stdout",
     "output_type": "stream",
     "text": [
      "The average number of ICU vDiversions is 0.25.\n",
      "The average number of Regular Diversions is 0.75.\n"
     ]
    }
   ],
   "source": [
    "avICUDiv,avRegularDiv=simulateDiversions([3,0,0,1,2,3,1,0],[0,5,3,6,0,0,10,2],2,5)\n",
    "print(f'The average number of ICU vDiversions is {avICUDiv}.')\n",
    "print(f'The average number of Regular Diversions is {avRegularDiv}.')\n",
    "\n",
    "# Output should be:\n",
    "# The average number of ICU vDiversions is 0.25.\n",
    "# The average number of Regular Diversions is 0.75."
   ]
  },
  {
   "cell_type": "code",
   "execution_count": 151,
   "id": "57776e92-7d14-4221-b80b-62c15fe87795",
   "metadata": {
    "tags": []
   },
   "outputs": [
    {
     "name": "stdout",
     "output_type": "stream",
     "text": [
      "The average number of ICU vDiversions is 0.25.\n",
      "The average number of Regular Diversions is 0.5.\n"
     ]
    }
   ],
   "source": [
    "avICUDiv,avRegularDiv=simulateDiversions([3,0,0,1,2,3,1,0],[0,5,3,6,0,0,10,2],2,6)\n",
    "print(f'The average number of ICU vDiversions is {avICUDiv}.')\n",
    "print(f'The average number of Regular Diversions is {avRegularDiv}.')\n",
    "\n",
    "# Output should be:\n",
    "# The average number of ICU vDiversions is 0.25.\n",
    "# The average number of Regular Diversions is 0.5."
   ]
  },
  {
   "cell_type": "code",
   "execution_count": 153,
   "id": "bf8d2522-b264-4544-a5e7-28a5f7c6dd17",
   "metadata": {
    "tags": []
   },
   "outputs": [
    {
     "name": "stdout",
     "output_type": "stream",
     "text": [
      "The average number of ICU vDiversions is 0.625.\n",
      "The average number of Regular Diversions is 1.125.\n"
     ]
    }
   ],
   "source": [
    "avICUDiv,avRegularDiv=simulateDiversions([3,0,0,1,2,3,1,0],[0,5,3,6,0,0,10,2],1,4)\n",
    "print(f'The average number of ICU vDiversions is {avICUDiv}.')\n",
    "print(f'The average number of Regular Diversions is {avRegularDiv}.')\n",
    "\n",
    "# Output should be:\n",
    "# The average number of ICU vDiversions is 0.625.\n",
    "# The average number of Regular Diversions is 1.125."
   ]
  }
 ],
 "metadata": {
  "kernelspec": {
   "display_name": "Python 3 (ipykernel)",
   "language": "python",
   "name": "python3"
  },
  "language_info": {
   "codemirror_mode": {
    "name": "ipython",
    "version": 3
   },
   "file_extension": ".py",
   "mimetype": "text/x-python",
   "name": "python",
   "nbconvert_exporter": "python",
   "pygments_lexer": "ipython3",
   "version": "3.12.4"
  }
 },
 "nbformat": 4,
 "nbformat_minor": 5
}
