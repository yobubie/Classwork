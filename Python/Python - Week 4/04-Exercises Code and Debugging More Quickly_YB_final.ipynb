{
 "cells": [
  {
   "cell_type": "markdown",
   "id": "55ebc4d3-fe4a-4011-815b-f3006cf2ad98",
   "metadata": {},
   "source": [
    "# Exercises for Week 4: Coding and Debugging More Quickly"
   ]
  },
  {
   "cell_type": "markdown",
   "id": "ab4de8b4-d1f4-4f64-96e5-e785f79810d3",
   "metadata": {},
   "source": [
    "## Name: Yongbum Kim"
   ]
  },
  {
   "cell_type": "markdown",
   "id": "75c2542f-e790-427c-9497-e3ff0cebf524",
   "metadata": {},
   "source": [
    "## Grading Scheme:\n",
    "\n",
    "- **3 (Essentially perfect)**: All required questions have a complete solution and all outputs are essentially correct based on the sample outputs.\n",
    "- **2 (Solid effort)**: Several required questions may be incomplete or the outputs incorrect, but at least two thirds has a correct solution.\n",
    "- **1 (Some effort)**: Between one third and two thirds of the required questions have a correct solution.\n",
    "- **0 (No submission or essentially blank)**: No submission on Brightspace by the deadline, or less than one third of the required questions have a correct solution.\n",
    "\n",
    "Every question is required unless it is marked with \"(optional)\". **To ensure that you get 3 out of 3, before you submit, restart the Kernel and run all, and check that all of the outputs match the sample outputs from the PDF version of the exercises. You need to develop the habit of meticulously checking your outputs in order to ensure the best grade.** I will not count minor formating, rounding, or importing issues, but otherwise your output should match the sample outputs exactly when rerun.  The weekly exercises are intended to be completed in 4-5 hours, excluding class time. You should budget at least this much time per week for these exercises.\n",
    "\n",
    "**After you submit, download the .ipynb file you uploaded to Brightspace and double check that you uploaded the correct file, and that every question has been properly saved! Do not assume that Jupyter will save automatically for you.**"
   ]
  },
  {
   "cell_type": "markdown",
   "id": "89decb34-88d0-459a-a68c-306b79fb9d3a",
   "metadata": {},
   "source": [
    "## Exercise 4.1: Practicing Debugging\n",
    "\n",
    "**In the following, you should try to make the code correct using as few changes as possible, after figuring out the errors using code dissection and print debugging.** Do not rewrite the code from scratch or copy/paste a correct solution. Refer to previous weeks' handouts for the instructions to these exercises.\n"
   ]
  },
  {
   "cell_type": "markdown",
   "id": "e11fcaf6-7a10-435b-ae3a-8255d1cb282c",
   "metadata": {},
   "source": [
    "### a) Attempt for the \"Referral Marketing\" Example from Week 2"
   ]
  },
  {
   "cell_type": "code",
   "execution_count": null,
   "id": "8ccbf347-b060-4fdb-b5b0-40a4b6b4ffd1",
   "metadata": {},
   "outputs": [],
   "source": [
    "# Code to debug\n",
    "def buyer(nmonths):\n",
    "    \n",
    "    buyers=[1]\n",
    "    for n in nmonths:\n",
    "        buyers = buyers[-1]+buyers[-2]\n",
    "    return buyers[-1]"
   ]
  },
  {
   "cell_type": "code",
   "execution_count": 8,
   "id": "f591201c-630e-4992-bb0b-640f928c980b",
   "metadata": {},
   "outputs": [
    {
     "name": "stdout",
     "output_type": "stream",
     "text": [
      "Buyers\n",
      "[0, 1]\n",
      "[0, 1, 1]\n",
      "[0, 1, 1, 2]\n",
      "[0, 1, 1, 2, 3]\n",
      "[0, 1, 1, 2, 3, 5]\n",
      "[0, 1, 1, 2, 3, 5, 8]\n",
      "[0, 1, 1, 2, 3, 5, 8, 13]\n",
      "[0, 1, 1, 2, 3, 5, 8, 13, 21]\n",
      "[0, 1, 1, 2, 3, 5, 8, 13, 21, 34]\n",
      "[0, 1, 1, 2, 3, 5, 8, 13, 21, 34, 55]\n",
      "[0, 1, 1, 2, 3, 5, 8, 13, 21, 34, 55, 89]\n",
      "[0, 1, 1, 2, 3, 5, 8, 13, 21, 34, 55, 89, 144]\n",
      "[0, 1, 1, 2, 3, 5, 8, 13, 21, 34, 55, 89, 144, 233]\n"
     ]
    },
    {
     "data": {
      "text/plain": [
       "233"
      ]
     },
     "execution_count": 8,
     "metadata": {},
     "output_type": "execute_result"
    }
   ],
   "source": [
    "nmonths = 12\n",
    "buyers=[0,1]\n",
    "print('Buyers')\n",
    "print(buyers)\n",
    "\n",
    "for n in range(nmonths):\n",
    "    buyers.append(buyers[-1]+buyers[-2])\n",
    "    print(buyers)\n",
    "buyers[-1]"
   ]
  },
  {
   "cell_type": "code",
   "execution_count": 10,
   "id": "7f13a9ff-3d5d-4632-a4cf-69c7ba8a7662",
   "metadata": {},
   "outputs": [
    {
     "data": {
      "text/plain": [
       "233"
      ]
     },
     "execution_count": 10,
     "metadata": {},
     "output_type": "execute_result"
    }
   ],
   "source": [
    "nmonths = 12\n",
    "buyers=[0,1]\n",
    "# print('Buyers')\n",
    "# print(buyers)\n",
    "\n",
    "for n in range(nmonths):\n",
    "    buyers.append(buyers[-1]+buyers[-2])\n",
    "    # print(buyers)\n",
    "buyers[-1]"
   ]
  },
  {
   "cell_type": "code",
   "execution_count": 2,
   "id": "34b368aa-ef90-48b0-a221-dcfe79711283",
   "metadata": {},
   "outputs": [],
   "source": [
    "# Corrected code\n",
    "\n",
    "def buyer(nmonths):\n",
    "    buyers=[0,1]\n",
    "    # print('Buyers')\n",
    "    # print(buyers)\n",
    "    for n in range(nmonths):\n",
    "        buyers.append(buyers[-1]+buyers[-2])\n",
    "        # print(buyers)\n",
    "    return buyers[-1]"
   ]
  },
  {
   "cell_type": "code",
   "execution_count": 4,
   "id": "b9cb7c0e-3819-4586-9f0e-7076b1bf8c07",
   "metadata": {},
   "outputs": [
    {
     "data": {
      "text/plain": [
       "233"
      ]
     },
     "execution_count": 4,
     "metadata": {},
     "output_type": "execute_result"
    }
   ],
   "source": [
    "# Test code\n",
    "buyer(12)"
   ]
  },
  {
   "cell_type": "markdown",
   "id": "7f8c985d-f1ce-4ecf-8d93-b5502b9c75a0",
   "metadata": {},
   "source": [
    "### b) Attempt for the \"Epidemic Capacity Planning\" Example from Week 3"
   ]
  },
  {
   "cell_type": "code",
   "execution_count": 32,
   "id": "aa6ff75d-f8da-44dd-9cb8-ad148749498b",
   "metadata": {},
   "outputs": [],
   "source": [
    "# Code to debug\n",
    "def capacityNeeded(arrivals):\n",
    "    maxdemand=[arrivals[0]]\n",
    "    week=0\n",
    "    for i in range(0,(len(arrivals))):\n",
    "        week+=1\n",
    "        if i>=2:\n",
    "            demand=arrivals[i]+arrivals[i-1]+arrivals[i-2]\n",
    "        if i>=1:\n",
    "            demand=arrivals[i]+arrivals[i-1]\n",
    "     #   else:\n",
    "    #      demand=arrivals[i]\n",
    "        if maxdemand<demand:\n",
    "            maxdemand=demand\n",
    "    print(maxdemand)"
   ]
  },
  {
   "cell_type": "code",
   "execution_count": 8,
   "id": "13f92666-2e62-44de-9d30-1e3876840b8a",
   "metadata": {},
   "outputs": [
    {
     "name": "stdout",
     "output_type": "stream",
     "text": [
      "i\tWeek\tArrival\tDemand\tMax Demand\n",
      "0\t1\t5\t5\t5\n",
      "1\t2\t8\t13\t13\n",
      "2\t3\t3\t11\t13\n",
      "3\t4\t10\t13\t13\n",
      "4\t5\t7\t17\t17\n",
      "5\t6\t4\t11\t17\n",
      "6\t7\t9\t13\t17\n",
      "7\t8\t5\t14\t17\n",
      "8\t9\t8\t13\t17\n",
      "17\n"
     ]
    }
   ],
   "source": [
    "arrivals=[5,8,3,10,7,4,9,5,8]\n",
    "\n",
    "demand=5\n",
    "maxdemand=0\n",
    "week=0\n",
    "print('i\\tWeek\\tArrival\\tDemand\\tMax Demand')\n",
    "for i in range(0,(len(arrivals))):\n",
    "    week+=1\n",
    "    if i>=2:\n",
    "        demand=arrivals[i]+arrivals[i-1]+arrivals[i-2]\n",
    "    if i>=1:\n",
    "        demand=arrivals[i]+arrivals[i-1]\n",
    "    else:\n",
    "        demand=arrivals[i]\n",
    "    if maxdemand<demand:\n",
    "        maxdemand=demand\n",
    "    print(f'{i}\\t{week}\\t{arrivals[i]}\\t{demand}\\t{maxdemand}')\n",
    "print(maxdemand)"
   ]
  },
  {
   "cell_type": "code",
   "execution_count": 10,
   "id": "df7cc0b0-3caa-48d8-b0c9-6618a135186f",
   "metadata": {},
   "outputs": [
    {
     "name": "stdout",
     "output_type": "stream",
     "text": [
      "i\tWeek\tArrival\tDemand\tMax Demand\n",
      "0\t1\t5\t5\t5\n",
      "1\t2\t8\t13\t13\n",
      "2\t3\t3\t16\t16\n",
      "3\t4\t10\t21\t21\n",
      "4\t5\t7\t20\t21\n",
      "5\t6\t4\t21\t21\n",
      "6\t7\t9\t20\t21\n",
      "7\t8\t5\t18\t21\n",
      "8\t9\t8\t22\t22\n",
      "22\n"
     ]
    }
   ],
   "source": [
    "arrivals=[5,8,3,10,7,4,9,5,8]\n",
    "\n",
    "demand=5\n",
    "maxdemand=0\n",
    "week=0\n",
    "print('i\\tWeek\\tArrival\\tDemand\\tMax Demand')\n",
    "for i in range(0,(len(arrivals))):\n",
    "    week+=1\n",
    "    if i>=2:\n",
    "        demand=arrivals[i]+arrivals[i-1]+arrivals[i-2]\n",
    "    elif i>=1:\n",
    "        demand=arrivals[i]+arrivals[i-1]\n",
    "    else:\n",
    "        demand=arrivals[i]\n",
    "    if maxdemand<demand:\n",
    "        maxdemand=demand\n",
    "    print(f'{i}\\t{week}\\t{arrivals[i]}\\t{demand}\\t{maxdemand}')\n",
    "print(maxdemand)"
   ]
  },
  {
   "cell_type": "code",
   "execution_count": 12,
   "id": "adb95b09-9481-4219-8e74-216194418008",
   "metadata": {},
   "outputs": [],
   "source": [
    "# Corrected code with intermediate printing, as in the outputs below.\n",
    "\n",
    "def capacityNeeded(arrivals):\n",
    "    maxdemand=0\n",
    "    week=0\n",
    "    print('Week\\tArrivals\\tDemand\\tMax Demand')\n",
    "    for i in range(0,(len(arrivals))):\n",
    "        week+=1\n",
    "        if i>=2:\n",
    "            demand=arrivals[i]+arrivals[i-1]+arrivals[i-2]\n",
    "        elif i>=1:\n",
    "            demand=arrivals[i]+arrivals[i-1]\n",
    "        else:\n",
    "            demand=arrivals[i]\n",
    "        if maxdemand<demand:\n",
    "            maxdemand=demand\n",
    "        print(f'{week}\\t{arrivals[i]}\\t{demand}\\t{maxdemand}')\n",
    "    return maxdemand"
   ]
  },
  {
   "cell_type": "code",
   "execution_count": 14,
   "id": "3ced9e4e-217b-4396-a7de-ce4ff5202e98",
   "metadata": {},
   "outputs": [
    {
     "name": "stdout",
     "output_type": "stream",
     "text": [
      "Week\tArrivals\tDemand\tMax Demand\n",
      "1\t5\t5\t5\n",
      "2\t8\t13\t13\n",
      "3\t3\t16\t16\n",
      "4\t10\t21\t21\n",
      "5\t7\t20\t21\n",
      "6\t4\t21\t21\n",
      "7\t9\t20\t21\n",
      "8\t5\t18\t21\n",
      "9\t8\t22\t22\n",
      "Capacity Needed: 22\n"
     ]
    }
   ],
   "source": [
    "# Test code 1\n",
    "arrivals=[5,8,3,10,7,4,9,5,8]\n",
    "print('Capacity Needed:',capacityNeeded(arrivals))"
   ]
  },
  {
   "cell_type": "code",
   "execution_count": 16,
   "id": "61cd3ac2-d255-41c3-ab2c-ff37d75a291c",
   "metadata": {},
   "outputs": [
    {
     "name": "stdout",
     "output_type": "stream",
     "text": [
      "Week\tArrivals\tDemand\tMax Demand\n",
      "1\t5\t5\t5\n",
      "2\t8\t13\t13\n",
      "3\t3\t16\t16\n",
      "4\t10\t21\t21\n",
      "5\t6\t19\t21\n",
      "6\t11\t27\t27\n",
      "7\t9\t26\t27\n",
      "8\t12\t32\t32\n",
      "9\t15\t36\t36\n",
      "10\t9\t36\t36\n",
      "11\t5\t29\t36\n",
      "12\t7\t21\t36\n"
     ]
    },
    {
     "data": {
      "text/plain": [
       "36"
      ]
     },
     "execution_count": 16,
     "metadata": {},
     "output_type": "execute_result"
    }
   ],
   "source": [
    "# Test code 2\n",
    "capacityNeeded([5,8,3,10,6,11,9,12,15,9,5,7])"
   ]
  },
  {
   "cell_type": "markdown",
   "id": "12e65391-76fc-4282-ba13-b21dab73df02",
   "metadata": {},
   "source": [
    "### c) Attempt for Exercise 3.2: Demand Estimation for Substitutable Products"
   ]
  },
  {
   "cell_type": "code",
   "execution_count": null,
   "id": "0396d62e-0246-487d-9979-4edc2380698d",
   "metadata": {},
   "outputs": [],
   "source": [
    "def demand(priceVector,values):\n",
    "    for i in values:\n",
    "        product1=[]\n",
    "        product2=[]\n",
    "        diff0=values[0]-priceVector[0]\n",
    "        diff1=values[1]-priceVector[1]\n",
    "        if diff0<0 and diff1<0:\n",
    "            continue\n",
    "        elif diff0>=diff1:\n",
    "            product1.append(1)\n",
    "        else:\n",
    "            product2.append(1)\n",
    "        totalproduct=product1+product2\n",
    "        return totalproduct"
   ]
  },
  {
   "cell_type": "code",
   "execution_count": 18,
   "id": "ad5b6eb6-82e2-4005-bb4b-a83c9bb4f92c",
   "metadata": {},
   "outputs": [
    {
     "name": "stdout",
     "output_type": "stream",
     "text": [
      "Valuation Vector: [25, 15]\n",
      "Difference between Valuation Vector and Price Vector: [0, -5]\n",
      "Customer purchasing each product: [1, 0]\n",
      "Valuation Vector: [18, 18]\n",
      "Difference between Valuation Vector and Price Vector: [-7, -2]\n",
      "Customer purchasing each product: Buy nothing\n",
      "Valuation Vector: [30, 20]\n",
      "Difference between Valuation Vector and Price Vector: [5, 0]\n",
      "Customer purchasing each product: [2, 0]\n",
      "Valuation Vector: [30, 30]\n",
      "Difference between Valuation Vector and Price Vector: [5, 10]\n",
      "Customer purchasing each product: [2, 1]\n",
      "Number of customers purchasing each product: [2, 1]\n"
     ]
    }
   ],
   "source": [
    "values=[[25,15],[18,18],[30,20],[30,30]]\n",
    "priceVector = [25,20]\n",
    "\n",
    "totalproduct=[0,0]\n",
    "\n",
    "for value in values:\n",
    "    print('Valuation Vector:', value)\n",
    "    diff=[value[0]-priceVector[0], value[1]-priceVector[1]]\n",
    "    print('Difference between Valuation Vector and Price Vector:', diff)\n",
    "    if diff[0]<0 and diff[1]<0:\n",
    "        print('Customer purchasing each product: Buy nothing')\n",
    "        continue\n",
    "    elif diff[0]>=diff[1]:\n",
    "        totalproduct[0] += 1\n",
    "    else:\n",
    "        totalproduct[1] += 1\n",
    "    print(f'Customer purchasing each product:', totalproduct)\n",
    "print('Number of customers purchasing each product:', totalproduct)"
   ]
  },
  {
   "cell_type": "code",
   "execution_count": 20,
   "id": "0acd1be2-add3-4985-a5c9-5acbcf0928b8",
   "metadata": {},
   "outputs": [],
   "source": [
    "# Corrected code\n",
    "\n",
    "def demand(priceVector, values):\n",
    "    total=[0,0]\n",
    "    for value in values:\n",
    "        diff=[value[0]-priceVector[0], value[1]-priceVector[1]]\n",
    "        if diff[0]<0 and diff[1]<0:\n",
    "            continue\n",
    "        elif diff[0]>=diff[1]:\n",
    "            total[0] += 1\n",
    "        else:\n",
    "            total[1] += 1\n",
    "    return total"
   ]
  },
  {
   "cell_type": "code",
   "execution_count": 22,
   "id": "f94132a9-a0f0-4818-b853-bd5dd4251d02",
   "metadata": {},
   "outputs": [
    {
     "data": {
      "text/plain": [
       "[2, 1]"
      ]
     },
     "execution_count": 22,
     "metadata": {},
     "output_type": "execute_result"
    }
   ],
   "source": [
    "# Test code 1\n",
    "values=[[25,15],[18,18],[30,20],[30,30]]\n",
    "priceVector=[25,20]\n",
    "demand(priceVector,values)\n",
    "\n",
    "# Output should be: [2, 1]"
   ]
  },
  {
   "cell_type": "code",
   "execution_count": 24,
   "id": "f0fe5ae9-9055-416a-84aa-088f9fc7d86d",
   "metadata": {},
   "outputs": [
    {
     "data": {
      "text/plain": [
       "[3, 2]"
      ]
     },
     "execution_count": 24,
     "metadata": {},
     "output_type": "execute_result"
    }
   ],
   "source": [
    "# Test code 2\n",
    "values=[[25,15],[18,18],[25,20],[25,35],[18,20],[26,21]]\n",
    "priceVector=[25,20]\n",
    "demand(priceVector,values)\n",
    "\n",
    "# Output should be: [3, 2]"
   ]
  },
  {
   "cell_type": "markdown",
   "id": "3e3b1b4e-281f-402d-a335-162d9b6dd2b9",
   "metadata": {},
   "source": [
    "## Exercise 4.2: Grocery Store Restocking\n",
    "\n",
    "This question asks you to make a tool that helps a grocery store to analyze their policy for restocking shelves for a certain non-perishable item. Write a function called `analyzeScenario` with three input parameters:\n",
    "\n",
    "- `demandList`: a non-empty list of non-negative integers representing the forecasted daily demand for the item, corresponding to a period of consecutive days. The number of days is `len(demandList)`.\n",
    "- `stockingLevel`: a positive integer representing the maximum number of units that the store will stock on its shelves at any time.\n",
    "- `minimumLevel`: a non-negative integer representing the minimum number of units on the shelves that the store can tolerate without restocking. \n",
    "\n",
    "Assume that the store makes its stocking decision at the end of each day after closing. If the leftover inventory on the shelf at the end of a day is strictly below the \"minimumLevel\", then the store will restock to a full shelf, and the inventory at the beginning of the next day will be equal to \"stockingLevel\". If the leftover inventory at the end of a day is greater than or equal to \"minimumLevel\", then the store will not add anything to the shelf, and the inventory at the beginning of the next day will be the same as the leftover inventory. On the first day, the shelf is full, so the inventory level is equal to \"stockingLevel\".\n",
    "\n",
    "Your function should print (not return) the number of times it would decide to restock during the period represented by the input data. \n",
    "\n",
    "For example, the sample run\n",
    "```python\n",
    "analyzeScenario([3,4,2,5,15,3,9,3,1,3,9],10,3)\n",
    "```\n",
    "should result in exactly the following message printed to screen.\n",
    "```\n",
    "The store needs to restock 4 times.\n",
    "```\n",
    "The following table illustrates the inventory dynamics.\n",
    "\n",
    "| Beginning Inventory | Demand |   Leftover Inventory | Restock? |\n",
    "|--|--|--|--|\n",
    "|10|3 |7 |No |\n",
    "|7 |4 |3 |No |\n",
    "|3 |2 |1 | Yes |\n",
    "|10|5 |5 | No |\n",
    "| 5|15|0 |Yes |\n",
    "|10|3|7 | No|\n",
    "|7|9 | 0 | Yes |\n",
    "|10|3| 7 | No |\n",
    "|7 |1 | 6 | No |\n",
    "|6 | 3|  3 | No |\n",
    "|3 | 9 |  0 | Yes |\n",
    "|**# of times to restock:**|` `|` `| **4**|\n",
    "\n",
    "Note that if demand is greater than the beginning inventory, the leftover inventory is zero. Otherwise, the leftover inventory is equal to the beginning inventory minus the demand. The final answer (the number of times to restock) is equal to the number of Yes's in the last column of the table.\n",
    "\n",
    "**Sample run 2:**\n",
    "```python\n",
    "analyzeScenario([3,4,2,5,15,3,9,3,1,3,9],9,3)\n",
    "```\n",
    "\n",
    "The printed message should be exactly as below:\n",
    "```\n",
    "The store needs to restock 6 times.\n",
    "\n",
    "```\n",
    "\n",
    "**Sample run 3:**\n",
    "```python\n",
    "analyzeScenario([8,3,2,6,9,3,5,2,9,10],9,5)\n",
    "```\n",
    "\n",
    "The printed message should be exactly as below:\n",
    "\n",
    "```\n",
    "The store needs to restock 7 times.\n",
    "\n",
    "```\n",
    "\n",
    "**Solve this problem by applying the four steps of algorithmic thinking.**"
   ]
  },
  {
   "cell_type": "markdown",
   "id": "4877534b-3cef-40c4-ac11-39b65e9a70dd",
   "metadata": {},
   "source": [
    "**Step 1. Understand** (Write your summary of the task in this cell:)\n",
    "\n",
    "Calculate the number of restocks when the stocking level is less than the minimum level."
   ]
  },
  {
   "cell_type": "markdown",
   "id": "012d1ec5-ddb7-4e38-9696-5a0d0b3787c4",
   "metadata": {},
   "source": [
    "**Step 2. Decompose** (Write your instructions in this Markdown cell)\n",
    "\n",
    "A. Iterate through the remaining inventory in the given demand.\n",
    "\n",
    "B. Calculate the number of restock for each given demand: compare the value of remaining inventory and minimum level, and restock when the remaining inventory is less than the minimum level. Add 1 in a restock when restocking."
   ]
  },
  {
   "cell_type": "markdown",
   "id": "8a500fad-a93e-41c2-8381-de84f40e1a5f",
   "metadata": {},
   "source": [
    "**Step 3. Analyze** (Write code fragments in separate code cells to implement the trickiest steps)"
   ]
  },
  {
   "cell_type": "code",
   "execution_count": 103,
   "id": "85741234-8799-40b6-bc6d-f749cc4ad817",
   "metadata": {},
   "outputs": [],
   "source": [
    "demandList = [3,4,2,5,15,3,9,3,1,3,9]\n",
    "stockingLevel = 10\n",
    "minimumLevel = 3\n",
    "\n",
    "# A. Iterate through the remaining inventory in the given demand.\n",
    "\n",
    "remaining_inventory = stockingLevel\n",
    "\n",
    "for demand in demandList:\n",
    "    remaining_inventory -= demand"
   ]
  },
  {
   "cell_type": "code",
   "execution_count": 105,
   "id": "49b93003-21c8-42ec-9fd2-cc069dac4482",
   "metadata": {},
   "outputs": [],
   "source": [
    "# B. Calculate the number of restock for each given demand: compare the value of remaining inventory and minimum level, and restock when the remaining inventory is less than the minimum level. Add 1 in a restock when restocking.\n",
    "\n",
    "restock = 0\n",
    "\n",
    "if remaining_inventory < minimumLevel:\n",
    "    remaining_inventory = stockingLevel\n",
    "    restock += 1"
   ]
  },
  {
   "cell_type": "markdown",
   "id": "544fefdc-c7e6-4f57-add1-95d75b23877e",
   "metadata": {},
   "source": [
    "**Step 4. Synthesize** (Combine your code fragments from Step 3, but do so in an incremental fashion and print intermediate results)"
   ]
  },
  {
   "cell_type": "code",
   "execution_count": 26,
   "id": "1e3c7940-e1c7-4155-810a-b6bb6dcdb559",
   "metadata": {
    "tags": []
   },
   "outputs": [
    {
     "name": "stdout",
     "output_type": "stream",
     "text": [
      "4\n"
     ]
    }
   ],
   "source": [
    "# Code with intermediate printing\n",
    "\n",
    "demandList = [3,4,2,5,15,3,9,3,1,3,9]\n",
    "stockingLevel = 10\n",
    "minimumLevel = 3\n",
    "\n",
    "remaining_inventory = stockingLevel\n",
    "restock = 0\n",
    "\n",
    "for demand in demandList:\n",
    "    remaining_inventory -= demand\n",
    "    if remaining_inventory < minimumLevel:\n",
    "        remaining_inventory = stockingLevel\n",
    "        restock += 1\n",
    "\n",
    "print(restock)"
   ]
  },
  {
   "cell_type": "code",
   "execution_count": 28,
   "id": "68d1aaed-0f3e-42cd-9d46-c9baa91c6808",
   "metadata": {
    "tags": []
   },
   "outputs": [],
   "source": [
    "# Final code\n",
    "\n",
    "def analyzeScenario(demandList, stockingLevel, minimumLevel):\n",
    "    remaining_inventory = stockingLevel\n",
    "    restock = 0\n",
    "    \n",
    "    for demand in demandList:\n",
    "        remaining_inventory -= demand\n",
    "        if remaining_inventory < minimumLevel:\n",
    "            remaining_inventory = stockingLevel\n",
    "            restock += 1\n",
    "    print(f'The store needs to restock {restock} times.')"
   ]
  },
  {
   "cell_type": "code",
   "execution_count": 30,
   "id": "8cec1fcf-8db2-4988-8f68-29e26a35ece1",
   "metadata": {
    "tags": []
   },
   "outputs": [
    {
     "name": "stdout",
     "output_type": "stream",
     "text": [
      "The store needs to restock 4 times.\n"
     ]
    }
   ],
   "source": [
    "# Sample run 1\n",
    "analyzeScenario([3,4,2,5,15,3,9,3,1,3,9],10,3)\n",
    "\n",
    "# Output should be: The store needs to restock 4 times."
   ]
  },
  {
   "cell_type": "code",
   "execution_count": 32,
   "id": "eb20686e-5fe8-48c9-9db7-eceb91aa0581",
   "metadata": {
    "tags": []
   },
   "outputs": [
    {
     "name": "stdout",
     "output_type": "stream",
     "text": [
      "The store needs to restock 6 times.\n"
     ]
    }
   ],
   "source": [
    "# Sample run 2\n",
    "analyzeScenario([3,4,2,5,15,3,9,3,1,3,9],9,3)\n",
    "\n",
    "# Output should be: The store needs to restock 6 times."
   ]
  },
  {
   "cell_type": "code",
   "execution_count": 34,
   "id": "7ee03d4c-a210-4ee9-8da9-c804d21d0daf",
   "metadata": {
    "tags": []
   },
   "outputs": [
    {
     "name": "stdout",
     "output_type": "stream",
     "text": [
      "The store needs to restock 7 times.\n"
     ]
    }
   ],
   "source": [
    "# Sample run 3\n",
    "analyzeScenario([8,3,2,6,9,3,5,2,9,10],9,5)\n",
    "\n",
    "# Output should be: The store needs to restock 7 times."
   ]
  },
  {
   "cell_type": "markdown",
   "id": "8ecfee96-90d7-49d3-a2de-e143428b0e1d",
   "metadata": {},
   "source": [
    "## Exercise 4.3: Demand Estimation with $n$ Substitutable Products\n",
    "\n",
    "This exercise generalizes Exercise 3.3 to $n$ products, where $n$ is any positive integer.\n",
    "\n",
    "Write a function called `demand` with two input arguments:\n",
    "\n",
    "- `prices`: a list of $n$ prices, one for each product. \n",
    "- `values`: a list in which each element represents a customer's valuations for the $n$ products. The valuations is a list of length $n$, which corresponds to the customer's willingness to pay for each of the $n$ products.\n",
    "\n",
    "The function should return a list of length $n$ representing the number of each product sold. You should assume that each customer:\n",
    "\n",
    "- Does not purchase anything if his/her valuation for each product is strictly less than its price.\n",
    "- Otherwise, purchase the product in which the difference between his/her valuation and the price is the largest. When there is a tie, the customer will purchase the product with the smaller index. \n",
    "\n",
    "For example, if `prices=[10,8,12]`, then\n",
    "\n",
    "- A customer with valuations `[9,7,11]` purchases nothing.\n",
    "- A customer with valuations `[10,8,12]` purchases product 1.\n",
    "- A customer with valuations `[9,8,12]` purchases product 2.\n",
    "- A customer with valuations `[9,8,13]` purchases product 3.\n",
    "\n",
    "**Sample run 1:**\n",
    "\n",
    "```python\n",
    "prices=[10,8,12]\n",
    "values=[[9,7,11],[10,8,12],[9,8,12],[9,8,13]]\n",
    "ans=demand(prices,values)\n",
    "for i in range(len(prices)):\n",
    "    print(f'Demand for product {i+1}:',ans[i])\n",
    "```\n",
    "\n",
    "**Correct output:**\n",
    "\n",
    "```\n",
    "Demand for product 1: 1\n",
    "Demand for product 2: 1\n",
    "Demand for product 3: 1\n",
    "```\n",
    "\n",
    "**Sample run 2:**\n",
    "\n",
    "```python\n",
    "prices=[20,15,30]\n",
    "values=[[30,30,20],[40,10,15],[18,13,29],[40,30,50],[10,30,50],[10,10,10],[20,15,30]]\n",
    "ans=demand(prices,values)\n",
    "for i in range(len(prices)):\n",
    "    print(f'Demand for product {i+1}:',ans[i])\n",
    "   ```\n",
    "   \n",
    "**Correct output:**\n",
    "\n",
    "```\n",
    "Demand for product 1: 3\n",
    "Demand for product 2: 1\n",
    "Demand for product 3: 1\n",
    "```\n",
    "\n",
    "**Solve this problem by applying the four steps of algorithmic thinking.**"
   ]
  },
  {
   "cell_type": "markdown",
   "id": "e64ffbfc-9cb7-4901-b0d5-52f4480bceb8",
   "metadata": {},
   "source": [
    "**Step 1. Understand** (Write your summary of the task in this cell:)\n",
    "\n",
    "Count how many customers will purchase each product, based on the given willingness to pay and prices."
   ]
  },
  {
   "cell_type": "markdown",
   "id": "ab347dd9-96e1-4001-890f-d21d99fe2449",
   "metadata": {},
   "source": [
    "**Step 2. Decompose** (Write your instructions in this Markdown cell)\n",
    "\n",
    "A. Loop through the value in the values.\n",
    "\n",
    "B. Calculate the diffence between value and price for each product.\n",
    "\n",
    "C. Figure out which product a given customer will purchase. 1) To purchase a product, the price should be less or equal to the value. 2) The product with the difference between value and price is the largest 3) When there is a tie, the customer will purchase the product with the smaller index. Keep track of the number of customers who purchased each product."
   ]
  },
  {
   "cell_type": "markdown",
   "id": "91b5c999-ad42-4faf-a00e-1b39d9cb1b26",
   "metadata": {},
   "source": [
    "**Step 3. Analyze** (Write code fragments in separate code cells to implement the trickiest steps)"
   ]
  },
  {
   "cell_type": "code",
   "execution_count": 36,
   "id": "b599b254-899b-4c3e-a258-8b032751483f",
   "metadata": {},
   "outputs": [
    {
     "name": "stdout",
     "output_type": "stream",
     "text": [
      "[9, 7, 11]\n",
      " Value 0: 9\n",
      " Price 0: 10\n",
      " Difference between value 0 and price 0: -1\n",
      " Value 1: 7\n",
      " Price 1: 8\n",
      " Difference between value 1 and price 1: -1\n",
      " Value 2: 11\n",
      " Price 2: 12\n",
      " Difference between value 2 and price 2: -1\n",
      "[10, 8, 12]\n",
      " Value 0: 10\n",
      " Price 0: 10\n",
      " Difference between value 0 and price 0: 0\n",
      " Value 1: 8\n",
      " Price 1: 8\n",
      " Difference between value 1 and price 1: 0\n",
      " Value 2: 12\n",
      " Price 2: 12\n",
      " Difference between value 2 and price 2: 0\n",
      "[9, 8, 12]\n",
      " Value 0: 9\n",
      " Price 0: 10\n",
      " Difference between value 0 and price 0: -1\n",
      " Value 1: 8\n",
      " Price 1: 8\n",
      " Difference between value 1 and price 1: 0\n",
      " Value 2: 12\n",
      " Price 2: 12\n",
      " Difference between value 2 and price 2: 0\n",
      "[9, 8, 13]\n",
      " Value 0: 9\n",
      " Price 0: 10\n",
      " Difference between value 0 and price 0: -1\n",
      " Value 1: 8\n",
      " Price 1: 8\n",
      " Difference between value 1 and price 1: 0\n",
      " Value 2: 13\n",
      " Price 2: 12\n",
      " Difference between value 2 and price 2: 1\n"
     ]
    }
   ],
   "source": [
    "# A. Loop through the value in the values.\n",
    "prices=[10,8,12]\n",
    "values=[[9,7,11],[10,8,12],[9,8,12],[9,8,13]]\n",
    "\n",
    "for value in values:\n",
    "    print(value)\n",
    "    for i in range(len(value)): \n",
    "        print(f' Value {i}: {value[i]}')\n",
    "        print(f' Price {i}: {prices[i]}')\n",
    "        print(f' Difference between value {i} and price {i}: {value[i] - prices[i]}')"
   ]
  },
  {
   "cell_type": "code",
   "execution_count": 541,
   "id": "8cd82257-9ef0-40c5-a436-c2ea9b48d1c2",
   "metadata": {},
   "outputs": [
    {
     "name": "stdout",
     "output_type": "stream",
     "text": [
      "[9, 7, 11]\n",
      "Difference between value and price of product 1:  -1\n",
      "Difference between value and price of product 2:  -1\n",
      "Difference between value and price of product 3:  -1\n",
      "[10, 8, 12]\n",
      "Difference between value and price of product 1:  0\n",
      "Difference between value and price of product 2:  0\n",
      "Difference between value and price of product 3:  0\n",
      "[9, 8, 12]\n",
      "Difference between value and price of product 1:  -1\n",
      "Difference between value and price of product 2:  0\n",
      "Difference between value and price of product 3:  0\n",
      "[9, 8, 13]\n",
      "Difference between value and price of product 1:  -1\n",
      "Difference between value and price of product 2:  0\n",
      "Difference between value and price of product 3:  1\n"
     ]
    }
   ],
   "source": [
    "# B. Calculate the diffence between value and price for each product.\n",
    "\n",
    "prices=[10,8,12]\n",
    "values=[[9,7,11],[10,8,12],[9,8,12],[9,8,13]]\n",
    "\n",
    "for value in values:\n",
    "    print(value)\n",
    "    diff1 = value[0]-prices[0]\n",
    "    print('Difference between value and price of product 1: ', diff1)\n",
    "    diff2 = value[1]-prices[1]\n",
    "    print('Difference between value and price of product 2: ', diff2)\n",
    "    diff3 = value[2]-prices[2]\n",
    "    print('Difference between value and price of product 3: ', diff3)"
   ]
  },
  {
   "cell_type": "code",
   "execution_count": 40,
   "id": "52d7fa3d-bead-413c-8a2c-5e473776d5cb",
   "metadata": {},
   "outputs": [
    {
     "name": "stdout",
     "output_type": "stream",
     "text": [
      "[9, 7, 11]\n",
      "Difference between value and price of product 1:  -1\n",
      "Difference between value and price of product 2:  -1\n",
      "Difference between value and price of product 3:  -1\n",
      "[10, 8, 12]\n",
      "Difference between value and price of product 1:  0\n",
      "Difference between value and price of product 2:  0\n",
      "Difference between value and price of product 3:  0\n",
      "Customers buying product 1:  1\n",
      "Customers buying product 2:  0\n",
      "Customers buying product 3:  0\n",
      "[9, 8, 12]\n",
      "Difference between value and price of product 1:  -1\n",
      "Difference between value and price of product 2:  0\n",
      "Difference between value and price of product 3:  0\n",
      "Customers buying product 1:  1\n",
      "Customers buying product 2:  1\n",
      "Customers buying product 3:  0\n",
      "[9, 8, 13]\n",
      "Difference between value and price of product 1:  -1\n",
      "Difference between value and price of product 2:  0\n",
      "Difference between value and price of product 3:  1\n",
      "Customers buying product 1:  1\n",
      "Customers buying product 2:  1\n",
      "Customers buying product 3:  1\n"
     ]
    }
   ],
   "source": [
    "# C. Figure out which product a given customer will purchase. \n",
    "# 1) To purchase a product, the price should be less or equal to the value.\n",
    "# 2) The product with the difference between value and price is the largest.\n",
    "# 3) When there is a tie, the customer will purchase the product with the smaller index.\n",
    "# Keep track of the number of customers who purchased each product.\n",
    "\n",
    "prices=[10,8,12]\n",
    "values=[[9,7,11],[10,8,12],[9,8,12],[9,8,13]]\n",
    "\n",
    "count1 = 0\n",
    "count2 = 0\n",
    "count3 = 0\n",
    "\n",
    "for value in values:\n",
    "    print(value)\n",
    "    diff1 = value[0]-prices[0]\n",
    "    print('Difference between value and price of product 1: ', diff1)\n",
    "    diff2 = value[1]-prices[1]\n",
    "    print('Difference between value and price of product 2: ', diff2)\n",
    "    diff3 = value[2]-prices[2]\n",
    "    print('Difference between value and price of product 3: ', diff3)\n",
    "    if diff1 < 0 and diff2 < 0 and diff3 < 0:\n",
    "        continue\n",
    "    elif diff1 >= diff2 and diff1 >= diff3:\n",
    "        count1 += 1\n",
    "    elif diff2 >= diff1 and diff2 >= diff3:\n",
    "        count2 += 1\n",
    "    else:\n",
    "        count3 += 1\n",
    "    print('Customers buying product 1: ', count1)\n",
    "    print('Customers buying product 2: ', count2)\n",
    "    print('Customers buying product 3: ', count3)"
   ]
  },
  {
   "cell_type": "markdown",
   "id": "c5a35b26-60a5-4ec0-884d-d4eda05627f8",
   "metadata": {},
   "source": [
    "**Step 4. Synthesize** (Combine your code fragments from Step 3, but do so in an incremental fashion and print intermediate results)"
   ]
  },
  {
   "cell_type": "code",
   "execution_count": 42,
   "id": "e42bf003-fe73-4a63-a5af-e84100ad72b2",
   "metadata": {
    "tags": []
   },
   "outputs": [
    {
     "name": "stdout",
     "output_type": "stream",
     "text": [
      "Value:  [9, 7, 11, 12]\n",
      "Difference between value and price of product 1:  -1\n",
      "Difference between value and price of product 2:  -1\n",
      "Difference between value and price of product 3:  -1\n",
      "Difference between value and price of product 4:  4\n",
      "Max diff:  4\n",
      "Customer will buy product # 4\n",
      "Value:  [10, 8, 12, 8]\n",
      "Difference between value and price of product 1:  0\n",
      "Difference between value and price of product 2:  0\n",
      "Difference between value and price of product 3:  0\n",
      "Difference between value and price of product 4:  0\n",
      "Max diff:  0\n",
      "Customer will buy product # 1\n",
      "Value:  [9, 8, 12, 5]\n",
      "Difference between value and price of product 1:  -1\n",
      "Difference between value and price of product 2:  0\n",
      "Difference between value and price of product 3:  0\n",
      "Difference between value and price of product 4:  -3\n",
      "Max diff:  0\n",
      "Customer will buy product # 2\n",
      "Value:  [9, 8, 13, 12]\n",
      "Difference between value and price of product 1:  -1\n",
      "Difference between value and price of product 2:  0\n",
      "Difference between value and price of product 3:  1\n",
      "Difference between value and price of product 4:  4\n",
      "Max diff:  4\n",
      "Customer will buy product # 4\n",
      "Demand for product 1:  1\n",
      "Demand for product 2:  1\n",
      "Demand for product 3:  0\n",
      "Demand for product 4:  2\n"
     ]
    }
   ],
   "source": [
    "# Version for debugging: with intermediate printing and no function encapsulation\n",
    "\n",
    "prices=[10,8,12,8]\n",
    "values = [[9,7,11,12], [10,8,12,8], [9,8,12,5], [9,8,13,12]]\n",
    "\n",
    "ans = [0] * len(prices)\n",
    "\n",
    "for value in values:\n",
    "    print('Value: ', value)\n",
    "    max_diff = float('-inf')\n",
    "    buying_product = -1\n",
    "    for i in range(len(prices)):\n",
    "        diff = value[i] - prices[i]\n",
    "        print(f'Difference between value and price of product {i+1}: ', diff)\n",
    "        if diff > max_diff:\n",
    "            max_diff = diff\n",
    "            buying_product = i\n",
    "    print('Max diff: ', max_diff)\n",
    "    print('Customer will buy product #', buying_product + 1)\n",
    "    if max_diff >= 0:\n",
    "        ans[buying_product] += 1\n",
    "\n",
    "for i in range(len(prices)):\n",
    "    print(f'Demand for product {i+1}: ', ans[i])"
   ]
  },
  {
   "cell_type": "code",
   "execution_count": 44,
   "id": "dd7bf2f7-d70c-4a06-873f-ff840607f006",
   "metadata": {
    "tags": []
   },
   "outputs": [],
   "source": [
    "# Final code: removing intermediate printing and encapuslating in a function\n",
    "\n",
    "def demand(prices, values):\n",
    "    ans = [0] * len(prices)\n",
    "    for value in values:\n",
    "        max_diff = float('-inf')\n",
    "        buying_product = -1\n",
    "        for i in range(len(prices)):\n",
    "            diff = value[i] - prices[i]\n",
    "            if diff > max_diff:\n",
    "                max_diff = diff\n",
    "                buying_product = i\n",
    "        if max_diff >= 0:\n",
    "            ans[buying_product] += 1\n",
    "    return ans"
   ]
  },
  {
   "cell_type": "code",
   "execution_count": 46,
   "id": "af1ed63c-7fd3-4d8f-b719-48ecf1b63b35",
   "metadata": {
    "tags": []
   },
   "outputs": [
    {
     "name": "stdout",
     "output_type": "stream",
     "text": [
      "Demand for product 1 : 1\n",
      "Demand for product 2 : 1\n",
      "Demand for product 3 : 1\n"
     ]
    }
   ],
   "source": [
    "# Sample run 1\n",
    "prices=[10,8,12]\n",
    "values=[[9,7,11],[10,8,12],[9,8,12],[9,8,13]]\n",
    "ans=demand(prices,values)\n",
    "for i in range(len(prices)):\n",
    "    print('Demand for product',i+1,':',ans[i])\n",
    "\n",
    "# Output should be:\n",
    "# Demand for product 1 : 1\n",
    "# Demand for product 2 : 1\n",
    "# Demand for product 3 : 1"
   ]
  },
  {
   "cell_type": "code",
   "execution_count": 48,
   "id": "d53cb89d-357e-4657-930f-1f58b65338a6",
   "metadata": {
    "tags": []
   },
   "outputs": [
    {
     "name": "stdout",
     "output_type": "stream",
     "text": [
      "Demand for product 1 : 3\n",
      "Demand for product 2 : 1\n",
      "Demand for product 3 : 1\n"
     ]
    }
   ],
   "source": [
    "# Sample run 2\n",
    "prices=[20,15,30]\n",
    "values=[[30,30,20],[40,10,15],[18,13,29],[40,30,50],[10,30,50],[10,10,10],[20,15,30]]\n",
    "ans=demand(prices,values)\n",
    "for i in range(len(prices)):\n",
    "    print('Demand for product',i+1,':',ans[i])\n",
    "\n",
    "# Output should be:\n",
    "# Demand for product 1 : 3\n",
    "# Demand for product 2 : 1\n",
    "# Demand for product 3 : 1"
   ]
  },
  {
   "cell_type": "code",
   "execution_count": 50,
   "id": "2a173663-8bb6-4e66-ab32-9fabe5a6eab7",
   "metadata": {
    "tags": []
   },
   "outputs": [
    {
     "name": "stdout",
     "output_type": "stream",
     "text": [
      "Demand for product 1 : 1\n",
      "Demand for product 2 : 1\n",
      "Demand for product 3 : 0\n",
      "Demand for product 4 : 2\n"
     ]
    }
   ],
   "source": [
    "# Sample run 3\n",
    "prices=[10,8,12,8]\n",
    "values=[[9,7,11,12],[10,8,12,8],[9,8,12,5],[9,8,13,12]]\n",
    "ans=demand(prices,values)\n",
    "for i in range(len(prices)):\n",
    "    print('Demand for product',i+1,':',ans[i])\n",
    "\n",
    "# Output should be:\n",
    "# Demand for product 1 : 1\n",
    "# Demand for product 2 : 1\n",
    "# Demand for product 3 : 0\n",
    "# Demand for product 4 : 2"
   ]
  },
  {
   "cell_type": "markdown",
   "id": "8e41b36b-0c9e-4000-85a6-5f39767afe81",
   "metadata": {},
   "source": [
    "## Exercise 4.4: Simulating Availabilities of Hospital Beds\n",
    "\n",
    "One challenge in health care operations is to forecast the number of hospital beds that are available at a given time, since patients admitted in the past may stay for several days and the number of beds are limited. If no more beds are available, then incoming patients may need to be turned away.\n",
    "\n",
    "Write a function called `admissionSimulation` with three input arguments:\n",
    "\n",
    "- `demandList`: a list of positive integers representing the number of incoming patients desiring a hospital bed in each day. (The first number corresponds to day 0, the second number to day 1, and so on.)\n",
    "- `beds`: a positive integer representing the total number of hospital beds available.\n",
    "- `stay`: a positive integer representing the number of days each admitted patient will stay. If `stay=1`, then every admitted patient leaves before any incoming patients arrive the next day. If `stay=2`, then each patient admitted on day $t$ will occupy a bed also for day $t+1$, and leave before incoming patients arrive on day $t+2$.\n",
    "\n",
    "The function should return a list `admissionRecord`, corresponding to the number of incoming patients admitted on each day. \n",
    "\n",
    "**Sample run 1:**\n",
    "\n",
    "```python\n",
    "demandList=[1,2,1,0,2,3]\n",
    "beds=2\n",
    "stay=2\n",
    "admissionRecord=admissionSimulation(demandList,beds,stay)\n",
    "print(f'Day\\tDemand\\tAdmitted')\n",
    "for i in range(len(demandList)):\n",
    "    print(f'{i}\\t{demandList[i]}\\t{admissionRecord[i]}')\n",
    "```\n",
    "\n",
    "**Correct output:**\n",
    "\n",
    "```\n",
    "Day\t  Demand   Admitted\n",
    "0\t    1\t    1\n",
    "1\t    2\t    1\n",
    "2\t    1\t    1\n",
    "3\t    0\t    0\n",
    "4\t    2\t    2\n",
    "5\t    3\t    0\n",
    "```\n",
    "\n",
    "**Sample run 2:**\n",
    "\n",
    "```python\n",
    "demandList=[5,8,6,8,4,4,8,6,1]\n",
    "beds=7\n",
    "stay=3\n",
    "admissionRecord=admissionSimulation(demandList,beds,stay)\n",
    "print(f'Day\\tDemand\\tAdmitted')\n",
    "for i in range(len(demandList)):\n",
    "    print(f'{i}\\t{demandList[i]}\\t{admissionRecord[i]}')\n",
    "```\n",
    "\n",
    "**Correct output:**\n",
    "\n",
    "```\n",
    "Day\t  Demand   Admitted\n",
    "0\t    5\t    5\n",
    "1\t    8\t    2\n",
    "2\t    6\t    0\n",
    "3\t    8\t    5\n",
    "4\t    4\t    2\n",
    "5\t    4\t    0\n",
    "6\t    8\t    5\n",
    "7\t    6\t    2\n",
    "8\t    1\t    0\n",
    "```\n",
    "\n",
    "**Sample run 3:**\n",
    "\n",
    "```python\n",
    "# Sample run 3\n",
    "demandList=[5,8,6,4,4,4,8,1,3]\n",
    "beds=7\n",
    "stay=3\n",
    "admissionRecord=admissionSimulation(demandList,beds,stay)\n",
    "print(f'Day\\tDemand\\tAdmitted')\n",
    "for i in range(len(demandList)):\n",
    "    print(f'{i}\\t{demandList[i]}\\t{admissionRecord[i]}')\n",
    "```\n",
    "\n",
    "**Correct output:**\n",
    "\n",
    "```\n",
    "Day      Demand   Admitted\n",
    "0\t    5    \t5\n",
    "1\t    8\t    2\n",
    "2\t    6\t    0\n",
    "3\t    4\t    4\n",
    "4\t    4\t    3\n",
    "5\t    4\t    0\n",
    "6\t    8\t    4\n",
    "7\t    1\t    1\n",
    "8\t    3\t    2\n",
    "```\n",
    "\n",
    "**Hint:** In Step 2, you want to create a table. The above tables are insufficient to carry through the logic, as you also need to keep track of the number of discharges at the beginning of each day, as well as the number of available beds before new patients arrive.\n",
    "\n",
    "**Solve this problem by applying the four steps of algorithmic thinking.**"
   ]
  },
  {
   "cell_type": "markdown",
   "id": "64ca91eb-ecbe-4f29-8fb3-70c596fec0af",
   "metadata": {},
   "source": [
    "**Step 1. Understand** (Write your summary of the task in this cell:)\n",
    "\n",
    "Simulates hospital bed availability and patient admissions for each day."
   ]
  },
  {
   "cell_type": "markdown",
   "id": "852b58ed-d648-4f46-b6a5-fc5703d90979",
   "metadata": {},
   "source": [
    "**Step 2. Decompose** (Write your instructions in this Markdown cell)\n",
    "\n",
    "A. Initialize variables:\n",
    "1) Create an empty admitted list.\n",
    "2) Set occupied beds to beds (initially no beds are occupied)\n",
    "\n",
    "B. Iterate through demand in the demandList:\n",
    "1) Calculate available beds\n",
    "2) Admit new patients\n",
    "3) Update occupied beds\n",
    "\n",
    "C. Return the admitted list"
   ]
  },
  {
   "cell_type": "markdown",
   "id": "bc43c516-1816-46c8-9eae-69ed465e6907",
   "metadata": {},
   "source": [
    "**Step 3. Analyze** (Write code fragments in separate code cells to implement the trickiest steps)"
   ]
  },
  {
   "cell_type": "code",
   "execution_count": 7,
   "id": "13cf1705-982f-4daa-a007-8fd93709a276",
   "metadata": {},
   "outputs": [],
   "source": [
    "# A. Initialize variables\n",
    "\n",
    "demandList=[1,2,1,0,2,3]\n",
    "beds=2\n",
    "stay=2\n",
    "\n",
    "# 1) Create an empty admitted list.\n",
    "\n",
    "admitted_list = []\n",
    "\n",
    "# 2) Set occupied beds to beds (initially no beds are occupied)\n",
    "\n",
    "occupied_beds = 0"
   ]
  },
  {
   "cell_type": "code",
   "execution_count": 9,
   "id": "348197a2-18b1-4a9d-b4c7-1b894ff48c91",
   "metadata": {},
   "outputs": [
    {
     "name": "stdout",
     "output_type": "stream",
     "text": [
      "Day\tDemand\tAdmitted\n",
      "0\t1\t1\n",
      "1\t2\t1\n",
      "2\t1\t1\n",
      "3\t0\t0\n",
      "4\t2\t2\n",
      "5\t3\t0\n"
     ]
    }
   ],
   "source": [
    "# B. Iterate through demand in the demandList: \n",
    "\n",
    "demandList=[1,2,1,0,2,3]\n",
    "beds=2\n",
    "stay=2\n",
    "\n",
    "admitted_list = []\n",
    "occupied_beds = 0\n",
    "\n",
    "print(f'Day\\tDemand\\tAdmitted')\n",
    "\n",
    "for demand in demandList:\n",
    "    day = len(admitted_list)\n",
    "    # Step 1: Calculate available beds\n",
    "    if day >= stay:\n",
    "        occupied_beds -= admitted_list[-stay]\n",
    "\n",
    "    available_beds = beds - occupied_beds\n",
    "\n",
    "    # Step 2: Admit new patients\n",
    "    admitted = min(demand, available_beds)\n",
    "    admitted_list.append(admitted)\n",
    "\n",
    "    # Step 3: Update occupied beds\n",
    "    occupied_beds += admitted\n",
    "    \n",
    "    print(f'{day}\\t{demand}\\t{admitted}')"
   ]
  },
  {
   "cell_type": "markdown",
   "id": "602773ff-018a-4f37-aa00-67cf07fccdc5",
   "metadata": {},
   "source": [
    "**Step 4. Synthesize** (Combine your code fragments from Step 3, but do so in an incremental fashion and print intermediate results)"
   ]
  },
  {
   "cell_type": "code",
   "execution_count": 11,
   "id": "3123b378-f68b-4dcd-863d-cc469f9fca5f",
   "metadata": {
    "tags": []
   },
   "outputs": [
    {
     "name": "stdout",
     "output_type": "stream",
     "text": [
      "Day\tDemand\tAdmitted\n",
      "0\t1\t1\n",
      "1\t2\t1\n",
      "2\t1\t1\n",
      "3\t0\t0\n",
      "4\t2\t2\n",
      "5\t3\t0\n"
     ]
    }
   ],
   "source": [
    "# Version for debugging: with intermediate printing and no function encapsulation\n",
    "\n",
    "demandList=[1,2,1,0,2,3]\n",
    "beds=2\n",
    "stay=2\n",
    "\n",
    "print(f'Day\\tDemand\\tAdmitted')\n",
    "\n",
    "admitted_list = []\n",
    "occupied_beds = 0\n",
    "\n",
    "for demand in demandList:\n",
    "    day = len(admitted_list)\n",
    "    if day >= stay:\n",
    "        occupied_beds -= admitted_list[-stay]\n",
    "    available_beds = beds - occupied_beds\n",
    "    admitted = min(demand, available_beds)\n",
    "    admitted_list.append(admitted)\n",
    "    occupied_beds += admitted\n",
    "    \n",
    "    print(f'{day}\\t{demand}\\t{admitted}')"
   ]
  },
  {
   "cell_type": "code",
   "execution_count": 13,
   "id": "f811511f-39e6-40e3-8b00-7c7db6ce5e66",
   "metadata": {
    "tags": []
   },
   "outputs": [],
   "source": [
    "# Final code: removing intermediate printing and encapuslating in a function\n",
    "\n",
    "def admissionSimulation(demandList, beds, stay):\n",
    "    admitted_list = []\n",
    "    occupied_beds = 0\n",
    "    \n",
    "    for demand in demandList:\n",
    "        day = len(admitted_list)\n",
    "        if day >= stay:\n",
    "            occupied_beds -= admitted_list[-stay]\n",
    "        available_beds = beds - occupied_beds\n",
    "        admitted = min(demand, available_beds)\n",
    "        admitted_list.append(admitted)\n",
    "        occupied_beds += admitted\n",
    "    return admitted_list"
   ]
  },
  {
   "cell_type": "code",
   "execution_count": 15,
   "id": "92d7f605-cb57-42cd-9e9d-7cd36f2d4832",
   "metadata": {
    "tags": []
   },
   "outputs": [
    {
     "name": "stdout",
     "output_type": "stream",
     "text": [
      "Day\tDemand\tAdmitted\n",
      "0\t1\t1\n",
      "1\t2\t1\n",
      "2\t1\t1\n",
      "3\t0\t0\n",
      "4\t2\t2\n",
      "5\t3\t0\n"
     ]
    }
   ],
   "source": [
    "# Sample run 1\n",
    "demandList=[1,2,1,0,2,3]\n",
    "beds=2\n",
    "stay=2\n",
    "admissionRecord=admissionSimulation(demandList,beds,stay)\n",
    "print(f'Day\\tDemand\\tAdmitted')\n",
    "for i in range(len(demandList)):\n",
    "    print(f'{i}\\t{demandList[i]}\\t{admissionRecord[i]}')"
   ]
  },
  {
   "cell_type": "code",
   "execution_count": 17,
   "id": "27a3aa8d-dfd6-47b4-85af-08f350547a55",
   "metadata": {
    "tags": []
   },
   "outputs": [
    {
     "name": "stdout",
     "output_type": "stream",
     "text": [
      "Day\tDemand\tAdmitted\n",
      "0\t5\t5\n",
      "1\t8\t2\n",
      "2\t6\t0\n",
      "3\t8\t5\n",
      "4\t4\t2\n",
      "5\t4\t0\n",
      "6\t8\t5\n",
      "7\t6\t2\n",
      "8\t1\t0\n"
     ]
    }
   ],
   "source": [
    "# Sample run 2\n",
    "demandList=[5,8,6,8,4,4,8,6,1]\n",
    "beds=7\n",
    "stay=3\n",
    "admissionRecord=admissionSimulation(demandList,beds,stay)\n",
    "print(f'Day\\tDemand\\tAdmitted')\n",
    "for i in range(len(demandList)):\n",
    "    print(f'{i}\\t{demandList[i]}\\t{admissionRecord[i]}')"
   ]
  },
  {
   "cell_type": "code",
   "execution_count": 19,
   "id": "7286c7eb-d36e-444f-a69a-dc074aaf9982",
   "metadata": {
    "tags": []
   },
   "outputs": [
    {
     "name": "stdout",
     "output_type": "stream",
     "text": [
      "Day\tDemand\tAdmitted\n",
      "0\t5\t5\n",
      "1\t8\t2\n",
      "2\t6\t0\n",
      "3\t4\t4\n",
      "4\t4\t3\n",
      "5\t4\t0\n",
      "6\t8\t4\n",
      "7\t1\t1\n",
      "8\t3\t2\n"
     ]
    }
   ],
   "source": [
    "# Sample run 3\n",
    "demandList=[5,8,6,4,4,4,8,1,3]\n",
    "beds=7\n",
    "stay=3\n",
    "admissionRecord=admissionSimulation(demandList,beds,stay)\n",
    "print(f'Day\\tDemand\\tAdmitted')\n",
    "for i in range(len(demandList)):\n",
    "    print(f'{i}\\t{demandList[i]}\\t{admissionRecord[i]}')"
   ]
  },
  {
   "cell_type": "markdown",
   "id": "37436e0b-ae3a-4cee-90e7-3de198b58616",
   "metadata": {},
   "source": [
    "## Exercise 4.5: Health Insurance Selection \n",
    "\n",
    "This question asks you to create a function to help individuals select the most cost effective health insurance given the terms of each plan and the individual's estimated health expenditures. \n",
    "\n",
    "**Write a function called \"bestPlan\" with two input arguments:**\n",
    "\n",
    "- `planInfo`: a dictionary in which the index is the name of a plan and the value is a list of 3 non-negative numbers. The first number is the annual premium of this plan, the second number is the annual deductible, and the third number is the proportion of expenditures (beyond the deductible) reimbursed by the plan.\n",
    "- `expenditure`: a non-negative number representing the individual's total health care spending without any health insurance.\n",
    "\n",
    "**The function should return (not print) the name of the best plan for the individual**, where best is defined as having the lowest total cost, as given by \n",
    "\n",
    "$$\\text{Total cost}=\\text{Premium} + \\text{Expenditure} - \\text{Reimbursements},$$\n",
    "\n",
    "where $\\text{Reimbursements}$ is equal to the proportion reimbursed multiplied by the reimbursable amount, and the reimbursable amount is equal to the amount by which the expenditures exceeds the deductible. \n",
    "\n",
    "For example, if $\\text{Premium}=2000$, $\\text{Proportion reimbursed}=0.9$, $\\text{Deductible}=200$, and $\\text{Expenditure}=100$, then the reimbursable amount is 0, and $\\text{Total cost}=2000+100-0=2100$. \n",
    "\n",
    "However, if $\\text{Expenditure}=10000$, then the reimbursable amount is $10000-200=9800$, and $\\text{Total cost}=2000+10000-(9800)\\times0.9=3180$. If there are multiple plans tied for the lowest total cost, then the function can return any of them. \n",
    "\n",
    "For example, if \n",
    "```python\n",
    "planInfo={'BlueCross PPO':[3000,0,0.95],'Anthem HMO':[1200,100,0.8],'Cigna EPO':[2400,1000,0.98],'No Insurance':[0,0,0]}\n",
    "```\n",
    "Then,\n",
    "\n",
    "- ```bestPlan(planInfo,1500)``` should return `'No Insurance'`.\n",
    "- ```bestPlan(planInfo,1700)``` should return `'Anthem HMO'`.\n",
    "- ```bestPlan(planInfo,11000)``` should return `'Anthem HMO'`.\n",
    "- ```bestPlan(planInfo,12000)``` should return `'BlueCross PPO'`.\n",
    "- ```bestPlan(planInfo,13000)``` should return `'Cigna EPO'`.\n",
    "- ```bestPlan(planInfo,100000)``` should return `'Cigna EPO'`.\n",
    "\n",
    "**Apply the four steps of algorithmic thinking to solve this problem.**"
   ]
  },
  {
   "cell_type": "markdown",
   "id": "2d55b80c-1d76-4ecc-82a2-c960ea4b77d6",
   "metadata": {},
   "source": [
    "**Step 1. Understand** (Write your summary in this Markdown cell)\n",
    "\n",
    "Find the best plan for the individual which has the lowest total cost."
   ]
  },
  {
   "cell_type": "markdown",
   "id": "f1c18ac8-75cd-41e9-a083-5b9fd2711a99",
   "metadata": {},
   "source": [
    "**Step 2. Decompose** (Write your instructions in this Markdown cell)\n",
    "\n",
    "\n",
    "A. Iterate through the plans in the given planInfo.\n",
    "\n",
    "B. Calculate the total cost for each given plan: update the best plan that the total cost is lesser than the best plan so far, Store the answer.\n",
    "\n",
    "C. Keep track of the best plan found so far. While looping through the plans, update the variables appropriately."
   ]
  },
  {
   "cell_type": "markdown",
   "id": "0042b181-7288-4336-9317-6ca6c793eb84",
   "metadata": {},
   "source": [
    "**Step 3. Analyze** (Write code fragments in separate code cells to implement the trickiest steps)"
   ]
  },
  {
   "cell_type": "code",
   "execution_count": 21,
   "id": "7ae17cfb-65bd-47a8-b122-747985356ce5",
   "metadata": {},
   "outputs": [
    {
     "name": "stdout",
     "output_type": "stream",
     "text": [
      "-100\n",
      "0.0\n",
      "2100.0\n"
     ]
    }
   ],
   "source": [
    "premium=2000\n",
    "deductible=200\n",
    "propotion_reimbursed=0.9\n",
    "expenditure=100\n",
    "reimbursement=max((expenditure-deductible),0)*propotion_reimbursed\n",
    "print(expenditure-deductible)\n",
    "print(reimbursement)\n",
    "\n",
    "total_cost=premium+expenditure-reimbursement\n",
    "print(total_cost)"
   ]
  },
  {
   "cell_type": "code",
   "execution_count": 23,
   "id": "66a621f5-7a82-4ec3-b744-3cc5a3410702",
   "metadata": {},
   "outputs": [
    {
     "name": "stdout",
     "output_type": "stream",
     "text": [
      "9800\n",
      "8820.0\n",
      "3180.0\n"
     ]
    }
   ],
   "source": [
    "premium=2000\n",
    "deductible=200\n",
    "propotion_reimbursed=0.9\n",
    "expenditure=10000\n",
    "reimbursement=max((expenditure-deductible),0)*propotion_reimbursed\n",
    "print(expenditure-deductible)\n",
    "print(reimbursement)\n",
    "\n",
    "total_cost=premium+expenditure-reimbursement\n",
    "print(total_cost)"
   ]
  },
  {
   "cell_type": "code",
   "execution_count": 25,
   "id": "f21e1561-961f-4dfc-86bb-5d30cfc1adf7",
   "metadata": {},
   "outputs": [
    {
     "name": "stdout",
     "output_type": "stream",
     "text": [
      "BlueCross PPO [3000, 0, 0.95]\n",
      "Anthem HMO [1200, 100, 0.8]\n",
      "Cigna EPO [2400, 1000, 0.98]\n",
      "No Insurance [0, 0, 0]\n"
     ]
    }
   ],
   "source": [
    "planInfo={'BlueCross PPO':[3000,0,0.95],'Anthem HMO':[1200,100,0.8],'Cigna EPO':[2400,1000,0.98],'No Insurance':[0,0,0]}\n",
    "expenditure = 1700\n",
    "\n",
    "# A. Iterate through the plans in the given planInfo.\n",
    "\n",
    "for key, values in planInfo.items():\n",
    "    print(key, values)"
   ]
  },
  {
   "cell_type": "code",
   "execution_count": 27,
   "id": "4e3942fc-3f74-43a4-a773-e1814667a7d2",
   "metadata": {},
   "outputs": [
    {
     "name": "stdout",
     "output_type": "stream",
     "text": [
      "BlueCross PPO [3000, 0, 0.95]\n",
      "Premium:  3000\n",
      "Deductible:  0\n",
      "Proportion reimbursed:  0.95\n",
      "Reimbursement:  1615.0\n",
      "Total cost:  3085.0\n",
      "Anthem HMO [1200, 100, 0.8]\n",
      "Premium:  1200\n",
      "Deductible:  100\n",
      "Proportion reimbursed:  0.8\n",
      "Reimbursement:  1280.0\n",
      "Total cost:  1620.0\n",
      "Cigna EPO [2400, 1000, 0.98]\n",
      "Premium:  2400\n",
      "Deductible:  1000\n",
      "Proportion reimbursed:  0.98\n",
      "Reimbursement:  686.0\n",
      "Total cost:  3414.0\n",
      "No Insurance [0, 0, 0]\n",
      "Premium:  0\n",
      "Deductible:  0\n",
      "Proportion reimbursed:  0\n",
      "Reimbursement:  0\n",
      "Total cost:  1700\n"
     ]
    }
   ],
   "source": [
    "# B. Calculate the total cost for each given plan: update the best plan that the total cost is lesser than the best plan so far, Store the answer.\n",
    "\n",
    "planInfo={'BlueCross PPO':[3000,0,0.95],'Anthem HMO':[1200,100,0.8],'Cigna EPO':[2400,1000,0.98],'No Insurance':[0,0,0]}\n",
    "expenditure = 1700\n",
    "\n",
    "best_total_cost = 10000000\n",
    "best_plan = ''\n",
    "\n",
    "for key, values in planInfo.items():\n",
    "    print(key, values)\n",
    "    premium = values[0]\n",
    "    print('Premium: ', premium)\n",
    "    deductible = values[1]\n",
    "    print('Deductible: ', deductible)\n",
    "    proportion_reimbursed = values[2]\n",
    "    print('Proportion reimbursed: ', proportion_reimbursed)\n",
    "    reimbursement=max((expenditure-deductible),0)*proportion_reimbursed\n",
    "    print('Reimbursement: ', reimbursement)\n",
    "    total_cost=premium+expenditure-reimbursement\n",
    "    print('Total cost: ', total_cost)"
   ]
  },
  {
   "cell_type": "code",
   "execution_count": 29,
   "id": "0add8a79-978a-4bd1-9de6-03016c86eda7",
   "metadata": {},
   "outputs": [
    {
     "name": "stdout",
     "output_type": "stream",
     "text": [
      "BlueCross PPO [3000, 0, 0.95]\n",
      "Premium:  3000\n",
      "Deductible:  0\n",
      "Proportion reimbursed:  0.95\n",
      "Reimbursement:  1615.0\n",
      "Total cost:  3085.0\n",
      "Best total cost so far:  3085.0\n",
      "Best plan so far:  BlueCross PPO\n",
      "Anthem HMO [1200, 100, 0.8]\n",
      "Premium:  1200\n",
      "Deductible:  100\n",
      "Proportion reimbursed:  0.8\n",
      "Reimbursement:  1280.0\n",
      "Total cost:  1620.0\n",
      "Best total cost so far:  1620.0\n",
      "Best plan so far:  Anthem HMO\n",
      "Cigna EPO [2400, 1000, 0.98]\n",
      "Premium:  2400\n",
      "Deductible:  1000\n",
      "Proportion reimbursed:  0.98\n",
      "Reimbursement:  686.0\n",
      "Total cost:  3414.0\n",
      "Best total cost so far:  1620.0\n",
      "Best plan so far:  Anthem HMO\n",
      "No Insurance [0, 0, 0]\n",
      "Premium:  0\n",
      "Deductible:  0\n",
      "Proportion reimbursed:  0\n",
      "Reimbursement:  0\n",
      "Total cost:  1700\n",
      "Best total cost so far:  1620.0\n",
      "Best plan so far:  Anthem HMO\n"
     ]
    }
   ],
   "source": [
    "# C. Keep track of the best plan found so far. While looping through the plans, update the variables appropriately.\n",
    "\n",
    "planInfo={'BlueCross PPO':[3000,0,0.95],'Anthem HMO':[1200,100,0.8],'Cigna EPO':[2400,1000,0.98],'No Insurance':[0,0,0]}\n",
    "expenditure = 1700\n",
    "\n",
    "best_total_cost = 10000000\n",
    "best_plan = ''\n",
    "\n",
    "for key, values in planInfo.items():\n",
    "    print(key, values)\n",
    "    premium = values[0]\n",
    "    print('Premium: ', premium)\n",
    "    deductible = values[1]\n",
    "    print('Deductible: ', deductible)\n",
    "    proportion_reimbursed = values[2]\n",
    "    print('Proportion reimbursed: ', proportion_reimbursed)\n",
    "    reimbursement=max((expenditure-deductible),0)*proportion_reimbursed\n",
    "    print('Reimbursement: ', reimbursement)\n",
    "    total_cost=premium+expenditure-reimbursement\n",
    "    print('Total cost: ', total_cost)\n",
    "    if total_cost < best_total_cost:\n",
    "        best_total_cost = total_cost\n",
    "        best_plan = key\n",
    "    print('Best total cost so far: ', best_total_cost)\n",
    "    print('Best plan so far: ', best_plan)"
   ]
  },
  {
   "cell_type": "markdown",
   "id": "c3c9a917-6919-4f38-b81d-164d95e4010a",
   "metadata": {},
   "source": [
    "**Step 4. Synthesize**"
   ]
  },
  {
   "cell_type": "code",
   "execution_count": 31,
   "id": "d6ea4700-edf4-4e10-a3e7-c95ee4cdd887",
   "metadata": {
    "tags": []
   },
   "outputs": [
    {
     "name": "stdout",
     "output_type": "stream",
     "text": [
      "BlueCross PPO [3000, 0, 0.95]\n",
      "Premium:  3000\n",
      "Deductible:  0\n",
      "Proportion reimbursed:  0.95\n",
      "Reimbursement:  1615.0\n",
      "Total cost:  3085.0\n",
      "Best total cost so far:  3085.0\n",
      "Best plan so far:  BlueCross PPO\n",
      "Anthem HMO [1200, 100, 0.8]\n",
      "Premium:  1200\n",
      "Deductible:  100\n",
      "Proportion reimbursed:  0.8\n",
      "Reimbursement:  1280.0\n",
      "Total cost:  1620.0\n",
      "Best total cost so far:  1620.0\n",
      "Best plan so far:  Anthem HMO\n",
      "Cigna EPO [2400, 1000, 0.98]\n",
      "Premium:  2400\n",
      "Deductible:  1000\n",
      "Proportion reimbursed:  0.98\n",
      "Reimbursement:  686.0\n",
      "Total cost:  3414.0\n",
      "Best total cost so far:  1620.0\n",
      "Best plan so far:  Anthem HMO\n",
      "No Insurance [0, 0, 0]\n",
      "Premium:  0\n",
      "Deductible:  0\n",
      "Proportion reimbursed:  0\n",
      "Reimbursement:  0\n",
      "Total cost:  1700\n",
      "Best total cost so far:  1620.0\n",
      "Best plan so far:  Anthem HMO\n",
      "Best plan : Anthem HMO\n"
     ]
    }
   ],
   "source": [
    "# Version for debugging: with intermediate printing and no function encapsulation\n",
    "\n",
    "planInfo={'BlueCross PPO':[3000,0,0.95],'Anthem HMO':[1200,100,0.8],'Cigna EPO':[2400,1000,0.98],'No Insurance':[0,0,0]}\n",
    "expenditure = 1700\n",
    "\n",
    "best_total_cost = 10000000\n",
    "best_plan = ''\n",
    "\n",
    "for key, values in planInfo.items():\n",
    "    print(key, values)\n",
    "    premium = values[0]\n",
    "    print('Premium: ', premium)\n",
    "    deductible = values[1]\n",
    "    print('Deductible: ', deductible)\n",
    "    proportion_reimbursed = values[2]\n",
    "    print('Proportion reimbursed: ', proportion_reimbursed)\n",
    "    reimbursement=max((expenditure-deductible),0)*proportion_reimbursed\n",
    "    print('Reimbursement: ', reimbursement)\n",
    "    total_cost=premium+expenditure-reimbursement\n",
    "    print('Total cost: ', total_cost)\n",
    "    if total_cost < best_total_cost:\n",
    "        best_total_cost = total_cost\n",
    "        best_plan = key\n",
    "    print('Best total cost so far: ', best_total_cost)\n",
    "    print('Best plan so far: ', best_plan)\n",
    "\n",
    "print('Best plan :', best_plan)"
   ]
  },
  {
   "cell_type": "code",
   "execution_count": 33,
   "id": "e6f247ba-9fc1-4ac9-bbad-079af6e051ac",
   "metadata": {
    "tags": []
   },
   "outputs": [],
   "source": [
    "# Final code\n",
    "\n",
    "def bestPlan(planInfo, expenditure):\n",
    "    best_total_cost = 10000000\n",
    "    best_plan = ''\n",
    "    for key, values in planInfo.items():\n",
    "        premium = values[0]\n",
    "        deductible = values[1]\n",
    "        proportion_reimbursed = values[2]\n",
    "        reimbursement=max((expenditure-deductible),0)*proportion_reimbursed\n",
    "        total_cost=premium+expenditure-reimbursement\n",
    "        if total_cost < best_total_cost:\n",
    "            best_total_cost = total_cost\n",
    "            best_plan = key\n",
    "    return best_plan"
   ]
  },
  {
   "cell_type": "code",
   "execution_count": 35,
   "id": "db73b3c6-c347-429a-bb8d-c1b70ce0219c",
   "metadata": {
    "tags": []
   },
   "outputs": [
    {
     "data": {
      "text/plain": [
       "'No Insurance'"
      ]
     },
     "execution_count": 35,
     "metadata": {},
     "output_type": "execute_result"
    }
   ],
   "source": [
    "# Test code\n",
    "planInfo={'BlueCross PPO':[3000,0,0.95],'Anthem HMO':[1200,100,0.8],'Cigna EPO':[2400,1000,0.98],'No Insurance':[0,0,0]}\n",
    "bestPlan(planInfo,1500)\n",
    "\n",
    "# Output should be: 'No Insurance'"
   ]
  },
  {
   "cell_type": "code",
   "execution_count": 37,
   "id": "5336667f-9312-4ac1-af6e-02b030b7a27a",
   "metadata": {
    "tags": []
   },
   "outputs": [
    {
     "data": {
      "text/plain": [
       "'Anthem HMO'"
      ]
     },
     "execution_count": 37,
     "metadata": {},
     "output_type": "execute_result"
    }
   ],
   "source": [
    "bestPlan(planInfo,1700)\n",
    "\n",
    "# Output should be: 'Anthem HMO'"
   ]
  },
  {
   "cell_type": "code",
   "execution_count": 39,
   "id": "1eaf39ad-4fdf-4bc8-b537-eec65126d0e5",
   "metadata": {
    "tags": []
   },
   "outputs": [
    {
     "data": {
      "text/plain": [
       "'Anthem HMO'"
      ]
     },
     "execution_count": 39,
     "metadata": {},
     "output_type": "execute_result"
    }
   ],
   "source": [
    "bestPlan(planInfo,11000)\n",
    "\n",
    "# Output should be: 'Anthem HMO'"
   ]
  },
  {
   "cell_type": "code",
   "execution_count": 41,
   "id": "0d535426-315a-463b-a385-b00f599dc154",
   "metadata": {
    "tags": []
   },
   "outputs": [
    {
     "data": {
      "text/plain": [
       "'BlueCross PPO'"
      ]
     },
     "execution_count": 41,
     "metadata": {},
     "output_type": "execute_result"
    }
   ],
   "source": [
    "bestPlan(planInfo,12000)\n",
    "\n",
    "# Output should be: 'BlueCross PPO'"
   ]
  },
  {
   "cell_type": "code",
   "execution_count": 43,
   "id": "a00282e0-db00-4fc7-bc7d-f848425d5306",
   "metadata": {
    "tags": []
   },
   "outputs": [
    {
     "data": {
      "text/plain": [
       "'Cigna EPO'"
      ]
     },
     "execution_count": 43,
     "metadata": {},
     "output_type": "execute_result"
    }
   ],
   "source": [
    "bestPlan(planInfo,13000)\n",
    "\n",
    "# Output should be: 'Cigna EPO'"
   ]
  },
  {
   "cell_type": "code",
   "execution_count": 45,
   "id": "bdba8154-84ef-4e4e-96ab-01af73f336f2",
   "metadata": {
    "tags": []
   },
   "outputs": [
    {
     "data": {
      "text/plain": [
       "'Cigna EPO'"
      ]
     },
     "execution_count": 45,
     "metadata": {},
     "output_type": "execute_result"
    }
   ],
   "source": [
    "bestPlan(planInfo,100000)\n",
    "\n",
    "# Output should be: 'Cigna EPO'"
   ]
  },
  {
   "cell_type": "markdown",
   "id": "543213a7-bfa4-4c20-a2ec-b5e5a6b2d034",
   "metadata": {},
   "source": [
    "**For Exercise 4.6 and 4.7, you do not have to write out the four steps, but you should still apply algorithmic thinking when solving these problems.**\n",
    "\n",
    "## (Optional) Exercise 4.6: Meeting Scheduling\n",
    "\n",
    "This question asks you to create a tool to obtain the best times to schedule a meeting given the availabilities of all people interested. The tool outputs the time slot(s) that the most number of people can make. \n",
    "\n",
    "**Write a function called `getBestTimes` with one input argument:**\n",
    "\n",
    "- `availabilities`: a dictionary in which the key is the name of a person and the value is the list of all time slots that the person can make. Each time slot is represented by a string containing the date and the starting time. You can assume that each time slot has the same length so that only the start time matters. Moreover, the strings encoding the start times are formatted in a consistent way so that different strings represent different time slots, while equal strings represent the same time slot.\n",
    "\n",
    "**The function should return (not print) a dictionary where the keys are the best time slots (i.e. the slots the most number of people can make) and the value is the list of people who can make that time slot.** In other words, if there are two time slots, say A and B, that 4 people can make, and for each of the remaining time slots, at most 3 people can make it, then the dictionary should contain the time slots A and B as keys and the values should be the people who can make each time slot. \n",
    "\n",
    "**Your returned dictionary must contain all of the optimal time slots. However, the order in which time slots appear in the dictionary does not matter. Moreover, the order names appear in the list of people who can make each time slot does not matter.** See the sample outputs for illustrations. "
   ]
  },
  {
   "cell_type": "code",
   "execution_count": 47,
   "id": "7e53c7ad-543e-4f44-913c-5d31a48cbf72",
   "metadata": {},
   "outputs": [],
   "source": [
    "# Write your function here. \n",
    "\n",
    "def getBestTimes(availabilities):\n",
    "    slots_possible = {}\n",
    "    \n",
    "    for name, slots in availabilities.items():\n",
    "        # print('Names: ', name)\n",
    "        # print('Time slots: ', slots)\n",
    "        for slot in slots:\n",
    "            if slot not in slots_possible:\n",
    "                slots_possible[slot] = []\n",
    "            if name not in slots_possible[slot]:\n",
    "                slots_possible[slot].append(name)\n",
    "    # print('All possible slots for each person: ', slots_possible)\n",
    "    \n",
    "    max_count = 0\n",
    "    for slot, people in slots_possible.items():\n",
    "        if len(people) > max_count:\n",
    "            max_count = len(people)\n",
    "    # print('Max count: ', max_count)\n",
    "    \n",
    "    best = {}\n",
    "    for slot, people in slots_possible.items():\n",
    "        if len(people) == max_count:\n",
    "            best[slot] = people\n",
    "    # print('Best time slots: ', best)\n",
    "    return best"
   ]
  },
  {
   "cell_type": "code",
   "execution_count": 49,
   "id": "a143cf7d-7153-4e44-9a11-264133586e96",
   "metadata": {},
   "outputs": [
    {
     "data": {
      "text/plain": [
       "{'Tue 2pm': ['Alice', 'Bob']}"
      ]
     },
     "execution_count": 49,
     "metadata": {},
     "output_type": "execute_result"
    }
   ],
   "source": [
    "# Sample run 1\n",
    "best=getBestTimes({'Alice':['Tue 9am','Tue 9:30am', 'Tue 2pm','Wed 11am'],\\\n",
    "             'Bob':['Tue 11am','Tue 11:30am','Tue 1:30pm','Tue 2pm']})\n",
    "best\n",
    "\n",
    "# Output should be: {'Tue 2pm': ['Alice', 'Bob']}"
   ]
  },
  {
   "cell_type": "code",
   "execution_count": 51,
   "id": "1b958644-1af7-451b-839b-c5f4c17b6b84",
   "metadata": {},
   "outputs": [
    {
     "data": {
      "text/plain": [
       "{'Tue 2pm': ['Alice', 'Bob'], 'Wed 11am': ['Alice', 'Bob']}"
      ]
     },
     "execution_count": 51,
     "metadata": {},
     "output_type": "execute_result"
    }
   ],
   "source": [
    "# Sample run 2\n",
    "getBestTimes({'Alice':['Tue 9am','Tue 9:30am', 'Tue 2pm','Wed 11am'],\\\n",
    "             'Bob':['Tue 11am','Tue 11:30am','Tue 1:30pm','Tue 2pm', 'Wed 11am']})\n",
    "\n",
    "# Output should be: {'Tue 2pm': ['Alice', 'Bob'], 'Wed 11am': ['Alice', 'Bob']}"
   ]
  },
  {
   "cell_type": "code",
   "execution_count": 53,
   "id": "f9f8b0d2-9690-45b0-9e38-f71514dc84d5",
   "metadata": {},
   "outputs": [
    {
     "data": {
      "text/plain": [
       "{'Tue 2pm': ['Alice', 'Bob', 'Dylan'], 'Wed 11am': ['Alice', 'Bob', 'Charlie']}"
      ]
     },
     "execution_count": 53,
     "metadata": {},
     "output_type": "execute_result"
    }
   ],
   "source": [
    "# Sample run 3\n",
    "availabilities={}\n",
    "availabilities['Alice']=['Tue 9am','Tue 9:30am', 'Tue 2pm','Wed 11am']\n",
    "availabilities['Bob']=['Tue 11am','Tue 11:30am','Tue 1:30pm','Tue 2pm', 'Wed 11am']\n",
    "availabilities['Charlie']=['Wed 11am','Thu 11am','Fri 11am']\n",
    "availabilities['Dylan']=['Mon 9am','Mon 2pm','Tue 9am','Tue 2pm','Wed 9am']\n",
    "getBestTimes(availabilities)\n",
    "\n",
    "# Output should be: {'Tue 2pm': ['Alice', 'Bob', 'Dylan'], 'Wed 11am': ['Alice', 'Bob', 'Charlie']}"
   ]
  },
  {
   "cell_type": "code",
   "execution_count": 55,
   "id": "91fdf95d-705a-40d7-bd30-01082f64bbac",
   "metadata": {
    "tags": []
   },
   "outputs": [
    {
     "name": "stdout",
     "output_type": "stream",
     "text": [
      "Best time slots:\n",
      "\t5/12 9am\tAvailable: ['Jack', 'Jill', 'Jenna']\n",
      "\t5/13 2pm\tAvailable: ['Jack', 'Jason', 'Juan']\n",
      "\t5/12 3pm\tAvailable: ['Jason', 'Jenna', 'Juan']\n"
     ]
    }
   ],
   "source": [
    "# Sample run 4\n",
    "d={}\n",
    "d['Jack']=['5/12 9am','5/12 11am','5/12 12pm','5/13 2pm','5/13 3pm']\n",
    "d['Jill']=['5/12 8am','5/12 9am','5/12 10am','5/13 8am','5/13 9am', '5/13 10am']\n",
    "d['Jason']=['5/12 2pm','5/12 3pm','5/12 4pm','5/13 10am','5/13 2pm']\n",
    "d['Jenna']=['5/11 9pm','5/12 9am','5/12 3pm','5/12 9pm','5/13 12pm']\n",
    "d['Juan']=['5/12 2pm','5/12 3pm','5/13 2pm','5/13 3pm']\n",
    "best=getBestTimes(d)\n",
    "print('Best time slots:')\n",
    "for time in best:\n",
    "    print(f'\\t{time}\\tAvailable:',best[time])\n",
    "\n",
    "# Output should be: \n",
    "# Best time slots:\n",
    "# \t5/12 9am\tAvailable: ['Jack', 'Jill', 'Jenna']\n",
    "# \t5/13 2pm\tAvailable: ['Jack', 'Jason', 'Juan']\n",
    "# \t5/12 3pm\tAvailable: ['Jason', 'Jenna', 'Juan']"
   ]
  },
  {
   "cell_type": "markdown",
   "id": "8c590544-59c5-4506-be8a-004afc9474aa",
   "metadata": {},
   "source": [
    "## (Optional) Exercise 4.7: Longest Period without Rain\n",
    "\n",
    "This question asks you to make a tool to help a roofing company plan its work given a forecast of whether it will rain in a period of consecutive days. Write a function called `analyzeForecast` with one input argument:\n",
    "\n",
    "- `forecast`: a list of 1's and 0's indicating whether it will rain on a given day. Each 1 indicates that it will rain on that day and 0 indicates that it will not. The first entry of the list corresponds to Day 0, the second entry to Day 1, etc.\n",
    "\n",
    "The function should return two numbers:\n",
    "\n",
    "- `maxDryPeriod`: the longest number of consecutive days without rain in this given period. \n",
    "- `startDay`: the first position in the list that begins a consecutive sequence of 0's of length `maxDryPeriod`. If `maxDryPeriod` is 0, then it doesn't matter what you return for `startDay`.\n",
    "\n",
    "\n",
    "\n",
    "**Sample run 1:**\n",
    "\n",
    "```python\n",
    "maxDryPeriod,startDay=analyzeForecast([1,1,0,0,0,0,1,1,0,0,1,0,0,0])\n",
    "print(f'maxDryPeriod={maxDryPeriod} startDay={startDay}')\n",
    "```\n",
    "\n",
    "Correct output:\n",
    "\n",
    "```\n",
    "maxDryPeriod=4 startDay=2\n",
    "```\n",
    "\n",
    "**Sample run 2:**\n",
    "\n",
    "```python\n",
    "maxDryPeriod,startDay=analyzeForecast([0,0,0,0,1,1,1,0,0,0,0,0,0,0])\n",
    "print(f'maxDryPeriod={maxDryPeriod} startDay={startDay}')\n",
    "```\n",
    "\n",
    "Correct output:\n",
    "\n",
    "```\n",
    "maxDryPeriod=7 startDay=7\n",
    "```\n",
    "\n",
    "**Sample run 3:**\n",
    "\n",
    "```python\n",
    "maxDryPeriod,startDay=analyzeForecast([0,1,0,0,1,1,1,0,0,0,1,0,0,0])\n",
    "print(f'maxDryPeriod={maxDryPeriod} startDay={startDay}')\n",
    "```\n",
    "\n",
    "Correct output\n",
    "\n",
    "```\n",
    "maxDryPeriod=3 startDay=7\n",
    "```"
   ]
  },
  {
   "cell_type": "markdown",
   "id": "916637dc-2609-4482-961f-fb846d8c7a97",
   "metadata": {},
   "source": [
    "**Hint:**\n",
    "\n",
    "One way of solving the problem is to keep track of the length of the current dry period as in the table below:\n",
    "\n",
    "|Day |Rain? |  Length of Current Dry Period| \n",
    "|--|--|--|\n",
    "|0|1 |0|\n",
    "|1|1 |0|\n",
    "|2|0 |1|\n",
    "|3|0  |2|\n",
    "|4|0|3|\n",
    "|5|0 |4 |\n",
    "|6|1 |0 |\n",
    "|7|1 |0 |\n",
    "|8| 0 |1|\n",
    "|9| 0 | 2|\n",
    "|10| 1| 0 |\n",
    "|11| 0 |1|\n",
    "|12| 0 |2|\n",
    "|13|0 | 3|\n",
    "\n",
    "In the above table, the first column correspond to the positions of the list. The second column is the corresponding value in the list `forecast`. The last column is 0 whenever the current day is wet, and increments by 1 whenever the current day is dry. The desired \"maxDryPeriod\" is the maximum entry in the last column, and the desired \"startDay\" is equal to `t-maxDryPeriod+1` where `t` is the first \"Day\" in which the last column attains the value \"maxDryPeriod\". In the above example, \"maxDryPeriod\" is 4 and \"t\" is 5, so \"startPosition\" is 2."
   ]
  },
  {
   "cell_type": "code",
   "execution_count": 57,
   "id": "e9fc863a-d8c7-487c-b838-67f176693607",
   "metadata": {
    "tags": []
   },
   "outputs": [
    {
     "name": "stdout",
     "output_type": "stream",
     "text": [
      "Day : 0\n",
      "Current Max Dry Period:  0\n",
      "Current Start Day:  0\n",
      "Day : 1\n",
      "Current Max Dry Period:  0\n",
      "Current Start Day:  0\n",
      "Day : 2\n",
      "Current Max Dry Period:  1\n",
      "Current Start Day:  2\n",
      "Day : 3\n",
      "Current Max Dry Period:  2\n",
      "Current Start Day:  2\n",
      "Day : 4\n",
      "Current Max Dry Period:  3\n",
      "Current Start Day:  2\n",
      "Day : 5\n",
      "Current Max Dry Period:  4\n",
      "Current Start Day:  2\n",
      "Day : 6\n",
      "Current Max Dry Period:  4\n",
      "Current Start Day:  2\n",
      "Day : 7\n",
      "Current Max Dry Period:  4\n",
      "Current Start Day:  2\n",
      "Day : 8\n",
      "Current Max Dry Period:  4\n",
      "Current Start Day:  2\n",
      "Day : 9\n",
      "Current Max Dry Period:  4\n",
      "Current Start Day:  2\n",
      "Day : 10\n",
      "Current Max Dry Period:  4\n",
      "Current Start Day:  2\n",
      "Day : 11\n",
      "Current Max Dry Period:  4\n",
      "Current Start Day:  2\n",
      "Day : 12\n",
      "Current Max Dry Period:  4\n",
      "Current Start Day:  2\n",
      "Day : 13\n",
      "Current Max Dry Period:  4\n",
      "Current Start Day:  2\n",
      "Max Dry Period:  4\n",
      "Start Day:  2\n"
     ]
    }
   ],
   "source": [
    "# Version for debugging, with with intermediate print statements\n",
    "\n",
    "forecast = [1,1,0,0,0,0,1,1,0,0,1,0,0,0]\n",
    "\n",
    "consecutive_dry_period = 0\n",
    "maxDryPeriod = 0\n",
    "current_startDay = 0\n",
    "startDay = 0\n",
    "\n",
    "for day in range(len(forecast)):\n",
    "    print('Day :', day)\n",
    "    if forecast[day] == 0: \n",
    "        if consecutive_dry_period == 0:\n",
    "            current_start = day\n",
    "        consecutive_dry_period += 1\n",
    "        if consecutive_dry_period > maxDryPeriod:\n",
    "            maxDryPeriod = consecutive_dry_period\n",
    "            startDay = current_start\n",
    "    else:\n",
    "        consecutive_dry_period = 0\n",
    "    print('Current Max Dry Period: ', maxDryPeriod)\n",
    "    print('Current Start Day: ', startDay)\n",
    "\n",
    "print('Max Dry Period: ', maxDryPeriod)\n",
    "print('Start Day: ', startDay)"
   ]
  },
  {
   "cell_type": "code",
   "execution_count": 59,
   "id": "4c415a08-a9d0-4223-ad24-46692ef99871",
   "metadata": {
    "tags": []
   },
   "outputs": [],
   "source": [
    "# Final code\n",
    "\n",
    "def analyzeForecast(forecast):\n",
    "    consecutive_dry_period = 0\n",
    "    maxDryPeriod = 0\n",
    "    current_startDay = 0\n",
    "    startDay = 0\n",
    "\n",
    "    for day in range(len(forecast)):\n",
    "        if forecast[day] == 0: \n",
    "            if consecutive_dry_period == 0:\n",
    "                current_start = day\n",
    "            consecutive_dry_period += 1\n",
    "            if consecutive_dry_period > maxDryPeriod:\n",
    "                maxDryPeriod = consecutive_dry_period\n",
    "                startDay = current_start\n",
    "        else:\n",
    "            consecutive_dry_period = 0\n",
    "\n",
    "    return maxDryPeriod, startDay"
   ]
  },
  {
   "cell_type": "code",
   "execution_count": 61,
   "id": "0b3921ed-2483-4ec9-8339-92c50e7a7e47",
   "metadata": {
    "tags": []
   },
   "outputs": [
    {
     "name": "stdout",
     "output_type": "stream",
     "text": [
      "maxDryPeriod=4 startDay=2\n"
     ]
    }
   ],
   "source": [
    "maxDryPeriod,startDay=analyzeForecast([1,1,0,0,0,0,1,1,0,0,1,0,0,0])\n",
    "print(f'maxDryPeriod={maxDryPeriod} startDay={startDay}')\n",
    "\n",
    "# Output should be: maxDryPeriod=4 startDay=2"
   ]
  },
  {
   "cell_type": "code",
   "execution_count": 63,
   "id": "f9cec566-2aae-4c91-a4b2-bc3cf8d5530c",
   "metadata": {
    "tags": []
   },
   "outputs": [
    {
     "name": "stdout",
     "output_type": "stream",
     "text": [
      "maxDryPeriod=7 startDay=7\n"
     ]
    }
   ],
   "source": [
    "maxDryPeriod,startDay=analyzeForecast([0,0,0,0,1,1,1,0,0,0,0,0,0,0])\n",
    "print(f'maxDryPeriod={maxDryPeriod} startDay={startDay}')\n",
    "\n",
    "# Output should be: maxDryPeriod=7 startDay=7"
   ]
  },
  {
   "cell_type": "code",
   "execution_count": 65,
   "id": "5f10b070-3169-4f8a-8feb-36763da748f6",
   "metadata": {
    "tags": []
   },
   "outputs": [
    {
     "name": "stdout",
     "output_type": "stream",
     "text": [
      "maxDryPeriod=3 startDay=7\n"
     ]
    }
   ],
   "source": [
    "maxDryPeriod,startDay=analyzeForecast([0,1,0,0,1,1,1,0,0,0,1,0,0,0])\n",
    "print(f'maxDryPeriod={maxDryPeriod} startDay={startDay}')\n",
    "\n",
    "# Output should be: maxDryPeriod=3 startDay=7"
   ]
  }
 ],
 "metadata": {
  "kernelspec": {
   "display_name": "Python 3 (ipykernel)",
   "language": "python",
   "name": "python3"
  },
  "language_info": {
   "codemirror_mode": {
    "name": "ipython",
    "version": 3
   },
   "file_extension": ".py",
   "mimetype": "text/x-python",
   "name": "python",
   "nbconvert_exporter": "python",
   "pygments_lexer": "ipython3",
   "version": "3.12.4"
  }
 },
 "nbformat": 4,
 "nbformat_minor": 5
}
