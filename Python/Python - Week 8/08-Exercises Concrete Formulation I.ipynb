{
 "cells": [
  {
   "cell_type": "markdown",
   "id": "06d0630a-ac1c-4f2a-b8a6-39422dfac1de",
   "metadata": {},
   "source": [
    "# Exercises for Week 8: Concrete Formulation I"
   ]
  },
  {
   "cell_type": "markdown",
   "id": "6c17a8eb-884a-4384-a7e1-23c9c3c1a5a1",
   "metadata": {},
   "source": [
    "## Name: XXX"
   ]
  },
  {
   "cell_type": "markdown",
   "id": "2e1ed1d7-6e6b-4446-b49f-273b23582a28",
   "metadata": {},
   "source": [
    "## Grading Scheme:\n",
    "\n",
    "- **3 (Essentially perfect)**: All required questions have a complete solution that is essentially correct. This means that the math formulation correctly models the given problem and the code outputs the correct results. However, it is okay if the code returns another optimal solution that is equally good. \n",
    "- **2 (Solid effort)**: Several required questions may be incomplete or there are serious errors or logical flaws, but at least two thirds has a correct solution.\n",
    "- **1 (Some effort)**: Between one third and two thirds of the required questions have a correct solution.\n",
    "- **0 (No submission or essentially blank)**: No submission on Brightspace by the deadline, or less than one third of the required questions have a correct solution.\n",
    "\n",
    "Every question is required unless it is marked with \"(optional)\". **To ensure that you get 3 out of 3, before you submit, restart the Kernel and run all, and check the following:**\n",
    "\n",
    "- All code outputs are exactly as the sample outputs given in the exercises PDF.  \n",
    "- All math formulations have **linear** objectives and constraints, and models the given problem in a **correct** and **complete** way. This means that your constraints allow every solution that the problem text would allow, and disallow every solution that the problem text disallows. \n",
    "\n",
    "**You need to develop the habit of meticulously checking your outputs and math in order to ensure the best grade.**  The weekly exercises are intended to be completed in 4-5 hours, excluding class time. You should budget at least this much time per week for these exercises.\n",
    "\n",
    "**After you submit, download the .ipynb file you uploaded to Brightspace and double check that you uploaded the correct file, and that every question has been properly saved! It is your responsibility to submit the correct file before the deadline.**"
   ]
  },
  {
   "cell_type": "markdown",
   "id": "8a4d627d-bf67-4c20-b5df-34229682bef4",
   "metadata": {},
   "source": [
    "## Exercise 8.1: Project Sub-Contracting\n",
    "\n",
    "Tom Burke, owner of Burke Construction, has promised to complete five projects this winter. Burke Construction has 10 workers that will work 40 hours a week for 12 weeks this winter. Since this is a limited workforce, Tom knows that he will not be able to complete all of his construction projects without subcontracting some of them. In the table below, he has estimated the amount of labor hours required by each project, and the profit to his company. (All profits are in thousands of dollars.)\n",
    "\n",
    "| Project | 1 | 2 | 3 | 4 | 5 |\n",
    "|--|--|--|--|--|--|\n",
    "| Labor hours required | 1300 | 950 | 1000 | 1400 | 1600 |\n",
    "| Profit (if done by own company) | 30 | 10 | 26 | 18 | 20 |\n",
    "| Profit (if subcontracted) | 6 | 2 | 8 | 9 | 4 |\n",
    "\n",
    "To maximize profit, which jobs should Tom schedule for his company, and which should be subcontracted? (Assume that projects cannot be partially subcontracted; that is, a project will be completed entirely by either Burke Construction or the subcontractor.) \n",
    "\n",
    "**a)** Describe in English the decision, objective and constraints in the above problem. Try your best to use **helpful keywords** and ensure that the descriptions are **precise**, **complete** and **succinct**."
   ]
  },
  {
   "cell_type": "markdown",
   "id": "ceeef1c0-e20e-4fc5-860a-626f0a7ba517",
   "metadata": {},
   "source": [
    "**Decision:** \n",
    "\n",
    "**Objective:**\n",
    "\n",
    "**Constraints:** \n",
    "\n"
   ]
  },
  {
   "cell_type": "markdown",
   "id": "ca81672c-a15a-4b9d-b6bf-5796433935ee",
   "metadata": {},
   "source": [
    "**b)** Formulate the above as a linear optimization model and typeset it using LaTex."
   ]
  },
  {
   "cell_type": "markdown",
   "id": "e4f94de4-8016-4a71-a227-127b034528aa",
   "metadata": {},
   "source": [
    "**Decision variable:**\n",
    "\n",
    "\n",
    "**Objective:**\n",
    "\n",
    "\n",
    "\n",
    "\n",
    "**Constraints:**\n",
    "\n",
    "\n",
    "\n"
   ]
  },
  {
   "cell_type": "markdown",
   "id": "04c8a79f-26fa-41c7-b14a-7ac1510e2957",
   "metadata": {},
   "source": [
    "## Exercise 8.2: Supply Chain Planning\n",
    "\n",
    "The following table provides the shipping cost for a certain item, from three of Amazon’s fulfillment centers (FC) to four regions (A, B, C and D). \n",
    "\n",
    "| Region \\ FC  | 1 | 2 | 3 |\n",
    "|--|--|--|--|\n",
    "| A. Kings County, NY | 20 | 8 | 25 | \n",
    "| B. Los Angeles County, CA | 18 | 23 | 8 | \n",
    "| C. King County, WA | 21 | 24 | 8 | \n",
    "| D. Harris County, TX | 8 | 8 | 19 |\n",
    "\n",
    "The following table summarizes the weekly demand for the item from each region.\n",
    "\n",
    " | Region A | Region B | Region C | Region D|\n",
    "|--|--|--|--|\n",
    "|30 | 50 | 10 | 20 |\n",
    "\n",
    "Suppose that each FC is able to ship up to 40 units each week in total. Formulate a linear program to determine the minimum transportation cost needed to satisfy all demand while respecting FC capacities, as well as the optimal shipment plan."
   ]
  },
  {
   "cell_type": "markdown",
   "id": "63c81ae5-46a0-4c00-a7fb-1215ebf303c6",
   "metadata": {},
   "source": [
    "**a)** Describe in English the decision, objective and constraints in the above problem.  Try your best to use **helpful keywords** and ensure that the descriptions are **precise**, **complete** and **succinct**.\n",
    "\n",
    "**Decision:** \n",
    "\n",
    "**Objective:**\n",
    "\n",
    "**Constraints:**\n",
    "\n",
    "\n"
   ]
  },
  {
   "cell_type": "markdown",
   "id": "9f9f1ca2-1197-4cfd-8eb5-4449b3607076",
   "metadata": {},
   "source": [
    "**b)** Write a linear optimization formulation of the above and typeset it using Latex."
   ]
  },
  {
   "cell_type": "markdown",
   "id": "aa59ac46-049c-48d0-b321-66b568784794",
   "metadata": {},
   "source": [
    "**Decision variables:** \n",
    "\n",
    "\n",
    "**Objective:** \n",
    "\n",
    "\n",
    "**Constraints:**\n",
    "\n",
    "\n",
    "\n"
   ]
  },
  {
   "cell_type": "markdown",
   "id": "d612df06-d299-492b-bb45-5c224cccab6d",
   "metadata": {},
   "source": [
    "## Exercise 8.3: Assignment of Consultants to Projects\n",
    "\n",
    "There are two projects and four consultants: Alice, Bob, Charles, and Daphne. Each consultant can be assigned to at most one project, and each project requires at least two consultants. As a manager, you evaluated the relative fitness of the four consultants for each project on a scale of 1 to 5, with 5 being the best fit and 1 being the worst.\n",
    "\n",
    "| ` `| Project 1 | Project 2 |\n",
    "|--|--|--|\n",
    "|Alice | 5 | 2 |\n",
    "|Bob | 3 | 2 |\n",
    "|Charles | 4 | 5 |\n",
    "|Daphne | 3 | 1 |\n",
    " \n",
    "Furthermore, Alice, Bob and Daphne are senior consultants and each project requires at least one senior on the team. \n",
    "\n",
    "Formulate a linear optimization problem to maximize the total fitness of the consultants to their assigned project, subject to all the business constraints."
   ]
  },
  {
   "cell_type": "markdown",
   "id": "3ddd02de-6c0b-43ca-b5a9-acabbcb930ca",
   "metadata": {},
   "source": [
    "### English Description\n",
    "\n",
    "**Decision:** \n",
    "\n",
    "**Objective:**\n",
    "\n",
    "**Constraints:**\n",
    "\n",
    "### Concrete Formulation\n",
    "\n",
    "**Decision variables:** \n",
    "\n",
    "\n",
    "\n",
    "**Objective:**\n",
    "\n",
    "\n",
    "\n",
    "**Constraints:** \n",
    "\n",
    "\n",
    "\n",
    "\n"
   ]
  },
  {
   "cell_type": "markdown",
   "id": "6ca5713c-2e32-4c29-af8f-485640b62100",
   "metadata": {},
   "source": [
    "## Exercise 8.4: Optimal Sensor Placement\n",
    "\n",
    "To reduce traffic congestion around USC, the university plans to install sensors at various streets in order to monitor every segment of every street around the university. To be precise, a segment is defined to be the line between two adjacent intersections. In order to monitor a segment, it suffices to have a sensor installed at one of the two ends. For example, consider the following map, which has 5 intersections (A, B, C, D, E) and 6 segment (A-B, A-C, C-D, B-D, C-E, and D-E). Installing a sensor at intersection A would monitor segments A-B and A-C, but no other segments.\n",
    "\n",
    "![Map for Q6](08-Map.png)\n",
    "\n",
    "The following table summarizes the cost of installing a sensor at each intersection\n",
    "\n",
    "|` ` | A | B | C | D | E |\n",
    "|--|--|--|--|--|--|\n",
    "|Cost (\\$) | 100 | 150 | 180 | 160 | 130 |\n",
    "\n",
    "Moreoer, in order to install sensors at intersections B or C, the university would have to apply for a special permit from the city, which costs \\$50, and this cost is in addition to the installation costs above. Once the university has this permit, then it can install sensors at both B and C under the same permit. \n",
    "\n",
    "Formulate a linear optimiztaion problem to decide which intersections to install sensors in order to minimize cost, subject to monitoring every segment."
   ]
  },
  {
   "cell_type": "markdown",
   "id": "2aaa27b8-e31d-4acc-8f83-7456acd72882",
   "metadata": {},
   "source": [
    "### English Description\n",
    "\n",
    "\n",
    "**Decision:** \n",
    "\n",
    "**Objective:**\n",
    "\n",
    "**Constraints:** \n",
    "\n",
    "\n"
   ]
  },
  {
   "cell_type": "markdown",
   "id": "f49c0ad8-a7b9-4de4-aed6-88f29cf5fbd7",
   "metadata": {},
   "source": [
    "### Concrete Formulation\n",
    "\n",
    "**Decision Variables:**\n",
    "\n",
    "\n",
    "**Objective:**\n",
    "\n",
    "\n",
    "\n",
    "**Constraints:**\n",
    "\n",
    "\n",
    "\n",
    "\n"
   ]
  },
  {
   "cell_type": "markdown",
   "id": "ba38c474-5d25-426c-a1b3-48d1b0004d34",
   "metadata": {},
   "source": [
    "## Exercise 8.5: Warehouse Planning\n",
    "\n",
    "The following table provides the shipping cost for one-pound packages, from 7 of Amazon’s fulfillment centers (FC) to 4 regions. \n",
    "\n",
    "| Region  | 1 | 2 | 3 | 4 | 5 | 6 | 7 |\n",
    "|--|--|--|--|--|--|--|--|\n",
    "| A. Kings County, NY | 20.25 | 7.70 | 24.59 | 23.26 | 7.69 | 7.70 | 7.69 |\n",
    "| B. Los Angeles County, CA | 18.43 | 23.30 | 7.69 | 7.69 | 24.16 | 22.12 | 24.91 |\n",
    "| C. King County, WA | 21.28 | 24.18 | 7.70 | 17.67 | 23.91 | 22.98 | 24.57 |\n",
    "| D. Harris County, TX | 7.69 | 7.70 | 18.73 | 7.71 | 18.79 | 7.70 | 19.47 |\n",
    "\n",
    "A shipping cost of $10 or less indicates that the package will be transported via ground shipping; otherwise, it will be transported via air shipping. \n",
    "\n",
    "For a certain item that weights a pound, Amazon would like to stock it in as few FCs as possible, while guaranteeing that it can fulfill demand in all 4 regions via ground shipping. Moreover, \n",
    "\n",
    "- the item must be stocked in at least one of FCs 5 or 7;\n",
    "- the item cannot be stocked in FC 4 unless it is also stocked in FC 1; \n",
    "- if the item is stocked in FC 2, then it cannot also be stocked in FC 3. \n",
    "\n",
    "Formulate a linear optimization problem to find the minimum number of FCs needed. "
   ]
  },
  {
   "cell_type": "markdown",
   "id": "abef9b4c-1b9f-4adb-8d2d-f60546061580",
   "metadata": {},
   "source": [
    "### English Description"
   ]
  },
  {
   "cell_type": "markdown",
   "id": "b9c43139-69c7-459c-90dc-4a44b35bd27c",
   "metadata": {},
   "source": [
    "**Decision:** \n",
    "\n",
    "**Objective:**\n",
    "\n",
    "\n",
    "**Constraints:** \n",
    "\n",
    "\n",
    "\n",
    "\n"
   ]
  },
  {
   "cell_type": "markdown",
   "id": "5b0c228b-1f58-479c-afa9-fd558b550371",
   "metadata": {},
   "source": [
    "### Concrete Formulation\n",
    "\n",
    "**Decision Variables:** \n",
    "\n",
    "\n",
    "**Objective and constraints:**\n",
    "\n",
    "\n",
    "\n"
   ]
  },
  {
   "cell_type": "markdown",
   "id": "eb51d6bf-b815-4636-b257-7667028f2c28",
   "metadata": {},
   "source": [
    "## Exercise 8.6: Nurse Scheduling\n",
    "\n",
    "Hospital administrators must schedule nurses so that the hospital’s patients are provided with adequate care. At the same time, in the face of tighter competition in the health care industry, they must pay careful attention to keeping costs down. \n",
    "\n",
    "From historical records, administrators estimated the minimum number of nurses to have on hand for the various times of the day, as shown in the following table. \n",
    "\n",
    "| Shift | Time | Minimum number of nurses needed |\n",
    "|--|--|--|\n",
    "| 1 | Midnight-4am | 5 |\n",
    "| 2 | 4am-8am | 12 |\n",
    "| 3 | 8am-noon | 14 |\n",
    "| 4 | noon-4pm | 8 |\n",
    "| 5 | 4pm-8pm | 14 |\n",
    "| 6 | 8pm-Midnight | 10 |\n",
    "\n",
    "Nurses work 8 hours a day in two consecutive shifts. As a result, in each shift, there are two types of nurses: those that started in the previous shift (and are now working their second shift), and those that just started in this shift (and will be working in the next shift as well). Note that if a nurse who starts at the 8pm-Midnight shift would finish work on the next day's Midnight-4am shift.\n",
    "\n",
    "Formulate a linear optimization problem to minimize the total number of nurses subject to being able to fulfill all business constraints."
   ]
  },
  {
   "cell_type": "markdown",
   "id": "5e66c2b6-7114-4551-82ab-aef07e7fe817",
   "metadata": {},
   "source": [
    "### English Description\n",
    "\n",
    "**Decision:** \n",
    "\n",
    "**Objective:**\n",
    "\n",
    "**Constraints:** \n",
    "\n",
    "### Concrete Formulation\n",
    "\n",
    "**Decision variable:** \n",
    "\n",
    "**Objective**\n",
    "\n",
    "\n",
    "**Constraints:**\n",
    "\n",
    "\n",
    "\n"
   ]
  },
  {
   "cell_type": "markdown",
   "id": "3c366437-d722-41bd-8de4-3985c4aaea9d",
   "metadata": {},
   "source": [
    "## (Optional) Exercise 8.7: Off-Campus Security\n",
    "\n",
    "USC would like to protect every intersection around USC by stationing security staff, so that every intersection either has a staff stationed, or is connected directly to another intersection that has a staff stationed. For example, in the following sample map with 10 intersections, a staff stationed at intersection A is able to protect the intersections A, B and E; a staff stationed at intersection E is able to protect intersections A, E, F and I.\n",
    "\n",
    "![Sample Map for Q2](08-Map2.png)\n",
    "\n",
    "For the above map, formulate a linear optimization problem to minimize the total number of staff needed, subject to protecting all 10 intersections, as well as satisfying the following constraints:\n",
    "\n",
    "- Staff cannot be stationed at both intersections A and B.\n",
    "- At least three of E, F, G and H must have a staff directly stationed. \n",
    "- No one can be stationed at intersection C.\n",
    "- If someone is stationed at D, then at least one of H or J must be unstationed.\n",
    "\n",
    "**a)** What is the decision (in words)?\n",
    "\n",
    "\n",
    "**b)** What is the objective (in words)?\n",
    "\n",
    "\n",
    "\n",
    "**c)** Other than the constraints listed in bullets above, describe another constraint implied by the problem text (in words). \n",
    "\n",
    "\n"
   ]
  },
  {
   "cell_type": "markdown",
   "id": "bee2e5e4-4a3d-46d2-a56b-b03cec356163",
   "metadata": {},
   "source": [
    "\n",
    "**d)** Write a concrete formulation using the correct mathematical notation, specifying the decision variables, the objective function and all constraints. \n",
    "\n",
    "**Decision Variables:** \n",
    "\n",
    "\n",
    "**Objective:**\n",
    "\n",
    "\n",
    "**Constraints:**\n",
    "\n",
    "\n",
    "\n"
   ]
  }
 ],
 "metadata": {
  "kernelspec": {
   "display_name": "Python-3-with-Gurobi",
   "language": "python",
   "name": "python-3-with-gurobi"
  },
  "language_info": {
   "codemirror_mode": {
    "name": "ipython",
    "version": 3
   },
   "file_extension": ".py",
   "mimetype": "text/x-python",
   "name": "python",
   "nbconvert_exporter": "python",
   "pygments_lexer": "ipython3",
   "version": "3.11.4"
  }
 },
 "nbformat": 4,
 "nbformat_minor": 5
}
