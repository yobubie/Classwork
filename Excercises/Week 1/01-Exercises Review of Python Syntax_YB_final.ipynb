{
 "cells": [
  {
   "cell_type": "markdown",
   "id": "63788b0f-50e0-40b1-8682-d0457ac4069f",
   "metadata": {},
   "source": [
    "# Exercises for Week 1: Review of Python Syntax\n"
   ]
  },
  {
   "cell_type": "markdown",
   "id": "d6379bdc-1cc5-49f5-852f-f3f9e70e311c",
   "metadata": {},
   "source": [
    "## Name: Yongbum Kim"
   ]
  },
  {
   "cell_type": "markdown",
   "id": "060fbdd6-bb9d-4223-8152-5cd92a5aaa28",
   "metadata": {},
   "source": [
    "## Grading scheme for the weekly exercises:\n",
    "\n",
    "Download the Jupyter notebook containing all the exercises from Blackboard and submit it there before the due date. The grading scheme on all the weekly exercises are provided below.\n",
    "\n",
    "- **3 (Essentially perfect)**: All required questions have a complete solution and all outputs are essentially correct based on the sample outputs.\n",
    "- **2 (Solid effort)**: Several required questions may be incomplete or the outputs incorrect, but at least two thirds has a correct solution.\n",
    "- **1 (Some effort)**: Between one third and two thirds of the required questions have a correct solution.\n",
    "- **0 (No submission or essentially blank)**: No submission on Brightspace by the deadline, or less than one third of the required questions have a correct solution.\n",
    "\n",
    "Every question is required unless it is marked with \"(optional)\" (which are usually the last few questions). **To ensure that you get 3 out of 3, before you submit, restart the Kernel and run all, and check that all of the outputs match the sample outputs from the PDF version of the exercises. You need to develop the habit of meticulously checking your outputs in order to ensure the best grade.** I will not count minor formating, rounding, or importing issues, but otherwise your output should match the sample outputs exactly when rerun.  The weekly exercises are intended to be completed in 4-5 hours, excluding class time. You should budget at least this much time per week for these exercises."
   ]
  },
  {
   "cell_type": "markdown",
   "id": "47fc1dc8-9d43-406b-8e54-f9b5e7a72be5",
   "metadata": {},
   "source": [
    "## Exercise 1.1: Automating a Calculation\n",
    "\n",
    "**a)**  Write a program that asks the user for the quantity sold and the price per unit and multiply them to calculate the total revenue, as in the sample run below. (Hint: you need to convert from string to float before multiplying.)"
   ]
  },
  {
   "cell_type": "code",
   "execution_count": 33,
   "id": "bc12549c-bdbc-462e-9467-d481e80945b8",
   "metadata": {
    "tags": []
   },
   "outputs": [
    {
     "name": "stdin",
     "output_type": "stream",
     "text": [
      "Input quantity sold:  4\n",
      "Input the price per unit:  3.5\n"
     ]
    },
    {
     "name": "stdout",
     "output_type": "stream",
     "text": [
      "Total revenue is $14.0.\n"
     ]
    }
   ],
   "source": [
    "# Sample run"
   ]
  },
  {
   "cell_type": "code",
   "execution_count": 82,
   "id": "9df7e277-ad87-4d87-bd9a-668adbde0a9c",
   "metadata": {
    "tags": []
   },
   "outputs": [
    {
     "name": "stdin",
     "output_type": "stream",
     "text": [
      "Input quantity sold:  4\n",
      "Input the price per unit:  3.5\n"
     ]
    },
    {
     "name": "stdout",
     "output_type": "stream",
     "text": [
      "Total revenue is $14.0.\n"
     ]
    }
   ],
   "source": [
    "# Write your code for Exercise 1.1 a) here.\n",
    "\n",
    "quantity_sold = float(input('Input quantity sold: '))\n",
    "price_per_unit = float(input('Input the price per unit: '))\n",
    "\n",
    "total_revenue = quantity_sold * price_per_unit\n",
    "print(\"Total revenue is $\" + str(total_revenue) + \".\")"
   ]
  },
  {
   "cell_type": "markdown",
   "id": "cfd4e017-d29b-4413-a61a-e71e5f4f1809",
   "metadata": {},
   "source": [
    "**b)** Write a program that calculates the present value of a certain investment, which will pay off a cash value of $C$ in $n$ years. The program should ask the user to input the final cash value $C$, the annual interest rate $r$ (in percentage points), and the number of years $n$. The formula for present value $V$ is\n",
    "\n",
    "$$V=\\frac{C}{(1+\\frac{r}{100})^n}$$\n",
    "\n",
    "You should round the final answer to two decimal places, as in the sample run below."
   ]
  },
  {
   "cell_type": "code",
   "execution_count": 34,
   "id": "1ff3a7a2-360b-47c5-9c15-a695e238d566",
   "metadata": {},
   "outputs": [
    {
     "name": "stdin",
     "output_type": "stream",
     "text": [
      "Input final cash value:  300000\n",
      "Input annual interest rate in percent:  5.5\n",
      "Input number of years:  30\n"
     ]
    },
    {
     "name": "stdout",
     "output_type": "stream",
     "text": [
      "The present value is $60193.2.\n"
     ]
    }
   ],
   "source": [
    "# Sample run"
   ]
  },
  {
   "cell_type": "code",
   "execution_count": 80,
   "id": "381e2c5b-c6bd-4a35-b2ae-f6b55c204b78",
   "metadata": {},
   "outputs": [
    {
     "name": "stdin",
     "output_type": "stream",
     "text": [
      "Input final cash value:  300000\n",
      "Input annual interest rate in percent:  5.5\n",
      "Input number of years:  30\n"
     ]
    },
    {
     "name": "stdout",
     "output_type": "stream",
     "text": [
      "The present value is $60193.2.\n"
     ]
    }
   ],
   "source": [
    "# Write your code for Exercise 1.1 b) here.\n",
    "\n",
    "final_cash_value = float(input('Input final cash value: '))\n",
    "annual_interest_rate = float(input('Input annual interest rate in percent: '))\n",
    "number_of_years = float(input('Input number of years: '))\n",
    "\n",
    "present_value = final_cash_value / ((1 + (annual_interest_rate / 100)) ** number_of_years)\n",
    "present_value_round = round(present_value, 2)\n",
    "\n",
    "print(\"The present value is $\" + str(present_value_round) + \".\")"
   ]
  },
  {
   "cell_type": "markdown",
   "id": "42aa1c68-3772-48c2-b452-50cdf1c7a4f0",
   "metadata": {},
   "source": [
    "## Exercise 1.2: Automating Simple Logic\n",
    "\n",
    "### a) Basestock Policy in Inventory Management\n",
    "\n",
    "Write a program that asks the user for the current inventory level. \n",
    "\n",
    "- If the inventory is at least equal to the basestock level of $100$, then output \"Sufficient inventory. No need to order.\" \n",
    "- Otherwise, output \"Order x units\", where $x$ is the difference between the basestock level and the current inventory."
   ]
  },
  {
   "cell_type": "code",
   "execution_count": 39,
   "id": "fbf1a77a-ac96-4507-aa23-cad7516de0f2",
   "metadata": {},
   "outputs": [
    {
     "name": "stdin",
     "output_type": "stream",
     "text": [
      "Current inventory:  75\n"
     ]
    },
    {
     "name": "stdout",
     "output_type": "stream",
     "text": [
      "Order 25 units.\n"
     ]
    }
   ],
   "source": [
    "# Sample run"
   ]
  },
  {
   "cell_type": "code",
   "execution_count": 101,
   "id": "a950953b-626e-4f7b-8855-96ec3e3e64e9",
   "metadata": {},
   "outputs": [
    {
     "name": "stdin",
     "output_type": "stream",
     "text": [
      "Current inventory:  75\n"
     ]
    },
    {
     "name": "stdout",
     "output_type": "stream",
     "text": [
      "Order 25 units.\n"
     ]
    }
   ],
   "source": [
    "# Write your code here\n",
    "\n",
    "inventory = int(input('Current inventory: '))\n",
    "basestock = 100\n",
    "\n",
    "if inventory == basestock:\n",
    "    print(\"Sufficient inventory. No need to order.\")\n",
    "else:\n",
    "    x = basestock - inventory\n",
    "    print(\"Order\" + \" \" + str(x) + \" \" + \"units.\")"
   ]
  },
  {
   "cell_type": "markdown",
   "id": "4ba6d43a-f716-4434-8ea0-a4941893c48e",
   "metadata": {},
   "source": [
    "### b) Payroll Calculator"
   ]
  },
  {
   "cell_type": "markdown",
   "id": "add06f7c-ea8c-4542-9902-daadd299c3ba",
   "metadata": {},
   "source": [
    "Write a program that asks the user to input the number of hours worked this week, and calculates the total pay based on the following contract: for the first 40 hours, the hourly pay is 10. Each hour worked over 40 is compensated at an increased rate of 15 per hour."
   ]
  },
  {
   "cell_type": "code",
   "execution_count": 40,
   "id": "bba902e1-f0c0-4e87-aaf3-4b4b72fc2989",
   "metadata": {},
   "outputs": [
    {
     "name": "stdin",
     "output_type": "stream",
     "text": [
      "Hours worked this week:  42.5\n"
     ]
    },
    {
     "name": "stdout",
     "output_type": "stream",
     "text": [
      "Total pay is $437.5.\n"
     ]
    }
   ],
   "source": [
    "# Sample run"
   ]
  },
  {
   "cell_type": "code",
   "execution_count": 86,
   "id": "db643902-cb4b-4bde-8d21-e8b47bba027a",
   "metadata": {},
   "outputs": [
    {
     "name": "stdin",
     "output_type": "stream",
     "text": [
      "Hours worked this week:  42.5\n"
     ]
    },
    {
     "name": "stdout",
     "output_type": "stream",
     "text": [
      "Total pay is $437.5.\n"
     ]
    }
   ],
   "source": [
    "# Write your code here\n",
    "\n",
    "def payroll_calculator(hours_worked, hourly_pay=10, hourly_pay_over_40=15):\n",
    "    if hours_worked <= 40:\n",
    "        total_pay = hours_worked * hourly_pay\n",
    "    else:\n",
    "        total_pay = ((40 * hourly_pay) + ((hours_worked - 40) * hourly_pay_over_40))\n",
    "    return (\"Total pay is $\" + str(total_pay) + \".\")\n",
    "\n",
    "hours_worked_this_week = float(input('Hours worked this week: '))\n",
    "\n",
    "print(payroll_calculator(hours_worked_this_week))"
   ]
  },
  {
   "cell_type": "markdown",
   "id": "f169a256-794c-4306-8e5b-b7274d1d3729",
   "metadata": {},
   "source": [
    "### c): Grade Conversion\n",
    "\n",
    "Write a program that asks the user to input a numerical score, and convert it into a letter grade based on the following table:\n",
    "\n",
    "|Score | Grade |\n",
    "| -- | -- |\n",
    "|At least 90 | A  |\n",
    "|At least 80 but less than 90| B |\n",
    "|At least 70 but less than 80| C |\n",
    "| At least 60 but less than 70| D |\n",
    "|Less than 60| F |\n"
   ]
  },
  {
   "cell_type": "code",
   "execution_count": 41,
   "id": "3898ee53-69a6-4db6-b698-4a797404d21b",
   "metadata": {},
   "outputs": [
    {
     "name": "stdin",
     "output_type": "stream",
     "text": [
      "Enter numerical score:  95\n"
     ]
    },
    {
     "name": "stdout",
     "output_type": "stream",
     "text": [
      "Letter grade: A\n"
     ]
    }
   ],
   "source": [
    "# Sample run"
   ]
  },
  {
   "cell_type": "code",
   "execution_count": 88,
   "id": "16815144-1c42-4dad-81c8-5ed73c695549",
   "metadata": {},
   "outputs": [
    {
     "name": "stdin",
     "output_type": "stream",
     "text": [
      "Enter numerical score:  95\n"
     ]
    },
    {
     "name": "stdout",
     "output_type": "stream",
     "text": [
      "Letter grade: A\n"
     ]
    }
   ],
   "source": [
    "# Write your code here \n",
    "\n",
    "def grade_converter(score):\n",
    "    if score >= 90:\n",
    "        letter_grade = \"A\"\n",
    "    elif score >= 80:\n",
    "        letter_grade = \"B\"\n",
    "    elif score >= 70:\n",
    "        letter_grade = \"C\"\n",
    "    elif score >= 60:\n",
    "        letter_grade = \"D\"\n",
    "    else:\n",
    "        letter_grade = \"F\"\n",
    "    return (\"Letter grade: \" + letter_grade)\n",
    "\n",
    "numerical_score = float(input('Enter numerical score: '))\n",
    "\n",
    "print(grade_converter(numerical_score))"
   ]
  },
  {
   "cell_type": "markdown",
   "id": "035b52c8-1432-48e6-85bc-83cc975b34ba",
   "metadata": {},
   "source": [
    "## Exercise 1.3: Temperature Converter\n",
    "\n",
    "Write a program that asks for the user to input a temperature in Fahrenheit and convert it to Celcius, using the formula\n",
    "\n",
    "$$T_{celcius} = (T_{fahrenheit}-32)\\times \\frac{5}{9}.$$\n",
    "\n",
    "The program should elicit the user to input a number using the prompt \"Enter temperature in Fahrenheit:\". Afterward, the program should print a line giving the temperature in celcius, rounded to two decimal places. \n",
    "\n",
    "\n",
    "**Sample run 1:**\n",
    "```\n",
    "Enter temperature in Fahrenheit: 77\n",
    "Equivalent temperature in celcius: 25.0\n",
    "```\n",
    "\n",
    "**Sample run 2:**\n",
    "```\n",
    "Enter temperature in Fahrenheit: 77.5\n",
    "Equivalent temperature in celcius: 25.28\n",
    "```"
   ]
  },
  {
   "cell_type": "code",
   "execution_count": 42,
   "id": "ee51a15f-b0e4-44a6-8cfe-1fceec4e96be",
   "metadata": {},
   "outputs": [
    {
     "name": "stdin",
     "output_type": "stream",
     "text": [
      "Enter temperature in Fahrenheit:  77\n"
     ]
    },
    {
     "name": "stdout",
     "output_type": "stream",
     "text": [
      "Equivalent temperature in celcius: 25.0\n"
     ]
    }
   ],
   "source": [
    "# Sample run"
   ]
  },
  {
   "cell_type": "code",
   "execution_count": 76,
   "id": "9d25ae64-cd73-47d6-81e3-8f96c655009d",
   "metadata": {},
   "outputs": [
    {
     "name": "stdin",
     "output_type": "stream",
     "text": [
      "Enter temperature in Fahrenheit:  77\n"
     ]
    },
    {
     "name": "stdout",
     "output_type": "stream",
     "text": [
      "Equivalent temperature in celcius: 25.0\n"
     ]
    },
    {
     "name": "stdin",
     "output_type": "stream",
     "text": [
      "Enter temperature in Fahrenheit:  77.5\n"
     ]
    },
    {
     "name": "stdout",
     "output_type": "stream",
     "text": [
      "Equivalent temperature in celcius: 25.28\n"
     ]
    }
   ],
   "source": [
    "# Write your code here\n",
    "\n",
    "def f_to_c_converter(fahrenheit):\n",
    "    celcius = (fahrenheit - 32) * (5 / 9)\n",
    "    return \"Equivalent temperature in celcius: \" + str(round(celcius, 2))\n",
    "\n",
    "# Sample run 1:\n",
    "fahrenheit = float(input('Enter temperature in Fahrenheit: '))\n",
    "print(f_to_c_converter(fahrenheit))\n",
    "\n",
    "# Sample run 2:\n",
    "fahrenheit = float(input('Enter temperature in Fahrenheit: '))\n",
    "print(f_to_c_converter(fahrenheit))"
   ]
  },
  {
   "cell_type": "markdown",
   "id": "c55e63a4-ceb2-486e-992b-bd81d33d92bd",
   "metadata": {},
   "source": [
    "## Exercise 1.4: BMI Calculator\n",
    "\n",
    "Write a program which asks users to input their weight (in lbs) and height (in inches), and compute their body mass index (BMI), which is defind as $BMI=\\frac{W}{H^2}$, where $W$ is their weight converted to kg, and $H$ is their height converted to m. (Assume 1 kg=2.205 lbs, and 1 m = 39.37 inches.) The program can assume that the weight and height the user inputs are positive numbers. \n",
    "\n",
    "|Classification | BMI ($kg/m^2$) |\n",
    "|--|--|\n",
    "|Underweight: | <18.5 |\n",
    "|Normal: | 18.5 to 25 (>=18.5 but <25) |\n",
    "|Overweight: | 25 to 30 (>=25 but <30) |\n",
    "|Obese: | >=30 |\n",
    "\n",
    "The program should print a message classifying the BMI according to the above chart. The message must round the outputed BMI to 2 decimal places, and be formated exactly as the sample outputs below. \n",
    "\n",
    "**Sample run 1:**\n",
    "```\n",
    "Please input your weight (in lbs): 145\n",
    "Please input your height (in inches): 71\n",
    "Your BMI is 20.22, which is classified as Normal.\n",
    "```\n",
    "\n",
    "**Sample run 2:**\n",
    "```\n",
    "Please input your weight (in lbs): 180.5\n",
    "Please input your height (in inches): 60.5\n",
    "Your BMI is 34.66, which is classified as Obese.\n",
    "```"
   ]
  },
  {
   "cell_type": "code",
   "execution_count": 43,
   "id": "69e803de-25b3-4136-bd61-a8c813d77bbf",
   "metadata": {},
   "outputs": [
    {
     "name": "stdin",
     "output_type": "stream",
     "text": [
      "Please input your weight (in lbs):  145\n",
      "Please input your height (in inches):  71\n"
     ]
    },
    {
     "name": "stdout",
     "output_type": "stream",
     "text": [
      "Your BMI is 20.22, which is classified as Normal.\n"
     ]
    }
   ],
   "source": [
    "# Sample run"
   ]
  },
  {
   "cell_type": "code",
   "execution_count": 99,
   "id": "bd286178-72c5-46ef-9ef6-8841388b3021",
   "metadata": {},
   "outputs": [
    {
     "name": "stdin",
     "output_type": "stream",
     "text": [
      "Please input your weight (in lbs):  145\n",
      "Please input your height (in inches):  71\n"
     ]
    },
    {
     "name": "stdout",
     "output_type": "stream",
     "text": [
      "Your BMI is 20.22, which is classified as Normal.\n"
     ]
    },
    {
     "name": "stdin",
     "output_type": "stream",
     "text": [
      "Please input your weight (in lbs):  180.5\n",
      "Please input your height (in inches):  60.5\n"
     ]
    },
    {
     "name": "stdout",
     "output_type": "stream",
     "text": [
      "Your BMI is 34.66, which is classified as Obese.\n"
     ]
    }
   ],
   "source": [
    "# Write your code here\n",
    "\n",
    "def BMI_calculator(weight_lbs, height_inches):\n",
    "    weight_kgs = weight_lbs / 2.205\n",
    "    height_ms = height_inches / 39.37\n",
    "    BMI = weight_kgs / (height_ms ** 2)\n",
    "    if BMI < 18.5:\n",
    "        classification = \"Underweight.\"\n",
    "    elif BMI < 25:\n",
    "        classification = \"Normal.\"\n",
    "    elif BMI < 30:\n",
    "        classification = \"Overweight.\"\n",
    "    else:\n",
    "        classification = \"Obese.\"\n",
    "    return (\"Your BMI is \" + str(round(BMI, 2)) + \", which is classified as \" + classification)\n",
    "\n",
    "# Sample run 1:\n",
    "weight_in_lbs = float(input('Please input your weight (in lbs): '))\n",
    "height_in_inches = float(input('Please input your height (in inches): '))\n",
    "\n",
    "print(BMI_calculator(weight_in_lbs, height_in_inches))\n",
    "\n",
    "# Sample run 2:\n",
    "weight_in_lbs = float(input('Please input your weight (in lbs): '))\n",
    "height_in_inches = float(input('Please input your height (in inches): '))\n",
    "\n",
    "print(BMI_calculator(weight_in_lbs, height_in_inches))"
   ]
  },
  {
   "cell_type": "markdown",
   "id": "9c43ceb0-48cf-4312-9676-b2895bdf0ba3",
   "metadata": {},
   "source": [
    "## Exercise 1.5: Making your Code for 1.2 Re-Usable\n",
    "\n",
    "**a)** Write a function called `orderQuantity` with two input arguments \n",
    "\n",
    "- **inventory** (default value 0): number of items on hand.\n",
    "- **basestock** (default value 100): the target inventory level.\n",
    "\n",
    "If inventory is at least equal to basestock, then return 0. Otherwise, return how many items you should order to meet the target. Include an appropriate docstring to explain what the function does."
   ]
  },
  {
   "cell_type": "code",
   "execution_count": 12,
   "id": "d84d1081-dd47-4c8a-971b-37c0b042a13d",
   "metadata": {},
   "outputs": [],
   "source": [
    "# Write your function here\n",
    "\n",
    "def orderQuantity(inventory=0, basestock=100): \n",
    "    '''If the inventory is at least equal to the basestock, there is no need to place an order. However, if the inventory is less than the basestock, an order should be placed for the difference.'''\n",
    "    if inventory == basestock:\n",
    "        ans = 0\n",
    "    else:\n",
    "        ans = basestock - inventory\n",
    "    return ans"
   ]
  },
  {
   "cell_type": "code",
   "execution_count": 14,
   "id": "798b4dd0-1f5b-4309-966b-932c7b07b007",
   "metadata": {},
   "outputs": [
    {
     "name": "stdout",
     "output_type": "stream",
     "text": [
      "Result with no inputs: 100\n",
      "Order 75 when inventory is 25.\n",
      "Order -1 when inventory is 51 and basestock is 50.\n"
     ]
    }
   ],
   "source": [
    "# Code to test your function\n",
    "print('Result with no inputs:', orderQuantity())\n",
    "print(f'Order {orderQuantity(25)} when inventory is 25.')\n",
    "print(f'Order {orderQuantity(51,50)} when inventory is 51 and basestock is 50.')"
   ]
  },
  {
   "cell_type": "code",
   "execution_count": 16,
   "id": "9dee51a9-f9ea-4424-89ae-0dce7eaf4201",
   "metadata": {},
   "outputs": [
    {
     "data": {
      "text/plain": [
       "200"
      ]
     },
     "execution_count": 16,
     "metadata": {},
     "output_type": "execute_result"
    }
   ],
   "source": [
    "orderQuantity(basestock=200)"
   ]
  },
  {
   "cell_type": "code",
   "execution_count": 18,
   "id": "602e36e8-79a0-4a8a-92e4-a0ae977afc6a",
   "metadata": {},
   "outputs": [
    {
     "data": {
      "text/plain": [
       "20"
      ]
     },
     "execution_count": 18,
     "metadata": {},
     "output_type": "execute_result"
    }
   ],
   "source": [
    "orderQuantity(inventory=80)"
   ]
  },
  {
   "cell_type": "code",
   "execution_count": 20,
   "id": "bfe7bdbc-d59f-40e6-aedd-93a2b9923a39",
   "metadata": {},
   "outputs": [
    {
     "name": "stdout",
     "output_type": "stream",
     "text": [
      "Help on function orderQuantity in module __main__:\n",
      "\n",
      "orderQuantity(inventory=0, basestock=100)\n",
      "    If the inventory is at least equal to the basestock, there is no need to place an order. However, if the inventory is less than the basestock, an order should be placed for the difference.\n",
      "\n"
     ]
    }
   ],
   "source": [
    "help(orderQuantity)"
   ]
  },
  {
   "cell_type": "code",
   "execution_count": 22,
   "id": "56271252-4ee1-4af6-b4e6-0cadb3eb422e",
   "metadata": {
    "tags": []
   },
   "outputs": [
    {
     "ename": "AssertionError",
     "evalue": "",
     "output_type": "error",
     "traceback": [
      "\u001b[0;31m---------------------------------------------------------------------------\u001b[0m",
      "\u001b[0;31mAssertionError\u001b[0m                            Traceback (most recent call last)",
      "Cell \u001b[0;32mIn[22], line 4\u001b[0m\n\u001b[1;32m      1\u001b[0m \u001b[38;5;66;03m# Tests using assert\u001b[39;00m\n\u001b[1;32m      2\u001b[0m \u001b[38;5;66;03m# Test case 1: inventory is greater than or equal to basestock\u001b[39;00m\n\u001b[1;32m      3\u001b[0m \u001b[38;5;28;01massert\u001b[39;00m orderQuantity(\u001b[38;5;241m100\u001b[39m, \u001b[38;5;241m100\u001b[39m) \u001b[38;5;241m==\u001b[39m \u001b[38;5;241m0\u001b[39m\n\u001b[0;32m----> 4\u001b[0m \u001b[38;5;28;01massert\u001b[39;00m orderQuantity(\u001b[38;5;241m200\u001b[39m, \u001b[38;5;241m100\u001b[39m) \u001b[38;5;241m==\u001b[39m \u001b[38;5;241m0\u001b[39m\n\u001b[1;32m      6\u001b[0m \u001b[38;5;66;03m# Test case 2: inventory is less than basestock\u001b[39;00m\n\u001b[1;32m      7\u001b[0m \u001b[38;5;28;01massert\u001b[39;00m orderQuantity(\u001b[38;5;241m60\u001b[39m, \u001b[38;5;241m100\u001b[39m) \u001b[38;5;241m==\u001b[39m \u001b[38;5;241m40\u001b[39m\n",
      "\u001b[0;31mAssertionError\u001b[0m: "
     ]
    }
   ],
   "source": [
    "# Tests using assert\n",
    "# Test case 1: inventory is greater than or equal to basestock\n",
    "assert orderQuantity(100, 100) == 0\n",
    "assert orderQuantity(200, 100) == 0\n",
    "\n",
    "# Test case 2: inventory is less than basestock\n",
    "assert orderQuantity(60, 100) == 40\n",
    "assert orderQuantity(0, 100) == 100"
   ]
  },
  {
   "cell_type": "markdown",
   "id": "9a59d32e-28ef-4934-bb08-175039d1a697",
   "metadata": {},
   "source": [
    "**b)** Write a function called `calculateWage` with three input arguments:\n",
    "\n",
    "- **hours**: the number of hours worked.\n",
    "- **base** (default value 10): the pay for each of the first 40 hours worked.\n",
    "- **bonus** (default value 0.5): the proportional bonus for each hour worked above 40.\n",
    "\n",
    "The function should return the total pay."
   ]
  },
  {
   "cell_type": "code",
   "execution_count": 161,
   "id": "f7ad238d-fa9a-42e8-9e38-82bbfbbb3603",
   "metadata": {},
   "outputs": [],
   "source": [
    "# Write your function here\n",
    "\n",
    "def calculateWage(hours, base=10, bonus=0.5):\n",
    "    if hours <= 40:\n",
    "        total_pay = hours * base\n",
    "    else: \n",
    "        total_pay = ((40 * base) + ((hours - 40) * (base + (base * bonus))))\n",
    "    return total_pay"
   ]
  },
  {
   "cell_type": "code",
   "execution_count": 163,
   "id": "88e69055-33eb-4fcc-9925-9306b4cf3871",
   "metadata": {},
   "outputs": [
    {
     "name": "stdout",
     "output_type": "stream",
     "text": [
      "Pay for 42 hours with default base and bonus: 430.0\n",
      "Pay for 42 hours with base 12/hour and default bonus: 516.0\n",
      "Pay for 42 hours with base 12/hour and bonus 60%: 518.4\n",
      "Pay for 42 hours with default base and bonus 60%: 432.0\n"
     ]
    }
   ],
   "source": [
    "# Testing code\n",
    "print('Pay for 42 hours with default base and bonus:',calculateWage(42))\n",
    "print('Pay for 42 hours with base 12/hour and default bonus:',calculateWage(42,12))\n",
    "print('Pay for 42 hours with base 12/hour and bonus 60%:', calculateWage(42,12,.6))\n",
    "print('Pay for 42 hours with default base and bonus 60%:',calculateWage(42,bonus=0.6))"
   ]
  },
  {
   "cell_type": "markdown",
   "id": "f9058927-52a6-4d8f-b046-b6b80d974f01",
   "metadata": {},
   "source": [
    "**c)** Write a function called `letterGrade` with one input argument:\n",
    "\n",
    "- **score**: the numerical score.\n",
    "\n",
    "The function should return a string denoting the letter grade."
   ]
  },
  {
   "cell_type": "code",
   "execution_count": 4,
   "id": "aa1f2394-93ff-4d76-9d71-f762409752e7",
   "metadata": {},
   "outputs": [],
   "source": [
    "# Write your function here\n",
    "\n",
    "def letterGrade(score):\n",
    "    if score >= 90:\n",
    "        letter_grade = 'A'\n",
    "    elif score >= 80:\n",
    "        letter_grade = 'B'\n",
    "    elif score >= 70:\n",
    "        letter_grade = 'C'\n",
    "    elif score >= 60:\n",
    "        letter_grade = 'D'\n",
    "    else:\n",
    "        letter_grade = 'F'\n",
    "    return letter_grade"
   ]
  },
  {
   "cell_type": "code",
   "execution_count": 6,
   "id": "cebe6622-596c-42fb-9370-4a9db0a78b1c",
   "metadata": {},
   "outputs": [
    {
     "name": "stdout",
     "output_type": "stream",
     "text": [
      "Grade corresponding to 95 is A.\n",
      "Grade corresponding to 80 is B.\n",
      "Grade corresponding to 60 is D.\n"
     ]
    }
   ],
   "source": [
    "# Code to test \n",
    "print(f'Grade corresponding to 95 is {letterGrade(95)}.')\n",
    "print(f'Grade corresponding to 80 is {letterGrade(80)}.')\n",
    "print(f'Grade corresponding to 60 is {letterGrade(60)}.')"
   ]
  },
  {
   "cell_type": "code",
   "execution_count": 10,
   "id": "3a7f1009-8278-4018-9383-44c12c5912d6",
   "metadata": {
    "tags": []
   },
   "outputs": [],
   "source": [
    "# More extensive tests\n",
    "assert letterGrade(90)=='A'\n",
    "assert letterGrade(89)=='B'\n",
    "assert letterGrade(80)=='B'\n",
    "assert letterGrade(79)=='C'\n",
    "assert letterGrade(70)=='C'\n",
    "assert letterGrade(69)=='D'\n",
    "assert letterGrade(60)=='D'\n",
    "assert letterGrade(59)=='F'\n",
    "assert letterGrade(0)=='F'"
   ]
  },
  {
   "cell_type": "markdown",
   "id": "082c8d3e-5d9d-4c90-b191-35a6fd261563",
   "metadata": {
    "tags": [],
    "toc-hr-collapsed": true
   },
   "source": [
    "## Exercise 1.6: Practicing List Syntax\n"
   ]
  },
  {
   "cell_type": "markdown",
   "id": "8e4eb231-0705-4520-8ca4-7a350d781edc",
   "metadata": {},
   "source": [
    "**a)** Create an empty list called \"l\"."
   ]
  },
  {
   "cell_type": "code",
   "execution_count": 181,
   "id": "2f73e4e0-4313-469c-979e-486969a473bd",
   "metadata": {},
   "outputs": [],
   "source": [
    "# Write your code for a) here\n",
    "\n",
    "l = []"
   ]
  },
  {
   "cell_type": "markdown",
   "id": "cdaac815-126c-4b3c-89ba-515195dfdfa4",
   "metadata": {},
   "source": [
    "**b)** Append each of the following objects to the list: `30`, `4.0`, `[3,4]`, `\"Hello\"`. The final value of the list should be as below."
   ]
  },
  {
   "cell_type": "code",
   "execution_count": 183,
   "id": "1c02364f-6d6f-49d6-a6ed-3e40db3b828f",
   "metadata": {},
   "outputs": [],
   "source": [
    "# Write your code for b) here\n",
    "\n",
    "l.append(30)\n",
    "l.append(4.0)\n",
    "l.append([3,4])\n",
    "l.append(\"Hello\")"
   ]
  },
  {
   "cell_type": "code",
   "execution_count": 185,
   "id": "5b8740ae-fc8a-48ad-980d-621b677e3354",
   "metadata": {},
   "outputs": [
    {
     "data": {
      "text/plain": [
       "[30, 4.0, [3, 4], 'Hello']"
      ]
     },
     "execution_count": 185,
     "metadata": {},
     "output_type": "execute_result"
    }
   ],
   "source": [
    "# Value of l after running your code for parts a) and b) in order\n",
    "l"
   ]
  },
  {
   "cell_type": "markdown",
   "id": "a3cac3e7-63d2-446b-b108-3c0802e9f3f4",
   "metadata": {},
   "source": [
    "**c)** Obtain the type of each element of the list."
   ]
  },
  {
   "cell_type": "code",
   "execution_count": 192,
   "id": "e49703f6-d758-4b97-89ff-0774eb75ab74",
   "metadata": {},
   "outputs": [
    {
     "name": "stdout",
     "output_type": "stream",
     "text": [
      "<class 'list'>\n",
      "<class 'int'>\n",
      "<class 'float'>\n",
      "<class 'list'>\n",
      "<class 'str'>\n"
     ]
    }
   ],
   "source": [
    "print(type(l))\n",
    "print(type(l[0]))\n",
    "print(type(l[1]))\n",
    "print(type(l[2]))\n",
    "print(type(l[3]))"
   ]
  },
  {
   "cell_type": "markdown",
   "id": "835cfe30-5f02-4f22-8f71-bce19a4e9ce4",
   "metadata": {},
   "source": [
    "**d)** Obtain a slice of the list from `30` to `4.0`."
   ]
  },
  {
   "cell_type": "code",
   "execution_count": 203,
   "id": "1d228013-549e-4d47-bc6a-a55d4ab2f2f8",
   "metadata": {},
   "outputs": [
    {
     "name": "stdout",
     "output_type": "stream",
     "text": [
      "[30, 4.0]\n"
     ]
    }
   ],
   "source": [
    "# Write your code here\n",
    "l_slice = l[0:2]\n",
    "print(l_slice)"
   ]
  },
  {
   "cell_type": "markdown",
   "id": "8310bfbd-d881-48bb-81b6-b043aa4b3e63",
   "metadata": {},
   "source": [
    "**e)** Obtain the third element `[3,4]` in two different ways, using positive and negative indexing respectively. "
   ]
  },
  {
   "cell_type": "code",
   "execution_count": 207,
   "id": "168b58fc-a371-4627-b59e-d3183598162e",
   "metadata": {},
   "outputs": [
    {
     "name": "stdout",
     "output_type": "stream",
     "text": [
      "[3, 4]\n"
     ]
    }
   ],
   "source": [
    "# Positive indexing\n",
    "print(l[2])"
   ]
  },
  {
   "cell_type": "code",
   "execution_count": 209,
   "id": "d176e1a7-4bf4-4497-b2c5-50744e4d0ff7",
   "metadata": {},
   "outputs": [
    {
     "name": "stdout",
     "output_type": "stream",
     "text": [
      "[3, 4]\n"
     ]
    }
   ],
   "source": [
    "# Negative indexing\n",
    "print(l[-2])"
   ]
  },
  {
   "cell_type": "markdown",
   "id": "73f04e3e-a888-4667-89a1-6193f1e8861a",
   "metadata": {},
   "source": [
    "**f)** Find the length of the third element (which is a list as well)."
   ]
  },
  {
   "cell_type": "code",
   "execution_count": 211,
   "id": "c7a05c70-d47d-495b-9876-8252a568088b",
   "metadata": {},
   "outputs": [
    {
     "data": {
      "text/plain": [
       "2"
      ]
     },
     "execution_count": 211,
     "metadata": {},
     "output_type": "execute_result"
    }
   ],
   "source": [
    "# Write your code here \n",
    "len(l[2])"
   ]
  },
  {
   "cell_type": "markdown",
   "id": "ea5cdef4-bd70-4114-8928-b4465bde32de",
   "metadata": {},
   "source": [
    "**g)** Check if the integer `4` is in the list. Do the same for the string `'4'`."
   ]
  },
  {
   "cell_type": "code",
   "execution_count": 213,
   "id": "d2af9fa9-5bf6-40fb-b749-4e6ba21dc205",
   "metadata": {},
   "outputs": [
    {
     "data": {
      "text/plain": [
       "True"
      ]
     },
     "execution_count": 213,
     "metadata": {},
     "output_type": "execute_result"
    }
   ],
   "source": [
    "# Check if 4 is in the list\n",
    "4 in l"
   ]
  },
  {
   "cell_type": "code",
   "execution_count": 215,
   "id": "dc68a68b-d5d0-4cf8-a34d-e0cfe238e112",
   "metadata": {},
   "outputs": [
    {
     "data": {
      "text/plain": [
       "False"
      ]
     },
     "execution_count": 215,
     "metadata": {},
     "output_type": "execute_result"
    }
   ],
   "source": [
    "# Check if '4' is in the list\n",
    "'4' in l"
   ]
  },
  {
   "cell_type": "markdown",
   "id": "dab61038-49bd-41a3-b021-0e0d0285514c",
   "metadata": {},
   "source": [
    "## Exercise 1.7: Practice with Dictionary\n",
    "\n",
    "**a)** Create an empty dictionary called \"english\"."
   ]
  },
  {
   "cell_type": "code",
   "execution_count": 217,
   "id": "22730a5a-9d64-4b1f-b30e-73f887ce3290",
   "metadata": {},
   "outputs": [],
   "source": [
    "# Code for part a)\n",
    "english = {}"
   ]
  },
  {
   "cell_type": "markdown",
   "id": "4b6e07fb-b1c4-4c27-b7c8-74eb140448ff",
   "metadata": {},
   "source": [
    "**b)** Add the keys '0', '1', '2', '3', '4', '5', '6', '7', '8', '9' to this dictionary, and each number should maps to its name in English in lowercase. (i.e. the key '3' should map the the value 'three'). You should do this one key-value pair at a time."
   ]
  },
  {
   "cell_type": "code",
   "execution_count": 223,
   "id": "840bb5f7-a2b1-404d-84a0-9d4563eb85d6",
   "metadata": {},
   "outputs": [
    {
     "name": "stdout",
     "output_type": "stream",
     "text": [
      "{'0': 'zero', '1': 'one', '2': 'two', '3': 'three', '4': 'four', '5': 'five', '6': 'six', '7': 'seven', '8': 'eight', '9': 'nine'}\n"
     ]
    }
   ],
   "source": [
    "# Code for part b)\n",
    "english.update({'0': 'zero', '1': 'one', '2': 'two', '3': 'three', '4': 'four', '5': 'five', '6': 'six', '7': 'seven', '8': 'eight', '9': 'nine'})\n",
    "print(english)"
   ]
  },
  {
   "cell_type": "markdown",
   "id": "12049a6e-4b3f-409a-b247-0d68d179ab9a",
   "metadata": {},
   "source": [
    "**c)** Ask the user to input a digit. If the input is one of the keys of the above dictionary, then print \"You entered XXX.\" where XXX is the corresponding value. For any other input, print \"I cannot read your input.\" "
   ]
  },
  {
   "cell_type": "code",
   "execution_count": 26,
   "id": "b145398d-9983-4172-9616-cf1c171b63bf",
   "metadata": {},
   "outputs": [
    {
     "name": "stdout",
     "output_type": "stream",
     "text": [
      "Please enter a digit: 3\n",
      "You entered three.\n"
     ]
    }
   ],
   "source": [
    "# Sample run 1"
   ]
  },
  {
   "cell_type": "code",
   "execution_count": 4,
   "id": "21888cd5-b5d7-4540-a281-fd040f30badd",
   "metadata": {
    "tags": []
   },
   "outputs": [
    {
     "name": "stdin",
     "output_type": "stream",
     "text": [
      "Please enter a digit:  9\n"
     ]
    },
    {
     "name": "stdout",
     "output_type": "stream",
     "text": [
      "You entered nine.\n"
     ]
    }
   ],
   "source": [
    "# Sample run 2"
   ]
  },
  {
   "cell_type": "code",
   "execution_count": 5,
   "id": "95d651b7-99d3-411e-aef0-6f68686cf06f",
   "metadata": {
    "tags": []
   },
   "outputs": [
    {
     "name": "stdin",
     "output_type": "stream",
     "text": [
      "Please enter a digit:  ff\n"
     ]
    },
    {
     "name": "stdout",
     "output_type": "stream",
     "text": [
      "I cannot read your input\n"
     ]
    }
   ],
   "source": [
    "# Sample run 3"
   ]
  },
  {
   "cell_type": "code",
   "execution_count": 242,
   "id": "8d5b3c3b-313a-4edf-a214-54bc210f8e76",
   "metadata": {},
   "outputs": [
    {
     "name": "stdin",
     "output_type": "stream",
     "text": [
      "Please enter a digit:  3\n"
     ]
    },
    {
     "name": "stdout",
     "output_type": "stream",
     "text": [
      "You entered three\n"
     ]
    },
    {
     "name": "stdin",
     "output_type": "stream",
     "text": [
      "Please enter a digit:  9\n"
     ]
    },
    {
     "name": "stdout",
     "output_type": "stream",
     "text": [
      "You entered nine\n"
     ]
    },
    {
     "name": "stdin",
     "output_type": "stream",
     "text": [
      "Please enter a digit:  ff\n"
     ]
    },
    {
     "name": "stdout",
     "output_type": "stream",
     "text": [
      "I cannot read your input\n"
     ]
    }
   ],
   "source": [
    "# Write your code here\n",
    "def key_to_value(key):\n",
    "    if key in english.keys():\n",
    "        return \"You entered \" + english[key]\n",
    "    else: \n",
    "        return \"I cannot read your input\"\n",
    "\n",
    "# Sample run 1\n",
    "key_to_input = input('Please enter a digit: ')\n",
    "print(key_to_value(key_to_input))\n",
    "\n",
    "# Sample run 2\n",
    "key_to_input = input('Please enter a digit: ')\n",
    "print(key_to_value(key_to_input))\n",
    "\n",
    "# Sample run 3\n",
    "key_to_input = input('Please enter a digit: ')\n",
    "print(key_to_value(key_to_input))"
   ]
  },
  {
   "cell_type": "markdown",
   "id": "dc0891d7-fa68-46e4-a5f5-682c3d9d661e",
   "metadata": {},
   "source": [
    "## Exercise 1.8: Practice with Series"
   ]
  },
  {
   "cell_type": "markdown",
   "id": "ab09a740-0bb2-4715-b60b-f8ab12cf7317",
   "metadata": {},
   "source": [
    "**a)** Create a Series named `tuition` with the labels being the year and the values being the cost, as given by the two lists below."
   ]
  },
  {
   "cell_type": "code",
   "execution_count": 248,
   "id": "9c432286-7a22-4745-bef2-fb4c3a4d4416",
   "metadata": {
    "tags": []
   },
   "outputs": [],
   "source": [
    "years = [1985, 1986, 1987, 1988, 1989, 1990, 1991, 1992, 1993, 1994, 1995, 1996, 1997, 1998, 1999, 2000, 2001, 2002, 2003, 2004, 2005, 2006, 2007, 2008, 2009, 2010, 2011, 2012, 2013, 2014, 2015, 2016, 2017]\n",
    "costs = [10000, 10750, 11900, 13300, 14250, 15350, 16400, 17500, 18550, 19750, 21000, 22700, 23840, 25000, 26260, 27250, 28500, 30050, 31800, 33650, 35600, 37500, 39600, 41900, 43800, 46150, 48600, 51200, 53500, 56175, 58875, 61225, 63675]"
   ]
  },
  {
   "cell_type": "code",
   "execution_count": 302,
   "id": "055d8518-b02e-418e-9417-a2857abc1e91",
   "metadata": {
    "tags": []
   },
   "outputs": [
    {
     "name": "stdout",
     "output_type": "stream",
     "text": [
      "1985    10000\n",
      "1986    10750\n",
      "1987    11900\n",
      "1988    13300\n",
      "1989    14250\n",
      "1990    15350\n",
      "1991    16400\n",
      "1992    17500\n",
      "1993    18550\n",
      "1994    19750\n",
      "1995    21000\n",
      "1996    22700\n",
      "1997    23840\n",
      "1998    25000\n",
      "1999    26260\n",
      "2000    27250\n",
      "2001    28500\n",
      "2002    30050\n",
      "2003    31800\n",
      "2004    33650\n",
      "2005    35600\n",
      "2006    37500\n",
      "2007    39600\n",
      "2008    41900\n",
      "2009    43800\n",
      "2010    46150\n",
      "2011    48600\n",
      "2012    51200\n",
      "2013    53500\n",
      "2014    56175\n",
      "2015    58875\n",
      "2016    61225\n",
      "2017    63675\n",
      "dtype: int64\n"
     ]
    }
   ],
   "source": [
    "# Write your code here\n",
    "import pandas as pd\n",
    "\n",
    "tuition = pd.Series(costs, index = years)\n",
    "print(tuition)"
   ]
  },
  {
   "cell_type": "markdown",
   "id": "aa13f045-f813-4766-8a31-5b4a8aece758",
   "metadata": {},
   "source": [
    "**b)** Display the first five entries as well as the last seven entries."
   ]
  },
  {
   "cell_type": "code",
   "execution_count": 3,
   "id": "afefc4dd-7a21-4729-a57e-cd04fc1d52b1",
   "metadata": {
    "tags": []
   },
   "outputs": [
    {
     "data": {
      "text/plain": [
       "1985    10000\n",
       "1986    10750\n",
       "1987    11900\n",
       "1988    13300\n",
       "1989    14250\n",
       "dtype: int64"
      ]
     },
     "execution_count": 3,
     "metadata": {},
     "output_type": "execute_result"
    }
   ],
   "source": [
    "# Sample output for first five entries"
   ]
  },
  {
   "cell_type": "code",
   "execution_count": 323,
   "id": "b29d031e-7a73-47f4-9dcc-97052e6f3638",
   "metadata": {},
   "outputs": [
    {
     "name": "stdout",
     "output_type": "stream",
     "text": [
      "<class 'pandas.core.series.Series'>\n"
     ]
    },
    {
     "data": {
      "text/plain": [
       "1985    10000\n",
       "1986    10750\n",
       "1987    11900\n",
       "1988    13300\n",
       "1989    14250\n",
       "dtype: int64"
      ]
     },
     "execution_count": 323,
     "metadata": {},
     "output_type": "execute_result"
    }
   ],
   "source": [
    "# Write your code here\n",
    "print(type(tuition))\n",
    "tuition.iloc[:5]"
   ]
  },
  {
   "cell_type": "code",
   "execution_count": 321,
   "id": "ef611d90-75b7-4053-a600-77ea9cceab68",
   "metadata": {},
   "outputs": [
    {
     "data": {
      "text/plain": [
       "1985    10000\n",
       "1986    10750\n",
       "1987    11900\n",
       "1988    13300\n",
       "1989    14250\n",
       "dtype: int64"
      ]
     },
     "execution_count": 321,
     "metadata": {},
     "output_type": "execute_result"
    }
   ],
   "source": [
    "tuition.head(5)"
   ]
  },
  {
   "cell_type": "code",
   "execution_count": 4,
   "id": "82070755-1cbd-4f3a-a590-f7fccf3018a8",
   "metadata": {
    "tags": []
   },
   "outputs": [
    {
     "data": {
      "text/plain": [
       "2011    48600\n",
       "2012    51200\n",
       "2013    53500\n",
       "2014    56175\n",
       "2015    58875\n",
       "2016    61225\n",
       "2017    63675\n",
       "dtype: int64"
      ]
     },
     "execution_count": 4,
     "metadata": {},
     "output_type": "execute_result"
    }
   ],
   "source": [
    "# Sample output for last seven entries"
   ]
  },
  {
   "cell_type": "code",
   "execution_count": 315,
   "id": "658a3612-ccf3-412b-a9df-e0eb61514606",
   "metadata": {},
   "outputs": [
    {
     "data": {
      "text/plain": [
       "2011    48600\n",
       "2012    51200\n",
       "2013    53500\n",
       "2014    56175\n",
       "2015    58875\n",
       "2016    61225\n",
       "2017    63675\n",
       "dtype: int64"
      ]
     },
     "execution_count": 315,
     "metadata": {},
     "output_type": "execute_result"
    }
   ],
   "source": [
    "# Write your code here\n",
    "tuition.iloc[-7:]"
   ]
  },
  {
   "cell_type": "code",
   "execution_count": 317,
   "id": "078b6e1a-944f-45f9-b659-075906fbc753",
   "metadata": {},
   "outputs": [
    {
     "data": {
      "text/plain": [
       "2011    48600\n",
       "2012    51200\n",
       "2013    53500\n",
       "2014    56175\n",
       "2015    58875\n",
       "2016    61225\n",
       "2017    63675\n",
       "dtype: int64"
      ]
     },
     "execution_count": 317,
     "metadata": {},
     "output_type": "execute_result"
    }
   ],
   "source": [
    "tuition.tail(7)"
   ]
  },
  {
   "cell_type": "markdown",
   "id": "83a3e847-181b-469b-b225-f1068e5b914d",
   "metadata": {},
   "source": [
    "**c)** Make a line plot of the tuition, as well as a vertical bar plot."
   ]
  },
  {
   "cell_type": "code",
   "execution_count": 27,
   "id": "fcf721f6-aabc-4144-a670-bdf56c55b2d5",
   "metadata": {
    "tags": []
   },
   "outputs": [
    {
     "data": {
      "image/png": "[encoded data removed]",
      "text/plain": [
       "<Figure size 600x300 with 1 Axes>"
      ]
     },
     "metadata": {},
     "output_type": "display_data"
    }
   ],
   "source": [
    "# Sample output"
   ]
  },
  {
   "cell_type": "code",
   "execution_count": 26,
   "id": "f924360c-4bca-4814-848e-8d9431257a42",
   "metadata": {
    "tags": []
   },
   "outputs": [
    {
     "data": {
      "image/png": "[encoded data removed]",
      "text/plain": [
       "<Figure size 1000x300 with 1 Axes>"
      ]
     },
     "metadata": {},
     "output_type": "display_data"
    }
   ],
   "source": [
    "# Sample output"
   ]
  },
  {
   "cell_type": "code",
   "execution_count": 325,
   "id": "30ba1d01-bce5-4251-8692-c5611978d84a",
   "metadata": {},
   "outputs": [
    {
     "data": {
      "image/png": "[encoded data removed]",
      "text/plain": [
       "<Figure size 640x480 with 1 Axes>"
      ]
     },
     "metadata": {},
     "output_type": "display_data"
    }
   ],
   "source": [
    "# Write your code here\n",
    "\n",
    "from matplotlib import pyplot as plt\n",
    "\n",
    "tuition.plot(kind = 'line', title = 'Havard Tuition')\n",
    "\n",
    "plt.show()"
   ]
  },
  {
   "cell_type": "code",
   "execution_count": 327,
   "id": "c9490bbf-4e11-404f-a786-9db66e2e57c6",
   "metadata": {},
   "outputs": [
    {
     "data": {
      "image/png": "[encoded data removed]",
      "text/plain": [
       "<Figure size 640x480 with 1 Axes>"
      ]
     },
     "metadata": {},
     "output_type": "display_data"
    }
   ],
   "source": [
    "# and here \n",
    "\n",
    "tuition.plot(kind = 'bar', title = 'Havard Tuition')\n",
    "\n",
    "plt.show()"
   ]
  },
  {
   "cell_type": "markdown",
   "id": "28019edd-c6a9-49ab-872f-053685021253",
   "metadata": {},
   "source": [
    "**d)** Create another Series called `normalized_tuition` which divides Series `tuition` by the tuition in the year 2000."
   ]
  },
  {
   "cell_type": "code",
   "execution_count": 330,
   "id": "1fa6ed8f-968c-44d9-afbf-2b49ec80b5ee",
   "metadata": {
    "tags": []
   },
   "outputs": [
    {
     "name": "stdout",
     "output_type": "stream",
     "text": [
      "1985    0.366972\n",
      "1986    0.394495\n",
      "1987    0.436697\n",
      "1988    0.488073\n",
      "1989    0.522936\n",
      "1990    0.563303\n",
      "1991    0.601835\n",
      "1992    0.642202\n",
      "1993    0.680734\n",
      "1994    0.724771\n",
      "1995    0.770642\n",
      "1996    0.833028\n",
      "1997    0.874862\n",
      "1998    0.917431\n",
      "1999    0.963670\n",
      "2000    1.000000\n",
      "2001    1.045872\n",
      "2002    1.102752\n",
      "2003    1.166972\n",
      "2004    1.234862\n",
      "2005    1.306422\n",
      "2006    1.376147\n",
      "2007    1.453211\n",
      "2008    1.537615\n",
      "2009    1.607339\n",
      "2010    1.693578\n",
      "2011    1.783486\n",
      "2012    1.878899\n",
      "2013    1.963303\n",
      "2014    2.061468\n",
      "2015    2.160550\n",
      "2016    2.246789\n",
      "2017    2.336697\n",
      "dtype: float64\n"
     ]
    }
   ],
   "source": [
    "# Write your code here\n",
    "\n",
    "normalized_tuition = tuition / tuition[2000]\n",
    "\n",
    "print(normalized_tuition)"
   ]
  },
  {
   "cell_type": "code",
   "execution_count": 8,
   "id": "fc89f10d-bffe-4260-9df4-1b183011e739",
   "metadata": {
    "tags": []
   },
   "outputs": [
    {
     "data": {
      "text/plain": [
       "2013    1.963303\n",
       "2014    2.061468\n",
       "2015    2.160550\n",
       "2016    2.246789\n",
       "2017    2.336697\n",
       "dtype: float64"
      ]
     },
     "execution_count": 8,
     "metadata": {},
     "output_type": "execute_result"
    }
   ],
   "source": [
    "# Testing your code\n",
    "normalized_tuition.tail()"
   ]
  },
  {
   "cell_type": "markdown",
   "id": "e191d2ce-4780-41d5-91d8-fad64ba2f0ee",
   "metadata": {},
   "source": [
    "**e)** What is the average tuition overall? What is the median tuition? Which year has the maximum tuition?"
   ]
  },
  {
   "cell_type": "code",
   "execution_count": 9,
   "id": "3ab63b64-df88-4dcb-a54d-5318daf4129b",
   "metadata": {
    "tags": []
   },
   "outputs": [
    {
     "data": {
      "text/plain": [
       "31987.878787878788"
      ]
     },
     "execution_count": 9,
     "metadata": {},
     "output_type": "execute_result"
    }
   ],
   "source": [
    "# Average tuition"
   ]
  },
  {
   "cell_type": "code",
   "execution_count": 333,
   "id": "68345939-6722-458c-b5c2-589906267e93",
   "metadata": {},
   "outputs": [
    {
     "data": {
      "text/plain": [
       "31987.878787878788"
      ]
     },
     "execution_count": 333,
     "metadata": {},
     "output_type": "execute_result"
    }
   ],
   "source": [
    "# Write your code here\n",
    "\n",
    "tuition.mean()"
   ]
  },
  {
   "cell_type": "code",
   "execution_count": 10,
   "id": "cdf68a5e-9e2a-485c-bbc9-682fd92b786f",
   "metadata": {
    "tags": []
   },
   "outputs": [
    {
     "data": {
      "text/plain": [
       "28500.0"
      ]
     },
     "execution_count": 10,
     "metadata": {},
     "output_type": "execute_result"
    }
   ],
   "source": [
    "# Median tuition"
   ]
  },
  {
   "cell_type": "code",
   "execution_count": 335,
   "id": "15dc1483-d0e1-4df1-a6da-4a10d29e783a",
   "metadata": {},
   "outputs": [
    {
     "data": {
      "text/plain": [
       "28500.0"
      ]
     },
     "execution_count": 335,
     "metadata": {},
     "output_type": "execute_result"
    }
   ],
   "source": [
    "# Write your code here\n",
    "\n",
    "tuition.median()"
   ]
  },
  {
   "cell_type": "code",
   "execution_count": 11,
   "id": "88edbf18-4a33-4cb0-b1d0-a5a3db6a242f",
   "metadata": {
    "tags": []
   },
   "outputs": [
    {
     "data": {
      "text/plain": [
       "2017"
      ]
     },
     "execution_count": 11,
     "metadata": {},
     "output_type": "execute_result"
    }
   ],
   "source": [
    "# Year with maximum tuition"
   ]
  },
  {
   "cell_type": "code",
   "execution_count": 337,
   "id": "422f1ef3-61c8-4682-b0f9-638604729fa2",
   "metadata": {},
   "outputs": [
    {
     "data": {
      "text/plain": [
       "2017"
      ]
     },
     "execution_count": 337,
     "metadata": {},
     "output_type": "execute_result"
    }
   ],
   "source": [
    "# Write your code here\n",
    "\n",
    "tuition.idxmax()"
   ]
  },
  {
   "cell_type": "markdown",
   "id": "384a0be0-e0ff-4422-99ee-b3ad5552f15a",
   "metadata": {},
   "source": [
    "**f)** What is the average tuition in the last 10 years of the data? What is the average tuition in the first 10 years? What is the average tuition from the Year 2001 to 2010 inclusive?"
   ]
  },
  {
   "cell_type": "code",
   "execution_count": 12,
   "id": "d2972d3a-fe7f-4794-820d-c1a8366e6711",
   "metadata": {
    "tags": []
   },
   "outputs": [
    {
     "data": {
      "text/plain": [
       "52510.0"
      ]
     },
     "execution_count": 12,
     "metadata": {},
     "output_type": "execute_result"
    }
   ],
   "source": [
    "# Average tuition in last 10 years"
   ]
  },
  {
   "cell_type": "code",
   "execution_count": 339,
   "id": "c925a9c5-7527-4dcb-87cd-8a628a96d0ed",
   "metadata": {},
   "outputs": [
    {
     "data": {
      "text/plain": [
       "52510.0"
      ]
     },
     "execution_count": 339,
     "metadata": {},
     "output_type": "execute_result"
    }
   ],
   "source": [
    "# Write your code here\n",
    "\n",
    "tuition.tail(10).mean()"
   ]
  },
  {
   "cell_type": "code",
   "execution_count": 13,
   "id": "3bdfc7a1-bd4a-4c97-ad97-164a57a9f087",
   "metadata": {
    "tags": []
   },
   "outputs": [
    {
     "data": {
      "text/plain": [
       "14775.0"
      ]
     },
     "execution_count": 13,
     "metadata": {},
     "output_type": "execute_result"
    }
   ],
   "source": [
    "# Average tuition in first 10 years"
   ]
  },
  {
   "cell_type": "code",
   "execution_count": 341,
   "id": "eb13b97e-bb5f-4b53-a39e-33bb200fd2ed",
   "metadata": {},
   "outputs": [
    {
     "data": {
      "text/plain": [
       "14775.0"
      ]
     },
     "execution_count": 341,
     "metadata": {},
     "output_type": "execute_result"
    }
   ],
   "source": [
    "# Write your code here\n",
    "\n",
    "tuition.head(10).mean()"
   ]
  },
  {
   "cell_type": "code",
   "execution_count": 14,
   "id": "fe14d874-a824-47b7-85af-b4272686ab6c",
   "metadata": {
    "tags": []
   },
   "outputs": [
    {
     "data": {
      "text/plain": [
       "36855.0"
      ]
     },
     "execution_count": 14,
     "metadata": {},
     "output_type": "execute_result"
    }
   ],
   "source": [
    "# Average tuition from 2001 to 2010 (inclusive)"
   ]
  },
  {
   "cell_type": "code",
   "execution_count": 347,
   "id": "e19e40a5-f083-4308-8c57-6fac839496f7",
   "metadata": {},
   "outputs": [
    {
     "data": {
      "text/plain": [
       "36855.0"
      ]
     },
     "execution_count": 347,
     "metadata": {},
     "output_type": "execute_result"
    }
   ],
   "source": [
    "# Write your code here\n",
    "\n",
    "tuition.loc[2001:2010].mean()"
   ]
  },
  {
   "cell_type": "markdown",
   "id": "d73e4530-f00c-4b9d-8256-a2af86e86108",
   "metadata": {},
   "source": [
    "**g)** How many years in the dataset had tuition over between 30000 and 40000 (inclusive)?"
   ]
  },
  {
   "cell_type": "code",
   "execution_count": 15,
   "id": "663feedc-801c-466e-89cc-912c369e2e9a",
   "metadata": {
    "tags": []
   },
   "outputs": [
    {
     "data": {
      "text/plain": [
       "6"
      ]
     },
     "execution_count": 15,
     "metadata": {},
     "output_type": "execute_result"
    }
   ],
   "source": [
    "# Correct output"
   ]
  },
  {
   "cell_type": "code",
   "execution_count": 362,
   "id": "3cacc0c7-6844-45a0-835c-f4bf919840ed",
   "metadata": {},
   "outputs": [
    {
     "data": {
      "text/plain": [
       "6"
      ]
     },
     "execution_count": 362,
     "metadata": {},
     "output_type": "execute_result"
    }
   ],
   "source": [
    "# Write your code here\n",
    "\n",
    "((tuition >= 30000) & (tuition <= 40000)).sum()"
   ]
  },
  {
   "cell_type": "markdown",
   "id": "7634548b-13cc-4551-a385-9b086df6b082",
   "metadata": {},
   "source": [
    "**h)** Filter the Series and include only the years in which tuition is between 30000 and 40000."
   ]
  },
  {
   "cell_type": "code",
   "execution_count": 16,
   "id": "e51772e6-6248-495a-b899-6156efce174c",
   "metadata": {
    "tags": []
   },
   "outputs": [
    {
     "data": {
      "text/plain": [
       "2002    30050\n",
       "2003    31800\n",
       "2004    33650\n",
       "2005    35600\n",
       "2006    37500\n",
       "2007    39600\n",
       "dtype: int64"
      ]
     },
     "execution_count": 16,
     "metadata": {},
     "output_type": "execute_result"
    }
   ],
   "source": [
    "# Correct output"
   ]
  },
  {
   "cell_type": "code",
   "execution_count": 364,
   "id": "6facead3-66a9-422c-a194-556907260909",
   "metadata": {},
   "outputs": [
    {
     "data": {
      "text/plain": [
       "2002    30050\n",
       "2003    31800\n",
       "2004    33650\n",
       "2005    35600\n",
       "2006    37500\n",
       "2007    39600\n",
       "dtype: int64"
      ]
     },
     "execution_count": 364,
     "metadata": {},
     "output_type": "execute_result"
    }
   ],
   "source": [
    "# Write your code here\n",
    "\n",
    "tuition[((tuition >= 30000) & (tuition <= 40000))]"
   ]
  },
  {
   "cell_type": "markdown",
   "id": "fcd25cf4-bc3c-476d-b463-9c830056dc20",
   "metadata": {},
   "source": [
    "## Exercise 1.9: Practice with DataFrames\n",
    "\n",
    "This question asks you to perform simple operations based on the following DataFrame."
   ]
  },
  {
   "cell_type": "code",
   "execution_count": 436,
   "id": "d0966b41-3153-4bad-b42f-80fa7e51bffd",
   "metadata": {
    "tags": []
   },
   "outputs": [
    {
     "data": {
      "text/html": [
       "<div>\n",
       "<style scoped>\n",
       "    .dataframe tbody tr th:only-of-type {\n",
       "        vertical-align: middle;\n",
       "    }\n",
       "\n",
       "    .dataframe tbody tr th {\n",
       "        vertical-align: top;\n",
       "    }\n",
       "\n",
       "    .dataframe thead th {\n",
       "        text-align: right;\n",
       "    }\n",
       "</style>\n",
       "<table border=\"1\" class=\"dataframe\">\n",
       "  <thead>\n",
       "    <tr style=\"text-align: right;\">\n",
       "      <th></th>\n",
       "      <th>Deductible</th>\n",
       "      <th>Copay</th>\n",
       "      <th>Coverage</th>\n",
       "    </tr>\n",
       "  </thead>\n",
       "  <tbody>\n",
       "    <tr>\n",
       "      <th>A</th>\n",
       "      <td>1000</td>\n",
       "      <td>20</td>\n",
       "      <td>0.80</td>\n",
       "    </tr>\n",
       "    <tr>\n",
       "      <th>B</th>\n",
       "      <td>2000</td>\n",
       "      <td>25</td>\n",
       "      <td>0.90</td>\n",
       "    </tr>\n",
       "    <tr>\n",
       "      <th>C</th>\n",
       "      <td>1500</td>\n",
       "      <td>30</td>\n",
       "      <td>0.85</td>\n",
       "    </tr>\n",
       "  </tbody>\n",
       "</table>\n",
       "</div>"
      ],
      "text/plain": [
       "   Deductible  Copay  Coverage\n",
       "A        1000     20      0.80\n",
       "B        2000     25      0.90\n",
       "C        1500     30      0.85"
      ]
     },
     "execution_count": 436,
     "metadata": {},
     "output_type": "execute_result"
    }
   ],
   "source": [
    "import pandas as pd\n",
    "insurance=pd.DataFrame([[1000,20,0.8],[2000,25,0.9],[1500,30,0.85]],\\\n",
    "                       index=['A','B','C'],\\\n",
    "                       columns=['Deductible','Copay','Coverage'])\n",
    "insurance"
   ]
  },
  {
   "cell_type": "markdown",
   "id": "ba959d34-0f8f-48dc-882a-782c563950dd",
   "metadata": {},
   "source": [
    "**a)** Obtain the coverage of plan B in two ways, one using `.loc` and one using `.iloc`."
   ]
  },
  {
   "cell_type": "code",
   "execution_count": 438,
   "id": "e3a73a83-f846-4260-842c-18e8d0fc0916",
   "metadata": {
    "tags": []
   },
   "outputs": [
    {
     "data": {
      "text/plain": [
       "0.9"
      ]
     },
     "execution_count": 438,
     "metadata": {},
     "output_type": "execute_result"
    }
   ],
   "source": [
    "# Obtaining the entry using .loc\n",
    "\n",
    "insurance.loc['B', 'Coverage']"
   ]
  },
  {
   "cell_type": "code",
   "execution_count": 440,
   "id": "1fdd5781-428e-4bb0-b704-5d6b9fc7b1ec",
   "metadata": {
    "tags": []
   },
   "outputs": [
    {
     "data": {
      "text/plain": [
       "0.9"
      ]
     },
     "execution_count": 440,
     "metadata": {},
     "output_type": "execute_result"
    }
   ],
   "source": [
    "# Obtaining the entry using .iloc\n",
    "\n",
    "insurance.iloc[1, 2]"
   ]
  },
  {
   "cell_type": "markdown",
   "id": "22c5ee84-6b53-40d9-812a-6bf849d16a5e",
   "metadata": {},
   "source": [
    "**b)** Obtain a DataFrame that sorts the plans by increasing order of deductible, as follows."
   ]
  },
  {
   "cell_type": "code",
   "execution_count": 41,
   "id": "12bfbe0d-117a-4915-a1c9-60043f32e22d",
   "metadata": {
    "tags": []
   },
   "outputs": [
    {
     "data": {
      "text/html": [
       "<div>\n",
       "<style scoped>\n",
       "    .dataframe tbody tr th:only-of-type {\n",
       "        vertical-align: middle;\n",
       "    }\n",
       "\n",
       "    .dataframe tbody tr th {\n",
       "        vertical-align: top;\n",
       "    }\n",
       "\n",
       "    .dataframe thead th {\n",
       "        text-align: right;\n",
       "    }\n",
       "</style>\n",
       "<table border=\"1\" class=\"dataframe\">\n",
       "  <thead>\n",
       "    <tr style=\"text-align: right;\">\n",
       "      <th></th>\n",
       "      <th>Deductible</th>\n",
       "      <th>Copay</th>\n",
       "      <th>Coverage</th>\n",
       "    </tr>\n",
       "  </thead>\n",
       "  <tbody>\n",
       "    <tr>\n",
       "      <th>A</th>\n",
       "      <td>1000</td>\n",
       "      <td>20</td>\n",
       "      <td>0.80</td>\n",
       "    </tr>\n",
       "    <tr>\n",
       "      <th>C</th>\n",
       "      <td>1500</td>\n",
       "      <td>30</td>\n",
       "      <td>0.85</td>\n",
       "    </tr>\n",
       "    <tr>\n",
       "      <th>B</th>\n",
       "      <td>2000</td>\n",
       "      <td>25</td>\n",
       "      <td>0.90</td>\n",
       "    </tr>\n",
       "  </tbody>\n",
       "</table>\n",
       "</div>"
      ],
      "text/plain": [
       "   Deductible  Copay  Coverage\n",
       "A        1000     20      0.80\n",
       "C        1500     30      0.85\n",
       "B        2000     25      0.90"
      ]
     },
     "execution_count": 41,
     "metadata": {},
     "output_type": "execute_result"
    }
   ],
   "source": [
    "# Correct output"
   ]
  },
  {
   "cell_type": "code",
   "execution_count": 450,
   "id": "30cf8054-0f74-457d-a012-c4edd1c3de7f",
   "metadata": {},
   "outputs": [
    {
     "data": {
      "text/html": [
       "<div>\n",
       "<style scoped>\n",
       "    .dataframe tbody tr th:only-of-type {\n",
       "        vertical-align: middle;\n",
       "    }\n",
       "\n",
       "    .dataframe tbody tr th {\n",
       "        vertical-align: top;\n",
       "    }\n",
       "\n",
       "    .dataframe thead th {\n",
       "        text-align: right;\n",
       "    }\n",
       "</style>\n",
       "<table border=\"1\" class=\"dataframe\">\n",
       "  <thead>\n",
       "    <tr style=\"text-align: right;\">\n",
       "      <th></th>\n",
       "      <th>Deductible</th>\n",
       "      <th>Copay</th>\n",
       "      <th>Coverage</th>\n",
       "    </tr>\n",
       "  </thead>\n",
       "  <tbody>\n",
       "    <tr>\n",
       "      <th>A</th>\n",
       "      <td>1000</td>\n",
       "      <td>20</td>\n",
       "      <td>0.80</td>\n",
       "    </tr>\n",
       "    <tr>\n",
       "      <th>C</th>\n",
       "      <td>1500</td>\n",
       "      <td>30</td>\n",
       "      <td>0.85</td>\n",
       "    </tr>\n",
       "    <tr>\n",
       "      <th>B</th>\n",
       "      <td>2000</td>\n",
       "      <td>25</td>\n",
       "      <td>0.90</td>\n",
       "    </tr>\n",
       "  </tbody>\n",
       "</table>\n",
       "</div>"
      ],
      "text/plain": [
       "   Deductible  Copay  Coverage\n",
       "A        1000     20      0.80\n",
       "C        1500     30      0.85\n",
       "B        2000     25      0.90"
      ]
     },
     "execution_count": 450,
     "metadata": {},
     "output_type": "execute_result"
    }
   ],
   "source": [
    "insurance.sort_values(by='Deductible', ascending=True)"
   ]
  },
  {
   "cell_type": "markdown",
   "id": "8a385fe0-b801-4cdc-ac58-b8f4b17a2fbe",
   "metadata": {},
   "source": [
    "**c)** Obtain a Series which represents the copay column."
   ]
  },
  {
   "cell_type": "code",
   "execution_count": 426,
   "id": "b4645212-26b9-47c2-9bcf-4b7b2357fddf",
   "metadata": {
    "tags": []
   },
   "outputs": [
    {
     "name": "stdout",
     "output_type": "stream",
     "text": [
      "A    20\n",
      "B    25\n",
      "C    30\n",
      "Name: Copay, dtype: int64\n"
     ]
    }
   ],
   "source": [
    "# Write your code here\n",
    "\n",
    "print(insurance['Copay'])"
   ]
  },
  {
   "cell_type": "markdown",
   "id": "25ce6615-88c1-4996-b046-38df6636cdb3",
   "metadata": {},
   "source": [
    "**d)** Obtain a Series which represents the row for plan B."
   ]
  },
  {
   "cell_type": "code",
   "execution_count": 448,
   "id": "2d1bf766-9575-46ee-b93b-a67ccfc968cc",
   "metadata": {
    "tags": []
   },
   "outputs": [
    {
     "name": "stdout",
     "output_type": "stream",
     "text": [
      "Deductible    2000.0\n",
      "Copay           25.0\n",
      "Coverage         0.9\n",
      "Name: B, dtype: float64\n"
     ]
    }
   ],
   "source": [
    "# Write your code here\n",
    "\n",
    "print(insurance.loc['B'])"
   ]
  },
  {
   "cell_type": "markdown",
   "id": "cd6e6027-62e9-4ce6-abae-5ed257ceba71",
   "metadata": {},
   "source": [
    "**e)** Generate bar plots comparing the three plans, as below."
   ]
  },
  {
   "cell_type": "code",
   "execution_count": 456,
   "id": "81f87ef3-5eaf-4e17-835d-913bac1ae112",
   "metadata": {
    "tags": []
   },
   "outputs": [
    {
     "data": {
      "image/png": "[encoded data removed]",
      "text/plain": [
       "<Figure size 640x480 with 3 Axes>"
      ]
     },
     "metadata": {},
     "output_type": "display_data"
    }
   ],
   "source": [
    "# Write your code here\n",
    "\n",
    "from matplotlib import pyplot as plt\n",
    "\n",
    "insurance.plot(subplots = True, kind = 'bar')\n",
    "\n",
    "plt.show()"
   ]
  },
  {
   "cell_type": "markdown",
   "id": "2798b0fc-4632-4500-a3eb-9178282bbbd4",
   "metadata": {},
   "source": [
    "## (Optional) Exercise 1.10: BMI Calculator v2\n",
    "\n",
    "This question asks you to package the code from Exercise 1.4 into a function. In general, whenever you are asked to code a function, you should follow the steps in this exercise to first develop a version without the function as in Exercise 1.4, and package the code into a function only once everything is correct. To package a segment of code into a function, copy and paste the code segment into a new cell, highlight everything and press Tab to indent everything, then write the function declaration at the beginning, and make minor edits to make sure that the code segment is using the inputs from the function.\n",
    "\n",
    "Write a function called `calculateBMI` with two input arguments:\n",
    "\n",
    "- `weight`: the person's weight in lbs.\n",
    "- `height`: the person's height in inches.\n",
    "\n",
    "The function should return two objects:\n",
    "\n",
    "- `bmi`: the person's BMI (not rounded, unlike in Exercise 1.4).\n",
    "- `classification`: whether the person is \"Underweight\", \"Normal\", \"Overweight\", or \"Obese\", as in Exercise 1.4.\n",
    "\n",
    "**Sample input 1:**\n",
    "\n",
    "```python\n",
    "bmi,classification=calculateBMI(145,71)\n",
    "print('BMI:',bmi)\n",
    "print('classification:',classification)\n",
    "```\n",
    "\n",
    "Correct output:\n",
    "\n",
    "```\n",
    "BMI: 20.21964566293356\n",
    "classification: Normal\n",
    "```\n",
    "\n",
    "**Sample input 2:**\n",
    "\n",
    "```python\n",
    "calculateBMI(160,60)\n",
    "```\n",
    "\n",
    "Correct output:\n",
    "\n",
    "```\n",
    "(31.24206399596875, 'Obese')\n",
    "```\n",
    "\n",
    "**Sample input 3:**\n",
    "\n",
    "```python\n",
    "weight=float(input('Enter weight (lbs): '))\n",
    "height=float(input('Enter height (inches): '))\n",
    "bmi,classification=calculateBMI(145,71)\n",
    "print(f\"The person's BMI is {round(bmi,2)}, which is {classification}.\")\n",
    "```\n",
    "\n",
    "Sample output (as in Exercise 1.4, output depends on what user inputs):\n",
    "\n",
    "\n",
    "```\n",
    "Enter weight (lbs): 145\n",
    "Enter height (inches): 71\n",
    "The person's BMI is 20.22, which is Normal.\n",
    "```\n"
   ]
  },
  {
   "cell_type": "code",
   "execution_count": 465,
   "id": "ae736119-603f-44e1-a92a-72fcff50cf7a",
   "metadata": {},
   "outputs": [],
   "source": [
    "# Write your function here\n",
    "\n",
    "def calculateBMI(weight, height):\n",
    "    \"\"\"\n",
    "    Calculates BMI and returns BMI and classification based on the person's weight in lbs and height in inches.\n",
    "    In order to calculate BMI, weight in lbs and height in inches have to be converted to weight in kgs and height in ms respectively.\n",
    "    \"\"\"\n",
    "    weight_kgs = weight / 2.205\n",
    "    height_ms = height / 39.37\n",
    "    BMI = weight_kgs / (height_ms ** 2)\n",
    "    if BMI < 18.5:\n",
    "        classification = \"Underweight\"\n",
    "    elif BMI < 25:\n",
    "        classification = \"Normal\"\n",
    "    elif BMI < 30:\n",
    "        classification = \"Overweight\"\n",
    "    else:\n",
    "        classification = \"Obese\"\n",
    "    return BMI, classification"
   ]
  },
  {
   "cell_type": "code",
   "execution_count": 467,
   "id": "e9f6b0bd-8e10-4365-b272-e9035bdfebfa",
   "metadata": {},
   "outputs": [
    {
     "name": "stdout",
     "output_type": "stream",
     "text": [
      "BMI: 20.21964566293356\n",
      "classification: Normal\n"
     ]
    }
   ],
   "source": [
    "# Sample run 1\n",
    "bmi,classification=calculateBMI(145,71)\n",
    "print('BMI:',bmi)\n",
    "print('classification:',classification)"
   ]
  },
  {
   "cell_type": "code",
   "execution_count": 469,
   "id": "57d9a57d-ee24-4b66-8ae4-24dc3a33e089",
   "metadata": {},
   "outputs": [
    {
     "data": {
      "text/plain": [
       "(31.24206399596875, 'Obese')"
      ]
     },
     "execution_count": 469,
     "metadata": {},
     "output_type": "execute_result"
    }
   ],
   "source": [
    "# Sample run 2\n",
    "calculateBMI(160,60)"
   ]
  },
  {
   "cell_type": "code",
   "execution_count": 471,
   "id": "84dd074e-e1dd-485e-85eb-710e35c69a00",
   "metadata": {},
   "outputs": [
    {
     "name": "stdin",
     "output_type": "stream",
     "text": [
      "Enter weight (lbs):  145\n",
      "Enter height (inches):  71\n"
     ]
    },
    {
     "name": "stdout",
     "output_type": "stream",
     "text": [
      "The person's BMI is 20.22, which is Normal.\n"
     ]
    }
   ],
   "source": [
    "# Sample run 3\n",
    "weight=float(input('Enter weight (lbs): '))\n",
    "height=float(input('Enter height (inches): '))\n",
    "bmi,classification=calculateBMI(weight,height)\n",
    "print(f\"The person's BMI is {round(bmi,2)}, which is {classification}.\")"
   ]
  },
  {
   "cell_type": "markdown",
   "id": "7557d6b5-b4c7-4b37-873c-f051664ce39e",
   "metadata": {},
   "source": [
    "## (Optional) Exercise 1.11: Blood Sugar Checker\n",
    "\n",
    "Write a function called `bloodSugarCheck` with two input arguments:\n",
    "\n",
    "- `hours`: the number hours the patient has fasted.\n",
    "- `level`: the patient's blood sugar level.\n",
    "\n",
    "The function should print a message based on the following logic:\n",
    "\n",
    "- If they have fasted strictly less than 2 hours, then print \"You need to fast at least 2 hours to perform this test.\" \n",
    "- If they fasted at least 2 hours but strictly less than 8 hours, then print \"Your blood sugar level is high\" if `level` is  strictly more than 140, and \"Your blood sugar level is normal\" otherwise. \n",
    "- If they fasted for at least 8 hours, then print \"Your blood sugar level is high\" if `level` is strictly more than 100, and \"Your blood sugar level is normal\" otherwise. \n",
    "\n",
    "Include the doc-string \"Function for triaging a patient's blood sugar level based on hours of fasting and current level.\"\n",
    "\n",
    "**Sample run 1:**\n",
    "\n",
    "```python\n",
    "bloodSugarCheck(1,100)\n",
    "```\n",
    "\n",
    "Correct output:\n",
    "\n",
    "```\n",
    "You need to fast at least 2 hours to perform this test.\n",
    "```\n",
    "\n",
    "**Sample run 2:**\n",
    "\n",
    "```python\n",
    "bloodSugarCheck(2,110)\n",
    "```\n",
    "\n",
    "Correct output:\n",
    "\n",
    "```\n",
    "Your blood suguar level is normal.\n",
    "```\n",
    "\n",
    "**Sample run 3:**\n",
    "\n",
    "```python\n",
    "bloodSugarCheck(2,141)\n",
    "```\n",
    "\n",
    "Correct output:\n",
    "\n",
    "```\n",
    "Your blood sugar level is high.\n",
    "```\n",
    "\n",
    "**Sample run 4:**\n",
    "\n",
    "```python\n",
    "bloodSugarCheck(8,110)\n",
    "```\n",
    "\n",
    "Correct output:\n",
    "\n",
    "```\n",
    "Your blood sugar level is high.\n",
    "```\n",
    "\n",
    "**Sample run 5:**\n",
    "\n",
    "```python\n",
    "help(bloodSugarCheck)\n",
    "```\n",
    "\n",
    "Correct output: \n",
    "\n",
    "```\n",
    "Help on function bloodSugarCheck in module __main__:\n",
    "\n",
    "bloodSugarCheck(hours, level)\n",
    "    Function for triaging a patient's blood sugar level based on hours of fasting and current level.\n",
    "```"
   ]
  },
  {
   "cell_type": "code",
   "execution_count": 497,
   "id": "d497305a-d1a7-467f-8d0b-2a255cd225b3",
   "metadata": {},
   "outputs": [],
   "source": [
    "# Write your function here\n",
    "\n",
    "def bloodSugarCheck(hours, level):\n",
    "    '''\n",
    "    Function for triaging a patient's blood sugar level based on hours of fasting and current level.\n",
    "    '''\n",
    "    if hours < 2: \n",
    "        print(\"You need to fast at least 2 hours to perform this test.\")\n",
    "    elif hours < 8:\n",
    "        if level > 140: \n",
    "            print(\"Your blood sugar level is high\")\n",
    "        else:\n",
    "            print(\"Your blood sugar level is normal\")\n",
    "    else:\n",
    "        if level > 100:\n",
    "            print(\"Your blood sugar level is high\")\n",
    "        else: \n",
    "            print(\"Your blood sugar level is normal\")"
   ]
  },
  {
   "cell_type": "code",
   "execution_count": 499,
   "id": "c19d155a-8ed8-4614-ba3f-e997e720f77e",
   "metadata": {},
   "outputs": [
    {
     "name": "stdout",
     "output_type": "stream",
     "text": [
      "You need to fast at least 2 hours to perform this test.\n"
     ]
    }
   ],
   "source": [
    "bloodSugarCheck(1,100)"
   ]
  },
  {
   "cell_type": "code",
   "execution_count": 501,
   "id": "4d3230d4-ac03-49a5-af5c-07eb8503c028",
   "metadata": {},
   "outputs": [
    {
     "name": "stdout",
     "output_type": "stream",
     "text": [
      "Your blood sugar level is normal\n"
     ]
    }
   ],
   "source": [
    "bloodSugarCheck(2,110)"
   ]
  },
  {
   "cell_type": "code",
   "execution_count": 503,
   "id": "4b981696-c93a-4865-aa61-3c749c560fe1",
   "metadata": {},
   "outputs": [
    {
     "name": "stdout",
     "output_type": "stream",
     "text": [
      "Your blood sugar level is high\n"
     ]
    }
   ],
   "source": [
    "bloodSugarCheck(2,141)"
   ]
  },
  {
   "cell_type": "code",
   "execution_count": 505,
   "id": "232f80bc-acfa-4ec3-ad54-1653eb73ddde",
   "metadata": {},
   "outputs": [
    {
     "name": "stdout",
     "output_type": "stream",
     "text": [
      "Your blood sugar level is high\n"
     ]
    }
   ],
   "source": [
    "bloodSugarCheck(8,110)"
   ]
  },
  {
   "cell_type": "code",
   "execution_count": 507,
   "id": "8e3c82ed-c54a-4f40-97d7-2fa6e74e7b78",
   "metadata": {},
   "outputs": [
    {
     "name": "stdout",
     "output_type": "stream",
     "text": [
      "Help on function bloodSugarCheck in module __main__:\n",
      "\n",
      "bloodSugarCheck(hours, level)\n",
      "    Function for triaging a patient's blood sugar level based on hours of fasting and current level.\n",
      "\n"
     ]
    }
   ],
   "source": [
    "help(bloodSugarCheck)"
   ]
  }
 ],
 "metadata": {
  "kernelspec": {
   "display_name": "Python 3 (ipykernel)",
   "language": "python",
   "name": "python3"
  },
  "language_info": {
   "codemirror_mode": {
    "name": "ipython",
    "version": 3
   },
   "file_extension": ".py",
   "mimetype": "text/x-python",
   "name": "python",
   "nbconvert_exporter": "python",
   "pygments_lexer": "ipython3",
   "version": "3.12.4"
  }
 },
 "nbformat": 4,
 "nbformat_minor": 5
}
