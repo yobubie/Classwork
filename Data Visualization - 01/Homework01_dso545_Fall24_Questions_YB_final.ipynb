{
 "cells": [
  {
   "cell_type": "markdown",
   "metadata": {
    "id": "ty_Gvth62Tav"
   },
   "source": [
    "# Homework 1\n",
    "\n",
    "### Due: Friday Sep 13, at 11:59pm via Brightsapce"
   ]
  },
  {
   "cell_type": "markdown",
   "metadata": {
    "heading_collapsed": true,
    "id": "ZWwRsNom2TKq"
   },
   "source": [
    "### **Q1.** *(6 points)* Given the following list of characters: 'a', 'b', 'c', 'd', 'e', 'f', 'g', 1, 2, 3.  Create a Python list to store all of the characters. Store the list in a variable `alphabet`.\n",
    "\n"
   ]
  },
  {
   "cell_type": "code",
   "execution_count": 1,
   "metadata": {
    "hidden": true
   },
   "outputs": [],
   "source": [
    "alphabet = ['a', 'b', 'c', 'd', 'e', 'f', 'g', 1, 2, 3]"
   ]
  },
  {
   "cell_type": "markdown",
   "metadata": {
    "hidden": true
   },
   "source": [
    "**1.1** Use indexing techniques to retrieve the first half of the list. "
   ]
  },
  {
   "cell_type": "code",
   "execution_count": 3,
   "metadata": {
    "colab": {
     "base_uri": "https://localhost:8080/",
     "height": 37
    },
    "hidden": true,
    "id": "TfKYs1Kp3qra",
    "outputId": "3585e569-1fda-4683-8872-63e2bf92602f"
   },
   "outputs": [
    {
     "name": "stdout",
     "output_type": "stream",
     "text": [
      "['a', 'b', 'c', 'd', 'e']\n"
     ]
    }
   ],
   "source": [
    "half_index = int(len(alphabet) / 2)\n",
    "first_half = alphabet[0:half_index]\n",
    "print(first_half)"
   ]
  },
  {
   "cell_type": "markdown",
   "metadata": {
    "hidden": true
   },
   "source": [
    "**1.2** Use indexing techniques to retrieve every other character in the list. "
   ]
  },
  {
   "cell_type": "code",
   "execution_count": 5,
   "metadata": {
    "colab": {
     "base_uri": "https://localhost:8080/",
     "height": 37
    },
    "hidden": true,
    "id": "MCSJkHfA4G3p",
    "outputId": "9a9da5f3-9ee0-48d2-95ea-f8e61af7472a"
   },
   "outputs": [
    {
     "name": "stdout",
     "output_type": "stream",
     "text": [
      "['a', 'c', 'e', 'g', 2]\n"
     ]
    }
   ],
   "source": [
    "every_other_character = [alphabet[i] for i in range(0, len(alphabet), 2)]\n",
    "print(every_other_character)"
   ]
  },
  {
   "cell_type": "markdown",
   "metadata": {
    "hidden": true
   },
   "source": [
    "**1.3** Use indexing techniques to print the list in reverse."
   ]
  },
  {
   "cell_type": "code",
   "execution_count": 7,
   "metadata": {
    "colab": {
     "base_uri": "https://localhost:8080/",
     "height": 37
    },
    "hidden": true,
    "id": "3RBycIAH4Nqi",
    "outputId": "5b46d519-37d0-440c-c503-b858170a2ce3"
   },
   "outputs": [
    {
     "name": "stdout",
     "output_type": "stream",
     "text": [
      "[3, 2, 1, 'g', 'f', 'e', 'd', 'c', 'b']\n"
     ]
    }
   ],
   "source": [
    "reversed_alphabet = [alphabet[i] for i in range(-1, -(len(alphabet)), -1)]\n",
    "print(reversed_alphabet)"
   ]
  },
  {
   "cell_type": "markdown",
   "metadata": {
    "hidden": true
   },
   "source": [
    "**1.4** Use indexing techniques to print every other character in reverse."
   ]
  },
  {
   "cell_type": "code",
   "execution_count": 9,
   "metadata": {
    "colab": {
     "base_uri": "https://localhost:8080/",
     "height": 37
    },
    "hidden": true,
    "id": "LEPAyfhf4yRB",
    "outputId": "5b52aa60-b151-43b3-8678-b83d937aab3d"
   },
   "outputs": [
    {
     "name": "stdout",
     "output_type": "stream",
     "text": [
      "[3, 1, 'f', 'd', 'b']\n"
     ]
    }
   ],
   "source": [
    "reversed_every_other_character = [alphabet[i] for i in range(-1, -(len(alphabet)+1), -2)]\n",
    "print(reversed_every_other_character)"
   ]
  },
  {
   "cell_type": "markdown",
   "metadata": {},
   "source": [
    "1.5 Using the reverse method, print the list in reverse"
   ]
  },
  {
   "cell_type": "code",
   "execution_count": 23,
   "metadata": {},
   "outputs": [
    {
     "name": "stdout",
     "output_type": "stream",
     "text": [
      "[3, 2, 1, 'g', 'f', 'e', 'd', 'c', 'b', 'a']\n"
     ]
    }
   ],
   "source": [
    "alphabet.reverse()\n",
    "print(alphabet)"
   ]
  },
  {
   "cell_type": "markdown",
   "metadata": {
    "heading_collapsed": true,
    "id": "pfzJkwGp4_ZP"
   },
   "source": [
    "### **Q2.**  *(3 points)* For a circle of radius 2, calculate and display the diameter, circumference, and area. Use the value 3.14159 for $\\pi$. Your output should like as follows:\n",
    "\n",
    "*Expected Output*\n",
    "\n",
    "------------------\n",
    "\n",
    "The diameter of a circle with radius 2 is 4.\n",
    "\n",
    "The circumferene of a circle with radius 2 is 12.56636. \n",
    "\n",
    "The area of a circle with radius 2 is 12.56636."
   ]
  },
  {
   "cell_type": "code",
   "execution_count": 8,
   "metadata": {
    "colab": {
     "base_uri": "https://localhost:8080/"
    },
    "hidden": true,
    "id": "JCnaljJi49W0",
    "outputId": "f16e19e9-e613-4f34-cf44-a613528b0f92"
   },
   "outputs": [
    {
     "name": "stdout",
     "output_type": "stream",
     "text": [
      "The diameter of a circle with radius 2 is 4.\n",
      "The circumferene of a circle with radius 2 is 12.56636.\n",
      "The area of a circle with radius 2 is 12.56636.\n"
     ]
    }
   ],
   "source": [
    "pi = 3.14159\n",
    "radius = 2\n",
    "diameter = radius * 2\n",
    "circumference = diameter * pi\n",
    "area = (radius ** 2) * pi\n",
    "\n",
    "print(f'The diameter of a circle with radius {radius} is {diameter}.')\n",
    "print(f'The circumferene of a circle with radius {radius} is {circumference}.')\n",
    "print(f'The area of a circle with radius {radius} is {area}.')"
   ]
  },
  {
   "cell_type": "markdown",
   "metadata": {
    "id": "LjuDRRhR8aTk"
   },
   "source": [
    "#### **Q3.**  *(4 points)* Some investment advisors say that it's reasonable to expect a 7% return over the long term in the stock market. Assuming that you begin with $10,000 and leave your money invested, calculate and display how much money you'll have after 10, 20, and 30 years. Use the following formula for determining these amounts: \n",
    "\n",
    "$a=p(1+r)^n$\n",
    "\n",
    "where \n",
    "\n",
    "$p$ is the original amount invested\n",
    "\n",
    "$r$ is the annual rate of return\n",
    "\n",
    "$n$ is the number of years \n",
    "\n",
    "$a$ is the amount on deposit at the end of the $n^{th}$ year."
   ]
  },
  {
   "cell_type": "code",
   "execution_count": 25,
   "metadata": {
    "colab": {
     "base_uri": "https://localhost:8080/"
    },
    "id": "NZhXxKA99rts",
    "outputId": "9d524d81-b4e9-477b-a526-d45d56830d98"
   },
   "outputs": [
    {
     "name": "stdout",
     "output_type": "stream",
     "text": [
      "The amount of money after 10 years is 19671.513572895663 The amount of money after 20 years is 38696.844624861835 The amount of money after 30 years is 76122.55042662042\n"
     ]
    }
   ],
   "source": [
    "p = 10000\n",
    "r = 0.07\n",
    "\n",
    "def compound_interest_calculator(n):\n",
    "    a = p * ((1 + r) ** n)\n",
    "    return a\n",
    "\n",
    "print(f'The amount of money after 10 years is {compound_interest_calculator(10)} The amount of money after 20 years is {compound_interest_calculator(20)} The amount of money after 30 years is {compound_interest_calculator(30)}')"
   ]
  },
  {
   "cell_type": "markdown",
   "metadata": {},
   "source": [
    "Expected answers:\n",
    "The amount of money after 10 years is 19671.513572895663\n",
    "The amount of money after 20 years is 38696.844624861835\n",
    "The amount of money after 30 years is 76122.55042662042"
   ]
  },
  {
   "cell_type": "markdown",
   "metadata": {
    "id": "k-OapMsUUd9t"
   },
   "source": [
    "\n",
    "#### **Q4.**  *(2 points)* Investigate the Python built-in function `round()` at https://docs.python.org/3/library/functions.html#round, then use it to round the `float` value 12.56449 to the nearest integer; ii) tenth; iii) hundredth; iv) and thousandths position. "
   ]
  },
  {
   "cell_type": "code",
   "execution_count": 29,
   "metadata": {
    "colab": {
     "base_uri": "https://localhost:8080/"
    },
    "id": "OmsvFtOWXESX",
    "outputId": "3db1f034-2a10-4bd1-90ff-6da55fae8276"
   },
   "outputs": [
    {
     "name": "stdout",
     "output_type": "stream",
     "text": [
      "13\n",
      "12.6\n",
      "12.56\n",
      "12.564\n"
     ]
    }
   ],
   "source": [
    "print(round(12.56449))\n",
    "print(round(12.56449, 1))\n",
    "print(round(12.56449, 2))\n",
    "print(round(12.56449, 3))"
   ]
  },
  {
   "cell_type": "markdown",
   "metadata": {
    "id": "MnlXHzIUYSVt"
   },
   "source": [
    "#### **Q5.**  *(4 points)* Given two lists: the first represents a selection of cryptoassets, and the second represents the cryptoassets corresponding marketcap in billions of dollars:\n",
    "\n",
    "- Crypto assets = Bitcoin, Cardano, Ethereum,  and Dodgecoin\n",
    "- Marketcap = 1136, 12, 293, 14\n",
    "\n",
    "(Note: the given marketcap was recorded on 8/31/24)\n",
    "\n"
   ]
  },
  {
   "cell_type": "code",
   "execution_count": 34,
   "metadata": {
    "id": "FS-g5498maee"
   },
   "outputs": [],
   "source": [
    "crypto_assets = ['Bitcoin', 'Cardano', 'Ethereum', 'Dodgecoin']\n",
    "marketcap = [1136, 12, 293, 14]"
   ]
  },
  {
   "cell_type": "markdown",
   "metadata": {},
   "source": [
    "**5.1** Use a `for` loop to compute the total marketcap for all four currencies together."
   ]
  },
  {
   "cell_type": "code",
   "execution_count": 36,
   "metadata": {
    "colab": {
     "base_uri": "https://localhost:8080/"
    },
    "id": "_6htoQH85r_8",
    "outputId": "fb514aaa-794d-456a-8c83-27bf9b2336e4"
   },
   "outputs": [
    {
     "name": "stdout",
     "output_type": "stream",
     "text": [
      "1455\n"
     ]
    }
   ],
   "source": [
    "total_marketcap = 0\n",
    "for value in marketcap:\n",
    "    total_marketcap += value\n",
    "print(total_marketcap)"
   ]
  },
  {
   "cell_type": "markdown",
   "metadata": {},
   "source": [
    "**5.2** Use list comprehension to list all market caps above $250B."
   ]
  },
  {
   "cell_type": "code",
   "execution_count": 44,
   "metadata": {
    "colab": {
     "base_uri": "https://localhost:8080/"
    },
    "id": "_fR9NR8N6WRj",
    "outputId": "7b79b488-f86f-4175-8b4b-fc8c46ac2292"
   },
   "outputs": [
    {
     "data": {
      "text/plain": [
       "['Bitcoin', 'Ethereum']"
      ]
     },
     "execution_count": 44,
     "metadata": {},
     "output_type": "execute_result"
    }
   ],
   "source": [
    "[crypto_assets[i] for i in range(len(marketcap)) if marketcap[i] > 250]"
   ]
  },
  {
   "cell_type": "markdown",
   "metadata": {},
   "source": [
    "**5.3** Create a dictionary that contains the name of the cryptoasset as key and its corresponding marketcap as values for the dictionary."
   ]
  },
  {
   "cell_type": "code",
   "execution_count": 77,
   "metadata": {
    "colab": {
     "base_uri": "https://localhost:8080/"
    },
    "id": "u_Q7m-RT0TRE",
    "outputId": "4a7ee62f-af03-4620-8125-09868d4e20f5"
   },
   "outputs": [
    {
     "name": "stdout",
     "output_type": "stream",
     "text": [
      "{'Bitcoin': 1136, 'Cardano': 12, 'Ethereum': 293, 'Dodgecoin': 14}\n"
     ]
    }
   ],
   "source": [
    "crypto_dict = {asset: value for asset, value in zip(crypto_assets, marketcap)}\n",
    "print(crypto_dict)"
   ]
  },
  {
   "cell_type": "markdown",
   "metadata": {},
   "source": [
    "**5.4** Use the dictionary data structure you created for the cryptoassets to print the name of the asset and its marketcap as follows (use for loop):\n",
    "\n",
    "Expected Output:\n",
    "\n",
    "-----------------\n",
    "\n",
    "The marketcap for Bitcoin is $1136B\n",
    "\n",
    "The marketcap for Cardano is $12B\n",
    "\n",
    "The marketcap for Ethereum is $293B\n",
    "\n",
    "The marketcap for Dodgecoin is $14B"
   ]
  },
  {
   "cell_type": "code",
   "execution_count": 79,
   "metadata": {
    "colab": {
     "base_uri": "https://localhost:8080/"
    },
    "id": "zPUQH3Zt2cpe",
    "outputId": "97d74615-6600-4321-b7b0-93a845af6354"
   },
   "outputs": [
    {
     "name": "stdout",
     "output_type": "stream",
     "text": [
      "The marketcap for Bitcoin is $1136B\n",
      "The marketcap for Cardano is $12B\n",
      "The marketcap for Ethereum is $293B\n",
      "The marketcap for Dodgecoin is $14B\n"
     ]
    }
   ],
   "source": [
    "for asset, value in crypto_dict.items():\n",
    "    print(f\"The marketcap for {asset} is ${value}B\")"
   ]
  }
 ],
 "metadata": {
  "colab": {
   "name": "Homework01-dso545-fall21.ipynb",
   "provenance": []
  },
  "kernelspec": {
   "display_name": "Python 3 (ipykernel)",
   "language": "python",
   "name": "python3"
  },
  "language_info": {
   "codemirror_mode": {
    "name": "ipython",
    "version": 3
   },
   "file_extension": ".py",
   "mimetype": "text/x-python",
   "name": "python",
   "nbconvert_exporter": "python",
   "pygments_lexer": "ipython3",
   "version": "3.12.4"
  },
  "varInspector": {
   "cols": {
    "lenName": 16,
    "lenType": 16,
    "lenVar": 40
   },
   "kernels_config": {
    "python": {
     "delete_cmd_postfix": "",
     "delete_cmd_prefix": "del ",
     "library": "var_list.py",
     "varRefreshCmd": "print(var_dic_list())"
    },
    "r": {
     "delete_cmd_postfix": ") ",
     "delete_cmd_prefix": "rm(",
     "library": "var_list.r",
     "varRefreshCmd": "cat(var_dic_list()) "
    }
   },
   "types_to_exclude": [
    "module",
    "function",
    "builtin_function_or_method",
    "instance",
    "_Feature"
   ],
   "window_display": false
  }
 },
 "nbformat": 4,
 "nbformat_minor": 4
}
