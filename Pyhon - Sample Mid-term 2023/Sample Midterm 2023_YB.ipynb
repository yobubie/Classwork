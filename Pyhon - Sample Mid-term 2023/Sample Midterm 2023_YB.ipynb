{
 "cells": [
  {
   "cell_type": "code",
   "execution_count": 1,
   "id": "77a18fd3-ef22-45e9-a0a3-a6279269955c",
   "metadata": {},
   "outputs": [],
   "source": [
    "## 2023 - Q1. Ordering Kitchen Cabinets (7 Points)"
   ]
  },
  {
   "cell_type": "code",
   "execution_count": 31,
   "id": "162725d6-6433-4dc9-ace4-a3b43c3d8bfa",
   "metadata": {},
   "outputs": [],
   "source": [
    "instock={'A': [1,3,8,9,14,18,30,31,60,61,80,90,100],'B': [5,6,7,20,21,40,70,71,100],'C': [1,2,9,10,25,50,90,91,100],'D': [3,4,10,11,29,35,59,81,100]}\n",
    "delivery_time={'A':3,'B':5,'C':7,'D':4}\n",
    "today=21"
   ]
  },
  {
   "cell_type": "code",
   "execution_count": 173,
   "id": "06cc5c15-c114-47c0-8b40-e10039ef1344",
   "metadata": {},
   "outputs": [
    {
     "name": "stdout",
     "output_type": "stream",
     "text": [
      "A 30\n",
      "B 21\n",
      "C 25\n",
      "D 29\n",
      "[33, 26, 32, 33]\n",
      "33\n"
     ]
    }
   ],
   "source": [
    "earliest_order_date_A = max(instock['A']) + 1\n",
    "earliest_order_date_B = max(instock['B']) + 1\n",
    "earliest_order_date_C = max(instock['C']) + 1\n",
    "earliest_order_date_D = max(instock['D']) + 1\n",
    "\n",
    "delivery_list = [0] * len(instock)\n",
    "\n",
    "for cabinet, dates in instock.items():\n",
    "    for date in dates:\n",
    "        if cabinet == 'A' and date >= today and date < earliest_order_date_A:\n",
    "            earliest_order_date_A = date\n",
    "            earlist_delivery_date_A = earliest_order_date_A + delivery_time['A']\n",
    "            delivery_list[0] = earlist_delivery_date_A\n",
    "            print(cabinet, earliest_order_date_A)\n",
    "        if cabinet == 'B' and date >= today and date < earliest_order_date_B:\n",
    "            earliest_order_date_B = date\n",
    "            earlist_delivery_date_B = earliest_order_date_B + delivery_time['B']\n",
    "            delivery_list[1] = earlist_delivery_date_B\n",
    "            print(cabinet, earliest_order_date_B)\n",
    "        if cabinet == 'C' and date >= today and date < earliest_order_date_C:\n",
    "            earliest_order_date_C = date\n",
    "            earlist_delivery_date_C = earliest_order_date_C + delivery_time['C']\n",
    "            delivery_list[2] = earlist_delivery_date_C\n",
    "            print(cabinet, earliest_order_date_C)\n",
    "        if cabinet == 'D' and date >= today and date < earliest_order_date_D:\n",
    "            earliest_order_date_D = date\n",
    "            earlist_delivery_date_D = earliest_order_date_D + delivery_time['D']\n",
    "            delivery_list[3] = earlist_delivery_date_D\n",
    "            print(cabinet, earliest_order_date_D)\n",
    "\n",
    "print(delivery_list)\n",
    "earliest_delivery_date = max(delivery_list)\n",
    "print(earliest_delivery_date)"
   ]
  },
  {
   "cell_type": "code",
   "execution_count": 193,
   "id": "fc77304c-1c31-4711-b9db-57a43876d845",
   "metadata": {},
   "outputs": [
    {
     "name": "stdout",
     "output_type": "stream",
     "text": [
      "A\n",
      "[33]\n",
      "B\n",
      "[33, 26]\n",
      "C\n",
      "[33, 26, 32]\n",
      "D\n",
      "[33, 26, 32, 33]\n"
     ]
    }
   ],
   "source": [
    "instock={'A': [1,3,8,9,14,18,30,31,60,61,80,90,100],'B': [5,6,7,20,21,40,70,71,100],'C': [1,2,9,10,25,50,90,91,100],'D': [3,4,10,11,29,35,59,81,100]}\n",
    "delivery_time={'A':3,'B':5,'C':7,'D':4}\n",
    "today=21\n",
    "\n",
    "earliest_deliver_dates = []\n",
    "\n",
    "cabinet_list = list(instock.keys())\n",
    "\n",
    "for i in range(len(cabinet_list)):\n",
    "    cabinet = cabinet_list[i]\n",
    "    order_dates_list = instock[cabinet]\n",
    "    for dates in order_dates_list:\n",
    "        if dates >= today:\n",
    "            earliest_deliver_dates.append(dates + delivery_time[cabinet])\n",
    "            break\n",
    "    print(cabinet)\n",
    "    print(earliest_deliver_dates)"
   ]
  },
  {
   "cell_type": "code",
   "execution_count": 6,
   "id": "af78e681-9c10-4990-9b74-8087bcb81ba7",
   "metadata": {},
   "outputs": [],
   "source": [
    "# My code #1\n",
    "\n",
    "def earliest(instock, delivery_time, today):\n",
    "    earliest_order_date_A = float('inf')\n",
    "    earliest_order_date_B = float('inf')\n",
    "    earliest_order_date_C = float('inf')\n",
    "    earliest_order_date_D = float('inf')\n",
    "    \n",
    "    delivery_list = [0] * len(instock)\n",
    "    \n",
    "    for cabinet, dates in instock.items():\n",
    "        for date in dates:\n",
    "            if cabinet == 'A' and date >= today and date < earliest_order_date_A:\n",
    "                earliest_order_date_A = date\n",
    "                earlist_delivery_date_A = earliest_order_date_A + delivery_time['A']\n",
    "                delivery_list[0] = earlist_delivery_date_A\n",
    "            if cabinet == 'B' and date >= today and date < earliest_order_date_B:\n",
    "                earliest_order_date_B = date\n",
    "                earlist_delivery_date_B = earliest_order_date_B + delivery_time['B']\n",
    "                delivery_list[1] = earlist_delivery_date_B\n",
    "            if cabinet == 'C' and date >= today and date < earliest_order_date_C:\n",
    "                earliest_order_date_C = date\n",
    "                earlist_delivery_date_C = earliest_order_date_C + delivery_time['C']\n",
    "                delivery_list[2] = earlist_delivery_date_C\n",
    "            if cabinet == 'D' and date >= today and date < earliest_order_date_D:\n",
    "                earliest_order_date_D = date\n",
    "                earlist_delivery_date_D = earliest_order_date_D + delivery_time['D']\n",
    "                delivery_list[3] = earlist_delivery_date_D\n",
    "    earliest_delivery_date = max(delivery_list)\n",
    "    return earliest_delivery_date"
   ]
  },
  {
   "cell_type": "code",
   "execution_count": 4,
   "id": "8c92de21-714d-461b-94a7-3c37da0fde0b",
   "metadata": {},
   "outputs": [],
   "source": [
    "# My code #2\n",
    "\n",
    "def earliest(instock, delivery_time, today):\n",
    "    earliest_deliver_dates_list = []\n",
    "    cabinet_list = list(instock.keys())\n",
    "    \n",
    "    for i in range(len(cabinet_list)):\n",
    "        cabinet = cabinet_list[i]\n",
    "        order_dates_list = instock[cabinet]\n",
    "        for dates in order_dates_list:\n",
    "            if dates >= today:\n",
    "                earliest_deliver_dates_list.append(dates + delivery_time[cabinet])\n",
    "                break\n",
    "                \n",
    "    earliest_deliver_dates = max(earliest_deliver_dates_list)\n",
    "    \n",
    "    return earliest_deliver_dates"
   ]
  },
  {
   "cell_type": "code",
   "execution_count": 8,
   "id": "9c9e63c8-25ee-4da2-9e72-f26a956a1eb6",
   "metadata": {},
   "outputs": [],
   "source": [
    "# My code #3: Best.\n",
    "\n",
    "def earliest(instock, delivery_time, today):\n",
    "    cabinets = instock.keys()\n",
    "    earliest_list = [] \n",
    "    for cabinet in cabinets:\n",
    "        order_dates = instock[cabinet]\n",
    "        delivery_dates = delivery_time[cabinet]\n",
    "        for date in order_dates:\n",
    "            if date >= today:\n",
    "                earliest_list.append(date + delivery_dates)\n",
    "                break\n",
    "    return max(earliest_list)"
   ]
  },
  {
   "cell_type": "code",
   "execution_count": 252,
   "id": "0cc04913-0354-4885-b51b-e465458d9d5e",
   "metadata": {},
   "outputs": [],
   "source": [
    "# Solution\n",
    "\n",
    "def earliest(instock, delivery_time, today):\n",
    "    earliest_deliver_dates = []\n",
    "    for cabinet in instock.keys():\n",
    "        orderdate = min([day for day in instock[cabinet] if day >= today])\n",
    "        earliest_deliver_dates.append(orderdate + delivery_time[cabinet])\n",
    "    return max(earliest_deliver_dates)"
   ]
  },
  {
   "cell_type": "code",
   "execution_count": 385,
   "id": "fb6a4804-a66e-48f7-8628-b69ca23ab736",
   "metadata": {},
   "outputs": [
    {
     "data": {
      "text/plain": [
       "33"
      ]
     },
     "execution_count": 385,
     "metadata": {},
     "output_type": "execute_result"
    }
   ],
   "source": [
    "# Sample runs:\n",
    "instock={'A': [1,3,8,9,14,18,30,31,60,61,80,90,100],'B': [5,6,7,20,21,40,70,71,100],'C': [1,2,9,10,25,50,90,91,100],'D': [3,4,10,11,29,35,59,81,100]}\n",
    "delivery_time={'A':3,'B':5,'C':7,'D':4}\n",
    "earliest(instock,delivery_time, 21)"
   ]
  },
  {
   "cell_type": "code",
   "execution_count": 387,
   "id": "ad4cc74b-1224-4774-af81-3d52759bf989",
   "metadata": {},
   "outputs": [
    {
     "name": "stdout",
     "output_type": "stream",
     "text": [
      "10\n"
     ]
    }
   ],
   "source": [
    "print(earliest(instock,delivery_time, 1))"
   ]
  },
  {
   "cell_type": "code",
   "execution_count": 389,
   "id": "5aadae80-f6e6-4930-832a-0a9c32018229",
   "metadata": {},
   "outputs": [
    {
     "data": {
      "text/plain": [
       "97"
      ]
     },
     "execution_count": 389,
     "metadata": {},
     "output_type": "execute_result"
    }
   ],
   "source": [
    "earliest(instock,delivery_time, 60)"
   ]
  },
  {
   "cell_type": "code",
   "execution_count": 379,
   "id": "f4e9b9bf-d198-44d8-bb53-ddc16e7bb355",
   "metadata": {},
   "outputs": [],
   "source": [
    "## 2023 - Q2. Scheduling Contractors (8 Points): Don't try to be a clean code."
   ]
  },
  {
   "cell_type": "code",
   "execution_count": 240,
   "id": "530c8aba-749e-49b2-88d5-1f0f44c1f8ba",
   "metadata": {},
   "outputs": [
    {
     "name": "stdout",
     "output_type": "stream",
     "text": [
      "Cabinet Installers\n",
      "[3, 4, 7]\n",
      "Plumber\n",
      "[3, 4, 7, 8, 13]\n",
      "Electrician\n",
      "[3, 4, 7, 8, 13, 15]\n",
      "Painters\n",
      "[3, 4, 7, 8, 13, 15, 18, 19, 20]\n"
     ]
    }
   ],
   "source": [
    "available={'Cabinet Installers':[3,4,7,8,9,12,21,23],'Electrician':[6,7,11,12,15,16,24,25],'Plumber':[1,4,7,8,13,17,19,21],'Painters':[5,8,9,12,13,14,15,18,19,20,23]}\n",
    "sequence=['Cabinet Installers','Plumber','Electrician','Painters']\n",
    "days_needed=[3,2,1,3]\n",
    "\n",
    "days_list = []\n",
    "\n",
    "for i in range(len(sequence)):\n",
    "    count = 0\n",
    "    contractor = sequence[i]\n",
    "    available_days = available[contractor]\n",
    "    for days in available_days:\n",
    "        if i == 0: \n",
    "            days_list.append(days)\n",
    "            count += 1\n",
    "            if count == days_needed[i]:\n",
    "                break\n",
    "        else:\n",
    "            if days > days_list[-1]:\n",
    "                days_list.append(days)\n",
    "                count += 1\n",
    "                if count == days_needed[i]:\n",
    "                    break\n",
    "    print(contractor)\n",
    "    print(days_list)"
   ]
  },
  {
   "cell_type": "code",
   "execution_count": 260,
   "id": "0af21c08-de5b-4016-9277-80e9c631d0a9",
   "metadata": {},
   "outputs": [],
   "source": [
    "# My code\n",
    "\n",
    "def completion_date(available, sequence, days_needed):\n",
    "    days_list = []\n",
    "\n",
    "    for i in range(len(sequence)):\n",
    "        count = 0\n",
    "        contractor = sequence[i]\n",
    "        available_days = available[contractor]\n",
    "        for days in available_days:\n",
    "            if i == 0: \n",
    "                days_list.append(days)\n",
    "                count += 1\n",
    "                if count == days_needed[i]:\n",
    "                    break\n",
    "            else:\n",
    "                if days > days_list[-1]:\n",
    "                    days_list.append(days)\n",
    "                    count += 1\n",
    "                    if count == days_needed[i]:\n",
    "                        break\n",
    "    return days_list[-1]"
   ]
  },
  {
   "cell_type": "code",
   "execution_count": 161,
   "id": "2212698b-0ee9-4378-a656-db30f2f8a5a2",
   "metadata": {},
   "outputs": [
    {
     "data": {
      "text/plain": [
       "20"
      ]
     },
     "execution_count": 161,
     "metadata": {},
     "output_type": "execute_result"
    }
   ],
   "source": [
    "# Sample runs:\n",
    "available={'Cabinet Installers':[3,4,7,8,9,12,21,23],'Electrician':[6,7,11,12,15,16,24,25],'Plumber':[1,4,7,8,13,17,19,21],'Painters':[5,8,9,12,13,14,15,18,19,20,23]}\n",
    "sequence=['Cabinet Installers','Plumber','Electrician','Painters']\n",
    "days_needed=[3,2,1,3]\n",
    "completion_date(available,sequence,days_needed)"
   ]
  },
  {
   "cell_type": "code",
   "execution_count": 165,
   "id": "642c3fad-3e33-4e15-9a4f-7a11d52b9e9e",
   "metadata": {},
   "outputs": [
    {
     "data": {
      "text/plain": [
       "14"
      ]
     },
     "execution_count": 165,
     "metadata": {},
     "output_type": "execute_result"
    }
   ],
   "source": [
    "completion_date(available,['Plumber','Painters'],[4,4])"
   ]
  },
  {
   "cell_type": "code",
   "execution_count": 169,
   "id": "06f9f8a8-26fa-4abf-ab6c-a4267b164aad",
   "metadata": {},
   "outputs": [
    {
     "data": {
      "text/plain": [
       "15"
      ]
     },
     "execution_count": 169,
     "metadata": {},
     "output_type": "execute_result"
    }
   ],
   "source": [
    "completion_date(available,['Cabinet Installers','Painters'],[4,5])"
   ]
  },
  {
   "cell_type": "code",
   "execution_count": 242,
   "id": "58d5e789-86a2-44a9-ae0b-157fab4eba5b",
   "metadata": {},
   "outputs": [
    {
     "data": {
      "text/plain": [
       "13"
      ]
     },
     "execution_count": 242,
     "metadata": {},
     "output_type": "execute_result"
    }
   ],
   "source": [
    "completion_date(available,['Plumber','Cabinet Installers','Plumber'],[2,3,1])"
   ]
  },
  {
   "cell_type": "code",
   "execution_count": 377,
   "id": "302f6471-79ba-4519-b4ca-c3e6e3e1b23f",
   "metadata": {},
   "outputs": [],
   "source": [
    "## 2023 - Q3. Simulating Contractor Availability (9 Points): Hardest"
   ]
  },
  {
   "cell_type": "code",
   "execution_count": 14,
   "id": "b7717fb6-b9fa-4b67-a459-0221c3eb29a5",
   "metadata": {},
   "outputs": [
    {
     "name": "stdout",
     "output_type": "stream",
     "text": [
      "day: 1\n",
      "number_of_jobs: 0\n",
      "[1]\n",
      "day: 2\n",
      "number_of_jobs: 0\n",
      "[1, 1]\n",
      "day: 3\n",
      "number_of_jobs: 1\n",
      "jobs: 0, length: 1\n",
      "[1, 1, 0]\n",
      "day: 4\n",
      "number_of_jobs: 0\n",
      "[1, 1, 0, 1]\n",
      "day: 5\n",
      "number_of_jobs: 0\n",
      "[1, 1, 0, 1, 1]\n",
      "day: 6\n",
      "number_of_jobs: 0\n",
      "[1, 1, 0, 1, 1, 1]\n",
      "day: 7\n",
      "number_of_jobs: 1\n",
      "jobs: 0, length: 1\n",
      "[1, 1, 0, 1, 1, 1, 0]\n",
      "day: 8\n",
      "number_of_jobs: 2\n",
      "jobs: 0, length: 5\n",
      "jobs: 1, length: 3\n",
      "[1, 1, 0, 1, 1, 1, 0, 0, 0, 0, 0, 0, 0, 0, 0]\n",
      "day: 9\n",
      "number_of_jobs: 1\n",
      "jobs: 0, length: 2\n",
      "[1, 1, 0, 1, 1, 1, 0, 0, 0, 0, 0, 0, 0, 0, 0, 0, 0]\n",
      "day: 10\n",
      "number_of_jobs: 0\n",
      "[1, 1, 0, 1, 1, 1, 0, 0, 0, 0, 0, 0, 0, 0, 0, 0, 0]\n",
      "[1, 2, 4, 5, 6]\n"
     ]
    }
   ],
   "source": [
    "from numpy.random import default_rng\n",
    "rng = default_rng()\n",
    "\n",
    "T = 10\n",
    "\n",
    "schedule = []\n",
    "\n",
    "for day in range(1, T+1):\n",
    "    print(f'day: {day}')\n",
    "    number_of_jobs = rng.poisson(0.4)\n",
    "    print(f'number_of_jobs: {number_of_jobs}')\n",
    "    for jobs in range(number_of_jobs):\n",
    "        length_of_days = rng.choice([1,2,3,5],p=[0.3,0.4,0.2,0.1])\n",
    "        schedule += [0] * length_of_days\n",
    "        print(f'jobs: {jobs}, length: {length_of_days}')\n",
    "    if len(schedule) < day:\n",
    "        schedule.append(1)\n",
    "    print(schedule)\n",
    "print([day+1 for day in range(T) if schedule[day] == 1])"
   ]
  },
  {
   "cell_type": "code",
   "execution_count": 20,
   "id": "c80bb066-eaba-4d83-9c5e-481d73ac5ef9",
   "metadata": {},
   "outputs": [],
   "source": [
    "# Alternative Solution: Best\n",
    "\n",
    "def availability(T):\n",
    "    from numpy.random import default_rng\n",
    "    rng = default_rng()\n",
    "    \n",
    "    free_days = [1] * T\n",
    "    for i in range(T):\n",
    "        num_jobs = rng.poisson(0.4)\n",
    "        for j in range(num_jobs):\n",
    "            days_needed = rng.choice([1, 2, 3, 5], p=[.3, .4, .2, .1])\n",
    "            for k in range(i, T):\n",
    "                if free_days[k] == 1:\n",
    "                    free_days[k] = 0\n",
    "                    days_needed -= 1\n",
    "                if days_needed == 0:\n",
    "                    break\n",
    "    \n",
    "    schedule = []\n",
    "    for i in range(T):\n",
    "        day = i + 1\n",
    "        if free_days[i] == 1:\n",
    "            schedule.append(day)\n",
    "    return schedule"
   ]
  },
  {
   "cell_type": "code",
   "execution_count": 22,
   "id": "5b05cee6-0d27-4a7f-b368-16181114b98f",
   "metadata": {},
   "outputs": [
    {
     "data": {
      "text/plain": [
       "[1, 2, 8, 9, 10]"
      ]
     },
     "execution_count": 22,
     "metadata": {},
     "output_type": "execute_result"
    }
   ],
   "source": [
    "availability(10)"
   ]
  },
  {
   "cell_type": "code",
   "execution_count": 24,
   "id": "3e7db825-d220-4917-93a1-f9d2ec675b41",
   "metadata": {},
   "outputs": [
    {
     "data": {
      "text/plain": [
       "[1, 2, 3]"
      ]
     },
     "execution_count": 24,
     "metadata": {},
     "output_type": "execute_result"
    }
   ],
   "source": [
    "availability(30)"
   ]
  }
 ],
 "metadata": {
  "kernelspec": {
   "display_name": "Python 3 (ipykernel)",
   "language": "python",
   "name": "python3"
  },
  "language_info": {
   "codemirror_mode": {
    "name": "ipython",
    "version": 3
   },
   "file_extension": ".py",
   "mimetype": "text/x-python",
   "name": "python",
   "nbconvert_exporter": "python",
   "pygments_lexer": "ipython3",
   "version": "3.12.4"
  }
 },
 "nbformat": 4,
 "nbformat_minor": 5
}
