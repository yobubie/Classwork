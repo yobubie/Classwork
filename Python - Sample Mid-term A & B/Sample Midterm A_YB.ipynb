{
 "cells": [
  {
   "cell_type": "code",
   "execution_count": 1,
   "id": "e49cf44a-1791-4f5c-a32f-837fd45905a1",
   "metadata": {},
   "outputs": [],
   "source": [
    "# A - Q1\n",
    "\n",
    "from numpy.random import default_rng\n",
    "rng = default_rng()\n",
    "\n",
    "def demand_estimate(days, k=1, p=0.02):\n",
    "    total_toilet_paper = []\n",
    "    for day in range(days):\n",
    "        for person in range(k):\n",
    "            sick_or_healthy = rng.choice(['Sick', 'Healthy'],p=[p, 1-p])\n",
    "            if sick_or_healthy == 'Sick':\n",
    "                person_toilet_paper = rng.uniform(20, 40)\n",
    "            else: # sick_or_healthy == 'Healthy'\n",
    "                person_toilet_paper = rng.uniform(5, 10)\n",
    "            total_toilet_paper.append(person_toilet_paper)\n",
    "    return sum(total_toilet_paper)"
   ]
  },
  {
   "cell_type": "code",
   "execution_count": 3,
   "id": "f0317d59-bd4c-4c8a-aec1-770bf971c1de",
   "metadata": {},
   "outputs": [
    {
     "data": {
      "text/plain": [
       "52.26233525916763"
      ]
     },
     "execution_count": 3,
     "metadata": {},
     "output_type": "execute_result"
    }
   ],
   "source": [
    "# Test code 1\n",
    "\n",
    "demand_estimate(7)\n",
    "\n",
    "# Output should be: 48.609976093943594"
   ]
  },
  {
   "cell_type": "code",
   "execution_count": 55,
   "id": "f6c047aa-776b-4ca5-b2f7-8d4778b67ab4",
   "metadata": {},
   "outputs": [
    {
     "data": {
      "image/png": "[encoded data removed]",
      "text/plain": [
       "<Figure size 600x200 with 1 Axes>"
      ]
     },
     "metadata": {},
     "output_type": "display_data"
    },
    {
     "name": "stdout",
     "output_type": "stream",
     "text": [
      "Mean: 114.66 \tStd: 15.97\n"
     ]
    }
   ],
   "source": [
    "import pandas as pd\n",
    "import matplotlib.pyplot as plt\n",
    "\n",
    "estimates=pd.Series([demand_estimate(7, 2, 0.03) for i in range(10000)])\n",
    "estimates.plot(kind='hist',title='Weekly demand from 10000 simulations',bins=100,figsize=(6,2))\n",
    "plt.show()\n",
    "print(f'Mean: {estimates.mean():.2f} \\tStd: {estimates.std():.2f}')\n",
    "\n",
    "# Output should be: Mean: 114.81    Std: 16.08"
   ]
  },
  {
   "cell_type": "code",
   "execution_count": 57,
   "id": "6f5f55c2-500d-49bb-98fb-dee3696ec38f",
   "metadata": {},
   "outputs": [
    {
     "name": "stdout",
     "output_type": "stream",
     "text": [
      "The proportion of demand that is served: 0.5614035087719298\n",
      "The proportion of days in which all demand is served: 0.5\n"
     ]
    }
   ],
   "source": [
    "# A - Q2\n",
    "\n",
    "demand = [20,35,60,20,10,30,50,30,20,10]\n",
    "s = 100\n",
    "remaining = s\n",
    "sold_list = []\n",
    "good_days = 0\n",
    "\n",
    "for i in range(len(demand)):\n",
    "    if i > 0 and i % 7 == 0:\n",
    "        remaining += s\n",
    "\n",
    "    if demand[i] <= remaining:\n",
    "        sold = demand[i]\n",
    "        good_days += 1\n",
    "    else: # demand[i] > remaining\n",
    "        sold = remaining\n",
    "\n",
    "    remaining -= sold\n",
    "    sold_list.append(sold)\n",
    "\n",
    "served_proportion = sum(sold_list) / sum(demand)\n",
    "good_days_proportion = good_days / len(demand)\n",
    "\n",
    "print(f'The proportion of demand that is served: {served_proportion}')\n",
    "print(f'The proportion of days in which all demand is served: {good_days_proportion}')    "
   ]
  },
  {
   "cell_type": "code",
   "execution_count": 59,
   "id": "4532ffaa-49dc-4908-bab4-49d125df142b",
   "metadata": {},
   "outputs": [],
   "source": [
    "def supply_simulation(demand, s):\n",
    "    remaining = s\n",
    "    sold_list = []\n",
    "    good_days = 0\n",
    "\n",
    "    for i in range(len(demand)):\n",
    "        if i > 0 and i % 7 == 0:\n",
    "            remaining += s\n",
    "\n",
    "        if demand[i] <= remaining:\n",
    "            sold = demand[i]\n",
    "            good_days += 1\n",
    "        else:\n",
    "            sold = remaining\n",
    "\n",
    "        remaining -= sold\n",
    "        sold_list.append(sold)\n",
    "\n",
    "    served_proportion = sum(sold_list) / sum(demand)\n",
    "    good_days_proportion = good_days / len(demand)\n",
    "\n",
    "    return served_proportion, good_days_proportion"
   ]
  },
  {
   "cell_type": "code",
   "execution_count": 61,
   "id": "62be4eef-7aec-457e-bfc9-75937bae9f0f",
   "metadata": {},
   "outputs": [
    {
     "name": "stdout",
     "output_type": "stream",
     "text": [
      "Proportion of total demand that is served:  0.5614035087719298\n",
      "Proportion of days in which all demand is served:  0.5\n"
     ]
    }
   ],
   "source": [
    "# Test code 1\n",
    "s,g=supply_simulation([20,35,60,20,10,30,50,30,20,10],100)\n",
    "print('Proportion of total demand that is served: ',s)\n",
    "print('Proportion of days in which all demand is served: ',g)\n",
    "\n",
    "# Output should be: \n",
    "# Proportion of total demand that is served:  0.5614035087719298\n",
    "# Proportion of days in which all demand is served:  0.5"
   ]
  },
  {
   "cell_type": "code",
   "execution_count": 63,
   "id": "35b30b93-02c2-4dce-b5fc-827565e97481",
   "metadata": {},
   "outputs": [
    {
     "data": {
      "text/plain": [
       "(1.0, 1.0)"
      ]
     },
     "execution_count": 63,
     "metadata": {},
     "output_type": "execute_result"
    }
   ],
   "source": [
    "# Test code 2\n",
    "demand=([10]*7)+([20]*3)\n",
    "supply_simulation(demand,70)\n",
    "\n",
    "# Output should be: (1.0, 1.0)"
   ]
  },
  {
   "cell_type": "code",
   "execution_count": 129,
   "id": "19869898-fdd2-4a19-bdeb-8c1b45fde1c9",
   "metadata": {},
   "outputs": [
    {
     "data": {
      "text/plain": [
       "(0.65, 0.6)"
      ]
     },
     "execution_count": 129,
     "metadata": {},
     "output_type": "execute_result"
    }
   ],
   "source": [
    "# Test code 3\n",
    "demand=([20]*10)\n",
    "supply_simulation(demand,70)\n",
    "\n",
    "# Output should be: (0.65, 0.6)"
   ]
  },
  {
   "cell_type": "code",
   "execution_count": 185,
   "id": "12eedb57-77ee-41ce-a0a5-595a8690fc70",
   "metadata": {},
   "outputs": [],
   "source": [
    "# A - Q3: Need to work > Done\n",
    "\n",
    "from numpy.random import default_rng\n",
    "rng = default_rng()\n",
    "\n",
    "import math\n",
    "\n",
    "def travel_distance(locations, probabilities):\n",
    "    home = [0, 0]\n",
    "    total_distance = 0\n",
    "\n",
    "    for i in range(len(locations)):\n",
    "        location = locations[i]\n",
    "        if i == 0:\n",
    "            location_before = home\n",
    "        else:\n",
    "            location_before = locations[i - 1]\n",
    "        \n",
    "        # Calculate the distance to the current store\n",
    "        travel_distance = math.sqrt((location[0] - location_before[0]) ** 2 + (location[1] - location_before[1]) ** 2)\n",
    "        total_distance += travel_distance\n",
    "\n",
    "        probability = probabilities[i]\n",
    "        # Check if the store has toilet paper\n",
    "        check_stock = rng.choice(['In-stock', 'Out-of-stock'], p=[probability, 1-probability])\n",
    "        if check_stock == 'In-stock' or i == len(locations) - 1:\n",
    "            # Return home if toilet paper is found\n",
    "            go_back_distance = math.sqrt((location[0] - home[0]) ** 2 + (location[1] - home[1]) ** 2)\n",
    "            total_distance += go_back_distance\n",
    "            break\n",
    "    \n",
    "    return total_distance"
   ]
  },
  {
   "cell_type": "code",
   "execution_count": 173,
   "id": "2b7a3673-62c0-4aba-969c-c1080632b61a",
   "metadata": {},
   "outputs": [
    {
     "data": {
      "text/plain": [
       "16.0"
      ]
     },
     "execution_count": 173,
     "metadata": {},
     "output_type": "execute_result"
    }
   ],
   "source": [
    "# Test code 1\n",
    "travel_distance([[3,4],[-3,4],[-8,6]],[0,1,1])\n",
    "# Output should be: 16.0"
   ]
  },
  {
   "cell_type": "code",
   "execution_count": 175,
   "id": "314bc2f7-8add-4aac-8a87-1a33e983a627",
   "metadata": {},
   "outputs": [
    {
     "name": "stdout",
     "output_type": "stream",
     "text": [
      "10.0\n"
     ]
    }
   ],
   "source": [
    "# Test code 2\n",
    "print(travel_distance([[3,4],[-3,4],[-8,6]],[1,1,0]))\n",
    "# Output should be: 10.0"
   ]
  },
  {
   "cell_type": "code",
   "execution_count": 177,
   "id": "5ab4f4c4-acb9-44f2-944b-11fe291159ca",
   "metadata": {},
   "outputs": [
    {
     "data": {
      "text/plain": [
       "26.385164807134505"
      ]
     },
     "execution_count": 177,
     "metadata": {},
     "output_type": "execute_result"
    }
   ],
   "source": [
    "# Test code 3\n",
    "travel_distance([[3,4],[-3,4],[-8,6]],[0,0,0])\n",
    "# Output should be: 26.385164807134505"
   ]
  },
  {
   "cell_type": "code",
   "execution_count": 181,
   "id": "e4a8cc43-d61d-4c73-bc4f-2831bd61ac65",
   "metadata": {},
   "outputs": [
    {
     "data": {
      "image/png": "[encoded data removed]",
      "text/plain": [
       "<Figure size 600x200 with 1 Axes>"
      ]
     },
     "metadata": {},
     "output_type": "display_data"
    },
    {
     "name": "stdout",
     "output_type": "stream",
     "text": [
      "Mean: 35.82\n",
      "Standard deviation: 26.33\n"
     ]
    }
   ],
   "source": [
    "# Test code 4\n",
    "locations=[[3,2],[5,4],[7,-1],[5,-8],[-5,-4],[-6,2],[-8,4],[-20,10]]\n",
    "probabilities=[0.1,0.3,0.2,0.2,0.1,0.05,0.2,0.05]\n",
    "\n",
    "import pandas as pd\n",
    "import matplotlib.pyplot as plt\n",
    "distances=pd.Series([travel_distance(locations,probabilities) for i in range(10000)])\n",
    "distances.plot(kind='hist',bins=30,title='Distribution of travel distance',figsize=(6,2))\n",
    "plt.show()\n",
    "print('Mean:',round(distances.mean(),2))\n",
    "print('Standard deviation:',round(distances.std(),2))"
   ]
  },
  {
   "cell_type": "code",
   "execution_count": 71,
   "id": "8a11a46d-c9df-4033-92eb-9476513fe2e0",
   "metadata": {},
   "outputs": [
    {
     "data": {
      "text/html": [
       "<div>\n",
       "<style scoped>\n",
       "    .dataframe tbody tr th:only-of-type {\n",
       "        vertical-align: middle;\n",
       "    }\n",
       "\n",
       "    .dataframe tbody tr th {\n",
       "        vertical-align: top;\n",
       "    }\n",
       "\n",
       "    .dataframe thead th {\n",
       "        text-align: right;\n",
       "    }\n",
       "</style>\n",
       "<table border=\"1\" class=\"dataframe\">\n",
       "  <thead>\n",
       "    <tr style=\"text-align: right;\">\n",
       "      <th></th>\n",
       "      <th>Dem-Mean</th>\n",
       "      <th>Dem-Std</th>\n",
       "      <th>Rep-Mean</th>\n",
       "      <th>Rep-Std</th>\n",
       "      <th>Delegates</th>\n",
       "    </tr>\n",
       "  </thead>\n",
       "  <tbody>\n",
       "    <tr>\n",
       "      <th>Region A</th>\n",
       "      <td>10</td>\n",
       "      <td>2.0</td>\n",
       "      <td>8</td>\n",
       "      <td>1.5</td>\n",
       "      <td>15</td>\n",
       "    </tr>\n",
       "    <tr>\n",
       "      <th>Region B</th>\n",
       "      <td>8</td>\n",
       "      <td>1.5</td>\n",
       "      <td>6</td>\n",
       "      <td>1.0</td>\n",
       "      <td>10</td>\n",
       "    </tr>\n",
       "    <tr>\n",
       "      <th>Region C</th>\n",
       "      <td>6</td>\n",
       "      <td>1.0</td>\n",
       "      <td>8</td>\n",
       "      <td>2.0</td>\n",
       "      <td>13</td>\n",
       "    </tr>\n",
       "    <tr>\n",
       "      <th>Region D</th>\n",
       "      <td>5</td>\n",
       "      <td>1.0</td>\n",
       "      <td>8</td>\n",
       "      <td>1.0</td>\n",
       "      <td>10</td>\n",
       "    </tr>\n",
       "  </tbody>\n",
       "</table>\n",
       "</div>"
      ],
      "text/plain": [
       "          Dem-Mean  Dem-Std  Rep-Mean  Rep-Std  Delegates\n",
       "Region A        10      2.0         8      1.5         15\n",
       "Region B         8      1.5         6      1.0         10\n",
       "Region C         6      1.0         8      2.0         13\n",
       "Region D         5      1.0         8      1.0         10"
      ]
     },
     "execution_count": 71,
     "metadata": {},
     "output_type": "execute_result"
    }
   ],
   "source": [
    "# B - Q1\n",
    "\n",
    "import numpy as np\n",
    "import pandas as pd\n",
    "\n",
    "df=pd.DataFrame([[10,2,8,1.5,15],[8, 1.5,6,1,10],[6,1,8,2,13],[5,1,8,1,10]],index=['Region A','Region B','Region C','Region D'],\\\n",
    "columns=['Dem-Mean','Dem-Std','Rep-Mean','Rep-Std','Delegates'])\n",
    "\n",
    "T = 10\n",
    "\n",
    "df"
   ]
  },
  {
   "cell_type": "code",
   "execution_count": 11,
   "id": "79e176be-52c8-4e3d-826e-36e759df8169",
   "metadata": {},
   "outputs": [
    {
     "name": "stdout",
     "output_type": "stream",
     "text": [
      "Dem voters for Region A: 8.110147134117362\n",
      "Rep voters for Region A: 5.492475324479356\n",
      "Dem num for Region A: 15\n",
      "Dem voters for Region B: 10.00468839064973\n",
      "Rep voters for Region B: 6.15237179950245\n",
      "Dem num for Region B: 25\n",
      "Dem voters for Region C: 4.9108257592325435\n",
      "Rep voters for Region C: 7.4348431311309495\n",
      "rep num for Region C: 13\n",
      "Dem voters for Region D: 6.68081699666295\n",
      "Rep voters for Region D: 9.751588806563495\n",
      "rep num for Region D: 23\n",
      "Dem voters for Region A: 9.612456182037322\n",
      "Rep voters for Region A: 8.020745493557579\n",
      "Dem num for Region A: 15\n",
      "Dem voters for Region B: 8.567254776824132\n",
      "Rep voters for Region B: 5.261248881142798\n",
      "Dem num for Region B: 25\n",
      "Dem voters for Region C: 5.705944590061742\n",
      "Rep voters for Region C: 10.561505728271733\n",
      "rep num for Region C: 13\n",
      "Dem voters for Region D: 5.5949413434129935\n",
      "Rep voters for Region D: 7.661407828573257\n",
      "rep num for Region D: 23\n",
      "Dem voters for Region A: 9.996652743182494\n",
      "Rep voters for Region A: 9.096404027944246\n",
      "Dem num for Region A: 15\n",
      "Dem voters for Region B: 7.61905202154552\n",
      "Rep voters for Region B: 6.070792716894462\n",
      "Dem num for Region B: 25\n",
      "Dem voters for Region C: 6.291804904364559\n",
      "Rep voters for Region C: 7.984531558859432\n",
      "rep num for Region C: 13\n",
      "Dem voters for Region D: 4.397179553524692\n",
      "Rep voters for Region D: 6.709375339938539\n",
      "rep num for Region D: 23\n",
      "Dem voters for Region A: 11.063289129990473\n",
      "Rep voters for Region A: 10.396894102985668\n",
      "Dem num for Region A: 15\n",
      "Dem voters for Region B: 6.265044590178054\n",
      "Rep voters for Region B: 7.131174652528319\n",
      "rep num for Region B: 10\n",
      "Dem voters for Region C: 5.357804010355385\n",
      "Rep voters for Region C: 8.042185760580608\n",
      "rep num for Region C: 23\n",
      "Dem voters for Region D: 4.897869541100273\n",
      "Rep voters for Region D: 7.981100756933628\n",
      "rep num for Region D: 33\n",
      "Dem voters for Region A: 8.264720541512348\n",
      "Rep voters for Region A: 7.642214380879154\n",
      "Dem num for Region A: 15\n",
      "Dem voters for Region B: 8.32626660300304\n",
      "Rep voters for Region B: 6.384199760219185\n",
      "Dem num for Region B: 25\n",
      "Dem voters for Region C: 7.2569917395227055\n",
      "Rep voters for Region C: 12.182364744366414\n",
      "rep num for Region C: 13\n",
      "Dem voters for Region D: 5.748271645418985\n",
      "Rep voters for Region D: 9.929974884896286\n",
      "rep num for Region D: 23\n",
      "Dem voters for Region A: 11.069020221798858\n",
      "Rep voters for Region A: 8.50262051239903\n",
      "Dem num for Region A: 15\n",
      "Dem voters for Region B: 7.149173387785566\n",
      "Rep voters for Region B: 5.897996027397439\n",
      "Dem num for Region B: 25\n",
      "Dem voters for Region C: 5.942297329685505\n",
      "Rep voters for Region C: 8.664196828992994\n",
      "rep num for Region C: 13\n",
      "Dem voters for Region D: 5.494516508511499\n",
      "Rep voters for Region D: 8.85756134967565\n",
      "rep num for Region D: 23\n",
      "Dem voters for Region A: 9.930762684595628\n",
      "Rep voters for Region A: 10.636844323846242\n",
      "rep num for Region A: 15\n",
      "Dem voters for Region B: 7.968788855727986\n",
      "Rep voters for Region B: 5.939097206106458\n",
      "Dem num for Region B: 10\n",
      "Dem voters for Region C: 5.358029436075251\n",
      "Rep voters for Region C: 7.269771965570674\n",
      "rep num for Region C: 28\n",
      "Dem voters for Region D: 4.152957733808727\n",
      "Rep voters for Region D: 8.44099612486882\n",
      "rep num for Region D: 38\n",
      "Dem voters for Region A: 10.012239962667927\n",
      "Rep voters for Region A: 7.923879237159726\n",
      "Dem num for Region A: 15\n",
      "Dem voters for Region B: 7.880984344286312\n",
      "Rep voters for Region B: 7.918769193270927\n",
      "rep num for Region B: 10\n",
      "Dem voters for Region C: 5.955399254252026\n",
      "Rep voters for Region C: 8.66273858528521\n",
      "rep num for Region C: 23\n",
      "Dem voters for Region D: 5.587232633184285\n",
      "Rep voters for Region D: 8.756700245469858\n",
      "rep num for Region D: 33\n",
      "Dem voters for Region A: 7.785187180076514\n",
      "Rep voters for Region A: 6.34362608488796\n",
      "Dem num for Region A: 15\n",
      "Dem voters for Region B: 8.811640143030724\n",
      "Rep voters for Region B: 3.908425679337068\n",
      "Dem num for Region B: 25\n",
      "Dem voters for Region C: 6.550246872393868\n",
      "Rep voters for Region C: 8.952179716572\n",
      "rep num for Region C: 13\n",
      "Dem voters for Region D: 4.9311800269343\n",
      "Rep voters for Region D: 7.462973837851411\n",
      "rep num for Region D: 23\n",
      "Dem voters for Region A: 12.55494545624808\n",
      "Rep voters for Region A: 7.3513454501482345\n",
      "Dem num for Region A: 15\n",
      "Dem voters for Region B: 8.77589107010422\n",
      "Rep voters for Region B: 5.458307551527349\n",
      "Dem num for Region B: 25\n",
      "Dem voters for Region C: 7.51566580103333\n",
      "Rep voters for Region C: 8.297472667754556\n",
      "rep num for Region C: 13\n",
      "Dem voters for Region D: 4.205477318349162\n",
      "Rep voters for Region D: 7.404070708285795\n",
      "rep num for Region D: 23\n",
      "[25, 25, 25, 15, 25, 25, 10, 15, 25, 25]\n",
      "[23, 23, 23, 33, 23, 23, 38, 33, 23, 23]\n"
     ]
    }
   ],
   "source": [
    "regions = df.index\n",
    "\n",
    "dem_delegates = []\n",
    "rep_delegates = []\n",
    "\n",
    "for i in range(T):\n",
    "    dem_num = 0\n",
    "    rep_num = 0\n",
    "    for region in regions:\n",
    "        dem_voters = rng.normal(df.loc[region, 'Dem-Mean'], df.loc[region, 'Dem-Std'])\n",
    "        print(f'Dem voters for {region}: {dem_voters}')\n",
    "        rep_voters = rng.normal(df.loc[region, 'Rep-Mean'], df.loc[region, 'Rep-Std'])\n",
    "        print(f'Rep voters for {region}: {rep_voters}')\n",
    "        if dem_voters > rep_voters:\n",
    "            dem_num += df.loc[region, 'Delegates']\n",
    "            print(f'Dem num for {region}: {dem_num}')\n",
    "        else:\n",
    "            rep_num += df.loc[region, 'Delegates']\n",
    "            print(f'rep num for {region}: {rep_num}')\n",
    "    dem_delegates.append(dem_num)\n",
    "    rep_delegates.append(rep_num)\n",
    "\n",
    "print(dem_delegates)\n",
    "print(rep_delegates)"
   ]
  },
  {
   "cell_type": "code",
   "execution_count": 13,
   "id": "70a55fb6-beac-4a8a-b639-5d358c3d32b7",
   "metadata": {},
   "outputs": [],
   "source": [
    "def election(df, T):\n",
    "    regions = df.index\n",
    "\n",
    "    dem_delegates = []\n",
    "    rep_delegates = []\n",
    "    \n",
    "    for i in range(T):\n",
    "        dem_num = 0\n",
    "        rep_num = 0\n",
    "        for region in regions:\n",
    "            dem_voters = rng.normal(df.loc[region, 'Dem-Mean'], df.loc[region, 'Dem-Std'])\n",
    "            rep_voters = rng.normal(df.loc[region, 'Rep-Mean'], df.loc[region, 'Rep-Std'])\n",
    "            if dem_voters > rep_voters:\n",
    "                dem_num += df.loc[region, 'Delegates']\n",
    "            else: # dem_voters <= rep_voters\n",
    "                rep_num += df.loc[region, 'Delegates']\n",
    "        dem_delegates.append(dem_num)\n",
    "        rep_delegates.append(rep_num)\n",
    "    return dem_delegates, rep_delegates"
   ]
  },
  {
   "cell_type": "code",
   "execution_count": 15,
   "id": "1b08e59c-85e4-4426-b12d-2a1aaf6f7460",
   "metadata": {},
   "outputs": [
    {
     "name": "stdout",
     "output_type": "stream",
     "text": [
      "Democrat # of Delegates: [10, 10, 25, 15, 25, 25, 0, 10, 48, 25]\n",
      "Republican # of Delegates: [38, 38, 23, 33, 23, 23, 48, 38, 0, 23]\n"
     ]
    }
   ],
   "source": [
    "# Sample run 1\n",
    "dem,rep=election(df,10)\n",
    "print('Democrat # of Delegates:',dem)\n",
    "print('Republican # of Delegates:',rep)\n",
    "\n",
    "# Output should be:\n",
    "# Democrat   # of Delegates: [25, 38, 25, 15, 25, 25, 10, 15, 25, 25]\n",
    "# Republican # of Delegates: [23, 10, 23, 33, 23, 23, 38, 33, 23, 23]"
   ]
  },
  {
   "cell_type": "code",
   "execution_count": 19,
   "id": "0b4b5ca2-d4d7-4e21-bd3d-904ef5ba09ab",
   "metadata": {},
   "outputs": [
    {
     "name": "stdout",
     "output_type": "stream",
     "text": [
      "Minute\tArrivals\tExit\tAdmitted\tOccupancy\tQueue\tTotal Queue\n",
      "0\t5\t\t0\t5\t\t5\t\t0\t0\n",
      "1\t9\t\t0\t9\t\t14\t\t0\t0\n",
      "2\t14\t\t5\t6\t\t15\t\t8\t8\n",
      "3\t5\t\t9\t9\t\t15\t\t4\t12\n",
      "4\t3\t\t6\t6\t\t15\t\t1\t13\n",
      "5\t0\t\t9\t1\t\t7\t\t0\t13\n",
      "6\t9\t\t6\t9\t\t10\t\t0\t13\n",
      "7\t20\t\t1\t6\t\t15\t\t14\t27\n",
      "8\t30\t\t9\t9\t\t15\t\t35\t62\n",
      "9\t0\t\t6\t6\t\t15\t\t29\t91\n",
      "10\t0\t\t9\t9\t\t15\t\t20\t111\n",
      "1.17\n"
     ]
    }
   ],
   "source": [
    "# B - Q2\n",
    "\n",
    "arrivalsList=[5,9,14,5,3,0,9,20,30,0,0]\n",
    "n = 15\n",
    "k = 2\n",
    "\n",
    "queue = 0\n",
    "total_queue = 0\n",
    "occupancy = 0\n",
    "admitted_list = []\n",
    "\n",
    "print('Minute\\tArrivals\\tExit\\tAdmitted\\tOccupancy\\tQueue\\tTotal Queue')\n",
    "\n",
    "for i in range(len(arrivalsList)):\n",
    "    # Arrivals\n",
    "    arrivals = arrivalsList[i]\n",
    "    # Exit\n",
    "    if i >= k:\n",
    "        exit = admitted_list[i-k]\n",
    "        occupancy -= exit\n",
    "    else:\n",
    "        exit = 0\n",
    "    # Admitted & Queue\n",
    "    if queue + arrivals <= (n - occupancy):\n",
    "        admitted = queue + arrivals\n",
    "        queue = 0\n",
    "    else: # queue + arrivals > (n - occupancy):\n",
    "        admitted = n - occupancy\n",
    "        queue = (queue + arrivals) - admitted\n",
    "    admitted_list.append(admitted)\n",
    "    # Occupancy\n",
    "    occupancy += admitted\n",
    "    # Total Queue\n",
    "    total_queue += queue\n",
    "    # Check the logic\n",
    "    print(f'{i}\\t{arrivals}\\t\\t{exit}\\t{admitted}\\t\\t{occupancy}\\t\\t{queue}\\t{total_queue}')\n",
    "\n",
    "# Return the average waiting time of customers, rounded to two decimal places.\n",
    "print(round((total_queue / sum(arrivalsList)),2))"
   ]
  },
  {
   "cell_type": "code",
   "execution_count": 47,
   "id": "d860637d-eb3a-4d25-8a20-252beea835d1",
   "metadata": {},
   "outputs": [],
   "source": [
    "def waiting_time(arrivalsList, n, k):    \n",
    "    queue = 0\n",
    "    total_queue = 0\n",
    "    occupancy = 0\n",
    "    admitted_list = []\n",
    "        \n",
    "    for i in range(len(arrivalsList)):\n",
    "        # Arrivals\n",
    "        arrivals = arrivalsList[i]\n",
    "        # Exit\n",
    "        if i >= k:\n",
    "            exit = admitted_list[i-k]\n",
    "            occupancy -= exit\n",
    "        else:\n",
    "            exit = 0\n",
    "        # Admitted & Queue\n",
    "        if queue + arrivals <= (n - occupancy):\n",
    "            admitted = queue + arrivals\n",
    "            queue = 0\n",
    "        else: # queue + arrivals > (n - occupancy):\n",
    "            admitted = n - occupancy\n",
    "            queue = (queue + arrivals) - admitted\n",
    "        admitted_list.append(admitted)\n",
    "        # Occupancy\n",
    "        occupancy += admitted\n",
    "        # Total Queue\n",
    "        total_queue += queue\n",
    "    # Return the average waiting time of customers, rounded to two decimal places.\n",
    "    return round((total_queue / sum(arrivalsList)),2)"
   ]
  },
  {
   "cell_type": "code",
   "execution_count": 49,
   "id": "6a1bade9-9dc3-4583-8946-852134d27578",
   "metadata": {},
   "outputs": [
    {
     "data": {
      "text/plain": [
       "1.17"
      ]
     },
     "execution_count": 49,
     "metadata": {},
     "output_type": "execute_result"
    }
   ],
   "source": [
    "# Sample run 1\n",
    "arrivalsList=[5,9,14,5,3,0,9,20,30,0,0]\n",
    "waiting_time(arrivalsList,15,2)\n",
    "\n",
    "# Output should be: 1.17"
   ]
  },
  {
   "cell_type": "code",
   "execution_count": 51,
   "id": "1cc987ed-7daa-4ed4-a323-e03ab7651a3a",
   "metadata": {},
   "outputs": [
    {
     "name": "stdout",
     "output_type": "stream",
     "text": [
      "Occupancy limit = 10\tWait time = 3.23 min.\n"
     ]
    }
   ],
   "source": [
    "# Sample run 2\n",
    "arrivalsList=[5,9,14,5,3,0,9,20,30,0,0]\n",
    "print(f'Occupancy limit = 10\\tWait time = {waiting_time(arrivalsList,10,3)} min.')\n",
    "\n",
    "# Output should be: Occupancy limit = 10    Wait time = 3.23 min."
   ]
  },
  {
   "cell_type": "code",
   "execution_count": 53,
   "id": "4132ea16-ab69-4361-af8d-8a8a7532cc04",
   "metadata": {},
   "outputs": [
    {
     "name": "stdout",
     "output_type": "stream",
     "text": [
      "Occupancy limit = 50\tWait time = 0.09 min.\n"
     ]
    }
   ],
   "source": [
    "# Sample run 3\n",
    "arrivalsList=[5,9,14,5,3,0,9,20,30,0,0]\n",
    "print(f'Occupancy limit = 50\\tWait time = {waiting_time(arrivalsList,50,3)} min.')\n",
    "\n",
    "# Output should be: Occupancy limit = 50    Wait time = 0.09 min."
   ]
  },
  {
   "cell_type": "code",
   "execution_count": 387,
   "id": "c23f459f-1163-41f6-b3ba-7944b8de0c57",
   "metadata": {},
   "outputs": [],
   "source": [
    "# B - Q3: Wrong > Need to work > Still don't get this.\n",
    "\n",
    "def job_decision(offers, utility):\n",
    "    best_offer_so_far = ''\n",
    "    best_offer_value = -1\n",
    "    best_offer_deadline = float('inf')\n",
    "\n",
    "    for offer in offers:\n",
    "        offer_date, job_name, days_to_respond = offer\n",
    "        if offer_date > best_offer_deadline: # Check if we've passed the deadline for the best offer so far\n",
    "            return best_offer_so_far # if the offer date is later than the deadline, accept the existing best offer\n",
    "\n",
    "        if job_name not in utility:\n",
    "            continue # Skip the unacceptable offers\n",
    "\n",
    "        offer_value = utility[job_name]\n",
    "        deadline = offer_date + days_to_respond\n",
    "        \n",
    "        # Update the best offer if:\n",
    "        if best_offer_so_far == '': # 1. Add the current offer as the best offer, if there is no acceptable offer yet\n",
    "            best_offer_so_far = job_name\n",
    "            best_offer_value = offer_value\n",
    "            best_offer_deadline = deadline\n",
    "        else: # 2. Compare the current offer with the existing best offer: \n",
    "            # whether a current offer has a higher utility value or has equal utility but an earlier deadline\n",
    "            if (offer_value > best_offer_value or (offer_value == best_offer_value and deadline > best_offer_deadline)):\n",
    "                best_offer_so_far = job_name\n",
    "                best_offer_value = offer_value\n",
    "                best_offer_deadline = deadline\n",
    "\n",
    "    return best_offer_so_far"
   ]
  },
  {
   "cell_type": "code",
   "execution_count": 389,
   "id": "42737834-fc89-40c2-bc29-a474dc65ee2c",
   "metadata": {},
   "outputs": [
    {
     "name": "stdout",
     "output_type": "stream",
     "text": [
      "The student chose Google\n"
     ]
    }
   ],
   "source": [
    "# Sample input 1\n",
    "offers=[[5,'Intel',3],[8,'Amazon',7],[12,'Disney',3],[15,'Google',2],[15,'Facebook',2]]\n",
    "utility={'Intel':5,'Amazon':8,'Google':8,'Facebook':8}\n",
    "print(f'The student chose {job_decision(offers, utility)}')\n",
    "\n",
    "# Output should be: The student chose Google."
   ]
  },
  {
   "cell_type": "code",
   "execution_count": 391,
   "id": "afb0440a-fd79-41a8-989a-12d572705ed8",
   "metadata": {},
   "outputs": [
    {
     "name": "stdout",
     "output_type": "stream",
     "text": [
      "The student chose Intel.\n"
     ]
    }
   ],
   "source": [
    "# Sample input 2\n",
    "# She first holds on to the Intel offer, but nothing as good appears by Day 8, so she accepts Intel.\n",
    "offers=[[5,'Intel',3],[9,'Amazon',7],[12,'Disney',3],[15,'Google',2],[15,'Facebook',2]]\n",
    "utility={'Intel':5,'Amazon':9.5,'Google':10,'Facebook':10}\n",
    "print(f'The student chose {job_decision(offers,utility)}.')\n",
    "\n",
    "# Output should be: The student chose Intel."
   ]
  },
  {
   "cell_type": "code",
   "execution_count": 393,
   "id": "0a790fd4-b83d-445e-8e91-4bf8f79796d3",
   "metadata": {},
   "outputs": [
    {
     "name": "stdout",
     "output_type": "stream",
     "text": [
      "The student chose Facebook.\n"
     ]
    }
   ],
   "source": [
    "# Sample input 3\n",
    "# She first holds on to Amazon, then to Google, then to Facebook (each has later deadline than the previous.)\n",
    "offers=[[5,'Intel',3],[8,'Amazon',7],[12,'Disney',3],[15,'Google',1],[15,'Facebook',2]]\n",
    "utility2={'Amazon':8,'Google':8,'Facebook':8}\n",
    "print(f'The student chose {job_decision(offers,utility2)}.')\n",
    "\n",
    "# Output should be: The student chose Facebook."
   ]
  },
  {
   "cell_type": "code",
   "execution_count": 395,
   "id": "77fe5d17-3ec6-4211-b784-565a4bdbd15a",
   "metadata": {},
   "outputs": [
    {
     "name": "stdout",
     "output_type": "stream",
     "text": [
      "The student chose Amazon.\n"
     ]
    }
   ],
   "source": [
    "# Sample input 4\n",
    "# She first holds on to Amazon, and by Day 15, there's no offer that is as good with later deadline.\n",
    "offers=[[5,'Intel',3],[8,'Amazon',7],[12,'Disney',3],[13,'Google',2],[16,'Facebook',2]]\n",
    "utility2={'Amazon':8,'Google':8,'Facebook':8}\n",
    "print(f'The student chose {job_decision(offers,utility2)}.')\n",
    "\n",
    "# Output should be: The student chose Amazon."
   ]
  },
  {
   "cell_type": "code",
   "execution_count": 397,
   "id": "cf2c6418-cbeb-4927-993f-9d2526230ea7",
   "metadata": {},
   "outputs": [
    {
     "data": {
      "text/plain": [
       "''"
      ]
     },
     "execution_count": 397,
     "metadata": {},
     "output_type": "execute_result"
    }
   ],
   "source": [
    "# Sample input 5\n",
    "# None of the offers are acceptable to her\n",
    "offers3=[[8,'Amazon',7],[12,'Disney',3],[13,'Google',2],[17,'Facebook',2]]\n",
    "utility3={'Apple':100, 'Intel': 80}\n",
    "job_decision(offers3,utility3)"
   ]
  }
 ],
 "metadata": {
  "kernelspec": {
   "display_name": "Python 3 (ipykernel)",
   "language": "python",
   "name": "python3"
  },
  "language_info": {
   "codemirror_mode": {
    "name": "ipython",
    "version": 3
   },
   "file_extension": ".py",
   "mimetype": "text/x-python",
   "name": "python",
   "nbconvert_exporter": "python",
   "pygments_lexer": "ipython3",
   "version": "3.12.4"
  }
 },
 "nbformat": 4,
 "nbformat_minor": 5
}
