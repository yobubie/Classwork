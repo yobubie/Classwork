{
 "cells": [
  {
   "cell_type": "markdown",
   "id": "5407494b-3cca-4d34-a029-6c82215ad663",
   "metadata": {},
   "source": [
    "# Exercises for Week 9: Concrete Formulation II\n",
    "\n",
    "\n"
   ]
  },
  {
   "cell_type": "markdown",
   "id": "22fbce9c",
   "metadata": {},
   "source": [
    "## Name: Yongbum Kim"
   ]
  },
  {
   "cell_type": "markdown",
   "id": "dcaa3636",
   "metadata": {},
   "source": [
    "## Grading Scheme:\n",
    "\n",
    "- **3 (Essentially perfect)**: All required questions have a complete solution that is essentially correct. This means that the math formulation correctly models the given problem and the code outputs the correct results. However, it is okay if the code returns another optimal solution that is equally good. \n",
    "- **2 (Solid effort)**: Several required questions may be incomplete or there are serious errors or logical flaws, but at least two thirds has a correct solution.\n",
    "- **1 (Some effort)**: Between one third and two thirds of the required questions have a correct solution.\n",
    "- **0 (No submission or essentially blank)**: No submission on Brightspace by the deadline, or less than one third of the required questions have a correct solution.\n",
    "\n",
    "Every question is required unless it is marked with \"(optional)\". **To ensure that you get 3 out of 3, before you submit, restart the Kernel and run all, and check the following:**\n",
    "\n",
    "- All code outputs are exactly as the sample outputs given in the exercises PDF.  \n",
    "- All math formulations have **linear** objectives and constraints, and models the given problem in a **correct** and **complete** way. This means that your constraints allow every solution that the problem text would allow, and disallow every solution that the problem text disallows. \n",
    "\n",
    "**You need to develop the habit of meticulously checking your outputs and math in order to ensure the best grade.**  The weekly exercises are intended to be completed in 4-5 hours, excluding class time. You should budget at least this much time per week for these exercises.\n",
    "\n",
    "**After you submit, download the .ipynb file you uploaded to Brightspace and double check that you uploaded the correct file, and that every question has been properly saved! It is your responsibility to submit the correct file before the deadline.**"
   ]
  },
  {
   "cell_type": "markdown",
   "id": "6e8df9f2-6463-4a57-ae90-f0d28ea8fc90",
   "metadata": {},
   "source": [
    "## Exercise 9.1: Investment Planning\n",
    "\n",
    "Finco Investment Corporation wishes to determine an investment strategy for the firm for the next 3 years. At present (Year 0), $100,000$ is available for investment. The goal is to maximize the cash on hand at the end of Year 3. \n",
    "\n",
    "There are five investment options, each of which allows you to put in an arbitrary amount of principal at a given time, and will payoff a certain percentage of the principal at a later time. (The payoff includes all of the money you will get back; you won't get back the principal at a later time.) The five options are summarized below:\n",
    "\n",
    "|Investment option | Time of investment | Payoff schedule |\n",
    "|--|--|--|\n",
    "|A | Year 0 | 50\\% in Year 1 and 100\\% in Year 2 |\n",
    "|B | Year 1 | 50\\% in Year 2 and 100\\% in Year 3 |\n",
    "|C|  Year 0 | 120\\% in Year 1  |\n",
    "|D| Year 0 | 190\\% in Year 3 |\n",
    "|E| Year 2 | 150\\% in Year 3 |\n",
    "\n",
    "To ensure that the company’s portfolio is diversified, Finco required that at most \\$75,000 be placed in any single investment option. Payoffs happen at the beginning of the year, so can be reinvested in the same year. For example, the positive cash flow received from Option C in Year 1 can be reinvested immediately in Option B. However, Finco cannot borrow funds, so net cash on hand must be non-negative in all years. Formulate this as a linear optimization problem."
   ]
  },
  {
   "cell_type": "markdown",
   "id": "f69ab8dd-d556-401b-ab9b-c04922a1d380",
   "metadata": {},
   "source": [
    "###  English Description\n",
    "\n",
    "**Decision:** How much money to invest in each investment option. (Continous)\n",
    "\n",
    "**Objective:** Maximize the cash on hand at the end of Year 3.\n",
    "\n",
    "**Constraints:**\n",
    "1) (Year 0) Available investment: 100,000\n",
    "2) (Year 1) Available investment: Cash left from Year 0 + Payoff in Year 1\n",
    "3) (Year 2) Available investment: Cash left from Year 1 + Payoff in Year 2\n",
    "4) Maximum single investment option: 75,000\n",
    "5) Non-Negativity"
   ]
  },
  {
   "cell_type": "markdown",
   "id": "0784024f-6f4b-4aaa-bbe4-7482f81bed62",
   "metadata": {},
   "source": [
    "### Concrete Formulation\n",
    "\n",
    "**Decision Variables:**\n",
    "- $x_i$: amount of money invested in each option $i$. (Continous)\n",
    "\n",
    "**Objective:**\n",
    "$$\\text{Maximize: } \\qquad 0.5x_A + 1.0x_A + 0.5x_B + 1.0x_B + 1.2x_C + 1.9x_D + 1.5x_E$$\n",
    "\n",
    "**Constraints:**\n",
    "$$\\begin{aligned}\n",
    "\\text{(Year 0)} && x_A + x_C + x_D & \\le 100000 \\\\\n",
    "\\text{(Year 1)} && x_B & \\le (100000 - (x_A + x_C + x_D)) + (0.5x_A + 1.2x_C) \\\\\n",
    "\\text{(Year 2)} && x_E & \\le ((100000 - (x_A + x_C + x_D)) + (0.5x_A + 1.2x_C) - x_B) + (1.0x_A + 0.5x_B) \\\\\n",
    "\\text{(Maximum single investment option)} && x_A, x_B, x_C, x_D, x_E & \\le 75000 \\\\\n",
    "\\text{(Non-negativity)} && x_A, x_B, x_C, x_D, x_E & \\ge 0 \\\\\n",
    "\\end{aligned}$$"
   ]
  },
  {
   "cell_type": "markdown",
   "id": "e52ba2d5-28a9-4613-abc6-cb0eb0dbfa19",
   "metadata": {},
   "source": [
    "## Exercise 9.2: Nurse Scheduling Revisited\n",
    "\n",
    "This question modifies the nurse-scheduling probelm from last week by incorporating multiple shift lengths. \n",
    "\n",
    "Hospital administrators must schedule nurses so that the hospital’s patients are provided with adequate care. At the same time, in the face of tighter competition in the health care industry, they must pay careful attention to keeping costs down. \n",
    "\n",
    "From historical records, administrators estimated the minimum number of nurses to have on hand for the various times of the day, as shown in the following table. \n",
    "\n",
    "| Shift | Time | Minimum number of nurses needed |\n",
    "|--|--|--|\n",
    "| 1 | Midnight-4am | 5 |\n",
    "| 2 | 4am-8am | 12 |\n",
    "| 3 | 8am-noon | 14 |\n",
    "| 4 | noon-4pm | 8 |\n",
    "| 5 | 4pm-8pm | 14 |\n",
    "| 6 | 8pm-Midnight | 10 |\n",
    "\n",
    "**In a given day, a nurse can either work for one shift, or for two consecutive shifts. The hourly pay for a four hour shift is 60 dollars/hour, while the hourly pay for an eight hour shift (two consecutive shifts) is 50 dollars/hour.** As a result, in each shift, there are two types of nurses: those working for two shifts that started in the previous shift (and are now working their second shift), and those that just started in this shift (some of whom may be working in the next shift as well). Note that a nurse working two shifts who starts at the 8pm-Midnight shift would finish work after the next day's Midnight-4am shift.\n",
    "\n",
    "Formulate a linear optimization problem to **minimize the total cost per day for hiring nurses** subject to being able to fulfill all business constraints. (For this problem, you only need to submit the concrete formulation, but don't need to submit the English description.)"
   ]
  },
  {
   "cell_type": "markdown",
   "id": "f08650f7-16bd-4b24-8ea1-378af351b255",
   "metadata": {},
   "source": [
    "**Decision variable:** \n",
    "- $x_{i,j}$: Number of nurses to schedule for shift $i$ of shift length $j$. ($j$ = 1, 2) (Interger)\n",
    "- $y_{i,j}$: Whether to work for shift $i$ of shift length $j$. (Binary) \n",
    "\n",
    "**Objective**\n",
    "$$\\text{Minimize: } \\qquad 240(x_{11} + x_{21} + x_{31} + x_{41} + x_{51} + x_{61}) + 400(x_{12} + x_{22} + x_{32} + x_{42} + x_{52} + x_{62}) $$\n",
    "\n",
    "**Constraints:**\n",
    "\n",
    "$$\\begin{aligned}\n",
    "\\text{(Shift 1)} && x_{11} + (x_{62} + x_{12})  & \\ge 5 \\\\\n",
    "\\text{(Shift 2)} && x_{21} + (x_{12} + x_{22}) & \\ge 12 \\\\\n",
    "\\text{(Shift 3)} && x_{31} + (x_{22} + x_{32}) & \\ge 14 \\\\\n",
    "\\text{(Shift 4)} && x_{41} + (x_{32} + x_{42}) & \\ge 8 \\\\\n",
    "\\text{(Shift 5)} && x_{51} + (x_{42} + x_{52}) & \\ge 14 \\\\\n",
    "\\text{(Shift 6)} && x_{61} + (x_{52} + x_{62}) & \\ge 10 \\\\\n",
    "\\text{(Connect integer and binary variables using big M method)} && x_{ij} & \\le 63y_{ij} \\qquad \\text{for all $i$ and $j$.}  \\\\\n",
    "\\text{(Non-negativity)} && x_{11}, x_{12}, x_{21}, x_{22}, x_{31}, x_{32}, x_{41}, x_{42}, x_{51}, x_{52}, x_{61}, x_{62} & \\ge 0 \\\\\n",
    "\\end{aligned}$$"
   ]
  },
  {
   "cell_type": "markdown",
   "id": "58a7336d-0e0e-494a-aa1f-5b91c89e5410",
   "metadata": {},
   "source": [
    "## Exercise 9.3: Optimal Box Selection\n",
    "\n",
    "A company sells items of various sizes and ships them to customers using special boxes. While the sizes of the items are fixed, the company can decide what sized boxes to use for shipping. The following table lists the types of items, along with the minimum box size needed for each item, as well as the number of each item that needs to be shipped. \n",
    "\n",
    "| Item type | 1 | 2 | 3 | \n",
    "|--|--|--|--|\n",
    "| Minimum box size (in cubit feet) | 1.5 | 1.7 | 2.0 |\n",
    "| Demand | 400 | 500 | 200 |\n",
    "\n",
    "For simplicity, the company limits the set of possible box sizes to be exactly the sizes listed in the table above. In order to satisfy demand, the company can always use a larger box to ship a smaller item. For example, a type-1 item can be shipped with a box of size 1.5, but can also be shipped using boxes of sizes 1.7 or 2.0. \n",
    "\n",
    "While larger boxes are more flexible, they are also more expensive to make: **the variable cost** (in dollars) of making each box is exactly equal to the box size. However, the higher variable cost might be worth it since to produce a box of a certain size, the company needs to pay a **fixed cost** of 1000 to create the mold. So using larger boxes might allow the company to make do with fewer box types, which would lower the total fixed cost. For example, using boxes of all three types would incur a fixed cost of 3000, while using only boxes of size 2.0 would incur a fixed cost of 1000. \n",
    "\n",
    "Write a linear optimization formulation to help the company determine which box types to produce, as well as how many boxes of each size to produce, in order to minimize the total cost while satisfying all demand. (The total cost is the sum of the total variable cost and the total fixed cost. )"
   ]
  },
  {
   "cell_type": "markdown",
   "id": "4f585602-58f2-4976-bc55-9cd400cbb2f0",
   "metadata": {},
   "source": [
    "### English Description\n",
    "\n",
    "**Decision:**\n",
    "- How many boxes of each size to produce. (Interger)\n",
    "- Whether to produce each box type. (Binary)\n",
    "\n",
    "**Objective:** \n",
    "Minimize the total cost\n",
    "\n",
    "**Constraints:**\n",
    "- Demand\n",
    "- Large box can be used to S, M sized items.\n",
    "- If box size is not produced, no box of that size will be produced.\n",
    "- Non-negativity"
   ]
  },
  {
   "cell_type": "markdown",
   "id": "e29aaf47-12a0-44d4-bb06-371df8eefa21",
   "metadata": {},
   "source": [
    "### Concrete Formulation\n",
    "\n",
    "**Decision Variables:**\n",
    "- $x_i$: The number of boxes of each size $i$ to produce. ($i$ = S, M, L) (Interger)\n",
    "- $y_i$: whether to produce box size $i$. (Binary)\n",
    "\n",
    "**Objective:**\n",
    "$$\\text{Maximize: } \\qquad1000(y_S + y_M + y_L) + (1.5x_S + 1.7x_M + 2.0x_L) $$\n",
    "\n",
    "**Constraints:**\n",
    "$$\\begin{aligned}\n",
    "\\text{(Demand: L)} && x_L & \\ge 200 \\\\\n",
    "\\text{(Demand: M + L)} && x_M + x_L & \\ge 700 \\\\\n",
    "\\text{(Demand: S + M + L)} && x_S + x_M + x_L & \\ge 1100 \\\\\n",
    "\\text{(Connect integer and binary variables using big M method)} && x_i & \\le 2000y_i \\qquad \\text{for all $i$.} \\\\\n",
    "\\text{(Non-negativity)} && x_S, x_M, x_L & \\ge 0 \\\\\n",
    "\\end{aligned}$$"
   ]
  },
  {
   "cell_type": "markdown",
   "id": "658e644b-604c-4d88-a6b4-b8ae0de8a66a",
   "metadata": {},
   "source": [
    "## (Optional) Exercise 9.4: Course Selection \n",
    "\n",
    "Aithne is currently enrolled in a Masters program at USC and is planning her courses for the next 2 semesters. There are five elective courses she would like to take, which we refer to as Courses A, B, C, D, and E. Based on her conversations with past students and prospective employers, she has estimated an \"importance score\" for each course, as well as the \"workload\" in terms of hours of work needed per week. Moreover, the schedules for the next two semesters have already been published, and this gives her information about scheduling conflicts as well as how much time she can afford to spend on these electives after accounting for her mandatory courses and other responsibilities. **Each course is a single semester long and can be taken only once, but the same course may be offered in both semesters, so she can choose when to take each course as well as whether to take it.** These information are summarized in the three tables below.\n",
    "\n",
    "| Course | **A** | **B** | **C** | **D** | **E** |\n",
    "|--|--|--|--|--|--|\n",
    "|Importance Score |5 | 3 | 2 |4 |5|\n",
    "| Workload (hours/week) | 15 | 10 | 10 | 5| 10\n",
    "\n",
    "| Schedule | Semester 1 | Semester 2 |\n",
    "|--|--|--|\n",
    "|**A**| Tue/Thu 11-12:20 |  Mon/Wed 12:30-13:50 |\n",
    "|**B**| Tue 9-12:00 | Tue 9:00-12:00 |\n",
    "|**C**| Mon/Wed 12:30-13:50 | Not offered |\n",
    "|**D**| Mon 12:00-15:00 | Tue/Thu 11:00-12:20 |\n",
    "|**E**| Mon/Wed 14:00-15:50 | Tue/Thu 11:00-12:20 | \n",
    "|Total time she can afford to spend | 20 hours/week | 15 hours/week |\n",
    "\n",
    "Furthermore, **Course A is a pre-requisite of Course D**, which means that if Aithne wishes to take Course D, she must take it in Semester 2 after taking Course A in Semester 1. Moreover, **Course A is a co-requisite of Course E**, which means that if she takes Course E in a semester, she must either be concurrently taking Course A or has already completed the course in a previous semester. (However, Course A can be taken by itself, without concurrently taking Course E.)\n",
    "\n",
    "Aithne would like to plan a schedule that maximizes the total importance score of courses she takes. For example, if she takes only courses A and B in the two semesters, the total importance score would be $5+3=8$. **Write a concrete formulation of a linear optimization model to help Aithne plan her course selection for the two semesters. The objective and all constraints must be linear.** (For this problem, you only need to submit the concrete formulation, but don't need to submit the English description.)"
   ]
  },
  {
   "cell_type": "markdown",
   "id": "88d37c78-9f2b-4ae8-b211-5c1d92247604",
   "metadata": {},
   "source": [
    "**Decision Variables:** \n",
    "- $x_{i,j}$: Whether Aithne takes a course $i$ ($i$ = A, B, C, D, E) in a semester $j$ ($j$ = 1, 2). (Binary)\n",
    "\n",
    "**Objective:** Maximize the total importance score of courses Aithne takes for the two semesters.\n",
    "\n",
    "$$\\text{Maximize: } \\qquad 5(x_{A1} + x_{A2}) + 3(x_{B1} + x_{B2}) + 2(x_{C1} + x_{C2}) + 4(x_{D1} + x_{D2}) + 5(x_{E1} + x_{E2}) $$\n",
    "\n",
    "**Constraints:**\n",
    "\n",
    "$$\\begin{aligned}\n",
    "\\text{(Each course can be taken only once)} \\qquad && x_{A1} + x_{A2} & \\le 1 \\\\\n",
    "&& x_{B1} + x_{B2} & \\le 1 \\\\\n",
    "&& x_{C1} + x_{C2} & \\le 1 \\\\\n",
    "&& x_{D1} + x_{D2} & \\le 1 \\\\\n",
    "&& x_{E1} + x_{E2} & \\le 1 \\\\\n",
    "\\text{(Schedule conflict in Semester 1)} \\qquad && x_{A1} + x_{B1} & \\le 1 \\\\\n",
    "&& x_{C1} + x_{D1} & \\le 1 \\\\\n",
    "&& x_{D1} + x_{E1} & \\le 1 \\\\\n",
    "\\text{(Schedule conflict in Semester 2)} \\qquad && x_{B2} + x_{D2} + x_{E2} & \\le 1 \\\\\n",
    "\\text{(No C in Semester 2)} \\qquad && x_{C2} & = 0 \\\\\n",
    "\\text{(Total time she can afford to spend in Semester 1)} \\qquad && 15x_{A1} + 10x_{B1} + 10x_{C1} + 5x_{D1} + 10x_{E1} & \\le 20 \\\\\n",
    "\\text{(Total time she can afford to spend in Semester 2)} \\qquad && 15x_{A2} + 10x_{B2} + 10x_{C2} + 5x_{D2} + 10x_{E2} & \\le 15 \\\\\n",
    "\\text{(A is a pre-requisite of D)} \\qquad && x_{D1} & = 0 \\\\\n",
    "&& x_{D2} & \\le x_{A1} \\\\\n",
    "\\text{(A is a co-requisite of E)} \\qquad && x_{E1} & \\le x_{A1} \\\\\n",
    "&& x_{E2} & \\le x_{A1} + x_{A2} \\\\\n",
    "\\end{aligned}$$"
   ]
  }
 ],
 "metadata": {
  "kernelspec": {
   "display_name": "Python 3 (ipykernel)",
   "language": "python",
   "name": "python3"
  },
  "language_info": {
   "codemirror_mode": {
    "name": "ipython",
    "version": 3
   },
   "file_extension": ".py",
   "mimetype": "text/x-python",
   "name": "python",
   "nbconvert_exporter": "python",
   "pygments_lexer": "ipython3",
   "version": "3.12.4"
  }
 },
 "nbformat": 4,
 "nbformat_minor": 5
}
