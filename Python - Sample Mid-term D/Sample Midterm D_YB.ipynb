{
 "cells": [
  {
   "cell_type": "code",
   "execution_count": 47,
   "id": "5089970c-137d-4c86-9cf0-f8bf5959c2a3",
   "metadata": {},
   "outputs": [],
   "source": [
    "## D - Q1. Identifying the Closest Driver (7 Points)"
   ]
  },
  {
   "cell_type": "code",
   "execution_count": 1,
   "id": "8678d27f-2c32-4d22-8dac-0947da338a52",
   "metadata": {},
   "outputs": [],
   "source": [
    "def closest_dispatch(locations, origin, destination):\n",
    "    total_distance = 0\n",
    "    closest_driver = ''\n",
    "    for driver, location in locations.items():\n",
    "        # Calculate the each driver's travel distance.\n",
    "        pickup_distance = abs(origin[0] - location[0]) + abs(origin[1] - location[1])\n",
    "        ride_distance = abs(destination[0] - origin[0]) + abs(destination[1] - origin[1])\n",
    "        driver_distance = pickup_distance + ride_distance\n",
    "        current_driver = driver\n",
    "\n",
    "        # If it is the first driver, add it.\n",
    "        if total_distance == 0:\n",
    "            total_distance = driver_distance\n",
    "            closest_driver = current_driver\n",
    "        \n",
    "        # Keep track of best distance and closest driver.\n",
    "        if driver_distance < total_distance:\n",
    "            total_distance = driver_distance\n",
    "            closest_driver = current_driver\n",
    "\n",
    "    return closest_driver, total_distance"
   ]
  },
  {
   "cell_type": "code",
   "execution_count": 3,
   "id": "d492d35f-f53d-4b1e-a2a7-f2c182d754d0",
   "metadata": {},
   "outputs": [
    {
     "name": "stdout",
     "output_type": "stream",
     "text": [
      "Closest driver: Alice \tTravel distance: 64\n"
     ]
    }
   ],
   "source": [
    "# Sample run 1\n",
    "locations={'Alice':[10,30],'Bob':[20,5],'Charles':[-10,10]}\n",
    "closest,movement=closest_dispatch(locations,[10,13],[10,60])\n",
    "print(f'Closest driver: {closest} \\tTravel distance: {movement}')\n",
    "\n",
    "# Output should be: Closest driver: Alice   Travel distance: 64"
   ]
  },
  {
   "cell_type": "code",
   "execution_count": 5,
   "id": "ceb97ca0-0c74-4754-9c71-a2db11f8dd94",
   "metadata": {},
   "outputs": [
    {
     "name": "stdout",
     "output_type": "stream",
     "text": [
      "Closest driver: Bob \tTravel distance: 38.5\n"
     ]
    }
   ],
   "source": [
    "# Sample run 2\n",
    "locations={'Alice':[10,30],'Bob':[20,5],'Charles':[-10,10]}\n",
    "closest,movement=closest_dispatch(locations,[10,12],[-10,10.5])\n",
    "print(f'Closest driver: {closest} \\tTravel distance: {movement}')\n",
    "\n",
    "# Output should be: Closest driver: Bob     Travel distance: 38.5"
   ]
  },
  {
   "cell_type": "code",
   "execution_count": 7,
   "id": "9e0f974a-cc56-4fd3-8b5f-eef8ebb3d67b",
   "metadata": {},
   "outputs": [
    {
     "name": "stdout",
     "output_type": "stream",
     "text": [
      "Closest driver: Bob \tTravel distance: 49.8\n"
     ]
    }
   ],
   "source": [
    "# Sample run 3\n",
    "locations={'Alice':[10,30],'Bob':[20,5],'Charles':[-10,10]}\n",
    "closest,movement=closest_dispatch(locations,[7.6,11],[20,30])\n",
    "print(f'Closest driver: {closest} \\tTravel distance: {movement}')\n",
    "\n",
    "# Output should be: Closest driver: Bob     Travel distance: 49.8"
   ]
  },
  {
   "cell_type": "code",
   "execution_count": 9,
   "id": "3882981b-c31e-465a-9b6f-8e89485c6843",
   "metadata": {},
   "outputs": [
    {
     "name": "stdout",
     "output_type": "stream",
     "text": [
      "Closest driver: Charles \tTravel distance: 50.1\n"
     ]
    }
   ],
   "source": [
    "# Sample run 4\n",
    "locations={'Alice':[10,30],'Bob':[20,5],'Charles':[-10,10]}\n",
    "closest,movement=closest_dispatch(locations,[7.4,11],[20,30.1])\n",
    "print(f'Closest driver: {closest} \\tTravel distance: {movement}')\n",
    "\n",
    "# Output should be: Closest driver: Charles         Travel distance: 50.1"
   ]
  },
  {
   "cell_type": "code",
   "execution_count": 174,
   "id": "fc24fa81-30e7-4c6d-9951-25cf135daea9",
   "metadata": {},
   "outputs": [],
   "source": [
    "## D - Q2. Queuing at Airport Pickup Station (8 Points): Try to break it down to pieces."
   ]
  },
  {
   "cell_type": "code",
   "execution_count": 21,
   "id": "7361ccca-b850-41b8-92b6-03217b99d6fc",
   "metadata": {},
   "outputs": [
    {
     "name": "stdout",
     "output_type": "stream",
     "text": [
      "Minutes\tP_arr\tD_arr\tP_total\tD_total\tPickup\tP_left\tD_left\tP_Q\tD_Q\n",
      "0\t5\t20\t5\t20\t5\t0\t15\t5\t20\n",
      "1\t10\t0\t10\t15\t10\t0\t5\t10\t15\n",
      "2\t20\t0\t20\t5\t5\t15\t0\t20\t5\n",
      "3\t5\t0\t20\t0\t0\t20\t0\t20\t0\n",
      "4\t0\t0\t20\t0\t0\t20\t0\t20\t0\n",
      "5\t0\t30\t20\t30\t10\t10\t20\t20\t30\n",
      "6\t0\t40\t10\t60\t10\t0\t50\t10\t60\n",
      "7\t0\t20\t0\t70\t0\t0\t70\t0\t70\n",
      "8\t15\t0\t15\t70\t10\t5\t60\t15\t70\n",
      "9\t0\t0\t5\t60\t5\t0\t55\t5\t60\n"
     ]
    }
   ],
   "source": [
    "passengers=[5,10,20,5,0,0,0,0,15,0]\n",
    "drivers=[20,0,0,0,0,30,40,20,0,0]\n",
    "k=10\n",
    "\n",
    "minutes = range(len(passengers))\n",
    "\n",
    "print('Minutes\\tP_arr\\tD_arr\\tP_total\\tD_total\\tPickup\\tP_left\\tD_left\\tP_Q\\tD_Q')\n",
    "\n",
    "P_left = 0\n",
    "D_left = 0\n",
    "\n",
    "for minute in minutes:\n",
    "    i = minute\n",
    "\n",
    "    # Passenger & drivers arrivals for each minute\n",
    "    P_arr = passengers[i]\n",
    "    D_arr = drivers[i]\n",
    "\n",
    "    # Total passengers & drivers waiting (including passengers & drivers who were waiting from a minute ago)\n",
    "    P_total = P_arr + P_left\n",
    "    D_total = D_arr + D_left\n",
    "\n",
    "    # Queue\n",
    "    P_Q = P_total\n",
    "    D_Q = D_total\n",
    "\n",
    "    # Pickup\n",
    "    if P_total > D_total:\n",
    "        P_pickup = min(D_total, k)\n",
    "        D_pickup = P_pickup\n",
    "    else: # P_total <= D_total\n",
    "        P_pickup = min(P_total, k)\n",
    "        D_pickup = P_pickup\n",
    "\n",
    "    # Left: how many passengers & drivers are still waiting\n",
    "    P_left = P_total - P_pickup\n",
    "    D_left = D_total - D_pickup\n",
    "\n",
    "    print(f'{i}\\t{P_arr}\\t{D_arr}\\t{P_total}\\t{D_total}\\t{P_pickup}\\t{P_left}\\t{D_left}\\t{P_Q}\\t{D_Q}')"
   ]
  },
  {
   "cell_type": "code",
   "execution_count": 25,
   "id": "71aa0a11-aedb-4e5c-bd43-42020bb749b7",
   "metadata": {},
   "outputs": [
    {
     "name": "stdout",
     "output_type": "stream",
     "text": [
      "Minutes\tP_arr\tD_arr\tP_Q\tD_Q\tPickups\n",
      "0\t5\t20\t5\t20\t5\n",
      "1\t10\t0\t10\t15\t10\n",
      "2\t20\t0\t20\t5\t5\n",
      "3\t5\t0\t20\t0\t0\n",
      "4\t0\t0\t20\t0\t0\n",
      "5\t0\t30\t20\t30\t10\n",
      "6\t0\t40\t10\t60\t10\n",
      "7\t0\t20\t0\t70\t0\n",
      "8\t15\t0\t15\t70\t10\n",
      "9\t0\t0\t5\t60\t5\n"
     ]
    }
   ],
   "source": [
    "passengers=[5,10,20,5,0,0,0,0,15,0]\n",
    "drivers=[20,0,0,0,0,30,40,20,0,0]\n",
    "k=10\n",
    "\n",
    "minutes = range(len(passengers))\n",
    "\n",
    "print('Minutes\\tP_arr\\tD_arr\\tP_Q\\tD_Q\\tPickups')\n",
    "\n",
    "P_left = 0\n",
    "D_left = 0\n",
    "\n",
    "for minute in minutes:\n",
    "    i = minute\n",
    "\n",
    "    # Passenger & drivers arrivals for each minute\n",
    "    P_arr = passengers[i]\n",
    "    D_arr = drivers[i]\n",
    "\n",
    "    # Total passengers & drivers waiting (including passengers & drivers who were waiting from a minute ago)\n",
    "    P_total = P_arr + P_left\n",
    "    D_total = D_arr + D_left\n",
    "\n",
    "    # Queue\n",
    "    P_Q = P_total\n",
    "    D_Q = D_total\n",
    "\n",
    "    # Pickup\n",
    "    if P_total > D_total:\n",
    "        P_pickup = min(D_total, k)\n",
    "        D_pickup = P_pickup\n",
    "    else: # P_total <= D_total\n",
    "        P_pickup = min(P_total, k)\n",
    "        D_pickup = P_pickup\n",
    "\n",
    "    # Left: how many passengers & drivers are still waiting\n",
    "    P_left = P_total - P_pickup\n",
    "    D_left = D_total - D_pickup\n",
    "\n",
    "    print(f'{i}\\t{P_arr}\\t{D_arr}\\t{P_Q}\\t{D_Q}\\t{P_pickup}')"
   ]
  },
  {
   "cell_type": "code",
   "execution_count": 37,
   "id": "ec25ee0c-f563-4d72-905c-b20d67eec3fe",
   "metadata": {},
   "outputs": [],
   "source": [
    "def airport_queue(passengers, drivers, k):\n",
    "    minutes = len(passengers)\n",
    "    \n",
    "    P_left = 0\n",
    "    D_left = 0\n",
    "    P_waiting_list = []\n",
    "    D_waiting_list = []\n",
    "    \n",
    "    for minute in range(minutes):\n",
    "        i = minute\n",
    "    \n",
    "        # Passenger & drivers arrivals for each minute\n",
    "        P_arr = passengers[i]\n",
    "        D_arr = drivers[i]\n",
    "    \n",
    "        # Total passengers & drivers waiting (including passengers & drivers who were waiting from a minute ago)\n",
    "        P_total = P_arr + P_left\n",
    "        D_total = D_arr + D_left\n",
    "    \n",
    "        # Queue\n",
    "        P_Q = P_total\n",
    "        D_Q = D_total\n",
    "        P_waiting_list.append(P_Q)\n",
    "        D_waiting_list.append(D_Q)\n",
    "    \n",
    "        # Pickup\n",
    "        if P_total > D_total:\n",
    "            P_pickup = min(D_total, k)\n",
    "            D_pickup = P_pickup\n",
    "        else: # P_total <= D_total\n",
    "            P_pickup = min(P_total, k)\n",
    "            D_pickup = P_pickup\n",
    "    \n",
    "        # Left: how many passengers & drivers are still waiting\n",
    "        P_left = P_total - P_pickup\n",
    "        D_left = D_total - D_pickup\n",
    "    \n",
    "    P_avg_waiting_time = sum(P_waiting_list) / sum(passengers)\n",
    "    D_avg_waiting_time = sum(D_waiting_list) / sum(drivers)\n",
    "    return P_avg_waiting_time, D_avg_waiting_time"
   ]
  },
  {
   "cell_type": "code",
   "execution_count": 39,
   "id": "f641e6ef-b738-4405-9860-11b251430b8a",
   "metadata": {},
   "outputs": [
    {
     "name": "stdout",
     "output_type": "stream",
     "text": [
      "Av. waiting time for passengers is 2.27 minutes.\n",
      "Av. waiting time for drivers is 3.0 minutes.\n"
     ]
    }
   ],
   "source": [
    "# Sample run 1 passengers=[5,10,20,5,0,0,0,0,15,0]\n",
    "drivers=[20,0,0,0,0,30,40,20,0,0]\n",
    "k=10\n",
    "passenger_wait,driver_wait=airport_queue(passengers,drivers,k)\n",
    "print(f'Av. waiting time for passengers is {round(passenger_wait,2)} minutes.')\n",
    "print(f'Av. waiting time for drivers is {round(driver_wait,2)} minutes.')\n",
    "\n",
    "# Output should be: \n",
    "# Av. waiting time for passengers is 2.27 minutes.\n",
    "# Av. waiting time for drivers is 3.0 minutes."
   ]
  },
  {
   "cell_type": "code",
   "execution_count": 3,
   "id": "445abda9-c2cc-47d9-8f51-eb90de6d10b6",
   "metadata": {},
   "outputs": [],
   "source": [
    "## Q3. Simulating a Driver’s Movements (9 Points)\n",
    "## Not likely to be in the mid-term."
   ]
  },
  {
   "cell_type": "markdown",
   "id": "b2c92592-44a5-4f3f-90ba-cf56bcc3fb76",
   "metadata": {},
   "source": [
    "locations = ['Downtown', 'Airport']\n",
    "\n",
    "initial = 'Airport'\n",
    "\n",
    "transition_probs={'Downtown':[0,1],'Airport':[1,0]}\n",
    "- When the driver is in Downtown, there is a 100% chance that the driver will go to the Airport.\n",
    "- When the driver is in Airport, there is a 100% chance that the driver will go to the Downtown.\n",
    "\n",
    "df_a=df_b=pd.DataFrame([[0,50],[70,0]],index=locations,columns=locations)\n",
    "- When the driver goes from Downtown to Downtown, it will take 0 minutes, from Downtown to Airport, it will take 50 minutes.\n",
    "- When the driver goes from Airport to Downtown, it will take 70 minutes, from Airport to Airport, it will take 0 minutes.\n",
    "\n",
    "df_earnings=pd.DataFrame([[0,30],[40,0]],index=locations,columns=locations)\n",
    "- When the driver goes from Downtown to Downtown, the driver will earn $0, from Downtown to Airport, the driver will earn $30.\n",
    "- When the driver goes from Airport to Downtown, the driver will earn $40, from Airport to Airport, the driver will earn $0.\n",
    "\n",
    "n = 10\n",
    "- Driver has to drive less than or equal to 10 times.\n",
    "\n",
    "T = 190\n",
    "- Driver has to drive less than or equal to 190 minutes."
   ]
  },
  {
   "cell_type": "code",
   "execution_count": 5,
   "id": "3da6d3a4-3a85-47d4-abea-68d4b77e4678",
   "metadata": {},
   "outputs": [
    {
     "name": "stdout",
     "output_type": "stream",
     "text": [
      "# \t Current \t Next \t\t Time \t C_Time \t Earning \t C_Earning\n",
      "0 \t Airport \t Downtown \t 0 \t 0 \t\t 0 \t\t 0\n",
      "1 \t Downtown \t Airport \t 70 \t 70 \t\t 40 \t\t 40\n",
      "2 \t Airport \t Downtown \t 50 \t 120 \t\t 30 \t\t 70\n",
      "3 \t Downtown \t Airport \t 70 \t 190 \t\t 40 \t\t 110\n"
     ]
    }
   ],
   "source": [
    "# Sample run #1\n",
    "\n",
    "locations = ['Downtown', 'Airport']\n",
    "current_location = 'Airport'\n",
    "next_location = ''\n",
    "\n",
    "d_to_a_time = 50\n",
    "a_to_d_time = 70\n",
    "\n",
    "cumulative_time = 0\n",
    "\n",
    "d_to_a_earning = 30\n",
    "a_to_d_earning = 40\n",
    "\n",
    "cumulative_earning = 0\n",
    "\n",
    "n = 10\n",
    "T = 190\n",
    "\n",
    "print('# \\t Current \\t Next \\t\\t Time \\t C_Time \\t Earning \\t C_Earning')\n",
    "\n",
    "from numpy.random import default_rng\n",
    "rng = default_rng()\n",
    "\n",
    "for i in range(n): \n",
    "    if cumulative_time >= T:\n",
    "        break\n",
    "    else:   \n",
    "        driver_time = 0\n",
    "        driver_earning = 0\n",
    "        if i == 0:\n",
    "            if current_location == 'Downtown':\n",
    "                next_location = rng.choice(['Downtown', 'Airport'], p=[0,1])\n",
    "            else: # current_location == 'Airport'\n",
    "                next_location = rng.choice(['Downtown', 'Airport'], p=[1,0])\n",
    "        else: \n",
    "            current_location = next_location\n",
    "            if current_location == 'Airport':\n",
    "                driver_time = d_to_a_time\n",
    "                driver_earning = d_to_a_earning\n",
    "                next_location = rng.choice(['Downtown', 'Airport'], p=[1,0])\n",
    "            elif current_location == 'Downtown':\n",
    "                driver_time = a_to_d_time\n",
    "                driver_earning = a_to_d_earning\n",
    "                next_location = rng.choice(['Downtown', 'Airport'], p=[0,1])\n",
    "        cumulative_time += driver_time\n",
    "        cumulative_earning += driver_earning\n",
    "    print(f'{i} \\t {current_location} \\t {next_location} \\t {driver_time} \\t {cumulative_time} \\t\\t {driver_earning} \\t\\t {cumulative_earning}')"
   ]
  },
  {
   "cell_type": "code",
   "execution_count": 7,
   "id": "4b693aaa-a309-4117-8afa-be15b6c969ac",
   "metadata": {},
   "outputs": [],
   "source": [
    "# Given Answer - Modified by me\n",
    "\n",
    "from numpy.random import default_rng\n",
    "\n",
    "def driver_movement(locations,initial,transition_probs,df_a,df_b,df_earnings,n,T):\n",
    "    rng = default_rng()\n",
    "    current_location = initial\n",
    "    trip_time = 0\n",
    "    earnings = 0\n",
    "    timeList = [trip_time]\n",
    "    locationList = [current_location]\n",
    "    earningsList = [earnings]\n",
    "    for i in range(n):\n",
    "\n",
    "        # Probability of moving to new location\n",
    "        new_location = rng.choice(locations, p = transition_probs[current_location])\n",
    "\n",
    "        # Trip time\n",
    "        trip_time += rng.uniform(df_a.loc[current_location, new_location],df_b.loc[current_location, new_location])\n",
    "\n",
    "        # Earnings\n",
    "        earnings += df_earnings.loc[current_location, new_location]\n",
    "\n",
    "        # Change the next current location to new location\n",
    "        current_location = new_location\n",
    "\n",
    "        # Keep track\n",
    "        timeList.append(trip_time)\n",
    "        locationList.append(current_location)\n",
    "        earningsList.append(earnings)\n",
    "\n",
    "        # Trip time must be less than or equal to T.\n",
    "        if trip_time>=T:\n",
    "            break\n",
    "    return timeList, locationList, earningsList"
   ]
  },
  {
   "cell_type": "code",
   "execution_count": 143,
   "id": "54475ab8-ee39-41ce-8ca9-16b4604f71bb",
   "metadata": {},
   "outputs": [
    {
     "name": "stdout",
     "output_type": "stream",
     "text": [
      "Time\tLocation\tCumulative Earnings\n",
      "0\tAirport   \t0\n",
      "70.0\tDowntown  \t40\n",
      "120.0\tAirport   \t70\n",
      "190.0\tDowntown  \t110\n"
     ]
    }
   ],
   "source": [
    "# Sample run 1 (deterministic example)\n",
    "import pandas as pd\n",
    "locations=['Downtown', 'Airport']\n",
    "initial='Airport'\n",
    "transition_probs={'Downtown':[0,1],'Airport':[1,0]}\n",
    "df_a=df_b=pd.DataFrame([[0,50],[70,0]],index=locations,columns=locations)\n",
    "df_earnings=pd.DataFrame([[0,30],[40,0]],index=locations,columns=locations)\n",
    "t,l,e=driver_movement(locations,initial,transition_probs,df_a,df_b,df_earnings,10,190)\n",
    "print('Time\\tLocation\\tCumulative Earnings')\n",
    "for i in range(len(t)):\n",
    "    print(f'{t[i]}\\t{l[i]:10}\\t{e[i]}')"
   ]
  },
  {
   "cell_type": "code",
   "execution_count": 149,
   "id": "59749c2a-b1c4-4ae7-b61c-9ef5904c9c8c",
   "metadata": {},
   "outputs": [
    {
     "name": "stdout",
     "output_type": "stream",
     "text": [
      "Time\tLocation\tCumulative Earnings\n",
      "0\tAirport   \t0\n",
      "70.0\tDowntown  \t40\n",
      "75.0\tDowntown  \t50\n",
      "125.0\tAirport   \t80\n",
      "195.0\tDowntown  \t120\n",
      "200.0\tDowntown  \t130\n",
      "205.0\tDowntown  \t140\n",
      "210.0\tDowntown  \t150\n",
      "260.0\tAirport   \t180\n",
      "330.0\tDowntown  \t220\n",
      "380.0\tAirport   \t250\n"
     ]
    }
   ],
   "source": [
    "# Sample run 2 (randomized example)\n",
    "import pandas as pd\n",
    "locations=['Downtown', 'Airport']\n",
    "initial='Airport'\n",
    "transition_probs={'Downtown':[0.7,0.3],'Airport':[1,0]}\n",
    "df_a=df_b=pd.DataFrame([[5,50],[70,0]],index=locations,columns=locations)\n",
    "df_earnings=pd.DataFrame([[10,30],[40,0]],index=locations,columns=locations)\n",
    "t,l,e=driver_movement(locations,initial,transition_probs,df_a,df_b,df_earnings,10,400)\n",
    "print('Time\\tLocation\\tCumulative Earnings')\n",
    "for i in range(len(t)):\n",
    "    print(f'{t[i]}\\t{l[i]:10}\\t{e[i]}')"
   ]
  },
  {
   "cell_type": "code",
   "execution_count": 155,
   "id": "54f62b62-17ea-4bfd-bf21-4d5bc8921141",
   "metadata": {},
   "outputs": [
    {
     "name": "stdout",
     "output_type": "stream",
     "text": [
      "Time\tLocation\tCumulative Earnings\n",
      "0\tAirport   \t0\n",
      "70.0\tDowntown  \t40\n",
      "120.0\tAirport   \t70\n",
      "190.0\tDowntown  \t110\n"
     ]
    }
   ],
   "source": [
    "# Sample run 1 (deterministic example)\n",
    "import pandas as pd\n",
    "locations=['Downtown', 'Airport']\n",
    "initial='Airport'\n",
    "transition_probs={'Downtown':[0,1],'Airport':[1,0]}\n",
    "df_a=df_b=pd.DataFrame([[0,50],[70,0]],index=locations,columns=locations)\n",
    "df_earnings=pd.DataFrame([[0,30],[40,0]],index=locations,columns=locations)\n",
    "t,l,e=driver_movement(locations,initial,transition_probs,df_a,df_b,df_earnings,10,190)\n",
    "print('Time\\tLocation\\tCumulative Earnings')\n",
    "for i in range(len(t)):\n",
    "    print(f'{t[i]}\\t{l[i]:10}\\t{e[i]}')"
   ]
  },
  {
   "cell_type": "code",
   "execution_count": 161,
   "id": "d3618d32-1d6e-427b-a569-df9beba338d2",
   "metadata": {},
   "outputs": [
    {
     "name": "stdout",
     "output_type": "stream",
     "text": [
      "Time\tLocation\tCumulative Earnings\n",
      "0\tAirport   \t0\n",
      "70.0\tDowntown  \t40\n",
      "120.0\tAirport   \t70\n",
      "190.0\tDowntown  \t110\n",
      "195.0\tDowntown  \t120\n",
      "200.0\tDowntown  \t130\n",
      "205.0\tDowntown  \t140\n",
      "210.0\tDowntown  \t150\n",
      "215.0\tDowntown  \t160\n",
      "220.0\tDowntown  \t170\n",
      "225.0\tDowntown  \t180\n"
     ]
    }
   ],
   "source": [
    "# Sample run 2 (randomized example)\n",
    "import pandas as pd\n",
    "locations=['Downtown', 'Airport']\n",
    "initial='Airport'\n",
    "transition_probs={'Downtown':[0.7,0.3],'Airport':[1,0]}\n",
    "df_a=df_b=pd.DataFrame([[5,50],[70,0]],index=locations,columns=locations)\n",
    "df_earnings=pd.DataFrame([[10,30],[40,0]],index=locations,columns=locations)\n",
    "t,l,e=driver_movement(locations,initial,transition_probs,df_a,df_b,df_earnings,10,400)\n",
    "print('Time\\tLocation\\tCumulative Earnings')\n",
    "for i in range(len(t)):\n",
    "    print(f'{t[i]}\\t{l[i]:10}\\t{e[i]}')"
   ]
  },
  {
   "cell_type": "code",
   "execution_count": 171,
   "id": "463a9266-2b8e-4d7e-bd3a-d22334ac631b",
   "metadata": {},
   "outputs": [
    {
     "name": "stdout",
     "output_type": "stream",
     "text": [
      "Average earning: \t$126\t\t Std: 17\n",
      "Average end time: \t211 minutes\t Std: 24\n"
     ]
    },
    {
     "data": {
      "image/png": "[encoded data removed]",
      "text/plain": [
       "<Figure size 640x480 with 1 Axes>"
      ]
     },
     "metadata": {},
     "output_type": "display_data"
    }
   ],
   "source": [
    "# Sample run 3\n",
    "import pandas as pd\n",
    "locations=['Downtown','Airport','Suburb A','Suburb B']\n",
    "initial='Suburb A'\n",
    "transition_probs={'Downtown': [0.1,0.2,0.3,0.4],'Airport':[0.5,0,0.3,0.2],'Suburb A':[0.4,0.4,0.1,0.1],'Suburb B':[0.3,0.5,0.2,0]}\n",
    "df_a=pd.DataFrame([[5,30,20,15],[50,5,60,30],[25,80,5,50],[20,40,50,5]],index=locations,columns=locations)\n",
    "df_b=pd.DataFrame([[10,40,30,25],[60,5,90,60],[40,100,10,80],[30,50,80,10]],index=locations,columns=locations)\n",
    "df_earnings=pd.DataFrame([[7,20,15,10],[40,0,50,30],[18,50,0,30],[15,30,40,0]],index=locations,columns=locations)\n",
    "\n",
    "earnings=[]\n",
    "last_location=[]\n",
    "last_time=[]\n",
    "for i in range(1000):\n",
    "    t,l,e=driver_movement(locations,initial,transition_probs,df_a,df_b,df_earnings,10,180)\n",
    "    earnings.append(e[-1])\n",
    "    last_location.append(l[-1])\n",
    "    last_time.append(t[-1])\n",
    "import numpy as np\n",
    "import matplotlib.pyplot as plt\n",
    "print(f'Average earning: \\t${np.mean(earnings):.0f}\\t\\t Std: {np.std(earnings):.0f}')\n",
    "print(f'Average end time: \\t{np.mean(last_time):.0f} minutes\\t Std: {np.std(last_time):.0f}')\n",
    "pd.Series(last_location).value_counts().plot(kind='bar',title='Distribution oflast location')\n",
    "plt.show()"
   ]
  }
 ],
 "metadata": {
  "kernelspec": {
   "display_name": "Python 3 (ipykernel)",
   "language": "python",
   "name": "python3"
  },
  "language_info": {
   "codemirror_mode": {
    "name": "ipython",
    "version": 3
   },
   "file_extension": ".py",
   "mimetype": "text/x-python",
   "name": "python",
   "nbconvert_exporter": "python",
   "pygments_lexer": "ipython3",
   "version": "3.12.4"
  }
 },
 "nbformat": 4,
 "nbformat_minor": 5
}
