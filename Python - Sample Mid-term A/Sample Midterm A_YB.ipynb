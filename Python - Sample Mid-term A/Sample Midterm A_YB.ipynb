{
 "cells": [
  {
   "cell_type": "code",
   "execution_count": 39,
   "id": "eeac5261-5a68-40d6-8faa-d31dc4debd15",
   "metadata": {},
   "outputs": [],
   "source": [
    "## A - Q1. Estimating Household Demand for Toilet Paper (7 Points)"
   ]
  },
  {
   "cell_type": "code",
   "execution_count": 5,
   "id": "e49cf44a-1791-4f5c-a32f-837fd45905a1",
   "metadata": {},
   "outputs": [],
   "source": [
    "from numpy.random import default_rng\n",
    "rng = default_rng()\n",
    "\n",
    "def demand_estimate(days, k=1, p=0.02):\n",
    "    total_toilet_paper = []\n",
    "    for day in range(days):\n",
    "        for person in range(k):\n",
    "            sick_or_healthy = rng.choice(['Sick', 'Healthy'],p=[p, 1-p])\n",
    "            if sick_or_healthy == 'Sick':\n",
    "                person_toilet_paper = rng.uniform(20, 40)\n",
    "            else: # sick_or_healthy == 'Healthy'\n",
    "                person_toilet_paper = rng.uniform(5, 10)\n",
    "            total_toilet_paper.append(person_toilet_paper)\n",
    "    return sum(total_toilet_paper)"
   ]
  },
  {
   "cell_type": "code",
   "execution_count": 7,
   "id": "f0317d59-bd4c-4c8a-aec1-770bf971c1de",
   "metadata": {},
   "outputs": [
    {
     "data": {
      "text/plain": [
       "55.68651796662879"
      ]
     },
     "execution_count": 7,
     "metadata": {},
     "output_type": "execute_result"
    }
   ],
   "source": [
    "# Test code 1\n",
    "\n",
    "demand_estimate(7)\n",
    "\n",
    "# Output should be: 48.609976093943594"
   ]
  },
  {
   "cell_type": "code",
   "execution_count": 9,
   "id": "f6c047aa-776b-4ca5-b2f7-8d4778b67ab4",
   "metadata": {},
   "outputs": [
    {
     "data": {
      "image/png": "[encoded data removed]",
      "text/plain": [
       "<Figure size 600x200 with 1 Axes>"
      ]
     },
     "metadata": {},
     "output_type": "display_data"
    },
    {
     "name": "stdout",
     "output_type": "stream",
     "text": [
      "Mean: 114.75 \tStd: 16.05\n"
     ]
    }
   ],
   "source": [
    "import pandas as pd\n",
    "import matplotlib.pyplot as plt\n",
    "\n",
    "estimates=pd.Series([demand_estimate(7, 2, 0.03) for i in range(10000)])\n",
    "estimates.plot(kind='hist',title='Weekly demand from 10000 simulations',bins=100,figsize=(6,2))\n",
    "plt.show()\n",
    "print(f'Mean: {estimates.mean():.2f} \\tStd: {estimates.std():.2f}')\n",
    "\n",
    "# Output should be: Mean: 114.81    Std: 16.08"
   ]
  },
  {
   "cell_type": "code",
   "execution_count": 37,
   "id": "10a59858-261f-49b3-9b3b-029b5a462353",
   "metadata": {},
   "outputs": [],
   "source": [
    "## A - Q2. Simulating the Availability of Toilet Paper (8 Points)"
   ]
  },
  {
   "cell_type": "code",
   "execution_count": 13,
   "id": "6f5f55c2-500d-49bb-98fb-dee3696ec38f",
   "metadata": {},
   "outputs": [
    {
     "name": "stdout",
     "output_type": "stream",
     "text": [
      "The proportion of demand that is served: 0.5614035087719298\n",
      "The proportion of days in which all demand is served: 0.5\n"
     ]
    }
   ],
   "source": [
    "demand = [20,35,60,20,10,30,50,30,20,10]\n",
    "s = 100\n",
    "remaining = s\n",
    "sold_list = []\n",
    "good_days = 0\n",
    "\n",
    "for i in range(len(demand)):\n",
    "    if i > 0 and i % 7 == 0:\n",
    "        remaining += s\n",
    "\n",
    "    if demand[i] <= remaining:\n",
    "        sold = demand[i]\n",
    "        good_days += 1\n",
    "    else: # demand[i] > remaining\n",
    "        sold = remaining\n",
    "\n",
    "    remaining -= sold\n",
    "    sold_list.append(sold)\n",
    "\n",
    "served_proportion = sum(sold_list) / sum(demand)\n",
    "good_days_proportion = good_days / len(demand)\n",
    "\n",
    "print(f'The proportion of demand that is served: {served_proportion}')\n",
    "print(f'The proportion of days in which all demand is served: {good_days_proportion}')    "
   ]
  },
  {
   "cell_type": "code",
   "execution_count": 15,
   "id": "4532ffaa-49dc-4908-bab4-49d125df142b",
   "metadata": {},
   "outputs": [],
   "source": [
    "def supply_simulation(demand, s):\n",
    "    remaining = s\n",
    "    sold_list = []\n",
    "    good_days = 0\n",
    "\n",
    "    for i in range(len(demand)):\n",
    "        if i > 0 and i % 7 == 0:\n",
    "            remaining += s\n",
    "\n",
    "        if demand[i] <= remaining:\n",
    "            sold = demand[i]\n",
    "            good_days += 1\n",
    "        else:\n",
    "            sold = remaining\n",
    "\n",
    "        remaining -= sold\n",
    "        sold_list.append(sold)\n",
    "\n",
    "    served_proportion = sum(sold_list) / sum(demand)\n",
    "    good_days_proportion = good_days / len(demand)\n",
    "\n",
    "    return served_proportion, good_days_proportion"
   ]
  },
  {
   "cell_type": "code",
   "execution_count": 17,
   "id": "62be4eef-7aec-457e-bfc9-75937bae9f0f",
   "metadata": {},
   "outputs": [
    {
     "name": "stdout",
     "output_type": "stream",
     "text": [
      "Proportion of total demand that is served:  0.5614035087719298\n",
      "Proportion of days in which all demand is served:  0.5\n"
     ]
    }
   ],
   "source": [
    "# Test code 1\n",
    "s,g=supply_simulation([20,35,60,20,10,30,50,30,20,10],100)\n",
    "print('Proportion of total demand that is served: ',s)\n",
    "print('Proportion of days in which all demand is served: ',g)\n",
    "\n",
    "# Output should be: \n",
    "# Proportion of total demand that is served:  0.5614035087719298\n",
    "# Proportion of days in which all demand is served:  0.5"
   ]
  },
  {
   "cell_type": "code",
   "execution_count": 19,
   "id": "35b30b93-02c2-4dce-b5fc-827565e97481",
   "metadata": {},
   "outputs": [
    {
     "data": {
      "text/plain": [
       "(1.0, 1.0)"
      ]
     },
     "execution_count": 19,
     "metadata": {},
     "output_type": "execute_result"
    }
   ],
   "source": [
    "# Test code 2\n",
    "demand=([10]*7)+([20]*3)\n",
    "supply_simulation(demand,70)\n",
    "\n",
    "# Output should be: (1.0, 1.0)"
   ]
  },
  {
   "cell_type": "code",
   "execution_count": 21,
   "id": "19869898-fdd2-4a19-bdeb-8c1b45fde1c9",
   "metadata": {},
   "outputs": [
    {
     "data": {
      "text/plain": [
       "(0.65, 0.6)"
      ]
     },
     "execution_count": 21,
     "metadata": {},
     "output_type": "execute_result"
    }
   ],
   "source": [
    "# Test code 3\n",
    "demand=([20]*10)\n",
    "supply_simulation(demand,70)\n",
    "\n",
    "# Output should be: (0.65, 0.6)"
   ]
  },
  {
   "cell_type": "code",
   "execution_count": 35,
   "id": "304c885f-cc4f-456b-ac5c-f0e3a0b13138",
   "metadata": {},
   "outputs": [],
   "source": [
    "## A - Q3. Distance Travelled to Buy Toilet Paper (9 Points)\n",
    "## Need to work > Done"
   ]
  },
  {
   "cell_type": "code",
   "execution_count": 23,
   "id": "12eedb57-77ee-41ce-a0a5-595a8690fc70",
   "metadata": {},
   "outputs": [],
   "source": [
    "from numpy.random import default_rng\n",
    "rng = default_rng()\n",
    "\n",
    "import math\n",
    "\n",
    "def travel_distance(locations, probabilities):\n",
    "    home = [0, 0]\n",
    "    total_distance = 0\n",
    "\n",
    "    for i in range(len(locations)):\n",
    "        location = locations[i]\n",
    "        if i == 0:\n",
    "            location_before = home\n",
    "        else:\n",
    "            location_before = locations[i - 1]\n",
    "        \n",
    "        # Calculate the distance to the current store\n",
    "        travel_distance = math.sqrt((location[0] - location_before[0]) ** 2 + (location[1] - location_before[1]) ** 2)\n",
    "        total_distance += travel_distance\n",
    "\n",
    "        probability = probabilities[i]\n",
    "        # Check if the store has toilet paper\n",
    "        check_stock = rng.choice(['In-stock', 'Out-of-stock'], p=[probability, 1-probability])\n",
    "        if check_stock == 'In-stock' or i == len(locations) - 1:\n",
    "            # Return home if toilet paper is found\n",
    "            go_back_distance = math.sqrt((location[0] - home[0]) ** 2 + (location[1] - home[1]) ** 2)\n",
    "            total_distance += go_back_distance\n",
    "            break\n",
    "    \n",
    "    return total_distance"
   ]
  },
  {
   "cell_type": "code",
   "execution_count": 27,
   "id": "2b7a3673-62c0-4aba-969c-c1080632b61a",
   "metadata": {},
   "outputs": [
    {
     "data": {
      "text/plain": [
       "16.0"
      ]
     },
     "execution_count": 27,
     "metadata": {},
     "output_type": "execute_result"
    }
   ],
   "source": [
    "# Test code 1\n",
    "travel_distance([[3,4],[-3,4],[-8,6]],[0,1,1])\n",
    "# Output should be: 16.0"
   ]
  },
  {
   "cell_type": "code",
   "execution_count": 29,
   "id": "314bc2f7-8add-4aac-8a87-1a33e983a627",
   "metadata": {},
   "outputs": [
    {
     "name": "stdout",
     "output_type": "stream",
     "text": [
      "10.0\n"
     ]
    }
   ],
   "source": [
    "# Test code 2\n",
    "print(travel_distance([[3,4],[-3,4],[-8,6]],[1,1,0]))\n",
    "# Output should be: 10.0"
   ]
  },
  {
   "cell_type": "code",
   "execution_count": 31,
   "id": "5ab4f4c4-acb9-44f2-944b-11fe291159ca",
   "metadata": {},
   "outputs": [
    {
     "data": {
      "text/plain": [
       "26.385164807134505"
      ]
     },
     "execution_count": 31,
     "metadata": {},
     "output_type": "execute_result"
    }
   ],
   "source": [
    "# Test code 3\n",
    "travel_distance([[3,4],[-3,4],[-8,6]],[0,0,0])\n",
    "# Output should be: 26.385164807134505"
   ]
  },
  {
   "cell_type": "code",
   "execution_count": 33,
   "id": "e4a8cc43-d61d-4c73-bc4f-2831bd61ac65",
   "metadata": {},
   "outputs": [
    {
     "data": {
      "image/png": "[encoded data removed]",
      "text/plain": [
       "<Figure size 600x200 with 1 Axes>"
      ]
     },
     "metadata": {},
     "output_type": "display_data"
    },
    {
     "name": "stdout",
     "output_type": "stream",
     "text": [
      "Mean: 35.33\n",
      "Standard deviation: 26.28\n"
     ]
    }
   ],
   "source": [
    "# Test code 4\n",
    "locations=[[3,2],[5,4],[7,-1],[5,-8],[-5,-4],[-6,2],[-8,4],[-20,10]]\n",
    "probabilities=[0.1,0.3,0.2,0.2,0.1,0.05,0.2,0.05]\n",
    "\n",
    "import pandas as pd\n",
    "import matplotlib.pyplot as plt\n",
    "distances=pd.Series([travel_distance(locations,probabilities) for i in range(10000)])\n",
    "distances.plot(kind='hist',bins=30,title='Distribution of travel distance',figsize=(6,2))\n",
    "plt.show()\n",
    "print('Mean:',round(distances.mean(),2))\n",
    "print('Standard deviation:',round(distances.std(),2))"
   ]
  }
 ],
 "metadata": {
  "kernelspec": {
   "display_name": "Python 3 (ipykernel)",
   "language": "python",
   "name": "python3"
  },
  "language_info": {
   "codemirror_mode": {
    "name": "ipython",
    "version": 3
   },
   "file_extension": ".py",
   "mimetype": "text/x-python",
   "name": "python",
   "nbconvert_exporter": "python",
   "pygments_lexer": "ipython3",
   "version": "3.12.4"
  }
 },
 "nbformat": 4,
 "nbformat_minor": 5
}
