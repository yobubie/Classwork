{
 "cells": [
  {
   "cell_type": "code",
   "execution_count": 44,
   "id": "393b90e3-dec6-4408-8358-bd6ee6a27ccf",
   "metadata": {},
   "outputs": [],
   "source": [
    "## B - Q1. Election Simulator (7 points)"
   ]
  },
  {
   "cell_type": "code",
   "execution_count": 8,
   "id": "8a11a46d-c9df-4033-92eb-9476513fe2e0",
   "metadata": {},
   "outputs": [
    {
     "data": {
      "text/html": [
       "<div>\n",
       "<style scoped>\n",
       "    .dataframe tbody tr th:only-of-type {\n",
       "        vertical-align: middle;\n",
       "    }\n",
       "\n",
       "    .dataframe tbody tr th {\n",
       "        vertical-align: top;\n",
       "    }\n",
       "\n",
       "    .dataframe thead th {\n",
       "        text-align: right;\n",
       "    }\n",
       "</style>\n",
       "<table border=\"1\" class=\"dataframe\">\n",
       "  <thead>\n",
       "    <tr style=\"text-align: right;\">\n",
       "      <th></th>\n",
       "      <th>Dem-Mean</th>\n",
       "      <th>Dem-Std</th>\n",
       "      <th>Rep-Mean</th>\n",
       "      <th>Rep-Std</th>\n",
       "      <th>Delegates</th>\n",
       "    </tr>\n",
       "  </thead>\n",
       "  <tbody>\n",
       "    <tr>\n",
       "      <th>Region A</th>\n",
       "      <td>10</td>\n",
       "      <td>2.0</td>\n",
       "      <td>8</td>\n",
       "      <td>1.5</td>\n",
       "      <td>15</td>\n",
       "    </tr>\n",
       "    <tr>\n",
       "      <th>Region B</th>\n",
       "      <td>8</td>\n",
       "      <td>1.5</td>\n",
       "      <td>6</td>\n",
       "      <td>1.0</td>\n",
       "      <td>10</td>\n",
       "    </tr>\n",
       "    <tr>\n",
       "      <th>Region C</th>\n",
       "      <td>6</td>\n",
       "      <td>1.0</td>\n",
       "      <td>8</td>\n",
       "      <td>2.0</td>\n",
       "      <td>13</td>\n",
       "    </tr>\n",
       "    <tr>\n",
       "      <th>Region D</th>\n",
       "      <td>5</td>\n",
       "      <td>1.0</td>\n",
       "      <td>8</td>\n",
       "      <td>1.0</td>\n",
       "      <td>10</td>\n",
       "    </tr>\n",
       "  </tbody>\n",
       "</table>\n",
       "</div>"
      ],
      "text/plain": [
       "          Dem-Mean  Dem-Std  Rep-Mean  Rep-Std  Delegates\n",
       "Region A        10      2.0         8      1.5         15\n",
       "Region B         8      1.5         6      1.0         10\n",
       "Region C         6      1.0         8      2.0         13\n",
       "Region D         5      1.0         8      1.0         10"
      ]
     },
     "execution_count": 8,
     "metadata": {},
     "output_type": "execute_result"
    }
   ],
   "source": [
    "import numpy as np\n",
    "import pandas as pd\n",
    "from numpy.random import default_rng\n",
    "rng = default_rng()\n",
    "\n",
    "df=pd.DataFrame([[10,2,8,1.5,15],[8, 1.5,6,1,10],[6,1,8,2,13],[5,1,8,1,10]],index=['Region A','Region B','Region C','Region D'],\\\n",
    "columns=['Dem-Mean','Dem-Std','Rep-Mean','Rep-Std','Delegates'])\n",
    "\n",
    "T = 10\n",
    "\n",
    "df"
   ]
  },
  {
   "cell_type": "code",
   "execution_count": 10,
   "id": "79e176be-52c8-4e3d-826e-36e759df8169",
   "metadata": {},
   "outputs": [
    {
     "name": "stdout",
     "output_type": "stream",
     "text": [
      "Dem voters for Region A: 8.395776034495041\n",
      "Rep voters for Region A: 8.048926962134312\n",
      "Dem num for Region A: 15\n",
      "Dem voters for Region B: 6.018232980528971\n",
      "Rep voters for Region B: 5.984474751517843\n",
      "Dem num for Region B: 25\n",
      "Dem voters for Region C: 5.3109362273025456\n",
      "Rep voters for Region C: 10.108569802201465\n",
      "rep num for Region C: 13\n",
      "Dem voters for Region D: 5.0717733810199155\n",
      "Rep voters for Region D: 8.006386412372608\n",
      "rep num for Region D: 23\n",
      "Dem voters for Region A: 9.149012474296446\n",
      "Rep voters for Region A: 8.315471524247075\n",
      "Dem num for Region A: 15\n",
      "Dem voters for Region B: 8.588428283869728\n",
      "Rep voters for Region B: 6.633566087636663\n",
      "Dem num for Region B: 25\n",
      "Dem voters for Region C: 5.487878051005218\n",
      "Rep voters for Region C: 10.244833898523593\n",
      "rep num for Region C: 13\n",
      "Dem voters for Region D: 7.106397935731505\n",
      "Rep voters for Region D: 6.210711390983574\n",
      "Dem num for Region D: 35\n",
      "Dem voters for Region A: 9.843488474716406\n",
      "Rep voters for Region A: 8.295670908212843\n",
      "Dem num for Region A: 15\n",
      "Dem voters for Region B: 6.510357911780737\n",
      "Rep voters for Region B: 4.249628724963383\n",
      "Dem num for Region B: 25\n",
      "Dem voters for Region C: 6.2002210416844505\n",
      "Rep voters for Region C: 8.679938235497042\n",
      "rep num for Region C: 13\n",
      "Dem voters for Region D: 4.3113132682527375\n",
      "Rep voters for Region D: 9.407835245136921\n",
      "rep num for Region D: 23\n",
      "Dem voters for Region A: 12.31814202800986\n",
      "Rep voters for Region A: 6.370139660547364\n",
      "Dem num for Region A: 15\n",
      "Dem voters for Region B: 7.901742637816867\n",
      "Rep voters for Region B: 6.65939474034853\n",
      "Dem num for Region B: 25\n",
      "Dem voters for Region C: 4.230129648345399\n",
      "Rep voters for Region C: 3.5649485528268263\n",
      "Dem num for Region C: 38\n",
      "Dem voters for Region D: 5.573080543901773\n",
      "Rep voters for Region D: 8.432900675485858\n",
      "rep num for Region D: 10\n",
      "Dem voters for Region A: 5.55362077281747\n",
      "Rep voters for Region A: 5.69630513847283\n",
      "rep num for Region A: 15\n",
      "Dem voters for Region B: 6.046967269659128\n",
      "Rep voters for Region B: 5.971808482853115\n",
      "Dem num for Region B: 10\n",
      "Dem voters for Region C: 6.711928241394017\n",
      "Rep voters for Region C: 9.373573998227291\n",
      "rep num for Region C: 28\n",
      "Dem voters for Region D: 2.917246494063431\n",
      "Rep voters for Region D: 8.123618479578075\n",
      "rep num for Region D: 38\n",
      "Dem voters for Region A: 10.81313457479722\n",
      "Rep voters for Region A: 7.252885325733575\n",
      "Dem num for Region A: 15\n",
      "Dem voters for Region B: 7.048201078891848\n",
      "Rep voters for Region B: 4.402925859681455\n",
      "Dem num for Region B: 25\n",
      "Dem voters for Region C: 6.628035343913049\n",
      "Rep voters for Region C: 10.188024813908495\n",
      "rep num for Region C: 13\n",
      "Dem voters for Region D: 3.8645699648708987\n",
      "Rep voters for Region D: 6.1116039637989275\n",
      "rep num for Region D: 23\n",
      "Dem voters for Region A: 13.642455258958512\n",
      "Rep voters for Region A: 10.282607386604319\n",
      "Dem num for Region A: 15\n",
      "Dem voters for Region B: 10.252802445448616\n",
      "Rep voters for Region B: 8.577178590341795\n",
      "Dem num for Region B: 25\n",
      "Dem voters for Region C: 5.74887006365471\n",
      "Rep voters for Region C: 8.257674577280593\n",
      "rep num for Region C: 13\n",
      "Dem voters for Region D: 5.590395755357491\n",
      "Rep voters for Region D: 8.023576555601368\n",
      "rep num for Region D: 23\n",
      "Dem voters for Region A: 8.974483107843739\n",
      "Rep voters for Region A: 4.959215532607321\n",
      "Dem num for Region A: 15\n",
      "Dem voters for Region B: 6.183552746810929\n",
      "Rep voters for Region B: 5.845375828297727\n",
      "Dem num for Region B: 25\n",
      "Dem voters for Region C: 7.012704169259729\n",
      "Rep voters for Region C: 9.158758670596107\n",
      "rep num for Region C: 13\n",
      "Dem voters for Region D: 6.112234551220102\n",
      "Rep voters for Region D: 8.766927935855614\n",
      "rep num for Region D: 23\n",
      "Dem voters for Region A: 6.673387375998719\n",
      "Rep voters for Region A: 9.193597497473089\n",
      "rep num for Region A: 15\n",
      "Dem voters for Region B: 8.49009044735523\n",
      "Rep voters for Region B: 6.298254652505221\n",
      "Dem num for Region B: 10\n",
      "Dem voters for Region C: 5.733563384113166\n",
      "Rep voters for Region C: 9.575337647952825\n",
      "rep num for Region C: 28\n",
      "Dem voters for Region D: 2.8018670093922236\n",
      "Rep voters for Region D: 8.367601556763478\n",
      "rep num for Region D: 38\n",
      "Dem voters for Region A: 10.658486963775134\n",
      "Rep voters for Region A: 7.554665221333066\n",
      "Dem num for Region A: 15\n",
      "Dem voters for Region B: 7.770791607072517\n",
      "Rep voters for Region B: 4.406312655366403\n",
      "Dem num for Region B: 25\n",
      "Dem voters for Region C: 6.728602119083691\n",
      "Rep voters for Region C: 7.563833872873282\n",
      "rep num for Region C: 13\n",
      "Dem voters for Region D: 5.000377287235964\n",
      "Rep voters for Region D: 5.805207892175305\n",
      "rep num for Region D: 23\n",
      "[25, 35, 25, 38, 10, 25, 25, 25, 10, 25]\n",
      "[23, 13, 23, 10, 38, 23, 23, 23, 38, 23]\n"
     ]
    }
   ],
   "source": [
    "regions = df.index\n",
    "\n",
    "dem_delegates = []\n",
    "rep_delegates = []\n",
    "\n",
    "for i in range(T):\n",
    "    dem_num = 0\n",
    "    rep_num = 0\n",
    "    for region in regions:\n",
    "        dem_voters = rng.normal(df.loc[region, 'Dem-Mean'], df.loc[region, 'Dem-Std'])\n",
    "        print(f'Dem voters for {region}: {dem_voters}')\n",
    "        rep_voters = rng.normal(df.loc[region, 'Rep-Mean'], df.loc[region, 'Rep-Std'])\n",
    "        print(f'Rep voters for {region}: {rep_voters}')\n",
    "        if dem_voters > rep_voters:\n",
    "            dem_num += df.loc[region, 'Delegates']\n",
    "            print(f'Dem num for {region}: {dem_num}')\n",
    "        else:\n",
    "            rep_num += df.loc[region, 'Delegates']\n",
    "            print(f'rep num for {region}: {rep_num}')\n",
    "    dem_delegates.append(dem_num)\n",
    "    rep_delegates.append(rep_num)\n",
    "\n",
    "print(dem_delegates)\n",
    "print(rep_delegates)"
   ]
  },
  {
   "cell_type": "code",
   "execution_count": 12,
   "id": "70a55fb6-beac-4a8a-b639-5d358c3d32b7",
   "metadata": {},
   "outputs": [],
   "source": [
    "def election(df, T):\n",
    "    regions = df.index\n",
    "\n",
    "    dem_delegates = []\n",
    "    rep_delegates = []\n",
    "    \n",
    "    for i in range(T):\n",
    "        dem_num = 0\n",
    "        rep_num = 0\n",
    "        for region in regions:\n",
    "            dem_voters = rng.normal(df.loc[region, 'Dem-Mean'], df.loc[region, 'Dem-Std'])\n",
    "            rep_voters = rng.normal(df.loc[region, 'Rep-Mean'], df.loc[region, 'Rep-Std'])\n",
    "            if dem_voters > rep_voters:\n",
    "                dem_num += df.loc[region, 'Delegates']\n",
    "            else: # dem_voters <= rep_voters\n",
    "                rep_num += df.loc[region, 'Delegates']\n",
    "        dem_delegates.append(dem_num)\n",
    "        rep_delegates.append(rep_num)\n",
    "    return dem_delegates, rep_delegates"
   ]
  },
  {
   "cell_type": "code",
   "execution_count": 14,
   "id": "1b08e59c-85e4-4426-b12d-2a1aaf6f7460",
   "metadata": {},
   "outputs": [
    {
     "name": "stdout",
     "output_type": "stream",
     "text": [
      "Democrat # of Delegates: [25, 10, 25, 38, 25, 25, 25, 25, 35, 15]\n",
      "Republican # of Delegates: [23, 38, 23, 10, 23, 23, 23, 23, 13, 33]\n"
     ]
    }
   ],
   "source": [
    "# Sample run 1\n",
    "dem,rep=election(df,10)\n",
    "print('Democrat # of Delegates:',dem)\n",
    "print('Republican # of Delegates:',rep)\n",
    "\n",
    "# Output should be:\n",
    "# Democrat   # of Delegates: [25, 38, 25, 15, 25, 25, 10, 15, 25, 25]\n",
    "# Republican # of Delegates: [23, 10, 23, 33, 23, 23, 38, 33, 23, 23]"
   ]
  },
  {
   "cell_type": "code",
   "execution_count": 46,
   "id": "5c316c95-defd-4c7a-9bd0-5d4db3f61284",
   "metadata": {},
   "outputs": [],
   "source": [
    "## B - Q2. Waiting Time Simulator (8 points)"
   ]
  },
  {
   "cell_type": "code",
   "execution_count": 20,
   "id": "0b4b5ca2-d4d7-4e21-bd3d-904ef5ba09ab",
   "metadata": {},
   "outputs": [
    {
     "name": "stdout",
     "output_type": "stream",
     "text": [
      "Minute\tArrivals\tExit\tAdmitted\tOccupancy\tQueue\tTotal Queue\n",
      "0\t5\t\t0\t5\t\t5\t\t0\t0\n",
      "1\t9\t\t0\t9\t\t14\t\t0\t0\n",
      "2\t14\t\t5\t6\t\t15\t\t8\t8\n",
      "3\t5\t\t9\t9\t\t15\t\t4\t12\n",
      "4\t3\t\t6\t6\t\t15\t\t1\t13\n",
      "5\t0\t\t9\t1\t\t7\t\t0\t13\n",
      "6\t9\t\t6\t9\t\t10\t\t0\t13\n",
      "7\t20\t\t1\t6\t\t15\t\t14\t27\n",
      "8\t30\t\t9\t9\t\t15\t\t35\t62\n",
      "9\t0\t\t6\t6\t\t15\t\t29\t91\n",
      "10\t0\t\t9\t9\t\t15\t\t20\t111\n",
      "1.17\n"
     ]
    }
   ],
   "source": [
    "arrivalsList=[5,9,14,5,3,0,9,20,30,0,0]\n",
    "n = 15\n",
    "k = 2\n",
    "\n",
    "queue = 0\n",
    "total_queue = 0\n",
    "occupancy = 0\n",
    "admitted_list = []\n",
    "\n",
    "print('Minute\\tArrivals\\tExit\\tAdmitted\\tOccupancy\\tQueue\\tTotal Queue')\n",
    "\n",
    "for i in range(len(arrivalsList)):\n",
    "    # Arrivals\n",
    "    arrivals = arrivalsList[i]\n",
    "    # Exit\n",
    "    if i >= k:\n",
    "        exit = admitted_list[i-k]\n",
    "        occupancy -= exit\n",
    "    else:\n",
    "        exit = 0\n",
    "    # Admitted & Queue\n",
    "    if queue + arrivals <= (n - occupancy):\n",
    "        admitted = queue + arrivals\n",
    "        queue = 0\n",
    "    else: # queue + arrivals > (n - occupancy):\n",
    "        admitted = n - occupancy\n",
    "        queue = (queue + arrivals) - admitted\n",
    "    admitted_list.append(admitted)\n",
    "    # Occupancy\n",
    "    occupancy += admitted\n",
    "    # Total Queue\n",
    "    total_queue += queue\n",
    "    # Check the logic\n",
    "    print(f'{i}\\t{arrivals}\\t\\t{exit}\\t{admitted}\\t\\t{occupancy}\\t\\t{queue}\\t{total_queue}')\n",
    "\n",
    "# Return the average waiting time of customers, rounded to two decimal places.\n",
    "print(round((total_queue / sum(arrivalsList)),2))"
   ]
  },
  {
   "cell_type": "code",
   "execution_count": 22,
   "id": "d860637d-eb3a-4d25-8a20-252beea835d1",
   "metadata": {},
   "outputs": [],
   "source": [
    "def waiting_time(arrivalsList, n, k):    \n",
    "    queue = 0\n",
    "    total_queue = 0\n",
    "    occupancy = 0\n",
    "    admitted_list = []\n",
    "        \n",
    "    for i in range(len(arrivalsList)):\n",
    "        # Arrivals\n",
    "        arrivals = arrivalsList[i]\n",
    "        # Exit\n",
    "        if i >= k:\n",
    "            exit = admitted_list[i-k]\n",
    "            occupancy -= exit\n",
    "        else:\n",
    "            exit = 0\n",
    "        # Admitted & Queue\n",
    "        if queue + arrivals <= (n - occupancy):\n",
    "            admitted = queue + arrivals\n",
    "            queue = 0\n",
    "        else: # queue + arrivals > (n - occupancy):\n",
    "            admitted = n - occupancy\n",
    "            queue = (queue + arrivals) - admitted\n",
    "        admitted_list.append(admitted)\n",
    "        # Occupancy\n",
    "        occupancy += admitted\n",
    "        # Total Queue\n",
    "        total_queue += queue\n",
    "    # Return the average waiting time of customers, rounded to two decimal places.\n",
    "    return round((total_queue / sum(arrivalsList)),2)"
   ]
  },
  {
   "cell_type": "code",
   "execution_count": 24,
   "id": "6a1bade9-9dc3-4583-8946-852134d27578",
   "metadata": {},
   "outputs": [
    {
     "data": {
      "text/plain": [
       "1.17"
      ]
     },
     "execution_count": 24,
     "metadata": {},
     "output_type": "execute_result"
    }
   ],
   "source": [
    "# Sample run 1\n",
    "arrivalsList=[5,9,14,5,3,0,9,20,30,0,0]\n",
    "waiting_time(arrivalsList,15,2)\n",
    "\n",
    "# Output should be: 1.17"
   ]
  },
  {
   "cell_type": "code",
   "execution_count": 26,
   "id": "1cc987ed-7daa-4ed4-a323-e03ab7651a3a",
   "metadata": {},
   "outputs": [
    {
     "name": "stdout",
     "output_type": "stream",
     "text": [
      "Occupancy limit = 10\tWait time = 3.23 min.\n"
     ]
    }
   ],
   "source": [
    "# Sample run 2\n",
    "arrivalsList=[5,9,14,5,3,0,9,20,30,0,0]\n",
    "print(f'Occupancy limit = 10\\tWait time = {waiting_time(arrivalsList,10,3)} min.')\n",
    "\n",
    "# Output should be: Occupancy limit = 10    Wait time = 3.23 min."
   ]
  },
  {
   "cell_type": "code",
   "execution_count": 28,
   "id": "4132ea16-ab69-4361-af8d-8a8a7532cc04",
   "metadata": {},
   "outputs": [
    {
     "name": "stdout",
     "output_type": "stream",
     "text": [
      "Occupancy limit = 50\tWait time = 0.09 min.\n"
     ]
    }
   ],
   "source": [
    "# Sample run 3\n",
    "arrivalsList=[5,9,14,5,3,0,9,20,30,0,0]\n",
    "print(f'Occupancy limit = 50\\tWait time = {waiting_time(arrivalsList,50,3)} min.')\n",
    "\n",
    "# Output should be: Occupancy limit = 50    Wait time = 0.09 min."
   ]
  },
  {
   "cell_type": "code",
   "execution_count": 48,
   "id": "3e4a045d-b06e-427b-9c4c-df738963736c",
   "metadata": {},
   "outputs": [],
   "source": [
    "## B - Q3. Job Decision Simulator (9 points)\n",
    "## Wrong > Need to work > Still don't get this."
   ]
  },
  {
   "cell_type": "code",
   "execution_count": 32,
   "id": "c23f459f-1163-41f6-b3ba-7944b8de0c57",
   "metadata": {},
   "outputs": [],
   "source": [
    "def job_decision(offers, utility):\n",
    "    best_offer_so_far = ''\n",
    "    best_offer_value = -1\n",
    "    best_offer_deadline = float('inf')\n",
    "\n",
    "    for offer in offers:\n",
    "        offer_date, job_name, days_to_respond = offer\n",
    "        if offer_date > best_offer_deadline: # Check if we've passed the deadline for the best offer so far\n",
    "            return best_offer_so_far # if the offer date is later than the deadline, accept the existing best offer\n",
    "\n",
    "        if job_name not in utility:\n",
    "            continue # Skip the unacceptable offers\n",
    "\n",
    "        offer_value = utility[job_name]\n",
    "        deadline = offer_date + days_to_respond\n",
    "        \n",
    "        # Update the best offer if:\n",
    "        if best_offer_so_far == '': # 1. Add the current offer as the best offer, if there is no acceptable offer yet\n",
    "            best_offer_so_far = job_name\n",
    "            best_offer_value = offer_value\n",
    "            best_offer_deadline = deadline\n",
    "        else: # 2. Compare the current offer with the existing best offer: \n",
    "            # whether a current offer has a higher utility value or has equal utility but an earlier deadline\n",
    "            if (offer_value > best_offer_value or (offer_value == best_offer_value and deadline > best_offer_deadline)):\n",
    "                best_offer_so_far = job_name\n",
    "                best_offer_value = offer_value\n",
    "                best_offer_deadline = deadline\n",
    "\n",
    "    return best_offer_so_far"
   ]
  },
  {
   "cell_type": "code",
   "execution_count": 34,
   "id": "42737834-fc89-40c2-bc29-a474dc65ee2c",
   "metadata": {},
   "outputs": [
    {
     "name": "stdout",
     "output_type": "stream",
     "text": [
      "The student chose Google\n"
     ]
    }
   ],
   "source": [
    "# Sample input 1\n",
    "offers=[[5,'Intel',3],[8,'Amazon',7],[12,'Disney',3],[15,'Google',2],[15,'Facebook',2]]\n",
    "utility={'Intel':5,'Amazon':8,'Google':8,'Facebook':8}\n",
    "print(f'The student chose {job_decision(offers, utility)}')\n",
    "\n",
    "# Output should be: The student chose Google."
   ]
  },
  {
   "cell_type": "code",
   "execution_count": 36,
   "id": "afb0440a-fd79-41a8-989a-12d572705ed8",
   "metadata": {},
   "outputs": [
    {
     "name": "stdout",
     "output_type": "stream",
     "text": [
      "The student chose Intel.\n"
     ]
    }
   ],
   "source": [
    "# Sample input 2\n",
    "# She first holds on to the Intel offer, but nothing as good appears by Day 8, so she accepts Intel.\n",
    "offers=[[5,'Intel',3],[9,'Amazon',7],[12,'Disney',3],[15,'Google',2],[15,'Facebook',2]]\n",
    "utility={'Intel':5,'Amazon':9.5,'Google':10,'Facebook':10}\n",
    "print(f'The student chose {job_decision(offers,utility)}.')\n",
    "\n",
    "# Output should be: The student chose Intel."
   ]
  },
  {
   "cell_type": "code",
   "execution_count": 38,
   "id": "0a790fd4-b83d-445e-8e91-4bf8f79796d3",
   "metadata": {},
   "outputs": [
    {
     "name": "stdout",
     "output_type": "stream",
     "text": [
      "The student chose Facebook.\n"
     ]
    }
   ],
   "source": [
    "# Sample input 3\n",
    "# She first holds on to Amazon, then to Google, then to Facebook (each has later deadline than the previous.)\n",
    "offers=[[5,'Intel',3],[8,'Amazon',7],[12,'Disney',3],[15,'Google',1],[15,'Facebook',2]]\n",
    "utility2={'Amazon':8,'Google':8,'Facebook':8}\n",
    "print(f'The student chose {job_decision(offers,utility2)}.')\n",
    "\n",
    "# Output should be: The student chose Facebook."
   ]
  },
  {
   "cell_type": "code",
   "execution_count": 40,
   "id": "77fe5d17-3ec6-4211-b784-565a4bdbd15a",
   "metadata": {},
   "outputs": [
    {
     "name": "stdout",
     "output_type": "stream",
     "text": [
      "The student chose Amazon.\n"
     ]
    }
   ],
   "source": [
    "# Sample input 4\n",
    "# She first holds on to Amazon, and by Day 15, there's no offer that is as good with later deadline.\n",
    "offers=[[5,'Intel',3],[8,'Amazon',7],[12,'Disney',3],[13,'Google',2],[16,'Facebook',2]]\n",
    "utility2={'Amazon':8,'Google':8,'Facebook':8}\n",
    "print(f'The student chose {job_decision(offers,utility2)}.')\n",
    "\n",
    "# Output should be: The student chose Amazon."
   ]
  },
  {
   "cell_type": "code",
   "execution_count": 42,
   "id": "cf2c6418-cbeb-4927-993f-9d2526230ea7",
   "metadata": {},
   "outputs": [
    {
     "data": {
      "text/plain": [
       "''"
      ]
     },
     "execution_count": 42,
     "metadata": {},
     "output_type": "execute_result"
    }
   ],
   "source": [
    "# Sample input 5\n",
    "# None of the offers are acceptable to her\n",
    "offers3=[[8,'Amazon',7],[12,'Disney',3],[13,'Google',2],[17,'Facebook',2]]\n",
    "utility3={'Apple':100, 'Intel': 80}\n",
    "job_decision(offers3,utility3)"
   ]
  }
 ],
 "metadata": {
  "kernelspec": {
   "display_name": "Python 3 (ipykernel)",
   "language": "python",
   "name": "python3"
  },
  "language_info": {
   "codemirror_mode": {
    "name": "ipython",
    "version": 3
   },
   "file_extension": ".py",
   "mimetype": "text/x-python",
   "name": "python",
   "nbconvert_exporter": "python",
   "pygments_lexer": "ipython3",
   "version": "3.12.4"
  }
 },
 "nbformat": 4,
 "nbformat_minor": 5
}
